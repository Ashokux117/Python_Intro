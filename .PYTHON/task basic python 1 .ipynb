{
 "cells": [
  {
   "cell_type": "markdown",
   "id": "83b2e74e-0d10-435f-ba1a-bc3826f10551",
   "metadata": {},
   "source": [
    "# Date 28-29 april basic python code till input function () -1 "
   ]
  },
  {
   "cell_type": "code",
   "execution_count": 2,
   "id": "2f7452f8-bd31-40c1-a871-00d93b513b24",
   "metadata": {},
   "outputs": [
    {
     "data": {
      "text/plain": [
       "3"
      ]
     },
     "execution_count": 2,
     "metadata": {},
     "output_type": "execute_result"
    }
   ],
   "source": [
    "1 + 2 # add "
   ]
  },
  {
   "cell_type": "code",
   "execution_count": 6,
   "id": "38588af3-eaf8-445a-b605-a23e84ca8da9",
   "metadata": {},
   "outputs": [
    {
     "data": {
      "text/plain": [
       "5"
      ]
     },
     "execution_count": 6,
     "metadata": {},
     "output_type": "execute_result"
    }
   ],
   "source": [
    "10 - 5 #sub "
   ]
  },
  {
   "cell_type": "code",
   "execution_count": 20,
   "id": "df86fea5-714f-4b38-9dd6-10c208483594",
   "metadata": {},
   "outputs": [
    {
     "data": {
      "text/plain": [
       "20"
      ]
     },
     "execution_count": 20,
     "metadata": {},
     "output_type": "execute_result"
    }
   ],
   "source": [
    "5 * 4  # multiplecation"
   ]
  },
  {
   "cell_type": "code",
   "execution_count": 11,
   "id": "b3358955-a5be-4bdd-be5d-33daf18d9c57",
   "metadata": {},
   "outputs": [
    {
     "data": {
      "text/plain": [
       "5.0"
      ]
     },
     "execution_count": 11,
     "metadata": {},
     "output_type": "execute_result"
    }
   ],
   "source": [
    "20 / 4  #division "
   ]
  },
  {
   "cell_type": "code",
   "execution_count": 13,
   "id": "762511f8-dcc5-4855-9aba-08d181ee21d7",
   "metadata": {},
   "outputs": [
    {
     "data": {
      "text/plain": [
       "2.0"
      ]
     },
     "execution_count": 13,
     "metadata": {},
     "output_type": "execute_result"
    }
   ],
   "source": [
    "10/5# flot division"
   ]
  },
  {
   "cell_type": "code",
   "execution_count": 15,
   "id": "086a17cd-bdf6-45d6-aea0-373f962b30f6",
   "metadata": {},
   "outputs": [
    {
     "data": {
      "text/plain": [
       "5"
      ]
     },
     "execution_count": 15,
     "metadata": {},
     "output_type": "execute_result"
    }
   ],
   "source": [
    "20//4 # integer division "
   ]
  },
  {
   "cell_type": "code",
   "execution_count": 17,
   "id": "b3626b84-2582-4b1b-a9fc-aa34e774f95d",
   "metadata": {},
   "outputs": [
    {
     "data": {
      "text/plain": [
       "6"
      ]
     },
     "execution_count": 17,
     "metadata": {},
     "output_type": "execute_result"
    }
   ],
   "source": [
    "100//16 # integer division "
   ]
  },
  {
   "cell_type": "code",
   "execution_count": 22,
   "id": "be6e566b-1852-4af0-aff6-1ee8f78e03d2",
   "metadata": {},
   "outputs": [
    {
     "data": {
      "text/plain": [
       "25"
      ]
     },
     "execution_count": 22,
     "metadata": {},
     "output_type": "execute_result"
    }
   ],
   "source": [
    "(5*5)- 5 + 5   # bodmas"
   ]
  },
  {
   "cell_type": "code",
   "execution_count": 24,
   "id": "3f286882-2614-4aad-afc6-7c07048416f2",
   "metadata": {},
   "outputs": [
    {
     "data": {
      "text/plain": [
       "15.0"
      ]
     },
     "execution_count": 24,
     "metadata": {},
     "output_type": "execute_result"
    }
   ],
   "source": [
    "10/5*3-1+10    # BODMAS"
   ]
  },
  {
   "cell_type": "code",
   "execution_count": 26,
   "id": "f31f9323-ba6b-4a1b-b947-848a0dfed0b5",
   "metadata": {},
   "outputs": [
    {
     "data": {
      "text/plain": [
       "0"
      ]
     },
     "execution_count": 26,
     "metadata": {},
     "output_type": "execute_result"
    }
   ],
   "source": [
    "20%4   # MODUAL "
   ]
  },
  {
   "cell_type": "code",
   "execution_count": 28,
   "id": "a27f7972-ba92-4d99-94a4-8294660e6135",
   "metadata": {},
   "outputs": [
    {
     "data": {
      "text/plain": [
       "1"
      ]
     },
     "execution_count": 28,
     "metadata": {},
     "output_type": "execute_result"
    }
   ],
   "source": [
    "10%3"
   ]
  },
  {
   "cell_type": "code",
   "execution_count": 40,
   "id": "25a231d2-26c6-4418-8eac-ed6d9297239c",
   "metadata": {},
   "outputs": [
    {
     "ename": "SyntaxError",
     "evalue": "invalid syntax (2513767877.py, line 1)",
     "output_type": "error",
     "traceback": [
      "\u001b[1;36m  Cell \u001b[1;32mIn[40], line 1\u001b[1;36m\u001b[0m\n\u001b[1;33m    15%%3      # %% not allowed\u001b[0m\n\u001b[1;37m       ^\u001b[0m\n\u001b[1;31mSyntaxError\u001b[0m\u001b[1;31m:\u001b[0m invalid syntax\n"
     ]
    }
   ],
   "source": [
    "15%%3      # %% not allowed"
   ]
  },
  {
   "cell_type": "code",
   "execution_count": 32,
   "id": "39566136-1859-4c3e-87b6-b7a64b042259",
   "metadata": {},
   "outputs": [
    {
     "data": {
      "text/plain": [
       "4"
      ]
     },
     "execution_count": 32,
     "metadata": {},
     "output_type": "execute_result"
    }
   ],
   "source": [
    "2**2  # power "
   ]
  },
  {
   "cell_type": "code",
   "execution_count": 34,
   "id": "f237c702-e08f-4a8d-8f11-be09e5386081",
   "metadata": {},
   "outputs": [
    {
     "data": {
      "text/plain": [
       "64"
      ]
     },
     "execution_count": 34,
     "metadata": {},
     "output_type": "execute_result"
    }
   ],
   "source": [
    "2*2*2*2*2*2  # exponentation"
   ]
  },
  {
   "cell_type": "code",
   "execution_count": 44,
   "id": "4bb17a0c-fa36-4d3e-b824-208c72cdcb6a",
   "metadata": {},
   "outputs": [
    {
     "name": "stdout",
     "output_type": "stream",
     "text": [
      "20\n",
      "15.25\n",
      "(5+10j)\n",
      "raj\n",
      "True\n"
     ]
    }
   ],
   "source": [
    "a,b,c,d,e = 20 , 15.25 , 5+ 10j,\"raj\" , True\n",
    "print(a)\n",
    "print(b)\n",
    "print(c)\n",
    "print(d)\n",
    "print(e)"
   ]
  },
  {
   "cell_type": "code",
   "execution_count": 46,
   "id": "02e9999d-ddbf-4bef-9bee-ea7a68bf5293",
   "metadata": {},
   "outputs": [
    {
     "name": "stdout",
     "output_type": "stream",
     "text": [
      "<class 'int'>\n",
      "<class 'float'>\n",
      "<class 'complex'>\n",
      "<class 'str'>\n",
      "<class 'bool'>\n"
     ]
    }
   ],
   "source": [
    "print(type(a))\n",
    "print(type(b))\n",
    "print(type(c))\n",
    "print(type(d))\n",
    "print(type(e))"
   ]
  },
  {
   "cell_type": "code",
   "execution_count": 48,
   "id": "126e6b39-d511-4fb7-abf2-41af8ceca365",
   "metadata": {},
   "outputs": [
    {
     "data": {
      "text/plain": [
       "complex"
      ]
     },
     "execution_count": 48,
     "metadata": {},
     "output_type": "execute_result"
    }
   ],
   "source": [
    "type(c)"
   ]
  },
  {
   "cell_type": "code",
   "execution_count": 50,
   "id": "7c3dd394-55f5-42f6-acd4-211383fb9921",
   "metadata": {},
   "outputs": [
    {
     "data": {
      "text/plain": [
       "'Naresh IT'"
      ]
     },
     "execution_count": 50,
     "metadata": {},
     "output_type": "execute_result"
    }
   ],
   "source": [
    "'Naresh IT'"
   ]
  },
  {
   "cell_type": "code",
   "execution_count": 54,
   "id": "503b3d5e-48b9-4882-a971-d654d718017a",
   "metadata": {},
   "outputs": [
    {
     "name": "stdout",
     "output_type": "stream",
     "text": [
      "naresh it\n"
     ]
    }
   ],
   "source": [
    "print('naresh it')"
   ]
  },
  {
   "cell_type": "code",
   "execution_count": 58,
   "id": "c372d82e-5518-40c9-b58d-284890142e46",
   "metadata": {},
   "outputs": [
    {
     "data": {
      "text/plain": [
       "'max it technology'"
      ]
     },
     "execution_count": 58,
     "metadata": {},
     "output_type": "execute_result"
    }
   ],
   "source": [
    " \"max it technology\""
   ]
  },
  {
   "cell_type": "code",
   "execution_count": 60,
   "id": "e737fdad-982d-4d75-a967-a5a55455ab74",
   "metadata": {},
   "outputs": [
    {
     "data": {
      "text/plain": [
       "'max it technology'"
      ]
     },
     "execution_count": 60,
     "metadata": {},
     "output_type": "execute_result"
    }
   ],
   "source": [
    "s1 = \"max it technology\"\n",
    "s1\n"
   ]
  },
  {
   "cell_type": "code",
   "execution_count": 62,
   "id": "e06be696-a63c-46b7-9c48-7daa3b95ee98",
   "metadata": {},
   "outputs": [
    {
     "data": {
      "text/plain": [
       "5"
      ]
     },
     "execution_count": 62,
     "metadata": {},
     "output_type": "execute_result"
    }
   ],
   "source": [
    "a=3\n",
    "b=2\n",
    "a+b"
   ]
  },
  {
   "cell_type": "code",
   "execution_count": 64,
   "id": "526582a1-e719-4817-a4a8-22f97f8598b0",
   "metadata": {},
   "outputs": [
    {
     "data": {
      "text/plain": [
       "5"
      ]
     },
     "execution_count": 64,
     "metadata": {},
     "output_type": "execute_result"
    }
   ],
   "source": [
    "c=a+b\n",
    "c"
   ]
  },
  {
   "cell_type": "code",
   "execution_count": 66,
   "id": "3b959115-2db8-46bb-9c3b-b0e57baeacfe",
   "metadata": {},
   "outputs": [
    {
     "data": {
      "text/plain": [
       "str"
      ]
     },
     "execution_count": 66,
     "metadata": {},
     "output_type": "execute_result"
    }
   ],
   "source": [
    "a=5\n",
    "b='hit'\n",
    "type(b)"
   ]
  },
  {
   "cell_type": "code",
   "execution_count": 68,
   "id": "8e7253ed-fe79-42f8-b031-f48d142153cc",
   "metadata": {},
   "outputs": [
    {
     "ename": "TypeError",
     "evalue": "unsupported operand type(s) for +: 'int' and 'str'",
     "output_type": "error",
     "traceback": [
      "\u001b[1;31m---------------------------------------------------------------------------\u001b[0m",
      "\u001b[1;31mTypeError\u001b[0m                                 Traceback (most recent call last)",
      "Cell \u001b[1;32mIn[68], line 1\u001b[0m\n\u001b[1;32m----> 1\u001b[0m a\u001b[38;5;241m+\u001b[39mb\n",
      "\u001b[1;31mTypeError\u001b[0m: unsupported operand type(s) for +: 'int' and 'str'"
     ]
    }
   ],
   "source": [
    "a+b"
   ]
  },
  {
   "cell_type": "code",
   "execution_count": 70,
   "id": "8b99999e-7022-40d7-a292-1460bd4040b0",
   "metadata": {},
   "outputs": [
    {
     "ename": "SyntaxError",
     "evalue": "unterminated string literal (detected at line 1) (96787844.py, line 1)",
     "output_type": "error",
     "traceback": [
      "\u001b[1;36m  Cell \u001b[1;32mIn[70], line 1\u001b[1;36m\u001b[0m\n\u001b[1;33m    print(\"naresh it 's' Technology)\u001b[0m\n\u001b[1;37m          ^\u001b[0m\n\u001b[1;31mSyntaxError\u001b[0m\u001b[1;31m:\u001b[0m unterminated string literal (detected at line 1)\n"
     ]
    }
   ],
   "source": [
    "print(\"naresh it 's' Technology)"
   ]
  },
  {
   "cell_type": "code",
   "execution_count": 74,
   "id": "f659d381-b127-42b5-91b8-5fd8ee63c68b",
   "metadata": {},
   "outputs": [
    {
     "name": "stdout",
     "output_type": "stream",
     "text": [
      "naresh it's\"Technology\"\n"
     ]
    }
   ],
   "source": [
    "print('naresh it\\'s\"Technology\"')     #\\ has same special meaning to egnore the error"
   ]
  },
  {
   "cell_type": "code",
   "execution_count": 76,
   "id": "ea4fa91f-08df-49fe-b142-76973f8f3a2c",
   "metadata": {},
   "outputs": [
    {
     "name": "stdout",
     "output_type": "stream",
     "text": [
      "naresh it, Technology\n"
     ]
    }
   ],
   "source": [
    "print('naresh it, Technology')"
   ]
  },
  {
   "cell_type": "code",
   "execution_count": 78,
   "id": "0a317c9c-47de-4189-8b11-10cb9195e5cf",
   "metadata": {},
   "outputs": [
    {
     "name": "stdout",
     "output_type": "stream",
     "text": [
      "naresh it,Technology\n"
     ]
    }
   ],
   "source": [
    "print(\"naresh it,Technology\")"
   ]
  },
  {
   "cell_type": "code",
   "execution_count": 80,
   "id": "6abf3495-8f91-4219-b763-2a8954dc587d",
   "metadata": {},
   "outputs": [
    {
     "data": {
      "text/plain": [
       "'nitnit'"
      ]
     },
     "execution_count": 80,
     "metadata": {},
     "output_type": "execute_result"
    }
   ],
   "source": [
    "# print the nit 2 times\n",
    "'nit'  + 'nit'\n"
   ]
  },
  {
   "cell_type": "code",
   "execution_count": 82,
   "id": "53a3f6d0-d3b3-4f04-b6eb-0208a4f90542",
   "metadata": {},
   "outputs": [
    {
     "data": {
      "text/plain": [
       "'nitnit'"
      ]
     },
     "execution_count": 82,
     "metadata": {},
     "output_type": "execute_result"
    }
   ],
   "source": [
    "'nit' 'nit'"
   ]
  },
  {
   "cell_type": "code",
   "execution_count": 84,
   "id": "f12698b9-27b7-4108-a4e5-480365ddf0b1",
   "metadata": {},
   "outputs": [
    {
     "data": {
      "text/plain": [
       "'nitnitnitnitnit'"
      ]
     },
     "execution_count": 84,
     "metadata": {},
     "output_type": "execute_result"
    }
   ],
   "source": [
    "# print nit 5 times\n",
    "5 * 'nit'"
   ]
  },
  {
   "cell_type": "code",
   "execution_count": 86,
   "id": "eaf85f05-554d-4a46-b2bd-088d12ac9c84",
   "metadata": {},
   "outputs": [
    {
     "data": {
      "text/plain": [
       "str"
      ]
     },
     "execution_count": 86,
     "metadata": {},
     "output_type": "execute_result"
    }
   ],
   "source": [
    "type('nit')"
   ]
  },
  {
   "cell_type": "code",
   "execution_count": 90,
   "id": "8a66fb7b-bce1-4c70-a4d2-3b09454f5cd5",
   "metadata": {},
   "outputs": [
    {
     "data": {
      "text/plain": [
       "' nit  nit  nit  nit  nit '"
      ]
     },
     "execution_count": 90,
     "metadata": {},
     "output_type": "execute_result"
    }
   ],
   "source": [
    "5 *' nit '    # print space bettween word"
   ]
  },
  {
   "cell_type": "code",
   "execution_count": 94,
   "id": "74fea8f6-1246-439c-be6c-cf37352d342c",
   "metadata": {},
   "outputs": [
    {
     "name": "stdout",
     "output_type": "stream",
     "text": [
      "c:\n",
      "it\n"
     ]
    }
   ],
   "source": [
    "print('c:\\nit')"
   ]
  },
  {
   "cell_type": "code",
   "execution_count": 100,
   "id": "8d19a4a4-a3e1-4df2-ba6f-294cac9d9fe7",
   "metadata": {},
   "outputs": [
    {
     "name": "stdout",
     "output_type": "stream",
     "text": [
      "r,c:\n",
      "it\n"
     ]
    }
   ],
   "source": [
    "print('r,c:\\nit')"
   ]
  },
  {
   "cell_type": "markdown",
   "id": "df841f8e-b099-47fa-828f-9300197bb218",
   "metadata": {},
   "source": [
    " # Variable || Identifier || object"
   ]
  },
  {
   "cell_type": "code",
   "execution_count": 103,
   "id": "af822ed4-f471-4060-8749-b646b9381310",
   "metadata": {},
   "outputs": [
    {
     "data": {
      "text/plain": [
       "2"
      ]
     },
     "execution_count": 103,
     "metadata": {},
     "output_type": "execute_result"
    }
   ],
   "source": [
    "2\n",
    "2"
   ]
  },
  {
   "cell_type": "code",
   "execution_count": 110,
   "id": "70cac24c-e100-444f-92d0-82eac4d8ec4f",
   "metadata": {},
   "outputs": [
    {
     "data": {
      "text/plain": [
       "2"
      ]
     },
     "execution_count": 110,
     "metadata": {},
     "output_type": "execute_result"
    }
   ],
   "source": [
    "x = 2   # x is variable|identifier|object and 2 is the value \n",
    "x"
   ]
  },
  {
   "cell_type": "code",
   "execution_count": 112,
   "id": "981d85b9-f871-4ce5-b890-d86a2d76d87d",
   "metadata": {},
   "outputs": [
    {
     "data": {
      "text/plain": [
       "5"
      ]
     },
     "execution_count": 112,
     "metadata": {},
     "output_type": "execute_result"
    }
   ],
   "source": [
    "x+3"
   ]
  },
  {
   "cell_type": "code",
   "execution_count": 114,
   "id": "dabfc058-015c-4747-85bd-94da5557864d",
   "metadata": {},
   "outputs": [
    {
     "data": {
      "text/plain": [
       "4"
      ]
     },
     "execution_count": 114,
     "metadata": {},
     "output_type": "execute_result"
    }
   ],
   "source": [
    "y=4\n",
    "y"
   ]
  },
  {
   "cell_type": "code",
   "execution_count": 116,
   "id": "7205613f-69ce-4ac9-b025-744ea0cb4c4e",
   "metadata": {},
   "outputs": [
    {
     "data": {
      "text/plain": [
       "6"
      ]
     },
     "execution_count": 116,
     "metadata": {},
     "output_type": "execute_result"
    }
   ],
   "source": [
    "x+y"
   ]
  },
  {
   "cell_type": "code",
   "execution_count": 118,
   "id": "c4facc1e-f491-43e7-ae08-2b35162bf9a0",
   "metadata": {},
   "outputs": [
    {
     "data": {
      "text/plain": [
       "10"
      ]
     },
     "execution_count": 118,
     "metadata": {},
     "output_type": "execute_result"
    }
   ],
   "source": [
    "x=10\n",
    "x"
   ]
  },
  {
   "cell_type": "code",
   "execution_count": 120,
   "id": "740d581b-07dc-4e14-a163-81003ccdba29",
   "metadata": {},
   "outputs": [
    {
     "data": {
      "text/plain": [
       "14"
      ]
     },
     "execution_count": 120,
     "metadata": {},
     "output_type": "execute_result"
    }
   ],
   "source": [
    "x+y"
   ]
  },
  {
   "cell_type": "code",
   "execution_count": 122,
   "id": "8fb337f0-8006-4405-b9d4-7c0e0c8f2684",
   "metadata": {},
   "outputs": [
    {
     "data": {
      "text/plain": [
       "15"
      ]
     },
     "execution_count": 122,
     "metadata": {},
     "output_type": "execute_result"
    }
   ],
   "source": [
    "x+5"
   ]
  },
  {
   "cell_type": "code",
   "execution_count": 17,
   "id": "992fce8f-77d5-4cee-bbb1-42ae5a84dd93",
   "metadata": {},
   "outputs": [
    {
     "data": {
      "text/plain": [
       "4"
      ]
     },
     "execution_count": 17,
     "metadata": {},
     "output_type": "execute_result"
    }
   ],
   "source": [
    "y = 4\n",
    "y"
   ]
  },
  {
   "cell_type": "code",
   "execution_count": 7,
   "id": "a322d7cc-e289-463d-9a90-4159a483d9a2",
   "metadata": {},
   "outputs": [
    {
     "data": {
      "text/plain": [
       "2"
      ]
     },
     "execution_count": 7,
     "metadata": {},
     "output_type": "execute_result"
    }
   ],
   "source": [
    "x=2\n",
    "x"
   ]
  },
  {
   "cell_type": "code",
   "execution_count": 19,
   "id": "c31c58a9-7813-4a48-93cc-2894887f4800",
   "metadata": {},
   "outputs": [
    {
     "data": {
      "text/plain": [
       "6"
      ]
     },
     "execution_count": 19,
     "metadata": {},
     "output_type": "execute_result"
    }
   ],
   "source": [
    "x+y"
   ]
  },
  {
   "cell_type": "code",
   "execution_count": 43,
   "id": "f99783c0-ccb5-44d6-a7e7-72c5d3825fd6",
   "metadata": {},
   "outputs": [],
   "source": [
    "# string variable \n",
    "name = 'ashok'"
   ]
  },
  {
   "cell_type": "code",
   "execution_count": 27,
   "id": "3e6f4d1e-b8f0-4735-bace-66f151e3319f",
   "metadata": {},
   "outputs": [
    {
     "data": {
      "text/plain": [
       "'ashok'"
      ]
     },
     "execution_count": 27,
     "metadata": {},
     "output_type": "execute_result"
    }
   ],
   "source": [
    "name"
   ]
  },
  {
   "cell_type": "code",
   "execution_count": 31,
   "id": "cf277bbf-4517-4dbf-b1b5-f3805c5b5529",
   "metadata": {},
   "outputs": [
    {
     "data": {
      "text/plain": [
       "'ashokkumar'"
      ]
     },
     "execution_count": 31,
     "metadata": {},
     "output_type": "execute_result"
    }
   ],
   "source": [
    "name +'kumar'"
   ]
  },
  {
   "cell_type": "code",
   "execution_count": 35,
   "id": "4cc23337-b4c6-4255-becc-c8d8fb08cea5",
   "metadata": {},
   "outputs": [
    {
     "data": {
      "text/plain": [
       "'ashokfullname'"
      ]
     },
     "execution_count": 35,
     "metadata": {},
     "output_type": "execute_result"
    }
   ],
   "source": [
    "name + 'fullname'"
   ]
  },
  {
   "cell_type": "code",
   "execution_count": 41,
   "id": "98a243cf-b4d0-409e-81a7-5c10be8f0cd0",
   "metadata": {},
   "outputs": [
    {
     "data": {
      "text/plain": [
       "'ashok fullname'"
      ]
     },
     "execution_count": 41,
     "metadata": {},
     "output_type": "execute_result"
    }
   ],
   "source": [
    "name + ' fullname'"
   ]
  },
  {
   "cell_type": "code",
   "execution_count": 45,
   "id": "0d33bb7f-5e02-48f7-9208-3de46c6a2ed3",
   "metadata": {},
   "outputs": [
    {
     "ename": "SyntaxError",
     "evalue": "invalid syntax (710239528.py, line 1)",
     "output_type": "error",
     "traceback": [
      "\u001b[1;36m  Cell \u001b[1;32mIn[45], line 1\u001b[1;36m\u001b[0m\n\u001b[1;33m    name  ' fullname'\u001b[0m\n\u001b[1;37m          ^\u001b[0m\n\u001b[1;31mSyntaxError\u001b[0m\u001b[1;31m:\u001b[0m invalid syntax\n"
     ]
    }
   ],
   "source": [
    "name  ' fullname'"
   ]
  },
  {
   "cell_type": "code",
   "execution_count": 47,
   "id": "7a76b1c5-e3c8-4f1a-8beb-5cc3ddffff56",
   "metadata": {},
   "outputs": [
    {
     "data": {
      "text/plain": [
       "'ashok'"
      ]
     },
     "execution_count": 47,
     "metadata": {},
     "output_type": "execute_result"
    }
   ],
   "source": [
    "name"
   ]
  },
  {
   "cell_type": "code",
   "execution_count": 49,
   "id": "829bab2f-2e0e-496e-9b3d-8da266ff919c",
   "metadata": {},
   "outputs": [
    {
     "data": {
      "text/plain": [
       "5"
      ]
     },
     "execution_count": 49,
     "metadata": {},
     "output_type": "execute_result"
    }
   ],
   "source": [
    "len(name)"
   ]
  },
  {
   "cell_type": "code",
   "execution_count": 51,
   "id": "f7efdb68-b903-4efd-a1ef-cc38549b0abe",
   "metadata": {},
   "outputs": [
    {
     "data": {
      "text/plain": [
       "'a'"
      ]
     },
     "execution_count": 51,
     "metadata": {},
     "output_type": "execute_result"
    }
   ],
   "source": [
    "name[0]    # python index  bigins with 0"
   ]
  },
  {
   "cell_type": "code",
   "execution_count": 53,
   "id": "e77474b3-76a2-44e4-a077-8bd3c09d1cdf",
   "metadata": {},
   "outputs": [
    {
     "data": {
      "text/plain": [
       "'k'"
      ]
     },
     "execution_count": 53,
     "metadata": {},
     "output_type": "execute_result"
    }
   ],
   "source": [
    "name [4]"
   ]
  },
  {
   "cell_type": "code",
   "execution_count": 63,
   "id": "a22fbe4e-5f5a-4536-b577-b1c298b26c3a",
   "metadata": {},
   "outputs": [
    {
     "ename": "IndexError",
     "evalue": "string index out of range",
     "output_type": "error",
     "traceback": [
      "\u001b[1;31m---------------------------------------------------------------------------\u001b[0m",
      "\u001b[1;31mIndexError\u001b[0m                                Traceback (most recent call last)",
      "Cell \u001b[1;32mIn[63], line 1\u001b[0m\n\u001b[1;32m----> 1\u001b[0m name[\u001b[38;5;241m5\u001b[39m]\n",
      "\u001b[1;31mIndexError\u001b[0m: string index out of range"
     ]
    }
   ],
   "source": [
    "name[5]"
   ]
  },
  {
   "cell_type": "code",
   "execution_count": 65,
   "id": "0cbc33bc-f72e-45af-8de3-1aacb6ce46cc",
   "metadata": {},
   "outputs": [
    {
     "data": {
      "text/plain": [
       "'h'"
      ]
     },
     "execution_count": 65,
     "metadata": {},
     "output_type": "execute_result"
    }
   ],
   "source": [
    "name[2]"
   ]
  },
  {
   "cell_type": "code",
   "execution_count": 67,
   "id": "d5a96ae0-dff4-442b-8209-0c7bcca1f33e",
   "metadata": {},
   "outputs": [
    {
     "data": {
      "text/plain": [
       "'o'"
      ]
     },
     "execution_count": 67,
     "metadata": {},
     "output_type": "execute_result"
    }
   ],
   "source": [
    "name[3]"
   ]
  },
  {
   "cell_type": "markdown",
   "id": "7f1e9b9e-e179-4fbd-bd05-2256b38fab8e",
   "metadata": {},
   "source": [
    "# slicing"
   ]
  },
  {
   "cell_type": "code",
   "execution_count": 78,
   "id": "60d20c62-d355-4c6f-95fb-119e33c4fec8",
   "metadata": {},
   "outputs": [
    {
     "data": {
      "text/plain": [
       "'sho'"
      ]
     },
     "execution_count": 78,
     "metadata": {},
     "output_type": "execute_result"
    }
   ],
   "source": [
    "name [1: 4] # to print2 character"
   ]
  },
  {
   "cell_type": "code",
   "execution_count": 57,
   "id": "e63d5051-0dc8-43ef-8868-68c6943704a1",
   "metadata": {},
   "outputs": [
    {
     "data": {
      "text/plain": [
       "'o'"
      ]
     },
     "execution_count": 57,
     "metadata": {},
     "output_type": "execute_result"
    }
   ],
   "source": [
    "name[-2]"
   ]
  },
  {
   "cell_type": "code",
   "execution_count": 59,
   "id": "d7fe1c7d-2306-4c31-96b5-eadc11c5a838",
   "metadata": {},
   "outputs": [
    {
     "data": {
      "text/plain": [
       "'asho'"
      ]
     },
     "execution_count": 59,
     "metadata": {},
     "output_type": "execute_result"
    }
   ],
   "source": [
    "name[:-1]"
   ]
  },
  {
   "cell_type": "code",
   "execution_count": 61,
   "id": "1cbb6220-6d23-4ebc-88db-a8d6648b0ead",
   "metadata": {},
   "outputs": [
    {
     "data": {
      "text/plain": [
       "'ashok'"
      ]
     },
     "execution_count": 61,
     "metadata": {},
     "output_type": "execute_result"
    }
   ],
   "source": [
    "name[:]"
   ]
  },
  {
   "cell_type": "code",
   "execution_count": 86,
   "id": "cd091895-e39d-4337-9dab-aa61d7a5a874",
   "metadata": {},
   "outputs": [
    {
     "data": {
      "text/plain": [
       "'fine'"
      ]
     },
     "execution_count": 86,
     "metadata": {},
     "output_type": "execute_result"
    }
   ],
   "source": [
    "name1 = 'fine'\n",
    "name1\n"
   ]
  },
  {
   "cell_type": "code",
   "execution_count": 92,
   "id": "381e54bb-ca85-411a-baaf-c9549a8a1694",
   "metadata": {},
   "outputs": [
    {
     "data": {
      "text/plain": [
       "'f'"
      ]
     },
     "execution_count": 92,
     "metadata": {},
     "output_type": "execute_result"
    }
   ],
   "source": [
    "name1[0]"
   ]
  },
  {
   "cell_type": "code",
   "execution_count": 94,
   "id": "a6787b27-9eb8-45ce-8130-3561e086ffd0",
   "metadata": {},
   "outputs": [
    {
     "data": {
      "text/plain": [
       "'ine'"
      ]
     },
     "execution_count": 94,
     "metadata": {},
     "output_type": "execute_result"
    }
   ],
   "source": [
    "name1[1:]"
   ]
  },
  {
   "cell_type": "code",
   "execution_count": 106,
   "id": "372309dd-3b7b-4832-a2a1-8c39bb700967",
   "metadata": {},
   "outputs": [
    {
     "data": {
      "text/plain": [
       "'dine'"
      ]
     },
     "execution_count": 106,
     "metadata": {},
     "output_type": "execute_result"
    }
   ],
   "source": [
    "'d'+name1[1:] # i want to change fine to dine "
   ]
  },
  {
   "cell_type": "code",
   "execution_count": 116,
   "id": "ceecb19a-a1d6-40d6-b0b0-4634e6acc342",
   "metadata": {},
   "outputs": [
    {
     "data": {
      "text/plain": [
       "5"
      ]
     },
     "execution_count": 116,
     "metadata": {},
     "output_type": "execute_result"
    }
   ],
   "source": [
    "len((name))   # pyton inbuild function "
   ]
  },
  {
   "cell_type": "markdown",
   "id": "58daae9e-2a64-4841-b514-c10a222f0fca",
   "metadata": {},
   "source": [
    "# list "
   ]
  },
  {
   "cell_type": "code",
   "execution_count": 121,
   "id": "4d3f7a33-552b-4d52-8292-5a8d419286e7",
   "metadata": {},
   "outputs": [
    {
     "data": {
      "text/plain": [
       "[20, 10, 34, 15, 30.24]"
      ]
     },
     "execution_count": 121,
     "metadata": {},
     "output_type": "execute_result"
    }
   ],
   "source": [
    "#  LIST   LIST LIST \n",
    "nums = [20,10,34,15, 30.24,]\n",
    "nums"
   ]
  },
  {
   "cell_type": "code",
   "execution_count": 123,
   "id": "1b887544-3b86-44f3-aa75-a22f1ed4d4f2",
   "metadata": {},
   "outputs": [
    {
     "data": {
      "text/plain": [
       "5"
      ]
     },
     "execution_count": 123,
     "metadata": {},
     "output_type": "execute_result"
    }
   ],
   "source": [
    "len (nums)"
   ]
  },
  {
   "cell_type": "code",
   "execution_count": 125,
   "id": "98619ac7-5199-472c-922c-29a20c91be66",
   "metadata": {},
   "outputs": [
    {
     "data": {
      "text/plain": [
       "30.24"
      ]
     },
     "execution_count": 125,
     "metadata": {},
     "output_type": "execute_result"
    }
   ],
   "source": [
    "nums [4]"
   ]
  },
  {
   "cell_type": "code",
   "execution_count": 127,
   "id": "4ecee30a-7dce-45f7-8d6c-43bda5f55333",
   "metadata": {},
   "outputs": [
    {
     "data": {
      "text/plain": [
       "[20, 10, 34, 15, 30.24]"
      ]
     },
     "execution_count": 127,
     "metadata": {},
     "output_type": "execute_result"
    }
   ],
   "source": [
    "nums [0:]"
   ]
  },
  {
   "cell_type": "code",
   "execution_count": 129,
   "id": "140ce1e1-2c6c-4599-82b9-873e3b52e892",
   "metadata": {},
   "outputs": [
    {
     "data": {
      "text/plain": [
       "[30.24]"
      ]
     },
     "execution_count": 129,
     "metadata": {},
     "output_type": "execute_result"
    }
   ],
   "source": [
    "nums [-1:]"
   ]
  },
  {
   "cell_type": "code",
   "execution_count": 131,
   "id": "0b8744a1-3213-4c67-8ed6-2319897df8e5",
   "metadata": {},
   "outputs": [
    {
     "data": {
      "text/plain": [
       "[20, 10, 34, 15]"
      ]
     },
     "execution_count": 131,
     "metadata": {},
     "output_type": "execute_result"
    }
   ],
   "source": [
    "nums [:-1]"
   ]
  },
  {
   "cell_type": "code",
   "execution_count": 133,
   "id": "8ba59022-5b64-4673-8b8c-8a2d7e7a0879",
   "metadata": {},
   "outputs": [
    {
     "data": {
      "text/plain": [
       "[20, 10, 34]"
      ]
     },
     "execution_count": 133,
     "metadata": {},
     "output_type": "execute_result"
    }
   ],
   "source": [
    "nums [0:3]"
   ]
  },
  {
   "cell_type": "code",
   "execution_count": 137,
   "id": "53080a0c-3ed8-4d0a-b89c-f606e88d9d27",
   "metadata": {},
   "outputs": [
    {
     "data": {
      "text/plain": [
       "[' hello Mr  chandradev kumar']"
      ]
     },
     "execution_count": 137,
     "metadata": {},
     "output_type": "execute_result"
    }
   ],
   "source": [
    "nums1=[' hello Mr  chandradev kumar'] \n",
    "nums1"
   ]
  },
  {
   "cell_type": "code",
   "execution_count": 141,
   "id": "4e09aa70-10c2-4248-83ba-75e2886799db",
   "metadata": {},
   "outputs": [
    {
     "data": {
      "text/plain": [
       "1"
      ]
     },
     "execution_count": 141,
     "metadata": {},
     "output_type": "execute_result"
    }
   ],
   "source": [
    "len(nums1)"
   ]
  },
  {
   "cell_type": "code",
   "execution_count": 147,
   "id": "38ab4f12-c6be-4fbe-9420-1c800b758667",
   "metadata": {},
   "outputs": [
    {
     "data": {
      "text/plain": [
       "[20, 13.64, 'raju']"
      ]
     },
     "execution_count": 147,
     "metadata": {},
     "output_type": "execute_result"
    }
   ],
   "source": [
    "nums2=[20,13.64,'raju'] # we can assign multiple variable \n",
    "nums2"
   ]
  },
  {
   "cell_type": "code",
   "execution_count": 151,
   "id": "4deaf88a-a2ad-4336-afd7-ccd34f12d42c",
   "metadata": {},
   "outputs": [
    {
     "data": {
      "text/plain": [
       "[[20, 10, 34, 15, 30.24], [' hello Mr  chandradev kumar']]"
      ]
     },
     "execution_count": 151,
     "metadata": {},
     "output_type": "execute_result"
    }
   ],
   "source": [
    "nums3 = [nums, nums1]\n",
    "nums3"
   ]
  },
  {
   "cell_type": "code",
   "execution_count": 155,
   "id": "b934c1e0-deb8-426d-ba27-ec31631f6976",
   "metadata": {},
   "outputs": [
    {
     "data": {
      "text/plain": [
       "[[' hello Mr  chandradev kumar'],\n",
       " [20, 13.64, 'raju'],\n",
       " [[20, 10, 34, 15, 30.24], [' hello Mr  chandradev kumar']]]"
      ]
     },
     "execution_count": 155,
     "metadata": {},
     "output_type": "execute_result"
    }
   ],
   "source": [
    "nums4 = [nums1,nums2,nums3]\n",
    "nums4"
   ]
  },
  {
   "cell_type": "code",
   "execution_count": 157,
   "id": "5283d391-93a7-4852-902f-e6a7b073226e",
   "metadata": {},
   "outputs": [
    {
     "data": {
      "text/plain": [
       "list"
      ]
     },
     "execution_count": 157,
     "metadata": {},
     "output_type": "execute_result"
    }
   ],
   "source": [
    "type(nums4)"
   ]
  },
  {
   "cell_type": "code",
   "execution_count": 159,
   "id": "646974a3-272f-4d80-bf5d-79b539ec4bdb",
   "metadata": {},
   "outputs": [
    {
     "data": {
      "text/plain": [
       "3"
      ]
     },
     "execution_count": 159,
     "metadata": {},
     "output_type": "execute_result"
    }
   ],
   "source": [
    "len(nums4)"
   ]
  },
  {
   "cell_type": "code",
   "execution_count": 161,
   "id": "dee7e6a3-6ed5-44c9-9d97-b02b81131f50",
   "metadata": {},
   "outputs": [
    {
     "data": {
      "text/plain": [
       "[[' hello Mr  chandradev kumar'],\n",
       " [20, 13.64, 'raju'],\n",
       " [[20, 10, 34, 15, 30.24], [' hello Mr  chandradev kumar']]]"
      ]
     },
     "execution_count": 161,
     "metadata": {},
     "output_type": "execute_result"
    }
   ],
   "source": [
    "nums4"
   ]
  },
  {
   "cell_type": "code",
   "execution_count": 163,
   "id": "e7a90759-6df1-46ee-a90d-0095d9a29752",
   "metadata": {},
   "outputs": [
    {
     "data": {
      "text/plain": [
       "[20, 10, 34, 15, 30.24]"
      ]
     },
     "execution_count": 163,
     "metadata": {},
     "output_type": "execute_result"
    }
   ],
   "source": [
    "nums"
   ]
  },
  {
   "cell_type": "code",
   "execution_count": 167,
   "id": "9299d192-75bc-4dec-9fd4-16eb5b42e3f9",
   "metadata": {},
   "outputs": [
    {
     "data": {
      "text/plain": [
       "[20, 10, 34, 15, 30.24, 30, 30]"
      ]
     },
     "execution_count": 167,
     "metadata": {},
     "output_type": "execute_result"
    }
   ],
   "source": [
    "nums.append(30)\n",
    "nums"
   ]
  },
  {
   "cell_type": "code",
   "execution_count": 169,
   "id": "9ce3e436-0111-4ee8-9aa3-b2c064e62c10",
   "metadata": {},
   "outputs": [
    {
     "data": {
      "text/plain": [
       "[20, 10, 34, 15, 30.24, 30, 30, 45]"
      ]
     },
     "execution_count": 169,
     "metadata": {},
     "output_type": "execute_result"
    }
   ],
   "source": [
    "nums.append(45)\n",
    "nums"
   ]
  },
  {
   "cell_type": "code",
   "execution_count": 173,
   "id": "62a330e1-bada-4110-beb8-ab8632a3a5f2",
   "metadata": {},
   "outputs": [
    {
     "data": {
      "text/plain": [
       "[20, 10, 34, 15, 30.24, 30, 30]"
      ]
     },
     "execution_count": 173,
     "metadata": {},
     "output_type": "execute_result"
    }
   ],
   "source": [
    "nums.pop()\n",
    "nums"
   ]
  },
  {
   "cell_type": "code",
   "execution_count": 175,
   "id": "32deabaa-cb4b-4e2f-9426-cd049382609c",
   "metadata": {},
   "outputs": [
    {
     "data": {
      "text/plain": [
       "30"
      ]
     },
     "execution_count": 175,
     "metadata": {},
     "output_type": "execute_result"
    }
   ],
   "source": [
    "nums.pop()"
   ]
  },
  {
   "cell_type": "code",
   "execution_count": 179,
   "id": "6a940ec6-461d-4cd2-a664-b8e8444292df",
   "metadata": {},
   "outputs": [
    {
     "data": {
      "text/plain": [
       "15"
      ]
     },
     "execution_count": 179,
     "metadata": {},
     "output_type": "execute_result"
    }
   ],
   "source": [
    "nums.pop(3)"
   ]
  },
  {
   "cell_type": "code",
   "execution_count": 183,
   "id": "8d89e004-91d3-4e0e-896f-3d5a04889256",
   "metadata": {},
   "outputs": [
    {
     "data": {
      "text/plain": [
       "[20, 10, 34, 30.24]"
      ]
     },
     "execution_count": 183,
     "metadata": {},
     "output_type": "execute_result"
    }
   ],
   "source": [
    "nums"
   ]
  },
  {
   "cell_type": "code",
   "execution_count": 187,
   "id": "41ef4dbe-69a3-420b-9719-1f5844cacedc",
   "metadata": {},
   "outputs": [
    {
     "data": {
      "text/plain": [
       "[10, 34, 30.24]"
      ]
     },
     "execution_count": 187,
     "metadata": {},
     "output_type": "execute_result"
    }
   ],
   "source": [
    "nums.remove(20)\n",
    "nums"
   ]
  },
  {
   "cell_type": "code",
   "execution_count": 189,
   "id": "bb9af971-21f0-475e-8942-89c3632ff004",
   "metadata": {},
   "outputs": [],
   "source": [
    "nums.remove(34)"
   ]
  },
  {
   "cell_type": "code",
   "execution_count": 191,
   "id": "eb20a34e-e491-484c-9cc8-b848539f5c41",
   "metadata": {},
   "outputs": [
    {
     "data": {
      "text/plain": [
       "[10, 30.24]"
      ]
     },
     "execution_count": 191,
     "metadata": {},
     "output_type": "execute_result"
    }
   ],
   "source": [
    "nums"
   ]
  },
  {
   "cell_type": "code",
   "execution_count": 195,
   "id": "900b70f9-bd21-49d4-bbaf-8af2a8c0fbd4",
   "metadata": {},
   "outputs": [
    {
     "data": {
      "text/plain": [
       "30.24"
      ]
     },
     "execution_count": 195,
     "metadata": {},
     "output_type": "execute_result"
    }
   ],
   "source": [
    "nums.pop()"
   ]
  },
  {
   "cell_type": "code",
   "execution_count": 201,
   "id": "b71ca9e8-0384-4b74-a426-140e1a909bfc",
   "metadata": {},
   "outputs": [
    {
     "data": {
      "text/plain": [
       "(20, 45, 56, 22, 35, 19)"
      ]
     },
     "execution_count": 201,
     "metadata": {},
     "output_type": "execute_result"
    }
   ],
   "source": [
    "nums = (20,45,56,22,35,19,)\n",
    "nums"
   ]
  },
  {
   "cell_type": "code",
   "execution_count": 213,
   "id": "5b85b510-7016-4fcf-b9f6-3286d9680904",
   "metadata": {},
   "outputs": [
    {
     "data": {
      "text/plain": [
       "[' hello Mr  chandradev kumar']"
      ]
     },
     "execution_count": 213,
     "metadata": {},
     "output_type": "execute_result"
    }
   ],
   "source": [
    "nums1"
   ]
  },
  {
   "cell_type": "code",
   "execution_count": 225,
   "id": "a7b7acac-6179-4a54-9bb4-c30063e2c576",
   "metadata": {},
   "outputs": [
    {
     "data": {
      "text/plain": [
       "[' hello Mr  chandradev kumar',\n",
       " 'your name is',\n",
       " 'your name is',\n",
       " 'your name is',\n",
       " 'your name is',\n",
       " 'your name is']"
      ]
     },
     "execution_count": 225,
     "metadata": {},
     "output_type": "execute_result"
    }
   ],
   "source": [
    "nums1.insert(3,'your name is')\n",
    "nums1"
   ]
  },
  {
   "cell_type": "code",
   "execution_count": 227,
   "id": "9dbba546-370f-466e-ad16-d8b8757a86ae",
   "metadata": {},
   "outputs": [
    {
     "data": {
      "text/plain": [
       "[' hello Mr  chandradev kumar',\n",
       " 'your name is',\n",
       " 'your name is',\n",
       " 'your name is',\n",
       " 'your name is',\n",
       " 'your name is']"
      ]
     },
     "execution_count": 227,
     "metadata": {},
     "output_type": "execute_result"
    }
   ],
   "source": [
    "## nums1.insert(3,'your name is')\n",
    "nums1"
   ]
  },
  {
   "cell_type": "code",
   "execution_count": 231,
   "id": "0f9d3557-962e-41a1-9287-787bf2742552",
   "metadata": {},
   "outputs": [
    {
     "data": {
      "text/plain": [
       "[[' hello Mr  chandradev kumar',\n",
       "  'your name is',\n",
       "  'your name is',\n",
       "  'your name is',\n",
       "  'your name is',\n",
       "  'your name is'],\n",
       " [20, 13.64, 'raju'],\n",
       " [[10],\n",
       "  [' hello Mr  chandradev kumar',\n",
       "   'your name is',\n",
       "   'your name is',\n",
       "   'your name is',\n",
       "   'your name is',\n",
       "   'your name is']]]"
      ]
     },
     "execution_count": 231,
     "metadata": {},
     "output_type": "execute_result"
    }
   ],
   "source": [
    "nums4"
   ]
  },
  {
   "cell_type": "code",
   "execution_count": 3,
   "id": "1c06f4af-bacf-4d3f-9595-01ce8480f9cf",
   "metadata": {},
   "outputs": [
    {
     "data": {
      "text/plain": [
       "[20, 13.64, 'raju', 35, 68, 90, 35]"
      ]
     },
     "execution_count": 3,
     "metadata": {},
     "output_type": "execute_result"
    }
   ],
   "source": [
    "num4 = [20 ,13.64,'raju', 35,68,90,35] # if you want delete multiple value\n",
    "num4"
   ]
  },
  {
   "cell_type": "code",
   "execution_count": 5,
   "id": "abb7ee4e-b91c-40f7-b6b1-6bf85178c041",
   "metadata": {},
   "outputs": [
    {
     "data": {
      "text/plain": [
       "7"
      ]
     },
     "execution_count": 5,
     "metadata": {},
     "output_type": "execute_result"
    }
   ],
   "source": [
    " len(num4)"
   ]
  },
  {
   "cell_type": "code",
   "execution_count": 11,
   "id": "92cba140-7c66-4468-b0b8-eefd534fbfe9",
   "metadata": {},
   "outputs": [
    {
     "data": {
      "text/plain": [
       "[20, 13.64]"
      ]
     },
     "execution_count": 11,
     "metadata": {},
     "output_type": "execute_result"
    }
   ],
   "source": [
    "del num4[2:]\n",
    "num4"
   ]
  },
  {
   "cell_type": "code",
   "execution_count": 15,
   "id": "4ed56692-0e26-4181-bc46-64fa81178ec0",
   "metadata": {},
   "outputs": [
    {
     "data": {
      "text/plain": [
       "[20, 13.64, 20, 15, 16, 20, 15, 16]"
      ]
     },
     "execution_count": 15,
     "metadata": {},
     "output_type": "execute_result"
    }
   ],
   "source": [
    "# if you need to add multiple value\n",
    "num4.extend([20,15,16])\n",
    "num4"
   ]
  },
  {
   "cell_type": "code",
   "execution_count": 33,
   "id": "20a1e547-74c5-45a4-a7a5-02569be418e5",
   "metadata": {},
   "outputs": [
    {
     "data": {
      "text/plain": [
       "[34, 28, 39, 49, 10, 20]"
      ]
     },
     "execution_count": 33,
     "metadata": {},
     "output_type": "execute_result"
    }
   ],
   "source": [
    "num2 = [34,28,39,49,10,20,]\n",
    "num2"
   ]
  },
  {
   "cell_type": "code",
   "execution_count": 35,
   "id": "605a889a-08fd-4d41-aaee-6b8083ce8d5e",
   "metadata": {},
   "outputs": [
    {
     "data": {
      "text/plain": [
       "[34, 28, 39, 49, 10, 20, 'a', 15]"
      ]
     },
     "execution_count": 35,
     "metadata": {},
     "output_type": "execute_result"
    }
   ],
   "source": [
    "num2.extend(['a',15])\n",
    "num2"
   ]
  },
  {
   "cell_type": "code",
   "execution_count": 37,
   "id": "f4b5dfb4-a607-41a0-a00e-74fe78bbaa67",
   "metadata": {},
   "outputs": [
    {
     "data": {
      "text/plain": [
       "[20, 10, 34, 15, 30.24]"
      ]
     },
     "execution_count": 37,
     "metadata": {},
     "output_type": "execute_result"
    }
   ],
   "source": [
    "\n",
    "nums = [20,10,34,15, 30.24,]\n",
    "nums"
   ]
  },
  {
   "cell_type": "code",
   "execution_count": 41,
   "id": "1f9d6d7d-185d-4c1e-b899-ca7327aa0b80",
   "metadata": {},
   "outputs": [
    {
     "data": {
      "text/plain": [
       "10"
      ]
     },
     "execution_count": 41,
     "metadata": {},
     "output_type": "execute_result"
    }
   ],
   "source": [
    "min(nums)   # inbuild function"
   ]
  },
  {
   "cell_type": "code",
   "execution_count": 43,
   "id": "8585f2cf-74fd-47f0-a6cc-75d97d44c326",
   "metadata": {},
   "outputs": [
    {
     "data": {
      "text/plain": [
       "34"
      ]
     },
     "execution_count": 43,
     "metadata": {},
     "output_type": "execute_result"
    }
   ],
   "source": [
    "max(nums)"
   ]
  },
  {
   "cell_type": "code",
   "execution_count": 47,
   "id": "c324744a-e760-4b76-9ae4-3b465df5d417",
   "metadata": {},
   "outputs": [
    {
     "data": {
      "text/plain": [
       "109.24"
      ]
     },
     "execution_count": 47,
     "metadata": {},
     "output_type": "execute_result"
    }
   ],
   "source": [
    "sum(nums)"
   ]
  },
  {
   "cell_type": "code",
   "execution_count": 49,
   "id": "fa36ab64-4894-45a4-a8ef-5a5e2b02298d",
   "metadata": {},
   "outputs": [
    {
     "data": {
      "text/plain": [
       "[34, 28, 39, 49, 10, 20, 'a', 15]"
      ]
     },
     "execution_count": 49,
     "metadata": {},
     "output_type": "execute_result"
    }
   ],
   "source": [
    "num2"
   ]
  },
  {
   "cell_type": "code",
   "execution_count": 55,
   "id": "277acf20-f4f9-4d62-b526-8a6f831a2c67",
   "metadata": {},
   "outputs": [
    {
     "data": {
      "text/plain": [
       "10"
      ]
     },
     "execution_count": 55,
     "metadata": {},
     "output_type": "execute_result"
    }
   ],
   "source": [
    "min(nums)"
   ]
  },
  {
   "cell_type": "code",
   "execution_count": 57,
   "id": "aa921a8f-68d9-4fc7-894b-b12dc767f70d",
   "metadata": {},
   "outputs": [
    {
     "data": {
      "text/plain": [
       "109.24"
      ]
     },
     "execution_count": 57,
     "metadata": {},
     "output_type": "execute_result"
    }
   ],
   "source": [
    "sum(nums)"
   ]
  },
  {
   "cell_type": "code",
   "execution_count": 59,
   "id": "b3197b47-3ad6-40bb-af06-f072c8940650",
   "metadata": {},
   "outputs": [
    {
     "data": {
      "text/plain": [
       "[20, 10, 34, 15, 30.24]"
      ]
     },
     "execution_count": 59,
     "metadata": {},
     "output_type": "execute_result"
    }
   ],
   "source": [
    "nums"
   ]
  },
  {
   "cell_type": "code",
   "execution_count": 65,
   "id": "b2974231-e1ae-420c-b38d-6b448f0a7393",
   "metadata": {},
   "outputs": [
    {
     "data": {
      "text/plain": [
       "34"
      ]
     },
     "execution_count": 65,
     "metadata": {},
     "output_type": "execute_result"
    }
   ],
   "source": [
    "max(nums)"
   ]
  },
  {
   "cell_type": "code",
   "execution_count": 67,
   "id": "d6780901-3073-40e8-b642-86fc58911e49",
   "metadata": {},
   "outputs": [
    {
     "data": {
      "text/plain": [
       "10"
      ]
     },
     "execution_count": 67,
     "metadata": {},
     "output_type": "execute_result"
    }
   ],
   "source": [
    "min(nums)"
   ]
  },
  {
   "cell_type": "code",
   "execution_count": 73,
   "id": "f4f633be-68a5-4471-afc2-34c91a07daf8",
   "metadata": {},
   "outputs": [
    {
     "data": {
      "text/plain": [
       "[10, 15, 20, 30.24, 34]"
      ]
     },
     "execution_count": 73,
     "metadata": {},
     "output_type": "execute_result"
    }
   ],
   "source": [
    "nums.sort()  # sort method\n",
    "nums"
   ]
  },
  {
   "cell_type": "markdown",
   "id": "82ae361a-8f01-43f5-a352-2e57176bbd61",
   "metadata": {},
   "source": [
    "# Tuple"
   ]
  },
  {
   "cell_type": "code",
   "execution_count": 77,
   "id": "25951ab0-762d-4c9a-aa73-b1fd58f0ffa2",
   "metadata": {},
   "outputs": [
    {
     "data": {
      "text/plain": [
       "[13, 24, 27, 49, 39, 20, 56]"
      ]
     },
     "execution_count": 77,
     "metadata": {},
     "output_type": "execute_result"
    }
   ],
   "source": [
    "# tuple tuple tuple \n",
    "tuple = [13,24,27,49,39,20,56,]\n",
    "tuple"
   ]
  },
  {
   "cell_type": "code",
   "execution_count": 81,
   "id": "dc6e4205-8494-418b-a434-de518024352d",
   "metadata": {},
   "outputs": [
    {
     "data": {
      "text/plain": [
       "13"
      ]
     },
     "execution_count": 81,
     "metadata": {},
     "output_type": "execute_result"
    }
   ],
   "source": [
    "tuple [0]"
   ]
  },
  {
   "cell_type": "code",
   "execution_count": 83,
   "id": "6e064e3f-d80a-4d05-8a82-de284c8187b4",
   "metadata": {},
   "outputs": [
    {
     "ename": "IndexError",
     "evalue": "list index out of range",
     "output_type": "error",
     "traceback": [
      "\u001b[1;31m---------------------------------------------------------------------------\u001b[0m",
      "\u001b[1;31mIndexError\u001b[0m                                Traceback (most recent call last)",
      "Cell \u001b[1;32mIn[83], line 1\u001b[0m\n\u001b[1;32m----> 1\u001b[0m \u001b[38;5;28mtuple\u001b[39m [\u001b[38;5;241m15\u001b[39m]\n",
      "\u001b[1;31mIndexError\u001b[0m: list index out of range"
     ]
    }
   ],
   "source": [
    "tuple [15]"
   ]
  },
  {
   "cell_type": "code",
   "execution_count": 85,
   "id": "50acf57c-4330-4d9a-8ddd-7fe222e6a6a5",
   "metadata": {},
   "outputs": [
    {
     "data": {
      "text/plain": [
       "20"
      ]
     },
     "execution_count": 85,
     "metadata": {},
     "output_type": "execute_result"
    }
   ],
   "source": [
    "tuple[5]"
   ]
  },
  {
   "cell_type": "markdown",
   "id": "53478978-4712-424a-b285-af8e3e54157f",
   "metadata": {},
   "source": [
    "# set"
   ]
  },
  {
   "cell_type": "code",
   "execution_count": 91,
   "id": "03f3d7e2-99db-4de1-a485-7dd4e5238db3",
   "metadata": {},
   "outputs": [
    {
     "data": {
      "text/plain": [
       "set()"
      ]
     },
     "execution_count": 91,
     "metadata": {},
     "output_type": "execute_result"
    }
   ],
   "source": [
    "# set set set \n",
    "set()"
   ]
  },
  {
   "cell_type": "code",
   "execution_count": 95,
   "id": "1e532551-610c-4be3-820d-b46b28df4e99",
   "metadata": {},
   "outputs": [
    {
     "data": {
      "text/plain": [
       "{6, 28, 57, 68, 3935}"
      ]
     },
     "execution_count": 95,
     "metadata": {},
     "output_type": "execute_result"
    }
   ],
   "source": [
    "set={28,3935,6,57,68,}\n",
    "set"
   ]
  },
  {
   "cell_type": "code",
   "execution_count": 97,
   "id": "9489d470-2465-4748-9966-b36b46a9e73c",
   "metadata": {},
   "outputs": [
    {
     "data": {
      "text/plain": [
       "{20, 23, 35, 47, 50, 'raj'}"
      ]
     },
     "execution_count": 97,
     "metadata": {},
     "output_type": "execute_result"
    }
   ],
   "source": [
    "set1 = {20,35,47,'raj',23,50}\n",
    "set1"
   ]
  },
  {
   "cell_type": "code",
   "execution_count": 105,
   "id": "54cb225f-08cf-4e39-8d4a-979288cd871c",
   "metadata": {},
   "outputs": [
    {
     "data": {
      "text/plain": [
       "{6, 28, 57, 68, 3935}"
      ]
     },
     "execution_count": 105,
     "metadata": {},
     "output_type": "execute_result"
    }
   ],
   "source": [
    "set #set #as we dont have proper sequencing thats why indexing not subscriptable"
   ]
  },
  {
   "cell_type": "markdown",
   "id": "b9a516e6-08f2-450e-861d-a931b9cf2137",
   "metadata": {},
   "source": [
    "# DICTIONARY"
   ]
  },
  {
   "cell_type": "code",
   "execution_count": 122,
   "id": "bf341376-005e-473f-a40a-a273572e0c6c",
   "metadata": {},
   "outputs": [
    {
     "data": {
      "text/plain": [
       "{1: 'apple', 2: 'banana', 3: 'papaya', 4: 'orange'}"
      ]
     },
     "execution_count": 122,
     "metadata": {},
     "output_type": "execute_result"
    }
   ],
   "source": [
    " # dictionary  dictionary  dictionary \n",
    "data  = {1:'apple',2:'banana',3:'papaya',4:'orange'}\n",
    "data"
   ]
  },
  {
   "cell_type": "code",
   "execution_count": 124,
   "id": "11f6e949-1aab-4b50-84e0-f2260f88cbc0",
   "metadata": {},
   "outputs": [
    {
     "data": {
      "text/plain": [
       "{1: 'apple', 2: 'banana', 3: 'papaya', 4: 'orange'}"
      ]
     },
     "execution_count": 124,
     "metadata": {},
     "output_type": "execute_result"
    }
   ],
   "source": [
    "data[4]\n",
    "data"
   ]
  },
  {
   "cell_type": "code",
   "execution_count": 126,
   "id": "20a7ebba-ad27-428e-8e35-5c932353303c",
   "metadata": {},
   "outputs": [
    {
     "data": {
      "text/plain": [
       "'banana'"
      ]
     },
     "execution_count": 126,
     "metadata": {},
     "output_type": "execute_result"
    }
   ],
   "source": [
    "data[2]"
   ]
  },
  {
   "cell_type": "code",
   "execution_count": 128,
   "id": "0de89912-3014-42dc-b09c-f0993412c9a8",
   "metadata": {},
   "outputs": [
    {
     "data": {
      "text/plain": [
       "'orange'"
      ]
     },
     "execution_count": 128,
     "metadata": {},
     "output_type": "execute_result"
    }
   ],
   "source": [
    "data[4]"
   ]
  },
  {
   "cell_type": "code",
   "execution_count": 138,
   "id": "238a466b-a865-4910-959c-c6cad1696dbc",
   "metadata": {},
   "outputs": [
    {
     "data": {
      "text/plain": [
       "'apple'"
      ]
     },
     "execution_count": 138,
     "metadata": {},
     "output_type": "execute_result"
    }
   ],
   "source": [
    "data[1]"
   ]
  },
  {
   "cell_type": "code",
   "execution_count": 140,
   "id": "d25a68f1-0b84-4b7c-9770-fd71f69a05fd",
   "metadata": {},
   "outputs": [
    {
     "data": {
      "text/plain": [
       "'orange'"
      ]
     },
     "execution_count": 140,
     "metadata": {},
     "output_type": "execute_result"
    }
   ],
   "source": [
    "data.get(4)"
   ]
  },
  {
   "cell_type": "code",
   "execution_count": 142,
   "id": "9322ff25-79aa-4c07-9a5c-1fda9da7a97a",
   "metadata": {},
   "outputs": [
    {
     "data": {
      "text/plain": [
       "'banana'"
      ]
     },
     "execution_count": 142,
     "metadata": {},
     "output_type": "execute_result"
    }
   ],
   "source": [
    "data.get(2)"
   ]
  },
  {
   "cell_type": "code",
   "execution_count": 144,
   "id": "4730b175-280b-46b0-959a-09a0b9444d97",
   "metadata": {},
   "outputs": [
    {
     "name": "stdout",
     "output_type": "stream",
     "text": [
      "orange\n"
     ]
    }
   ],
   "source": [
    "print(data.get(4))"
   ]
  },
  {
   "cell_type": "code",
   "execution_count": 146,
   "id": "a55361e6-96ff-40e6-b27c-18cb063a7539",
   "metadata": {},
   "outputs": [
    {
     "name": "stdout",
     "output_type": "stream",
     "text": [
      "None\n"
     ]
    }
   ],
   "source": [
    "print (data.get(2.5))"
   ]
  },
  {
   "cell_type": "code",
   "execution_count": 148,
   "id": "3d587e80-ae30-4261-90d3-55b5402900db",
   "metadata": {},
   "outputs": [
    {
     "data": {
      "text/plain": [
       "4"
      ]
     },
     "execution_count": 148,
     "metadata": {},
     "output_type": "execute_result"
    }
   ],
   "source": [
    "len(data)"
   ]
  },
  {
   "cell_type": "code",
   "execution_count": 150,
   "id": "badae3ba-382c-4ce9-9005-b8736778bcf6",
   "metadata": {},
   "outputs": [
    {
     "data": {
      "text/plain": [
       "dict"
      ]
     },
     "execution_count": 150,
     "metadata": {},
     "output_type": "execute_result"
    }
   ],
   "source": [
    "type(data)"
   ]
  },
  {
   "cell_type": "code",
   "execution_count": 154,
   "id": "7465134b-e744-4271-a055-b31787ef520f",
   "metadata": {},
   "outputs": [
    {
     "name": "stdout",
     "output_type": "stream",
     "text": [
      "banana\n"
     ]
    }
   ],
   "source": [
    "print(data.get(2))"
   ]
  },
  {
   "cell_type": "code",
   "execution_count": 158,
   "id": "2c94d25c-2de6-4d1b-9f91-34ec3ecf2d31",
   "metadata": {},
   "outputs": [
    {
     "data": {
      "text/plain": [
       "'banana'"
      ]
     },
     "execution_count": 158,
     "metadata": {},
     "output_type": "execute_result"
    }
   ],
   "source": [
    "data.get(2,'not found')"
   ]
  },
  {
   "cell_type": "code",
   "execution_count": 160,
   "id": "fbc76d87-c962-4866-8150-aa3cf90002ab",
   "metadata": {},
   "outputs": [
    {
     "data": {
      "text/plain": [
       "'orange'"
      ]
     },
     "execution_count": 160,
     "metadata": {},
     "output_type": "execute_result"
    }
   ],
   "source": [
    "data.get(4,'error')"
   ]
  },
  {
   "cell_type": "code",
   "execution_count": 166,
   "id": "03ca2653-c2f7-4105-bf7f-f887902bdc1c",
   "metadata": {},
   "outputs": [
    {
     "data": {
      "text/plain": [
       "{1: 'apple', 2: 'banana', 3: 'papaya', 4: 'orange', 5: 'five'}"
      ]
     },
     "execution_count": 166,
     "metadata": {},
     "output_type": "execute_result"
    }
   ],
   "source": [
    "data[5] = 'five'  \n",
    "data"
   ]
  },
  {
   "cell_type": "code",
   "execution_count": 168,
   "id": "b350d930-c172-4fb1-a370-1ec95fd56815",
   "metadata": {},
   "outputs": [],
   "source": [
    "del data[5]"
   ]
  },
  {
   "cell_type": "code",
   "execution_count": 170,
   "id": "5bdea98a-40f8-432b-8dd8-ace76d41abc5",
   "metadata": {},
   "outputs": [
    {
     "data": {
      "text/plain": [
       "{1: 'apple', 2: 'banana', 3: 'papaya', 4: 'orange'}"
      ]
     },
     "execution_count": 170,
     "metadata": {},
     "output_type": "execute_result"
    }
   ],
   "source": [
    "data"
   ]
  },
  {
   "cell_type": "code",
   "execution_count": 172,
   "id": "25ca6081-4ead-4dbd-9047-f02e23b95d8e",
   "metadata": {},
   "outputs": [
    {
     "data": {
      "text/plain": [
       "{1: 'apple', 2: 'banana', 3: ' pineapple', 4: 'orange'}"
      ]
     },
     "execution_count": 172,
     "metadata": {},
     "output_type": "execute_result"
    }
   ],
   "source": [
    "data[3] = ' pineapple'\n",
    "data"
   ]
  },
  {
   "cell_type": "code",
   "execution_count": 174,
   "id": "3ba8b002-b477-41b6-8488-11d2126b5221",
   "metadata": {},
   "outputs": [
    {
     "data": {
      "text/plain": [
       "{1: 'apple', 2: 'banana', 4: 'orange'}"
      ]
     },
     "execution_count": 174,
     "metadata": {},
     "output_type": "execute_result"
    }
   ],
   "source": [
    "del data[3]\n",
    "data"
   ]
  },
  {
   "cell_type": "code",
   "execution_count": 184,
   "id": "2e7d9c26-a77e-4030-a361-c29fd1c785f6",
   "metadata": {},
   "outputs": [
    {
     "data": {
      "text/plain": [
       "{1: 'apple', 2: 'banana', 4: 'orange', 3: 'papaya'}"
      ]
     },
     "execution_count": 184,
     "metadata": {},
     "output_type": "execute_result"
    }
   ],
   "source": [
    "data [2] = 'banana'\n",
    "data"
   ]
  },
  {
   "cell_type": "code",
   "execution_count": 190,
   "id": "c3c53e41-eb6f-47b0-ba4d-8b7b24d83459",
   "metadata": {},
   "outputs": [],
   "source": [
    "del data [4]"
   ]
  },
  {
   "cell_type": "code",
   "execution_count": 192,
   "id": "ea26af5f-152f-45cd-8784-43bd8aa6eb41",
   "metadata": {},
   "outputs": [
    {
     "data": {
      "text/plain": [
       "{1: 'apple', 2: 'banana'}"
      ]
     },
     "execution_count": 192,
     "metadata": {},
     "output_type": "execute_result"
    }
   ],
   "source": [
    "data"
   ]
  },
  {
   "cell_type": "code",
   "execution_count": 212,
   "id": "94d5a9d7-4fe5-426b-9dae-080abe314679",
   "metadata": {},
   "outputs": [
    {
     "data": {
      "text/plain": [
       "{1: 'apple', 2: 'banana', (3, 4): ('orange', 'papaya'), 3: 'papaya'}"
      ]
     },
     "execution_count": 212,
     "metadata": {},
     "output_type": "execute_result"
    }
   ],
   "source": [
    "data [3] = 'papaya'\n",
    "data"
   ]
  },
  {
   "cell_type": "code",
   "execution_count": 216,
   "id": "97b0c9ca-d0fc-466f-9f47-bc2873c40699",
   "metadata": {},
   "outputs": [
    {
     "data": {
      "text/plain": [
       "{1: 'apple', 2: 'banana', 3: 'papaya'}"
      ]
     },
     "execution_count": 216,
     "metadata": {},
     "output_type": "execute_result"
    }
   ],
   "source": [
    "del data [3,4]\n",
    "data"
   ]
  },
  {
   "cell_type": "code",
   "execution_count": 218,
   "id": "6e0210f1-c3be-4944-a139-01ac61334110",
   "metadata": {},
   "outputs": [],
   "source": [
    "data[4] = 'orange'"
   ]
  },
  {
   "cell_type": "code",
   "execution_count": 220,
   "id": "1888c0e2-e8a9-4c84-ba49-7740dd320e73",
   "metadata": {},
   "outputs": [
    {
     "data": {
      "text/plain": [
       "{1: 'apple', 2: 'banana', 3: 'papaya', 4: 'orange'}"
      ]
     },
     "execution_count": 220,
     "metadata": {},
     "output_type": "execute_result"
    }
   ],
   "source": [
    "data"
   ]
  },
  {
   "cell_type": "code",
   "execution_count": 226,
   "id": "bf6c892f-bb25-47e8-93ec-cb23e3101a52",
   "metadata": {},
   "outputs": [
    {
     "data": {
      "text/plain": [
       "{'python': ['vscode', 'pycharm'],\n",
       " 'machine learning': 'sklern',\n",
       " 'datascience': ['jupyter', 'spyder']}"
      ]
     },
     "execution_count": 226,
     "metadata": {},
     "output_type": "execute_result"
    }
   ],
   "source": [
    "# list in the dictionary \n",
    "prog = {'python':['vscode','pycharm'],'machine learning':'sklern','datascience':['jupyter','spyder']}\n",
    "prog"
   ]
  },
  {
   "cell_type": "code",
   "execution_count": 228,
   "id": "810c21ab-8c1e-4cd4-80cf-2b31b686337a",
   "metadata": {},
   "outputs": [
    {
     "data": {
      "text/plain": [
       "['vscode', 'pycharm']"
      ]
     },
     "execution_count": 228,
     "metadata": {},
     "output_type": "execute_result"
    }
   ],
   "source": [
    "prog['python']"
   ]
  },
  {
   "cell_type": "code",
   "execution_count": 232,
   "id": "43d32ff9-fb30-430e-bc53-35dd9ac12217",
   "metadata": {},
   "outputs": [
    {
     "data": {
      "text/plain": [
       "'sklern'"
      ]
     },
     "execution_count": 232,
     "metadata": {},
     "output_type": "execute_result"
    }
   ],
   "source": [
    "prog['machine learning']"
   ]
  },
  {
   "cell_type": "code",
   "execution_count": 234,
   "id": "8af716eb-9c6b-4632-aaec-39cb96769b60",
   "metadata": {},
   "outputs": [
    {
     "data": {
      "text/plain": [
       "['jupyter', 'spyder']"
      ]
     },
     "execution_count": 234,
     "metadata": {},
     "output_type": "execute_result"
    }
   ],
   "source": [
    "prog['datascience']"
   ]
  },
  {
   "cell_type": "markdown",
   "id": "18a5c286-4d0c-4b0f-bb42-552f5e496ac3",
   "metadata": {},
   "source": [
    "# how to create environment variable "
   ]
  },
  {
   "cell_type": "markdown",
   "id": "748a76d3-5871-425e-8bb2-83d814a3a79d",
   "metadata": {},
   "source": [
    "- STEPS TO SET UP EXECUTE PYTHON IN SYSTEM CMD (TO CREATE ENVIRONMENT VARIABLE)\n",
    "- Open cmd # python (You will get error when you execute 1st time)\n",
    "- search with environment variable - system variable:(C:\\Users\\kdata\\AppData\\Local\\Microsoft\\WindowsApps)\n",
    "- restart the cmd & type python in cmd it will work now\n"
   ]
  },
  {
   "cell_type": "markdown",
   "id": "fb0d22e3-2cdb-47ce-bbb9-be3c28750c4d",
   "metadata": {},
   "source": [
    "# To find help"
   ]
  },
  {
   "cell_type": "markdown",
   "id": "11863750-22e6-4185-9edd-a5900bc6a097",
   "metadata": {},
   "source": [
    "STEPS TO FIND HELP OPTION -->\n",
    "1- help() | 2- topics | 3- search as per requirments | 4- quit\n",
    "if you want help on any command then help(list) || help(tuple)"
   ]
  },
  {
   "cell_type": "code",
   "execution_count": 247,
   "id": "f3b1ca3e-bb6a-49f4-9121-429d34bc59c9",
   "metadata": {},
   "outputs": [
    {
     "name": "stdout",
     "output_type": "stream",
     "text": [
      "Welcome to Python 3.12's help utility! If this is your first time using\n",
      "Python, you should definitely check out the tutorial at\n",
      "https://docs.python.org/3.12/tutorial/.\n",
      "\n",
      "Enter the name of any module, keyword, or topic to get help on writing\n",
      "Python programs and using Python modules.  To get a list of available\n",
      "modules, keywords, symbols, or topics, enter \"modules\", \"keywords\",\n",
      "\"symbols\", or \"topics\".\n",
      "\n",
      "Each module also comes with a one-line summary of what it does; to list\n",
      "the modules whose name or summary contain a given string such as \"spam\",\n",
      "enter \"modules spam\".\n",
      "\n",
      "To quit this help utility and return to the interpreter,\n",
      "enter \"q\" or \"quit\".\n",
      "\n"
     ]
    },
    {
     "name": "stdin",
     "output_type": "stream",
     "text": [
      "help>  ok verry helpful\n"
     ]
    },
    {
     "name": "stdout",
     "output_type": "stream",
     "text": [
      "No Python documentation found for 'ok verry helpful'.\n",
      "Use help() to get the interactive help utility.\n",
      "Use help(str) for help on the str class.\n",
      "\n",
      "\n",
      "You are now leaving help and returning to the Python interpreter.\n",
      "If you want to ask for help on a particular object directly from the\n",
      "interpreter, you can type \"help(object)\".  Executing \"help('string')\"\n",
      "has the same effect as typing a particular string at the help> prompt.\n"
     ]
    }
   ],
   "source": [
    "help()"
   ]
  },
  {
   "cell_type": "code",
   "execution_count": 1,
   "id": "5942de72-cd0e-4ab1-b286-093e689b8e32",
   "metadata": {},
   "outputs": [
    {
     "name": "stdout",
     "output_type": "stream",
     "text": [
      "Help on class list in module builtins:\n",
      "\n",
      "class list(object)\n",
      " |  list(iterable=(), /)\n",
      " |\n",
      " |  Built-in mutable sequence.\n",
      " |\n",
      " |  If no argument is given, the constructor creates a new empty list.\n",
      " |  The argument must be an iterable if specified.\n",
      " |\n",
      " |  Methods defined here:\n",
      " |\n",
      " |  __add__(self, value, /)\n",
      " |      Return self+value.\n",
      " |\n",
      " |  __contains__(self, key, /)\n",
      " |      Return bool(key in self).\n",
      " |\n",
      " |  __delitem__(self, key, /)\n",
      " |      Delete self[key].\n",
      " |\n",
      " |  __eq__(self, value, /)\n",
      " |      Return self==value.\n",
      " |\n",
      " |  __ge__(self, value, /)\n",
      " |      Return self>=value.\n",
      " |\n",
      " |  __getattribute__(self, name, /)\n",
      " |      Return getattr(self, name).\n",
      " |\n",
      " |  __getitem__(self, index, /)\n",
      " |      Return self[index].\n",
      " |\n",
      " |  __gt__(self, value, /)\n",
      " |      Return self>value.\n",
      " |\n",
      " |  __iadd__(self, value, /)\n",
      " |      Implement self+=value.\n",
      " |\n",
      " |  __imul__(self, value, /)\n",
      " |      Implement self*=value.\n",
      " |\n",
      " |  __init__(self, /, *args, **kwargs)\n",
      " |      Initialize self.  See help(type(self)) for accurate signature.\n",
      " |\n",
      " |  __iter__(self, /)\n",
      " |      Implement iter(self).\n",
      " |\n",
      " |  __le__(self, value, /)\n",
      " |      Return self<=value.\n",
      " |\n",
      " |  __len__(self, /)\n",
      " |      Return len(self).\n",
      " |\n",
      " |  __lt__(self, value, /)\n",
      " |      Return self<value.\n",
      " |\n",
      " |  __mul__(self, value, /)\n",
      " |      Return self*value.\n",
      " |\n",
      " |  __ne__(self, value, /)\n",
      " |      Return self!=value.\n",
      " |\n",
      " |  __repr__(self, /)\n",
      " |      Return repr(self).\n",
      " |\n",
      " |  __reversed__(self, /)\n",
      " |      Return a reverse iterator over the list.\n",
      " |\n",
      " |  __rmul__(self, value, /)\n",
      " |      Return value*self.\n",
      " |\n",
      " |  __setitem__(self, key, value, /)\n",
      " |      Set self[key] to value.\n",
      " |\n",
      " |  __sizeof__(self, /)\n",
      " |      Return the size of the list in memory, in bytes.\n",
      " |\n",
      " |  append(self, object, /)\n",
      " |      Append object to the end of the list.\n",
      " |\n",
      " |  clear(self, /)\n",
      " |      Remove all items from list.\n",
      " |\n",
      " |  copy(self, /)\n",
      " |      Return a shallow copy of the list.\n",
      " |\n",
      " |  count(self, value, /)\n",
      " |      Return number of occurrences of value.\n",
      " |\n",
      " |  extend(self, iterable, /)\n",
      " |      Extend list by appending elements from the iterable.\n",
      " |\n",
      " |  index(self, value, start=0, stop=9223372036854775807, /)\n",
      " |      Return first index of value.\n",
      " |\n",
      " |      Raises ValueError if the value is not present.\n",
      " |\n",
      " |  insert(self, index, object, /)\n",
      " |      Insert object before index.\n",
      " |\n",
      " |  pop(self, index=-1, /)\n",
      " |      Remove and return item at index (default last).\n",
      " |\n",
      " |      Raises IndexError if list is empty or index is out of range.\n",
      " |\n",
      " |  remove(self, value, /)\n",
      " |      Remove first occurrence of value.\n",
      " |\n",
      " |      Raises ValueError if the value is not present.\n",
      " |\n",
      " |  reverse(self, /)\n",
      " |      Reverse *IN PLACE*.\n",
      " |\n",
      " |  sort(self, /, *, key=None, reverse=False)\n",
      " |      Sort the list in ascending order and return None.\n",
      " |\n",
      " |      The sort is in-place (i.e. the list itself is modified) and stable (i.e. the\n",
      " |      order of two equal elements is maintained).\n",
      " |\n",
      " |      If a key function is given, apply it once to each list item and sort them,\n",
      " |      ascending or descending, according to their function values.\n",
      " |\n",
      " |      The reverse flag can be set to sort in descending order.\n",
      " |\n",
      " |  ----------------------------------------------------------------------\n",
      " |  Class methods defined here:\n",
      " |\n",
      " |  __class_getitem__(...)\n",
      " |      See PEP 585\n",
      " |\n",
      " |  ----------------------------------------------------------------------\n",
      " |  Static methods defined here:\n",
      " |\n",
      " |  __new__(*args, **kwargs)\n",
      " |      Create and return a new object.  See help(type) for accurate signature.\n",
      " |\n",
      " |  ----------------------------------------------------------------------\n",
      " |  Data and other attributes defined here:\n",
      " |\n",
      " |  __hash__ = None\n",
      "\n"
     ]
    }
   ],
   "source": [
    "help (list)"
   ]
  },
  {
   "cell_type": "code",
   "execution_count": 3,
   "id": "e373f5cf-e2ae-45b6-b9e7-00bf967bdc6c",
   "metadata": {},
   "outputs": [
    {
     "name": "stdout",
     "output_type": "stream",
     "text": [
      "Help on class tuple in module builtins:\n",
      "\n",
      "class tuple(object)\n",
      " |  tuple(iterable=(), /)\n",
      " |\n",
      " |  Built-in immutable sequence.\n",
      " |\n",
      " |  If no argument is given, the constructor returns an empty tuple.\n",
      " |  If iterable is specified the tuple is initialized from iterable's items.\n",
      " |\n",
      " |  If the argument is a tuple, the return value is the same object.\n",
      " |\n",
      " |  Built-in subclasses:\n",
      " |      asyncgen_hooks\n",
      " |      MonthDayNano\n",
      " |      UnraisableHookArgs\n",
      " |\n",
      " |  Methods defined here:\n",
      " |\n",
      " |  __add__(self, value, /)\n",
      " |      Return self+value.\n",
      " |\n",
      " |  __contains__(self, key, /)\n",
      " |      Return bool(key in self).\n",
      " |\n",
      " |  __eq__(self, value, /)\n",
      " |      Return self==value.\n",
      " |\n",
      " |  __ge__(self, value, /)\n",
      " |      Return self>=value.\n",
      " |\n",
      " |  __getattribute__(self, name, /)\n",
      " |      Return getattr(self, name).\n",
      " |\n",
      " |  __getitem__(self, key, /)\n",
      " |      Return self[key].\n",
      " |\n",
      " |  __getnewargs__(self, /)\n",
      " |\n",
      " |  __gt__(self, value, /)\n",
      " |      Return self>value.\n",
      " |\n",
      " |  __hash__(self, /)\n",
      " |      Return hash(self).\n",
      " |\n",
      " |  __iter__(self, /)\n",
      " |      Implement iter(self).\n",
      " |\n",
      " |  __le__(self, value, /)\n",
      " |      Return self<=value.\n",
      " |\n",
      " |  __len__(self, /)\n",
      " |      Return len(self).\n",
      " |\n",
      " |  __lt__(self, value, /)\n",
      " |      Return self<value.\n",
      " |\n",
      " |  __mul__(self, value, /)\n",
      " |      Return self*value.\n",
      " |\n",
      " |  __ne__(self, value, /)\n",
      " |      Return self!=value.\n",
      " |\n",
      " |  __repr__(self, /)\n",
      " |      Return repr(self).\n",
      " |\n",
      " |  __rmul__(self, value, /)\n",
      " |      Return value*self.\n",
      " |\n",
      " |  count(self, value, /)\n",
      " |      Return number of occurrences of value.\n",
      " |\n",
      " |  index(self, value, start=0, stop=9223372036854775807, /)\n",
      " |      Return first index of value.\n",
      " |\n",
      " |      Raises ValueError if the value is not present.\n",
      " |\n",
      " |  ----------------------------------------------------------------------\n",
      " |  Class methods defined here:\n",
      " |\n",
      " |  __class_getitem__(...)\n",
      " |      See PEP 585\n",
      " |\n",
      " |  ----------------------------------------------------------------------\n",
      " |  Static methods defined here:\n",
      " |\n",
      " |  __new__(*args, **kwargs)\n",
      " |      Create and return a new object.  See help(type) for accurate signature.\n",
      "\n"
     ]
    }
   ],
   "source": [
    "help(tuple)"
   ]
  },
  {
   "cell_type": "markdown",
   "id": "07a99702-1979-4055-9acb-59e15b00ed60",
   "metadata": {},
   "source": [
    "# introduce to ID()"
   ]
  },
  {
   "cell_type": "code",
   "execution_count": 7,
   "id": "e07d7184-1d2b-4a52-b2ad-b621db736288",
   "metadata": {},
   "outputs": [
    {
     "data": {
      "text/plain": [
       "140728361888312"
      ]
     },
     "execution_count": 7,
     "metadata": {},
     "output_type": "execute_result"
    }
   ],
   "source": [
    "# variable address\n",
    "num = 5\n",
    "id (num)"
   ]
  },
  {
   "cell_type": "code",
   "execution_count": 9,
   "id": "ce365a72-5240-41cf-b537-d0b6c4b263b7",
   "metadata": {},
   "outputs": [
    {
     "data": {
      "text/plain": [
       "2636191844704"
      ]
     },
     "execution_count": 9,
     "metadata": {},
     "output_type": "execute_result"
    }
   ],
   "source": [
    "name ='raj'\n",
    "id (name)"
   ]
  },
  {
   "cell_type": "code",
   "execution_count": 11,
   "id": "37b2e902-959d-4eba-84cb-892391a30c32",
   "metadata": {},
   "outputs": [
    {
     "data": {
      "text/plain": [
       "140728361888472"
      ]
     },
     "execution_count": 11,
     "metadata": {},
     "output_type": "execute_result"
    }
   ],
   "source": [
    "a = 10\n",
    "id(a)"
   ]
  },
  {
   "cell_type": "code",
   "execution_count": 13,
   "id": "e215f3ff-38ce-44fc-b062-0f94a364360b",
   "metadata": {},
   "outputs": [
    {
     "data": {
      "text/plain": [
       "140728361888472"
      ]
     },
     "execution_count": 13,
     "metadata": {},
     "output_type": "execute_result"
    }
   ],
   "source": [
    "b = a # thats why python is more memory efficient\n",
    "id (b)"
   ]
  },
  {
   "cell_type": "code",
   "execution_count": 15,
   "id": "31bc9582-25b2-4847-8dab-20dc1ea6ff6e",
   "metadata": {},
   "outputs": [
    {
     "data": {
      "text/plain": [
       "140728361888472"
      ]
     },
     "execution_count": 15,
     "metadata": {},
     "output_type": "execute_result"
    }
   ],
   "source": [
    "id (10)"
   ]
  },
  {
   "cell_type": "code",
   "execution_count": 21,
   "id": "9fba0a76-cf50-4922-aca9-4cd5a38bb661",
   "metadata": {},
   "outputs": [
    {
     "data": {
      "text/plain": [
       "140728361888472"
      ]
     },
     "execution_count": 21,
     "metadata": {},
     "output_type": "execute_result"
    }
   ],
   "source": [
    "k = 10 \n",
    "id(k)"
   ]
  },
  {
   "cell_type": "code",
   "execution_count": 23,
   "id": "b129ef3c-0fea-46cf-af04-9d13e6f8a7af",
   "metadata": {},
   "outputs": [
    {
     "data": {
      "text/plain": [
       "140728361888792"
      ]
     },
     "execution_count": 23,
     "metadata": {},
     "output_type": "execute_result"
    }
   ],
   "source": [
    " a = 20 # as we change the value of a them address will change \n",
    "id(a)"
   ]
  },
  {
   "cell_type": "code",
   "execution_count": 25,
   "id": "99a02d3f-2cc6-476d-903a-ffe1a0dec2ac",
   "metadata": {},
   "outputs": [
    {
     "data": {
      "text/plain": [
       "140728361888472"
      ]
     },
     "execution_count": 25,
     "metadata": {},
     "output_type": "execute_result"
    }
   ],
   "source": [
    "id(b)"
   ]
  },
  {
   "cell_type": "markdown",
   "id": "ecc80aa5-3655-4193-a90a-c7cef26067ff",
   "metadata": {},
   "source": [
    "what ever the variale we assigned the memory and we not assigned anywhere then we can use as garbage collection.|| \n",
    "VARIABLE - we can change the values || CONSTANT - we cannot change the value\n",
    "-can we make VARIABLE as a CONSTANT (note - in python you cannot make variable as constant)\n"
   ]
  },
  {
   "cell_type": "code",
   "execution_count": 28,
   "id": "06608746-d65d-4f96-9b40-1afc7da4ca8b",
   "metadata": {},
   "outputs": [
    {
     "data": {
      "text/plain": [
       "3.14"
      ]
     },
     "execution_count": 28,
     "metadata": {},
     "output_type": "execute_result"
    }
   ],
   "source": [
    "PI = 3.14 # in math is alway constant but python we can change \n",
    "PI"
   ]
  },
  {
   "cell_type": "code",
   "execution_count": 30,
   "id": "c888a428-8eb0-45c3-8491-6b5bf4d7dfda",
   "metadata": {},
   "outputs": [
    {
     "data": {
      "text/plain": [
       "3.18"
      ]
     },
     "execution_count": 30,
     "metadata": {},
     "output_type": "execute_result"
    }
   ],
   "source": [
    "PI = 3.18\n",
    "PI"
   ]
  },
  {
   "cell_type": "code",
   "execution_count": 32,
   "id": "6ccb4e04-833a-4d37-bbe0-a95076d3f7af",
   "metadata": {},
   "outputs": [
    {
     "data": {
      "text/plain": [
       "float"
      ]
     },
     "execution_count": 32,
     "metadata": {},
     "output_type": "execute_result"
    }
   ],
   "source": [
    "type(PI)"
   ]
  },
  {
   "cell_type": "markdown",
   "id": "a705b5ce-48e1-4258-9dd5-9a4ec440668a",
   "metadata": {},
   "source": [
    "# DATA TYPES & DATA STRUCTURE \n",
    "1- NUMARIC|| 2-LIST||3-TUPLE||4-SET||5- STRING||6-RANGE||7-DICTIONARY"
   ]
  },
  {
   "cell_type": "markdown",
   "id": "b95662e6-ab15-4cf7-825c-bebe4bd0fee6",
   "metadata": {},
   "source": [
    "1- NUMERIC :- \n",
    "![image-2.png](attachment:image-2.png)\n",
    "INT || FLOAT || COMPLEX || BOOL\n",
    "![image.png](attachment:image.png)\n",
    "\n"
   ]
  },
  {
   "cell_type": "code",
   "execution_count": 40,
   "id": "05a34f63-516f-4f6d-888a-8f64bf5e6066",
   "metadata": {},
   "outputs": [
    {
     "data": {
      "text/plain": [
       "float"
      ]
     },
     "execution_count": 40,
     "metadata": {},
     "output_type": "execute_result"
    }
   ],
   "source": [
    "w =2.5\n",
    "type(w)"
   ]
  },
  {
   "cell_type": "code",
   "execution_count": 42,
   "id": "a9ad6dec-2b12-4c6c-9238-3a6a6a97d181",
   "metadata": {},
   "outputs": [
    {
     "data": {
      "text/plain": [
       "20"
      ]
     },
     "execution_count": 42,
     "metadata": {},
     "output_type": "execute_result"
    }
   ],
   "source": [
    "a\n",
    "(a)"
   ]
  },
  {
   "cell_type": "code",
   "execution_count": 46,
   "id": "f40e7472-92d4-4a81-a47c-8fd72c3a9d71",
   "metadata": {},
   "outputs": [
    {
     "data": {
      "text/plain": [
       "complex"
      ]
     },
     "execution_count": 46,
     "metadata": {},
     "output_type": "execute_result"
    }
   ],
   "source": [
    "w2 = 2+2j   # so hear j is represent as root f -1\n",
    "type(w2)"
   ]
  },
  {
   "cell_type": "code",
   "execution_count": 50,
   "id": "0f3ba0de-5880-4cc8-bfe4-eaa2a6fa2caf",
   "metadata": {},
   "outputs": [
    {
     "data": {
      "text/plain": [
       "5"
      ]
     },
     "execution_count": 50,
     "metadata": {},
     "output_type": "execute_result"
    }
   ],
   "source": [
    "# convert flot to integer \n",
    "a = 5.6\n",
    "b = int (a)\n",
    "b"
   ]
  },
  {
   "cell_type": "code",
   "execution_count": 54,
   "id": "254445b2-b040-4f4b-a210-d31ddebc1135",
   "metadata": {},
   "outputs": [
    {
     "data": {
      "text/plain": [
       "5.0"
      ]
     },
     "execution_count": 54,
     "metadata": {},
     "output_type": "execute_result"
    }
   ],
   "source": [
    "type (b)\n",
    "type(a)\n",
    "k = float(b)\n",
    "k"
   ]
  },
  {
   "cell_type": "code",
   "execution_count": 56,
   "id": "a9f4fe54-5684-4c0e-ad21-9effa591ffdc",
   "metadata": {},
   "outputs": [
    {
     "name": "stdout",
     "output_type": "stream",
     "text": [
      "5.6\n",
      "5\n",
      "5.0\n"
     ]
    }
   ],
   "source": [
    "print(a)\n",
    "print(b)\n",
    "print(k)"
   ]
  },
  {
   "cell_type": "code",
   "execution_count": 58,
   "id": "5967e2e2-31fe-4206-a377-b42605004e04",
   "metadata": {},
   "outputs": [
    {
     "name": "stdout",
     "output_type": "stream",
     "text": [
      "(5+5j)\n"
     ]
    },
    {
     "data": {
      "text/plain": [
       "complex"
      ]
     },
     "execution_count": 58,
     "metadata": {},
     "output_type": "execute_result"
    }
   ],
   "source": [
    "k1 = complex (b,k)\n",
    "print(k1)\n",
    "type(k1)"
   ]
  },
  {
   "cell_type": "code",
   "execution_count": 60,
   "id": "5fd1e6d9-3e90-4675-86c2-15198f1546ea",
   "metadata": {},
   "outputs": [
    {
     "data": {
      "text/plain": [
       "False"
      ]
     },
     "execution_count": 60,
     "metadata": {},
     "output_type": "execute_result"
    }
   ],
   "source": [
    "b<k"
   ]
  },
  {
   "cell_type": "code",
   "execution_count": 62,
   "id": "3695383d-ec11-4dad-aa71-2e82a17c8b94",
   "metadata": {},
   "outputs": [
    {
     "data": {
      "text/plain": [
       "False"
      ]
     },
     "execution_count": 62,
     "metadata": {},
     "output_type": "execute_result"
    }
   ],
   "source": [
    "b>k"
   ]
  },
  {
   "cell_type": "code",
   "execution_count": 64,
   "id": "0bde8f58-4cea-4797-b0df-c60d9bee3066",
   "metadata": {},
   "outputs": [
    {
     "data": {
      "text/plain": [
       "False"
      ]
     },
     "execution_count": 64,
     "metadata": {},
     "output_type": "execute_result"
    }
   ],
   "source": [
    "condition = b<k\n",
    "condition"
   ]
  },
  {
   "cell_type": "code",
   "execution_count": 66,
   "id": "2aab201f-6461-48ed-a72c-52da3130e8c8",
   "metadata": {},
   "outputs": [
    {
     "data": {
      "text/plain": [
       "bool"
      ]
     },
     "execution_count": 66,
     "metadata": {},
     "output_type": "execute_result"
    }
   ],
   "source": [
    "type ( condition)"
   ]
  },
  {
   "cell_type": "code",
   "execution_count": 68,
   "id": "aef61ca0-dc2b-42b1-87ea-72958c8dfd12",
   "metadata": {},
   "outputs": [
    {
     "data": {
      "text/plain": [
       "1"
      ]
     },
     "execution_count": 68,
     "metadata": {},
     "output_type": "execute_result"
    }
   ],
   "source": [
    "int(True)"
   ]
  },
  {
   "cell_type": "code",
   "execution_count": 70,
   "id": "0487611f-8aee-483b-92fd-c654a51e299c",
   "metadata": {},
   "outputs": [
    {
     "data": {
      "text/plain": [
       "0"
      ]
     },
     "execution_count": 70,
     "metadata": {},
     "output_type": "execute_result"
    }
   ],
   "source": [
    "int(False)"
   ]
  },
  {
   "cell_type": "code",
   "execution_count": 72,
   "id": "ebebf418-a59a-42f8-9891-56bbee9e3d42",
   "metadata": {},
   "outputs": [
    {
     "name": "stdout",
     "output_type": "stream",
     "text": [
      "[1, 2, 3, 4, 5]\n"
     ]
    },
    {
     "data": {
      "text/plain": [
       "list"
      ]
     },
     "execution_count": 72,
     "metadata": {},
     "output_type": "execute_result"
    }
   ],
   "source": [
    "l = [ 1,2,3,4,5]\n",
    "print(l)\n",
    "type(l)"
   ]
  },
  {
   "cell_type": "code",
   "execution_count": 74,
   "id": "737c2056-da4a-4daa-a307-325704f4ccfb",
   "metadata": {},
   "outputs": [
    {
     "data": {
      "text/plain": [
       "[1, 2, 3, 4, 5, 6]"
      ]
     },
     "execution_count": 74,
     "metadata": {},
     "output_type": "execute_result"
    }
   ],
   "source": [
    "s = [1,2,3,4,5,6,]\n",
    "s"
   ]
  },
  {
   "cell_type": "code",
   "execution_count": 76,
   "id": "cd248bfe-41de-4dcd-83f4-98beaafaf4c7",
   "metadata": {},
   "outputs": [
    {
     "data": {
      "text/plain": [
       "list"
      ]
     },
     "execution_count": 76,
     "metadata": {},
     "output_type": "execute_result"
    }
   ],
   "source": [
    "type(s)\n"
   ]
  },
  {
   "cell_type": "code",
   "execution_count": 78,
   "id": "b72b4736-647a-4f83-8b96-91a7798304de",
   "metadata": {},
   "outputs": [
    {
     "data": {
      "text/plain": [
       "{1, 2, 3, 4, 5, 6, 7, 8}"
      ]
     },
     "execution_count": 78,
     "metadata": {},
     "output_type": "execute_result"
    }
   ],
   "source": [
    "s1 = {1,2,3,4,5,6,7,8}\n",
    "s1"
   ]
  },
  {
   "cell_type": "code",
   "execution_count": 80,
   "id": "723f3afe-0150-4d27-9173-69c756f43f2e",
   "metadata": {},
   "outputs": [
    {
     "data": {
      "text/plain": [
       "(10, 20, 30, 40, 23)"
      ]
     },
     "execution_count": 80,
     "metadata": {},
     "output_type": "execute_result"
    }
   ],
   "source": [
    "t = (10,20,30,40,23)\n",
    "t"
   ]
  },
  {
   "cell_type": "code",
   "execution_count": 82,
   "id": "ccd1f9a0-43df-43f4-81ef-3930bf5941da",
   "metadata": {},
   "outputs": [
    {
     "data": {
      "text/plain": [
       "tuple"
      ]
     },
     "execution_count": 82,
     "metadata": {},
     "output_type": "execute_result"
    }
   ],
   "source": [
    "type(t)"
   ]
  },
  {
   "cell_type": "code",
   "execution_count": 84,
   "id": "383120a6-24a0-467a-bbc0-2ffadeed8922",
   "metadata": {},
   "outputs": [
    {
     "data": {
      "text/plain": [
       "set"
      ]
     },
     "execution_count": 84,
     "metadata": {},
     "output_type": "execute_result"
    }
   ],
   "source": [
    "type(s1)"
   ]
  },
  {
   "cell_type": "code",
   "execution_count": 88,
   "id": "c576013b-c295-4fad-95da-9efe5eec8361",
   "metadata": {},
   "outputs": [
    {
     "data": {
      "text/plain": [
       "str"
      ]
     },
     "execution_count": 88,
     "metadata": {},
     "output_type": "execute_result"
    }
   ],
   "source": [
    "str = 'raj'   # we dont have charaacter in python \n",
    "str\n",
    "type(str)"
   ]
  },
  {
   "cell_type": "code",
   "execution_count": 90,
   "id": "d191457c-18d0-4f91-9c05-dfefb613b263",
   "metadata": {},
   "outputs": [
    {
     "data": {
      "text/plain": [
       "str"
      ]
     },
     "execution_count": 90,
     "metadata": {},
     "output_type": "execute_result"
    }
   ],
   "source": [
    "st = 'r'\n",
    "type(st)"
   ]
  },
  {
   "cell_type": "markdown",
   "id": "ec515b78-19be-4efb-a63b-0d4dc54db905",
   "metadata": {},
   "source": [
    " # range()"
   ]
  },
  {
   "cell_type": "code",
   "execution_count": 94,
   "id": "0643418d-7d04-4ee8-b3a4-31e4bd6e4c13",
   "metadata": {},
   "outputs": [
    {
     "data": {
      "text/plain": [
       "range(0, 15)"
      ]
     },
     "execution_count": 94,
     "metadata": {},
     "output_type": "execute_result"
    }
   ],
   "source": [
    "r = range(0,15)\n",
    "r"
   ]
  },
  {
   "cell_type": "code",
   "execution_count": 96,
   "id": "2be058b6-d250-4817-8895-a1d63c5a1cc8",
   "metadata": {},
   "outputs": [
    {
     "data": {
      "text/plain": [
       "range"
      ]
     },
     "execution_count": 96,
     "metadata": {},
     "output_type": "execute_result"
    }
   ],
   "source": [
    "type (r)"
   ]
  },
  {
   "cell_type": "code",
   "execution_count": 98,
   "id": "7b2d02de-8bf3-48e9-886e-cdaf82836d0a",
   "metadata": {},
   "outputs": [
    {
     "data": {
      "text/plain": [
       "[2]"
      ]
     },
     "execution_count": 98,
     "metadata": {},
     "output_type": "execute_result"
    }
   ],
   "source": [
    "# if you want to print even number \n",
    "even_number = list (range(2,10,50))\n",
    "even_number"
   ]
  },
  {
   "cell_type": "code",
   "execution_count": 102,
   "id": "1f578f8c-d1d2-4829-92e1-c0d1a3ae2a4b",
   "metadata": {},
   "outputs": [
    {
     "data": {
      "text/plain": [
       "{1: 'one', 2: 'two', 3: 'three', 4: 'four'}"
      ]
     },
     "execution_count": 102,
     "metadata": {},
     "output_type": "execute_result"
    }
   ],
   "source": [
    "d = {1:'one',2:'two',3:'three',4:'four'}\n",
    "d"
   ]
  },
  {
   "cell_type": "code",
   "execution_count": 104,
   "id": "f89c8dfc-9567-428e-9722-2fd684d51462",
   "metadata": {},
   "outputs": [
    {
     "data": {
      "text/plain": [
       "dict"
      ]
     },
     "execution_count": 104,
     "metadata": {},
     "output_type": "execute_result"
    }
   ],
   "source": [
    "type(d)"
   ]
  },
  {
   "cell_type": "code",
   "execution_count": 106,
   "id": "e145bc6b-a9ff-4e21-b5dc-c996cd98490e",
   "metadata": {},
   "outputs": [
    {
     "data": {
      "text/plain": [
       "dict_keys([1, 2, 3, 4])"
      ]
     },
     "execution_count": 106,
     "metadata": {},
     "output_type": "execute_result"
    }
   ],
   "source": [
    "# print the keys \n",
    "d.keys()\n"
   ]
  },
  {
   "cell_type": "code",
   "execution_count": 108,
   "id": "8ac10bf9-7205-46fd-ae2a-ba9810b2d90f",
   "metadata": {},
   "outputs": [
    {
     "data": {
      "text/plain": [
       "dict_values(['one', 'two', 'three', 'four'])"
      ]
     },
     "execution_count": 108,
     "metadata": {},
     "output_type": "execute_result"
    }
   ],
   "source": [
    "d.values()"
   ]
  },
  {
   "cell_type": "code",
   "execution_count": 110,
   "id": "5214b04c-995a-488c-90ca-f089f4e88bfa",
   "metadata": {},
   "outputs": [
    {
     "data": {
      "text/plain": [
       "'two'"
      ]
     },
     "execution_count": 110,
     "metadata": {},
     "output_type": "execute_result"
    }
   ],
   "source": [
    "# how to get particular velues \n",
    "d[2]"
   ]
  },
  {
   "cell_type": "code",
   "execution_count": 112,
   "id": "907f7924-81b7-468e-b976-2d39c43192f7",
   "metadata": {},
   "outputs": [
    {
     "data": {
      "text/plain": [
       "'four'"
      ]
     },
     "execution_count": 112,
     "metadata": {},
     "output_type": "execute_result"
    }
   ],
   "source": [
    "d[4]"
   ]
  },
  {
   "cell_type": "code",
   "execution_count": 114,
   "id": "ece0b6d6-21bd-4b41-bcb1-5c43ee968267",
   "metadata": {},
   "outputs": [
    {
     "data": {
      "text/plain": [
       "'three'"
      ]
     },
     "execution_count": 114,
     "metadata": {},
     "output_type": "execute_result"
    }
   ],
   "source": [
    " # other  way to get velues as \n",
    "d.get(3)"
   ]
  },
  {
   "cell_type": "markdown",
   "id": "daf9de15-1e71-48a9-90cc-e3a2ef6f355b",
   "metadata": {},
   "source": [
    "# operator's in python\n",
    "![image_.png](attachment_:_image_._png)_\n",
    "1 - ARITHMETIC OPERATOR (+,-,*,/,% %%,**,^)\n",
    "2 - ASSIGNMENT OPERATOR (=)\n",
    "3 - REALATIONAL OPERATOR \n",
    "4 - LOGICAL  OPERATOR \n",
    "5 - UNARY  OPERATOR"
   ]
  },
  {
   "cell_type": "markdown",
   "id": "9249d90c-1dc9-426b-97b9-da5ad829b446",
   "metadata": {},
   "source": [
    "# arithmetic operator "
   ]
  },
  {
   "cell_type": "code",
   "execution_count": 128,
   "id": "f38cd011-c1ae-4d93-b3e9-ec998ab6abd3",
   "metadata": {},
   "outputs": [
    {
     "data": {
      "text/plain": [
       "25"
      ]
     },
     "execution_count": 128,
     "metadata": {},
     "output_type": "execute_result"
    }
   ],
   "source": [
    "x1,y1=20,5\n",
    "x1+y1"
   ]
  },
  {
   "cell_type": "code",
   "execution_count": 130,
   "id": "7cb7d2d1-7c71-4306-8fca-727605de4886",
   "metadata": {},
   "outputs": [
    {
     "data": {
      "text/plain": [
       "15"
      ]
     },
     "execution_count": 130,
     "metadata": {},
     "output_type": "execute_result"
    }
   ],
   "source": [
    "x1-y1"
   ]
  },
  {
   "cell_type": "code",
   "execution_count": 132,
   "id": "969dec56-5066-4b54-ab2f-655374f4bcb3",
   "metadata": {},
   "outputs": [
    {
     "data": {
      "text/plain": [
       "100"
      ]
     },
     "execution_count": 132,
     "metadata": {},
     "output_type": "execute_result"
    }
   ],
   "source": [
    "x1*y1\n"
   ]
  },
  {
   "cell_type": "code",
   "execution_count": 134,
   "id": "1accbef0-5f5b-4758-bd53-62c2c6352b2f",
   "metadata": {},
   "outputs": [
    {
     "data": {
      "text/plain": [
       "3200000"
      ]
     },
     "execution_count": 134,
     "metadata": {},
     "output_type": "execute_result"
    }
   ],
   "source": [
    "x1**y1"
   ]
  },
  {
   "cell_type": "code",
   "execution_count": 138,
   "id": "615c8a95-e329-4cfe-9614-4ee165f44952",
   "metadata": {},
   "outputs": [
    {
     "data": {
      "text/plain": [
       "4.0"
      ]
     },
     "execution_count": 138,
     "metadata": {},
     "output_type": "execute_result"
    }
   ],
   "source": [
    "x1/y1"
   ]
  },
  {
   "cell_type": "code",
   "execution_count": 140,
   "id": "d2c91024-392b-49cd-bd07-ea323f9c98cc",
   "metadata": {},
   "outputs": [
    {
     "data": {
      "text/plain": [
       "4"
      ]
     },
     "execution_count": 140,
     "metadata": {},
     "output_type": "execute_result"
    }
   ],
   "source": [
    "x1//y1"
   ]
  },
  {
   "cell_type": "code",
   "execution_count": 142,
   "id": "24b39f2a-7020-4edf-919a-2f1ba46d3b64",
   "metadata": {},
   "outputs": [
    {
     "data": {
      "text/plain": [
       "0"
      ]
     },
     "execution_count": 142,
     "metadata": {},
     "output_type": "execute_result"
    }
   ],
   "source": [
    "x1%y1"
   ]
  },
  {
   "cell_type": "code",
   "execution_count": 144,
   "id": "c24e0e19-ca2d-4474-b693-f3025a703bc6",
   "metadata": {},
   "outputs": [
    {
     "ename": "SyntaxError",
     "evalue": "invalid syntax (728572700.py, line 1)",
     "output_type": "error",
     "traceback": [
      "\u001b[1;36m  Cell \u001b[1;32mIn[144], line 1\u001b[1;36m\u001b[0m\n\u001b[1;33m    x1%%y1\u001b[0m\n\u001b[1;37m       ^\u001b[0m\n\u001b[1;31mSyntaxError\u001b[0m\u001b[1;31m:\u001b[0m invalid syntax\n"
     ]
    }
   ],
   "source": [
    "x1%%y1"
   ]
  },
  {
   "cell_type": "code",
   "execution_count": 146,
   "id": "477e5bb9-32a6-4967-8a8e-a3bedff69f4a",
   "metadata": {},
   "outputs": [
    {
     "data": {
      "text/plain": [
       "15"
      ]
     },
     "execution_count": 146,
     "metadata": {},
     "output_type": "execute_result"
    }
   ],
   "source": [
    "5*3"
   ]
  },
  {
   "cell_type": "markdown",
   "id": "ba335a46-f608-4305-ab10-67b57911da48",
   "metadata": {},
   "source": [
    "\n",
    "# Assignment operator"
   ]
  },
  {
   "cell_type": "code",
   "execution_count": 149,
   "id": "6bdbe0cb-7542-4070-8c12-3e22324579ae",
   "metadata": {},
   "outputs": [],
   "source": [
    "x = 5"
   ]
  },
  {
   "cell_type": "code",
   "execution_count": 151,
   "id": "063391ac-9107-4040-90a8-188176681c05",
   "metadata": {},
   "outputs": [
    {
     "data": {
      "text/plain": [
       "5"
      ]
     },
     "execution_count": 151,
     "metadata": {},
     "output_type": "execute_result"
    }
   ],
   "source": [
    "x"
   ]
  },
  {
   "cell_type": "code",
   "execution_count": 157,
   "id": "d026864c-e1ef-4e94-8fc1-59cc62d4bf24",
   "metadata": {},
   "outputs": [
    {
     "data": {
      "text/plain": [
       "9"
      ]
     },
     "execution_count": 157,
     "metadata": {},
     "output_type": "execute_result"
    }
   ],
   "source": [
    "x = x+2\n",
    "x"
   ]
  },
  {
   "cell_type": "code",
   "execution_count": 159,
   "id": "2f414a7d-2d7a-4384-b414-814ace068b2f",
   "metadata": {},
   "outputs": [
    {
     "data": {
      "text/plain": [
       "9"
      ]
     },
     "execution_count": 159,
     "metadata": {},
     "output_type": "execute_result"
    }
   ],
   "source": [
    "x"
   ]
  },
  {
   "cell_type": "code",
   "execution_count": 163,
   "id": "f7328bb4-24e5-4a3e-b9d2-d0c85ad4ccb9",
   "metadata": {},
   "outputs": [
    {
     "data": {
      "text/plain": [
       "13"
      ]
     },
     "execution_count": 163,
     "metadata": {},
     "output_type": "execute_result"
    }
   ],
   "source": [
    "x+=2\n",
    "x"
   ]
  },
  {
   "cell_type": "code",
   "execution_count": 165,
   "id": "b9f8c188-13af-448f-b2ac-c436d8d27fb7",
   "metadata": {},
   "outputs": [
    {
     "data": {
      "text/plain": [
       "11"
      ]
     },
     "execution_count": 165,
     "metadata": {},
     "output_type": "execute_result"
    }
   ],
   "source": [
    "x-=2\n",
    "x"
   ]
  },
  {
   "cell_type": "code",
   "execution_count": 167,
   "id": "0b39b3b7-3ac8-4686-ab74-c5a6f5b0b9f2",
   "metadata": {},
   "outputs": [
    {
     "data": {
      "text/plain": [
       "22"
      ]
     },
     "execution_count": 167,
     "metadata": {},
     "output_type": "execute_result"
    }
   ],
   "source": [
    "x*=2\n",
    "x"
   ]
  },
  {
   "cell_type": "code",
   "execution_count": 169,
   "id": "20f43a72-5944-4fc9-a952-ecbc6aeb1964",
   "metadata": {},
   "outputs": [
    {
     "data": {
      "text/plain": [
       "11.0"
      ]
     },
     "execution_count": 169,
     "metadata": {},
     "output_type": "execute_result"
    }
   ],
   "source": [
    "x/=2\n",
    "x"
   ]
  },
  {
   "cell_type": "code",
   "execution_count": 171,
   "id": "5c5b60f4-df03-434b-b71e-f4de3fbf3907",
   "metadata": {},
   "outputs": [
    {
     "data": {
      "text/plain": [
       "5.0"
      ]
     },
     "execution_count": 171,
     "metadata": {},
     "output_type": "execute_result"
    }
   ],
   "source": [
    "x//=2\n",
    "x"
   ]
  },
  {
   "cell_type": "code",
   "execution_count": 173,
   "id": "e560b6e7-9ec6-46d2-a651-322a6f1b4f10",
   "metadata": {},
   "outputs": [
    {
     "data": {
      "text/plain": [
       "1.0"
      ]
     },
     "execution_count": 173,
     "metadata": {},
     "output_type": "execute_result"
    }
   ],
   "source": [
    "x%=2\n",
    "x"
   ]
  },
  {
   "cell_type": "code",
   "execution_count": 177,
   "id": "f91f86ba-054a-4996-9f9b-c8808580761b",
   "metadata": {},
   "outputs": [
    {
     "data": {
      "text/plain": [
       "5.6"
      ]
     },
     "execution_count": 177,
     "metadata": {},
     "output_type": "execute_result"
    }
   ],
   "source": [
    "a"
   ]
  },
  {
   "cell_type": "code",
   "execution_count": 179,
   "id": "82e16182-aefb-47ca-9e8b-a5a43d4ffa15",
   "metadata": {},
   "outputs": [
    {
     "data": {
      "text/plain": [
       "5"
      ]
     },
     "execution_count": 179,
     "metadata": {},
     "output_type": "execute_result"
    }
   ],
   "source": [
    "b"
   ]
  },
  {
   "cell_type": "markdown",
   "id": "8374739e-13df-442a-afc8-1e993ee5f12a",
   "metadata": {},
   "source": [
    "\n",
    "## unary operator \n",
    "\n",
    "Here we are applying unary minus operator(-) on the operand n; the value of m becomes -7, which indicates it as a negative value."
   ]
  },
  {
   "cell_type": "code",
   "execution_count": 186,
   "id": "2ba0f924-3338-4639-b388-4d966fc0cb15",
   "metadata": {},
   "outputs": [
    {
     "data": {
      "text/plain": [
       "-7"
      ]
     },
     "execution_count": 186,
     "metadata": {},
     "output_type": "execute_result"
    }
   ],
   "source": [
    "n = 7 # negattion\n",
    "m = -(n)\n",
    "m"
   ]
  },
  {
   "cell_type": "code",
   "execution_count": 188,
   "id": "5f35671c-144d-432d-8de0-0f3b9e31fa68",
   "metadata": {},
   "outputs": [
    {
     "data": {
      "text/plain": [
       "7"
      ]
     },
     "execution_count": 188,
     "metadata": {},
     "output_type": "execute_result"
    }
   ],
   "source": [
    "n"
   ]
  },
  {
   "cell_type": "code",
   "execution_count": 190,
   "id": "d652b65a-91b1-4749-aadf-ec4c70a85580",
   "metadata": {},
   "outputs": [
    {
     "data": {
      "text/plain": [
       "-7"
      ]
     },
     "execution_count": 190,
     "metadata": {},
     "output_type": "execute_result"
    }
   ],
   "source": [
    "-n "
   ]
  },
  {
   "cell_type": "markdown",
   "id": "b9162cc9-71b1-46bc-bc60-d7ba9f74f542",
   "metadata": {},
   "source": [
    "# realitional operator \n",
    "we are using this operator for comparing "
   ]
  },
  {
   "cell_type": "code",
   "execution_count": 195,
   "id": "8f2ab631-8dbf-4191-a163-a93265141e1d",
   "metadata": {},
   "outputs": [
    {
     "data": {
      "text/plain": [
       "False"
      ]
     },
     "execution_count": 195,
     "metadata": {},
     "output_type": "execute_result"
    }
   ],
   "source": [
    "a = 5\n",
    "b = 7\n",
    "a==b"
   ]
  },
  {
   "cell_type": "code",
   "execution_count": 197,
   "id": "2df1c037-3b69-4465-80f9-02d9c8c2bde6",
   "metadata": {},
   "outputs": [
    {
     "data": {
      "text/plain": [
       "True"
      ]
     },
     "execution_count": 197,
     "metadata": {},
     "output_type": "execute_result"
    }
   ],
   "source": [
    "a<b"
   ]
  },
  {
   "cell_type": "code",
   "execution_count": 199,
   "id": "92761bf9-d15c-4053-ba2b-77fa114261e6",
   "metadata": {},
   "outputs": [
    {
     "data": {
      "text/plain": [
       "False"
      ]
     },
     "execution_count": 199,
     "metadata": {},
     "output_type": "execute_result"
    }
   ],
   "source": [
    "b<a"
   ]
  },
  {
   "cell_type": "code",
   "execution_count": 201,
   "id": "9a2e5a33-4f8b-407a-a557-74a087e9953f",
   "metadata": {},
   "outputs": [
    {
     "data": {
      "text/plain": [
       "False"
      ]
     },
     "execution_count": 201,
     "metadata": {},
     "output_type": "execute_result"
    }
   ],
   "source": [
    "a>b"
   ]
  },
  {
   "cell_type": "code",
   "execution_count": 203,
   "id": "183d66fa-149c-441d-829a-80e0dcffdf2a",
   "metadata": {},
   "outputs": [
    {
     "data": {
      "text/plain": [
       "True"
      ]
     },
     "execution_count": 203,
     "metadata": {},
     "output_type": "execute_result"
    }
   ],
   "source": [
    "b>a"
   ]
  },
  {
   "cell_type": "code",
   "execution_count": 219,
   "id": "04b5128d-fe67-43ac-8b02-d78a31fbb4fa",
   "metadata": {},
   "outputs": [
    {
     "data": {
      "text/plain": [
       "True"
      ]
     },
     "execution_count": 219,
     "metadata": {},
     "output_type": "execute_result"
    }
   ],
   "source": [
    "a>b"
   ]
  },
  {
   "cell_type": "code",
   "execution_count": null,
   "id": "625c6be1-5da7-4ac3-a771-2cad97b52387",
   "metadata": {},
   "outputs": [],
   "source": []
  },
  {
   "cell_type": "code",
   "execution_count": 221,
   "id": "7912b463-1632-45b5-a3ec-2ea024853ef8",
   "metadata": {},
   "outputs": [],
   "source": [
    "# a = b # we cannot use = operator that means it is assigning"
   ]
  },
  {
   "cell_type": "code",
   "execution_count": 223,
   "id": "fb612922-b0f7-477d-a508-f5a97df46715",
   "metadata": {},
   "outputs": [
    {
     "data": {
      "text/plain": [
       "False"
      ]
     },
     "execution_count": 223,
     "metadata": {},
     "output_type": "execute_result"
    }
   ],
   "source": [
    "a == b \n"
   ]
  },
  {
   "cell_type": "code",
   "execution_count": 225,
   "id": "43d6b490-5077-4882-8de2-827ccbcaafd1",
   "metadata": {},
   "outputs": [],
   "source": [
    "a = 10"
   ]
  },
  {
   "cell_type": "code",
   "execution_count": 227,
   "id": "0c63a5b9-3410-4583-8b50-c95435df7f19",
   "metadata": {},
   "outputs": [
    {
     "data": {
      "text/plain": [
       "True"
      ]
     },
     "execution_count": 227,
     "metadata": {},
     "output_type": "execute_result"
    }
   ],
   "source": [
    "a != b "
   ]
  },
  {
   "cell_type": "code",
   "execution_count": 229,
   "id": "5701fa01-f037-4cd5-ba56-68c3ed45c8fc",
   "metadata": {},
   "outputs": [],
   "source": [
    "# hear if i change b = 6\n",
    "b = 10"
   ]
  },
  {
   "cell_type": "code",
   "execution_count": 231,
   "id": "2222ad57-a43c-40ce-8d72-3c3ee9136ce0",
   "metadata": {},
   "outputs": [
    {
     "data": {
      "text/plain": [
       "True"
      ]
     },
     "execution_count": 231,
     "metadata": {},
     "output_type": "execute_result"
    }
   ],
   "source": [
    "a == b"
   ]
  },
  {
   "cell_type": "code",
   "execution_count": 233,
   "id": "7511cf6c-2e85-4aba-b5e3-db6a03a1ab7e",
   "metadata": {},
   "outputs": [
    {
     "data": {
      "text/plain": [
       "True"
      ]
     },
     "execution_count": 233,
     "metadata": {},
     "output_type": "execute_result"
    }
   ],
   "source": [
    "a  <= b"
   ]
  },
  {
   "cell_type": "code",
   "execution_count": 235,
   "id": "ba5746b8-7e7e-4f29-93a1-96dd15e5dcb3",
   "metadata": {},
   "outputs": [
    {
     "data": {
      "text/plain": [
       "True"
      ]
     },
     "execution_count": 235,
     "metadata": {},
     "output_type": "execute_result"
    }
   ],
   "source": [
    "a >= b"
   ]
  },
  {
   "cell_type": "code",
   "execution_count": 237,
   "id": "65f968df-4b9a-47d6-b76f-12b42d855627",
   "metadata": {},
   "outputs": [
    {
     "data": {
      "text/plain": [
       "False"
      ]
     },
     "execution_count": 237,
     "metadata": {},
     "output_type": "execute_result"
    }
   ],
   "source": [
    "a < b"
   ]
  },
  {
   "cell_type": "code",
   "execution_count": 239,
   "id": "9600ac34-042d-48eb-acdc-cc7acb44fc36",
   "metadata": {},
   "outputs": [
    {
     "data": {
      "text/plain": [
       "False"
      ]
     },
     "execution_count": 239,
     "metadata": {},
     "output_type": "execute_result"
    }
   ],
   "source": [
    "a>b"
   ]
  },
  {
   "cell_type": "code",
   "execution_count": 241,
   "id": "6a9d918b-aa47-4aef-8e87-7a4bf2a31345",
   "metadata": {},
   "outputs": [],
   "source": [
    "b = 7"
   ]
  },
  {
   "cell_type": "code",
   "execution_count": 243,
   "id": "92108269-6f44-4d0e-b08a-42d96fe281f8",
   "metadata": {},
   "outputs": [
    {
     "data": {
      "text/plain": [
       "True"
      ]
     },
     "execution_count": 243,
     "metadata": {},
     "output_type": "execute_result"
    }
   ],
   "source": [
    "a != b"
   ]
  },
  {
   "cell_type": "markdown",
   "id": "3f26d8d3-a093-497c-a1c9-e02e4f744c9a",
   "metadata": {},
   "source": [
    "# logical operator \n",
    "AND , OR , NOT\n",
    "![image.png](attachment:bfd1eb2e-000c-4781-b161-fa4eb0a704e7.png)"
   ]
  },
  {
   "cell_type": "code",
   "execution_count": 247,
   "id": "f6370129-e734-429c-8903-6f52ff03a1a7",
   "metadata": {},
   "outputs": [
    {
     "data": {
      "text/plain": [
       "True"
      ]
     },
     "execution_count": 247,
     "metadata": {},
     "output_type": "execute_result"
    }
   ],
   "source": [
    "a = 5\n",
    "b = 4\n",
    "a < 8 and b < 5   # refer to the truth table "
   ]
  },
  {
   "cell_type": "code",
   "execution_count": 253,
   "id": "3048493e-055a-4182-934a-52a0cda7f303",
   "metadata": {},
   "outputs": [
    {
     "data": {
      "text/plain": [
       "False"
      ]
     },
     "execution_count": 253,
     "metadata": {},
     "output_type": "execute_result"
    }
   ],
   "source": [
    "a < 8 and b < 2"
   ]
  },
  {
   "cell_type": "code",
   "execution_count": 255,
   "id": "2dd60b4d-d14f-436d-9110-2e4733c6ab65",
   "metadata": {},
   "outputs": [
    {
     "data": {
      "text/plain": [
       "True"
      ]
     },
     "execution_count": 255,
     "metadata": {},
     "output_type": "execute_result"
    }
   ],
   "source": [
    "a < 8 or b < 2"
   ]
  },
  {
   "cell_type": "code",
   "execution_count": 259,
   "id": "28f4da34-ff9c-4b9c-9fac-76afb83bc01b",
   "metadata": {},
   "outputs": [
    {
     "data": {
      "text/plain": [
       "False"
      ]
     },
     "execution_count": 259,
     "metadata": {},
     "output_type": "execute_result"
    }
   ],
   "source": [
    "a > 8 or b < 2"
   ]
  },
  {
   "cell_type": "code",
   "execution_count": 261,
   "id": "1eb83d23-6a8f-44dd-b348-d973bfdd53cb",
   "metadata": {},
   "outputs": [
    {
     "data": {
      "text/plain": [
       "False"
      ]
     },
     "execution_count": 261,
     "metadata": {},
     "output_type": "execute_result"
    }
   ],
   "source": [
    "x = False \n",
    "x"
   ]
  },
  {
   "cell_type": "code",
   "execution_count": 263,
   "id": "1195464f-3bf4-4884-a8a9-7a2d025ee907",
   "metadata": {},
   "outputs": [
    {
     "data": {
      "text/plain": [
       "True"
      ]
     },
     "execution_count": 263,
     "metadata": {},
     "output_type": "execute_result"
    }
   ],
   "source": [
    "not x # you can reverse the operation "
   ]
  },
  {
   "cell_type": "code",
   "execution_count": 265,
   "id": "54c09f98-de15-482c-b4a4-1a27def3fd95",
   "metadata": {},
   "outputs": [
    {
     "data": {
      "text/plain": [
       "True"
      ]
     },
     "execution_count": 265,
     "metadata": {},
     "output_type": "execute_result"
    }
   ],
   "source": [
    "x = not x \n",
    "x"
   ]
  },
  {
   "cell_type": "code",
   "execution_count": 267,
   "id": "1bd2c2ac-c24e-4f93-b895-3876cde2ff61",
   "metadata": {},
   "outputs": [
    {
     "data": {
      "text/plain": [
       "True"
      ]
     },
     "execution_count": 267,
     "metadata": {},
     "output_type": "execute_result"
    }
   ],
   "source": [
    "x\n"
   ]
  },
  {
   "cell_type": "code",
   "execution_count": 269,
   "id": "0bbe167a-2ef3-4a33-a427-763f3e43cbaa",
   "metadata": {},
   "outputs": [
    {
     "data": {
      "text/plain": [
       "False"
      ]
     },
     "execution_count": 269,
     "metadata": {},
     "output_type": "execute_result"
    }
   ],
   "source": [
    "not x "
   ]
  },
  {
   "cell_type": "markdown",
   "id": "72449929-f89d-4197-b54b-6b16c06bf968",
   "metadata": {},
   "source": [
    "## Number system coverstion (bit-binary digit)\n",
    "binary : base (0-1) --> please divide 15/2 & count in reverse order \n",
    "octal : base (0-7)\n",
    "hexadecimal : base (0-9 & then a-f)\n",
    "when you check ipaddress you will these format --> cmd - ipconfig"
   ]
  },
  {
   "cell_type": "code",
   "execution_count": 272,
   "id": "1a51e04b-c78c-4cfa-bfcc-c528564bf9df",
   "metadata": {},
   "outputs": [
    {
     "data": {
      "text/plain": [
       "25"
      ]
     },
     "execution_count": 272,
     "metadata": {},
     "output_type": "execute_result"
    }
   ],
   "source": [
    "25"
   ]
  },
  {
   "cell_type": "code",
   "execution_count": 274,
   "id": "5de1db64-ae07-40b2-be15-117ef18916bf",
   "metadata": {},
   "outputs": [
    {
     "data": {
      "text/plain": [
       "'0b11001'"
      ]
     },
     "execution_count": 274,
     "metadata": {},
     "output_type": "execute_result"
    }
   ],
   "source": [
    "bin (25)"
   ]
  },
  {
   "cell_type": "code",
   "execution_count": 276,
   "id": "5c3cb3f7-d8de-413f-a775-e64f70bf3101",
   "metadata": {},
   "outputs": [
    {
     "data": {
      "text/plain": [
       "25"
      ]
     },
     "execution_count": 276,
     "metadata": {},
     "output_type": "execute_result"
    }
   ],
   "source": [
    " int(0b11001)"
   ]
  },
  {
   "cell_type": "code",
   "execution_count": 278,
   "id": "f38cfe60-28a6-480a-a397-d322d9a0ea8b",
   "metadata": {},
   "outputs": [
    {
     "data": {
      "text/plain": [
       "'0b100011'"
      ]
     },
     "execution_count": 278,
     "metadata": {},
     "output_type": "execute_result"
    }
   ],
   "source": [
    "bin(35)"
   ]
  },
  {
   "cell_type": "code",
   "execution_count": 280,
   "id": "bd515323-2764-4c3c-a338-3a95386dcb35",
   "metadata": {},
   "outputs": [
    {
     "data": {
      "text/plain": [
       "35"
      ]
     },
     "execution_count": 280,
     "metadata": {},
     "output_type": "execute_result"
    }
   ],
   "source": [
    "int(0b100011)"
   ]
  },
  {
   "cell_type": "code",
   "execution_count": 282,
   "id": "e710b5d2-033c-46e5-8537-ea6074882c86",
   "metadata": {},
   "outputs": [
    {
     "data": {
      "text/plain": [
       "'0b101000'"
      ]
     },
     "execution_count": 282,
     "metadata": {},
     "output_type": "execute_result"
    }
   ],
   "source": [
    "bin(40)"
   ]
  },
  {
   "cell_type": "code",
   "execution_count": 284,
   "id": "3cc12b20-4545-4c7e-a492-3ff99fce160e",
   "metadata": {},
   "outputs": [
    {
     "data": {
      "text/plain": [
       "40"
      ]
     },
     "execution_count": 284,
     "metadata": {},
     "output_type": "execute_result"
    }
   ],
   "source": [
    "int(0b101000)"
   ]
  },
  {
   "cell_type": "code",
   "execution_count": 286,
   "id": "5e3d8f7c-a6ad-4956-8990-8074111ac845",
   "metadata": {},
   "outputs": [
    {
     "data": {
      "text/plain": [
       "'0b10010'"
      ]
     },
     "execution_count": 286,
     "metadata": {},
     "output_type": "execute_result"
    }
   ],
   "source": [
    "bin(18)"
   ]
  },
  {
   "cell_type": "code",
   "execution_count": 288,
   "id": "8c47ed49-1a4a-4b6d-acf7-f662c476a17f",
   "metadata": {},
   "outputs": [
    {
     "data": {
      "text/plain": [
       "18"
      ]
     },
     "execution_count": 288,
     "metadata": {},
     "output_type": "execute_result"
    }
   ],
   "source": [
    "int(0b10010)"
   ]
  },
  {
   "cell_type": "code",
   "execution_count": 290,
   "id": "54dba815-91ee-4ac7-9191-35523c42f1a2",
   "metadata": {},
   "outputs": [
    {
     "data": {
      "text/plain": [
       "'0o17'"
      ]
     },
     "execution_count": 290,
     "metadata": {},
     "output_type": "execute_result"
    }
   ],
   "source": [
    "oct(15)"
   ]
  },
  {
   "cell_type": "code",
   "execution_count": 292,
   "id": "1ec3d7da-f236-412f-9673-0b3379ca4b7f",
   "metadata": {},
   "outputs": [
    {
     "data": {
      "text/plain": [
       "15"
      ]
     },
     "execution_count": 292,
     "metadata": {},
     "output_type": "execute_result"
    }
   ],
   "source": [
    "int(0o17)"
   ]
  },
  {
   "cell_type": "code",
   "execution_count": 294,
   "id": "47ad14e4-43ff-4ea0-b22e-80ec235f87b7",
   "metadata": {},
   "outputs": [
    {
     "data": {
      "text/plain": [
       "'0x9'"
      ]
     },
     "execution_count": 294,
     "metadata": {},
     "output_type": "execute_result"
    }
   ],
   "source": [
    "hex (9)"
   ]
  },
  {
   "cell_type": "code",
   "execution_count": 296,
   "id": "8a8b452a-297f-4fe3-818a-9bf365e3b2d6",
   "metadata": {},
   "outputs": [
    {
     "data": {
      "text/plain": [
       "9"
      ]
     },
     "execution_count": 296,
     "metadata": {},
     "output_type": "execute_result"
    }
   ],
   "source": [
    "int(0x9)"
   ]
  },
  {
   "cell_type": "code",
   "execution_count": 298,
   "id": "a1df453c-ae7a-49a2-8819-ecc0f5feaa57",
   "metadata": {},
   "outputs": [
    {
     "data": {
      "text/plain": [
       "15"
      ]
     },
     "execution_count": 298,
     "metadata": {},
     "output_type": "execute_result"
    }
   ],
   "source": [
    "0xf"
   ]
  },
  {
   "cell_type": "code",
   "execution_count": 300,
   "id": "1bce8b0f-d9f6-4577-9ed3-0ea363eae135",
   "metadata": {},
   "outputs": [
    {
     "data": {
      "text/plain": [
       "'0xa'"
      ]
     },
     "execution_count": 300,
     "metadata": {},
     "output_type": "execute_result"
    }
   ],
   "source": [
    "hex(10)"
   ]
  },
  {
   "cell_type": "code",
   "execution_count": 306,
   "id": "afa57c09-603a-4b2f-b5c3-f92551e2c4f2",
   "metadata": {},
   "outputs": [
    {
     "data": {
      "text/plain": [
       "10"
      ]
     },
     "execution_count": 306,
     "metadata": {},
     "output_type": "execute_result"
    }
   ],
   "source": [
    "0xa\n"
   ]
  },
  {
   "cell_type": "code",
   "execution_count": 308,
   "id": "83807a73-fb2d-48f5-8be3-c003b45bb9c5",
   "metadata": {},
   "outputs": [
    {
     "data": {
      "text/plain": [
       "'0x19'"
      ]
     },
     "execution_count": 308,
     "metadata": {},
     "output_type": "execute_result"
    }
   ],
   "source": [
    "hex(25)"
   ]
  },
  {
   "cell_type": "code",
   "execution_count": 310,
   "id": "33dfedc5-9e53-4d84-87a7-28df91ebf631",
   "metadata": {},
   "outputs": [
    {
     "data": {
      "text/plain": [
       "25"
      ]
     },
     "execution_count": 310,
     "metadata": {},
     "output_type": "execute_result"
    }
   ],
   "source": [
    "0x19"
   ]
  },
  {
   "cell_type": "markdown",
   "id": "884fee64-39a3-417f-8cea-eb8805640b84",
   "metadata": {},
   "source": [
    "# swap variable in python \n",
    "(a,b= 5,6) After swap we should get ===>(a,b = 6,5) \n"
   ]
  },
  {
   "cell_type": "code",
   "execution_count": 317,
   "id": "a221ae9e-6f12-40ff-878f-091035c36398",
   "metadata": {},
   "outputs": [
    {
     "name": "stdout",
     "output_type": "stream",
     "text": [
      "6\n",
      "6\n"
     ]
    }
   ],
   "source": [
    "a = 5\n",
    "b = 6 \n",
    "a = b \n",
    "b = a \n",
    "a,b = b,a \n",
    "print(a) \n",
    "print(b)"
   ]
  },
  {
   "cell_type": "code",
   "execution_count": 319,
   "id": "5e566897-5c0a-4b46-8e55-20c6b3048fc0",
   "metadata": {},
   "outputs": [],
   "source": [
    "# in above scenario we lost the value 5\n",
    "a1 = 10\n",
    "b1 = 5"
   ]
  },
  {
   "cell_type": "code",
   "execution_count": 323,
   "id": "504305be-df18-4abd-a13a-135e2b7a3a76",
   "metadata": {},
   "outputs": [
    {
     "name": "stdout",
     "output_type": "stream",
     "text": [
      "10\n",
      "5\n"
     ]
    }
   ],
   "source": [
    "temp = a1\n",
    "a1 = b1 \n",
    "b1 = temp\n",
    "print(a1) \n",
    "print(b1)"
   ]
  },
  {
   "cell_type": "code",
   "execution_count": 325,
   "id": "070a410a-a3ab-447a-af3c-47cbec0f39ed",
   "metadata": {},
   "outputs": [],
   "source": [
    "a2 = 5\n",
    "b2 = 10 \n",
    "# swap variable fourmulas \n",
    "a2 = a2+b2 \n",
    "b2 = a2-b2\n",
    "a2 = a2-b2"
   ]
  },
  {
   "cell_type": "code",
   "execution_count": 327,
   "id": "5d673ae8-1b4a-4462-813b-d33f0cf91849",
   "metadata": {},
   "outputs": [
    {
     "name": "stdout",
     "output_type": "stream",
     "text": [
      "10\n",
      "5\n"
     ]
    }
   ],
   "source": [
    "print(a2)\n",
    "print(b2)"
   ]
  },
  {
   "cell_type": "code",
   "execution_count": 329,
   "id": "f27c618b-f837-4863-b91b-c5bdd85b29a7",
   "metadata": {},
   "outputs": [
    {
     "name": "stdout",
     "output_type": "stream",
     "text": [
      "5\n",
      "6\n"
     ]
    }
   ],
   "source": [
    "print(0b101)     # 101 is 3 bit \n",
    "print(0b110)      # 110 is also 3 bit "
   ]
  },
  {
   "cell_type": "code",
   "execution_count": 331,
   "id": "48c6dd9a-2013-4d7e-8219-6299fdf4d16b",
   "metadata": {},
   "outputs": [
    {
     "name": "stdout",
     "output_type": "stream",
     "text": [
      "0b1011\n",
      "11\n"
     ]
    }
   ],
   "source": [
    "# but when we use a2 + b2 them we get 11 that means we wikk is 4 bit wich 1 bit extra \n",
    "print(bin(11))\n",
    "print(0b1011)"
   ]
  },
  {
   "cell_type": "code",
   "execution_count": 333,
   "id": "b3e0490f-651f-4ba4-9e38-440f28d7bf29",
   "metadata": {},
   "outputs": [],
   "source": [
    "# there is other way to work using swap variable also wich is XOR because it will not waste extra bit \n",
    "a2 = a2^b2\n",
    "b2 = b2^b2\n",
    "a2 = a2^b2"
   ]
  },
  {
   "cell_type": "code",
   "execution_count": 335,
   "id": "9f32568b-fe0a-4f97-ac50-d495138e3b03",
   "metadata": {},
   "outputs": [
    {
     "name": "stdout",
     "output_type": "stream",
     "text": [
      "15\n",
      "0\n"
     ]
    }
   ],
   "source": [
    "print(a2)\n",
    "print(b2)"
   ]
  },
  {
   "cell_type": "code",
   "execution_count": 337,
   "id": "cbd21a5f-4744-488b-b538-46cb37461e83",
   "metadata": {},
   "outputs": [
    {
     "name": "stdout",
     "output_type": "stream",
     "text": [
      "15\n",
      "0\n"
     ]
    }
   ],
   "source": [
    "print(a2)\n",
    "print(b2)"
   ]
  },
  {
   "cell_type": "code",
   "execution_count": 339,
   "id": "39130159-bbbf-4406-8b8a-d3609abccd1a",
   "metadata": {},
   "outputs": [],
   "source": [
    "a2,b2 = b2,a2"
   ]
  },
  {
   "cell_type": "code",
   "execution_count": 341,
   "id": "cf17b6af-8e4a-4219-b867-df011f454beb",
   "metadata": {},
   "outputs": [
    {
     "name": "stdout",
     "output_type": "stream",
     "text": [
      "0\n",
      "15\n"
     ]
    }
   ],
   "source": [
    "print(a2)\n",
    "print(b2)"
   ]
  },
  {
   "cell_type": "markdown",
   "id": "34152bd1-c00c-441a-865d-5cbece6a0573",
   "metadata": {},
   "source": [
    "# Bitwise operator\n",
    ". WE HAVE 6 OPERATOR COMPLEMENT (~) ||AND|(&)||OR(|)||XOR(^)||LEFT SIFT(<<)||RIGHT SIFT(>>)"
   ]
  },
  {
   "cell_type": "code",
   "execution_count": 344,
   "id": "03d8bb1a-a519-4b2d-b31d-e6ccae81ee65",
   "metadata": {},
   "outputs": [
    {
     "name": "stdout",
     "output_type": "stream",
     "text": [
      "0b1100\n",
      "0b1101\n"
     ]
    }
   ],
   "source": [
    "print(bin(12))\n",
    "print(bin(13))"
   ]
  },
  {
   "cell_type": "markdown",
   "id": "3ff4d808-4b84-4a71-8bc2-78c601963c3d",
   "metadata": {},
   "source": [
    "# complement --> you will get this key below esc character\n",
    "12 ==> 1100 || \n",
    "first thing we need to understand what is mean by complement. \n",
    "complement means it will do reverse of the binary format i.e. - ~0 it will give you 1 ~1 it will give 0\n",
    "12 binary format is 00001100 ( complement of ~00001100 reverse the number - 11110011 which is (-13)\n",
    "\n",
    " but the question is why we got -13 \n",
    " to understand this concept ( we have concept of 2's complement\n",
    " 2's complement mean (1's complement + 1)\n",
    " in the system we can store +Ve number but how to store -ve number\n",
    " \n",
    " lets understand binary form of 13 - 00001101 + 1 \n",
    " ![image.png](attachment:image.png) "
   ]
  },
  {
   "cell_type": "code",
   "execution_count": 347,
   "id": "957c64f2-986e-42c3-8b5f-7d82d8a00d40",
   "metadata": {},
   "outputs": [
    {
     "data": {
      "text/plain": [
       "-13"
      ]
     },
     "execution_count": 347,
     "metadata": {},
     "output_type": "execute_result"
    }
   ],
   "source": [
    "# COMPLEMENT (~) ( TILED OR TILD )\n",
    "~ 12    # why we get -13 . first we understand what is complement means (reversr of binary format)"
   ]
  },
  {
   "cell_type": "code",
   "execution_count": 349,
   "id": "25428e30-aae6-45b1-acb4-92a7cf7c0df7",
   "metadata": {},
   "outputs": [
    {
     "data": {
      "text/plain": [
       "-46"
      ]
     },
     "execution_count": 349,
     "metadata": {},
     "output_type": "execute_result"
    }
   ],
   "source": [
    "~45"
   ]
  },
  {
   "cell_type": "code",
   "execution_count": 351,
   "id": "8d188fcb-3179-4d53-91fb-45294f5b6b7b",
   "metadata": {},
   "outputs": [
    {
     "data": {
      "text/plain": [
       "-8"
      ]
     },
     "execution_count": 351,
     "metadata": {},
     "output_type": "execute_result"
    }
   ],
   "source": [
    "~7"
   ]
  },
  {
   "cell_type": "code",
   "execution_count": 353,
   "id": "9cb2eb98-ef4d-436b-98e6-ba9e402fe3e7",
   "metadata": {},
   "outputs": [
    {
     "data": {
      "text/plain": [
       "3"
      ]
     },
     "execution_count": 353,
     "metadata": {},
     "output_type": "execute_result"
    }
   ],
   "source": [
    "~-4"
   ]
  },
  {
   "cell_type": "markdown",
   "id": "e82e9ce0-6855-452f-8c80-4766f2cc5678",
   "metadata": {},
   "source": [
    "# bit wise and operator \n",
    "\n",
    "AND - LOGICAL OPERATOR ||| & - BITWISE AND OPERATOR  \n",
    "(we know that 1 & 1 is 1)\n",
    "12 - 00001100 \n",
    "13 - 00001101\n",
    "when we are add both then then outut we will get as 12 \n",
    "\n",
    "![image.png](attachment:image.png)\n"
   ]
  },
  {
   "cell_type": "code",
   "execution_count": 358,
   "id": "804c3f40-4805-43d5-837d-756797f3a86b",
   "metadata": {},
   "outputs": [
    {
     "data": {
      "text/plain": [
       "12"
      ]
     },
     "execution_count": 358,
     "metadata": {},
     "output_type": "execute_result"
    }
   ],
   "source": [
    "12 & 13"
   ]
  },
  {
   "cell_type": "code",
   "execution_count": 360,
   "id": "7b7ad445-6de8-47b2-b057-0addbd0cbdef",
   "metadata": {},
   "outputs": [
    {
     "data": {
      "text/plain": [
       "1"
      ]
     },
     "execution_count": 360,
     "metadata": {},
     "output_type": "execute_result"
    }
   ],
   "source": [
    "1&1"
   ]
  },
  {
   "cell_type": "code",
   "execution_count": 366,
   "id": "f905e7ac-6f87-4337-8260-481ae50856d2",
   "metadata": {},
   "outputs": [
    {
     "data": {
      "text/plain": [
       "7"
      ]
     },
     "execution_count": 366,
     "metadata": {},
     "output_type": "execute_result"
    }
   ],
   "source": [
    "5|3"
   ]
  },
  {
   "cell_type": "code",
   "execution_count": 368,
   "id": "1dbbd49e-512e-406c-83ea-131ffd5947d6",
   "metadata": {},
   "outputs": [
    {
     "data": {
      "text/plain": [
       "4"
      ]
     },
     "execution_count": 368,
     "metadata": {},
     "output_type": "execute_result"
    }
   ],
   "source": [
    "4&5"
   ]
  },
  {
   "cell_type": "code",
   "execution_count": 370,
   "id": "755c16a4-6adc-4a81-8924-5ec9bd0b4224",
   "metadata": {},
   "outputs": [
    {
     "data": {
      "text/plain": [
       "3"
      ]
     },
     "execution_count": 370,
     "metadata": {},
     "output_type": "execute_result"
    }
   ],
   "source": [
    "3|2"
   ]
  },
  {
   "cell_type": "code",
   "execution_count": 375,
   "id": "946c6f1e-302c-4c6d-bd6e-664cb632b2ad",
   "metadata": {},
   "outputs": [
    {
     "data": {
      "text/plain": [
       "13"
      ]
     },
     "execution_count": 375,
     "metadata": {},
     "output_type": "execute_result"
    }
   ],
   "source": [
    "12|13"
   ]
  },
  {
   "cell_type": "code",
   "execution_count": 379,
   "id": "71743e52-63b8-438c-a147-a70ded216ec7",
   "metadata": {},
   "outputs": [
    {
     "data": {
      "text/plain": [
       "1"
      ]
     },
     "execution_count": 379,
     "metadata": {},
     "output_type": "execute_result"
    }
   ],
   "source": [
    "# in XOR if the both number are differnt then we will get 1 or else we will get 0\n",
    "12 ^ 13"
   ]
  },
  {
   "cell_type": "code",
   "execution_count": 381,
   "id": "ab25a0d6-7c90-40bc-85b4-4f6f435b459d",
   "metadata": {},
   "outputs": [
    {
     "data": {
      "text/plain": [
       "7"
      ]
     },
     "execution_count": 381,
     "metadata": {},
     "output_type": "execute_result"
    }
   ],
   "source": [
    "25^30"
   ]
  },
  {
   "cell_type": "code",
   "execution_count": 383,
   "id": "4823afc2-66b0-4f1b-9317-297b6418a2cb",
   "metadata": {},
   "outputs": [
    {
     "data": {
      "text/plain": [
       "'0b11001'"
      ]
     },
     "execution_count": 383,
     "metadata": {},
     "output_type": "execute_result"
    }
   ],
   "source": [
    "bin(25)"
   ]
  },
  {
   "cell_type": "code",
   "execution_count": 385,
   "id": "f952cf46-97f2-4d1e-8c9e-93d5a27b6d84",
   "metadata": {},
   "outputs": [
    {
     "data": {
      "text/plain": [
       "'0b11110'"
      ]
     },
     "execution_count": 385,
     "metadata": {},
     "output_type": "execute_result"
    }
   ],
   "source": [
    "bin(30)"
   ]
  },
  {
   "cell_type": "code",
   "execution_count": 387,
   "id": "2792dbdd-0c4a-4df5-a742-d2e387c98866",
   "metadata": {},
   "outputs": [
    {
     "data": {
      "text/plain": [
       "30"
      ]
     },
     "execution_count": 387,
     "metadata": {},
     "output_type": "execute_result"
    }
   ],
   "source": [
    "int(0b11110)"
   ]
  },
  {
   "cell_type": "code",
   "execution_count": 395,
   "id": "f07c8748-db36-41d8-90bf-8855813355dc",
   "metadata": {},
   "outputs": [
    {
     "data": {
      "text/plain": [
       "80"
      ]
     },
     "execution_count": 395,
     "metadata": {},
     "output_type": "execute_result"
    }
   ],
   "source": [
    "# bitwise left sift >>\n",
    "20<<2"
   ]
  },
  {
   "cell_type": "code",
   "execution_count": 397,
   "id": "b3148240-c866-4390-ae2c-963bad416780",
   "metadata": {},
   "outputs": [
    {
     "data": {
      "text/plain": [
       "5"
      ]
     },
     "execution_count": 397,
     "metadata": {},
     "output_type": "execute_result"
    }
   ],
   "source": [
    "# bitwise right sift \n",
    "20>>2"
   ]
  },
  {
   "cell_type": "code",
   "execution_count": 399,
   "id": "82ce9267-244c-499c-8bf8-5a3bd114d370",
   "metadata": {},
   "outputs": [
    {
     "data": {
      "text/plain": [
       "'0b10100'"
      ]
     },
     "execution_count": 399,
     "metadata": {},
     "output_type": "execute_result"
    }
   ],
   "source": [
    "bin(20)"
   ]
  },
  {
   "cell_type": "code",
   "execution_count": 401,
   "id": "6ad44ba8-7062-4f84-9719-dd340b3b45cc",
   "metadata": {},
   "outputs": [
    {
     "data": {
      "text/plain": [
       "5"
      ]
     },
     "execution_count": 401,
     "metadata": {},
     "output_type": "execute_result"
    }
   ],
   "source": [
    "20>>2"
   ]
  },
  {
   "cell_type": "markdown",
   "id": "35f90aa3-b37f-415f-9502-e6da14b34c36",
   "metadata": {},
   "source": [
    "### import math module \n",
    "https://docs.python.org/3/library/math.html"
   ]
  },
  {
   "cell_type": "code",
   "execution_count": 404,
   "id": "593d57c8-f0a0-496a-8c4f-eda5b9f888c9",
   "metadata": {},
   "outputs": [
    {
     "ename": "NameError",
     "evalue": "name 'sqrt' is not defined",
     "output_type": "error",
     "traceback": [
      "\u001b[1;31m---------------------------------------------------------------------------\u001b[0m",
      "\u001b[1;31mNameError\u001b[0m                                 Traceback (most recent call last)",
      "Cell \u001b[1;32mIn[404], line 1\u001b[0m\n\u001b[1;32m----> 1\u001b[0m x \u001b[38;5;241m=\u001b[39m sqrt(\u001b[38;5;241m25\u001b[39m)\n",
      "\u001b[1;31mNameError\u001b[0m: name 'sqrt' is not defined"
     ]
    }
   ],
   "source": [
    "x = sqrt(25) # sqrt is inbuild function"
   ]
  },
  {
   "cell_type": "code",
   "execution_count": 410,
   "id": "4fcae824-6a12-41e8-9154-ddc47f487fb2",
   "metadata": {},
   "outputs": [
    {
     "data": {
      "text/plain": [
       "5.0"
      ]
     },
     "execution_count": 410,
     "metadata": {},
     "output_type": "execute_result"
    }
   ],
   "source": [
    "import math # math is module\n",
    "x = math.sqrt(25)\n",
    "x"
   ]
  },
  {
   "cell_type": "code",
   "execution_count": 412,
   "id": "1fa559df-a099-454d-8de0-9447b70c1c8b",
   "metadata": {},
   "outputs": [
    {
     "data": {
      "text/plain": [
       "3.872983346207417"
      ]
     },
     "execution_count": 412,
     "metadata": {},
     "output_type": "execute_result"
    }
   ],
   "source": [
    "x1 = math.sqrt(15)\n",
    "x1"
   ]
  },
  {
   "cell_type": "code",
   "execution_count": 420,
   "id": "b36f3859-2f24-4925-879b-b374fad49993",
   "metadata": {},
   "outputs": [
    {
     "name": "stdout",
     "output_type": "stream",
     "text": [
      "5\n"
     ]
    }
   ],
   "source": [
    "print(math.floor(5.9))    # floor -- minimum or least value\n"
   ]
  },
  {
   "cell_type": "code",
   "execution_count": 422,
   "id": "430dc4b5-430a-4a2f-9081-ab262884d81d",
   "metadata": {},
   "outputs": [
    {
     "name": "stdout",
     "output_type": "stream",
     "text": [
      "6\n"
     ]
    }
   ],
   "source": [
    "print(math.ceil(5.9))  # ceil --- maximum or highest value"
   ]
  },
  {
   "cell_type": "code",
   "execution_count": 430,
   "id": "1da27eb3-833a-4ec6-923b-e6f38cabd58e",
   "metadata": {},
   "outputs": [
    {
     "name": "stdout",
     "output_type": "stream",
     "text": [
      "16.0\n"
     ]
    }
   ],
   "source": [
    "print(math.pow(4,2))   "
   ]
  },
  {
   "cell_type": "code",
   "execution_count": 436,
   "id": "1ef9434e-2c26-47b0-8970-2e4f2d1b1691",
   "metadata": {},
   "outputs": [
    {
     "name": "stdout",
     "output_type": "stream",
     "text": [
      "3.141592653589793\n"
     ]
    }
   ],
   "source": [
    "print(math.pi)   # these are constant"
   ]
  },
  {
   "cell_type": "code",
   "execution_count": 428,
   "id": "13489212-9352-439f-a3aa-3ce8d85ea91c",
   "metadata": {},
   "outputs": [
    {
     "name": "stdout",
     "output_type": "stream",
     "text": [
      "2.718281828459045\n"
     ]
    }
   ],
   "source": [
    "print(math.e)"
   ]
  },
  {
   "cell_type": "code",
   "execution_count": 438,
   "id": "e7b669f3-ff02-4347-ae12-468e0fdeaa4a",
   "metadata": {},
   "outputs": [],
   "source": [
    "import math as m"
   ]
  },
  {
   "cell_type": "code",
   "execution_count": 442,
   "id": "23bea7d6-bdee-45ec-b30e-50b308b37001",
   "metadata": {},
   "outputs": [
    {
     "data": {
      "text/plain": [
       "5.0"
      ]
     },
     "execution_count": 442,
     "metadata": {},
     "output_type": "execute_result"
    }
   ],
   "source": [
    "m.sqrt(25)"
   ]
  },
  {
   "cell_type": "code",
   "execution_count": 444,
   "id": "9a8b6d95-7d15-460e-a1f4-707e1b036b46",
   "metadata": {},
   "outputs": [
    {
     "data": {
      "text/plain": [
       "8.0"
      ]
     },
     "execution_count": 444,
     "metadata": {},
     "output_type": "execute_result"
    }
   ],
   "source": [
    "from math import sqrt,pow \n",
    "pow(2,3)"
   ]
  },
  {
   "cell_type": "code",
   "execution_count": 448,
   "id": "7028c870-1f5a-4d22-947c-580d23b280b2",
   "metadata": {},
   "outputs": [
    {
     "data": {
      "text/plain": [
       "8"
      ]
     },
     "execution_count": 448,
     "metadata": {},
     "output_type": "execute_result"
    }
   ],
   "source": [
    "round(pow(2,3))"
   ]
  },
  {
   "cell_type": "code",
   "execution_count": 452,
   "id": "2422e990-490c-40d3-a762-09e7d8db3843",
   "metadata": {},
   "outputs": [],
   "source": [
    "# help(math)"
   ]
  },
  {
   "cell_type": "code",
   "execution_count": null,
   "id": "a444cb10-fa5c-4980-a87f-c764d3c87cb7",
   "metadata": {},
   "outputs": [],
   "source": [
    "# pycharm run the debug\n",
    "# how to install python idle\n",
    "# how to install pycharm & starts working on pycharm"
   ]
  },
  {
   "cell_type": "markdown",
   "id": "3cb03328-3d35-40ad-812e-c383b5bfcd41",
   "metadata": {},
   "source": [
    "# user input functions in python ||command line input"
   ]
  },
  {
   "cell_type": "code",
   "execution_count": 1,
   "id": "191eb771-60ca-441a-ae63-422ab9c9681e",
   "metadata": {},
   "outputs": [
    {
     "ename": "KeyboardInterrupt",
     "evalue": "Interrupted by user",
     "output_type": "error",
     "traceback": [
      "\u001b[1;31m---------------------------------------------------------------------------\u001b[0m",
      "\u001b[1;31mKeyboardInterrupt\u001b[0m                         Traceback (most recent call last)",
      "Cell \u001b[1;32mIn[1], line 1\u001b[0m\n\u001b[1;32m----> 1\u001b[0m x \u001b[38;5;241m=\u001b[39m \u001b[38;5;28minput\u001b[39m()\n\u001b[0;32m      2\u001b[0m y \u001b[38;5;241m=\u001b[39m \u001b[38;5;28minput\u001b[39m()\n\u001b[0;32m      3\u001b[0m z \u001b[38;5;241m=\u001b[39m x \u001b[38;5;241m+\u001b[39m y\n",
      "File \u001b[1;32m~\\anaconda3\\Lib\\site-packages\\ipykernel\\kernelbase.py:1262\u001b[0m, in \u001b[0;36mKernel.raw_input\u001b[1;34m(self, prompt)\u001b[0m\n\u001b[0;32m   1260\u001b[0m     msg \u001b[38;5;241m=\u001b[39m \u001b[38;5;124m\"\u001b[39m\u001b[38;5;124mraw_input was called, but this frontend does not support input requests.\u001b[39m\u001b[38;5;124m\"\u001b[39m\n\u001b[0;32m   1261\u001b[0m     \u001b[38;5;28;01mraise\u001b[39;00m StdinNotImplementedError(msg)\n\u001b[1;32m-> 1262\u001b[0m \u001b[38;5;28;01mreturn\u001b[39;00m \u001b[38;5;28mself\u001b[39m\u001b[38;5;241m.\u001b[39m_input_request(\n\u001b[0;32m   1263\u001b[0m     \u001b[38;5;28mstr\u001b[39m(prompt),\n\u001b[0;32m   1264\u001b[0m     \u001b[38;5;28mself\u001b[39m\u001b[38;5;241m.\u001b[39m_parent_ident[\u001b[38;5;124m\"\u001b[39m\u001b[38;5;124mshell\u001b[39m\u001b[38;5;124m\"\u001b[39m],\n\u001b[0;32m   1265\u001b[0m     \u001b[38;5;28mself\u001b[39m\u001b[38;5;241m.\u001b[39mget_parent(\u001b[38;5;124m\"\u001b[39m\u001b[38;5;124mshell\u001b[39m\u001b[38;5;124m\"\u001b[39m),\n\u001b[0;32m   1266\u001b[0m     password\u001b[38;5;241m=\u001b[39m\u001b[38;5;28;01mFalse\u001b[39;00m,\n\u001b[0;32m   1267\u001b[0m )\n",
      "File \u001b[1;32m~\\anaconda3\\Lib\\site-packages\\ipykernel\\kernelbase.py:1305\u001b[0m, in \u001b[0;36mKernel._input_request\u001b[1;34m(self, prompt, ident, parent, password)\u001b[0m\n\u001b[0;32m   1302\u001b[0m \u001b[38;5;28;01mexcept\u001b[39;00m \u001b[38;5;167;01mKeyboardInterrupt\u001b[39;00m:\n\u001b[0;32m   1303\u001b[0m     \u001b[38;5;66;03m# re-raise KeyboardInterrupt, to truncate traceback\u001b[39;00m\n\u001b[0;32m   1304\u001b[0m     msg \u001b[38;5;241m=\u001b[39m \u001b[38;5;124m\"\u001b[39m\u001b[38;5;124mInterrupted by user\u001b[39m\u001b[38;5;124m\"\u001b[39m\n\u001b[1;32m-> 1305\u001b[0m     \u001b[38;5;28;01mraise\u001b[39;00m \u001b[38;5;167;01mKeyboardInterrupt\u001b[39;00m(msg) \u001b[38;5;28;01mfrom\u001b[39;00m \u001b[38;5;28;01mNone\u001b[39;00m\n\u001b[0;32m   1306\u001b[0m \u001b[38;5;28;01mexcept\u001b[39;00m \u001b[38;5;167;01mException\u001b[39;00m:\n\u001b[0;32m   1307\u001b[0m     \u001b[38;5;28mself\u001b[39m\u001b[38;5;241m.\u001b[39mlog\u001b[38;5;241m.\u001b[39mwarning(\u001b[38;5;124m\"\u001b[39m\u001b[38;5;124mInvalid Message:\u001b[39m\u001b[38;5;124m\"\u001b[39m, exc_info\u001b[38;5;241m=\u001b[39m\u001b[38;5;28;01mTrue\u001b[39;00m)\n",
      "\u001b[1;31mKeyboardInterrupt\u001b[0m: Interrupted by user"
     ]
    }
   ],
   "source": [
    "x = input()\n",
    "y = input()\n",
    "z = x + y\n",
    "print(z)"
   ]
  },
  {
   "cell_type": "code",
   "execution_count": 1,
   "id": "3c470a15-4d9d-4f07-955b-603d41fcacb4",
   "metadata": {},
   "outputs": [
    {
     "ename": "KeyboardInterrupt",
     "evalue": "Interrupted by user",
     "output_type": "error",
     "traceback": [
      "\u001b[1;31m---------------------------------------------------------------------------\u001b[0m",
      "\u001b[1;31mKeyboardInterrupt\u001b[0m                         Traceback (most recent call last)",
      "Cell \u001b[1;32mIn[1], line 1\u001b[0m\n\u001b[1;32m----> 1\u001b[0m x1 \u001b[38;5;241m=\u001b[39m \u001b[38;5;28minput\u001b[39m (\u001b[38;5;124m'\u001b[39m\u001b[38;5;124menter the 1st number \u001b[39m\u001b[38;5;124m'\u001b[39m)\n\u001b[0;32m      2\u001b[0m y1 \u001b[38;5;241m=\u001b[39m \u001b[38;5;28minput\u001b[39m(\u001b[38;5;124m'\u001b[39m\u001b[38;5;124menter the 2nd number\u001b[39m\u001b[38;5;124m'\u001b[39m)\n\u001b[0;32m      3\u001b[0m z1 \u001b[38;5;241m=\u001b[39m x1 \u001b[38;5;241m+\u001b[39m y1\n",
      "File \u001b[1;32m~\\anaconda3\\Lib\\site-packages\\ipykernel\\kernelbase.py:1262\u001b[0m, in \u001b[0;36mKernel.raw_input\u001b[1;34m(self, prompt)\u001b[0m\n\u001b[0;32m   1260\u001b[0m     msg \u001b[38;5;241m=\u001b[39m \u001b[38;5;124m\"\u001b[39m\u001b[38;5;124mraw_input was called, but this frontend does not support input requests.\u001b[39m\u001b[38;5;124m\"\u001b[39m\n\u001b[0;32m   1261\u001b[0m     \u001b[38;5;28;01mraise\u001b[39;00m StdinNotImplementedError(msg)\n\u001b[1;32m-> 1262\u001b[0m \u001b[38;5;28;01mreturn\u001b[39;00m \u001b[38;5;28mself\u001b[39m\u001b[38;5;241m.\u001b[39m_input_request(\n\u001b[0;32m   1263\u001b[0m     \u001b[38;5;28mstr\u001b[39m(prompt),\n\u001b[0;32m   1264\u001b[0m     \u001b[38;5;28mself\u001b[39m\u001b[38;5;241m.\u001b[39m_parent_ident[\u001b[38;5;124m\"\u001b[39m\u001b[38;5;124mshell\u001b[39m\u001b[38;5;124m\"\u001b[39m],\n\u001b[0;32m   1265\u001b[0m     \u001b[38;5;28mself\u001b[39m\u001b[38;5;241m.\u001b[39mget_parent(\u001b[38;5;124m\"\u001b[39m\u001b[38;5;124mshell\u001b[39m\u001b[38;5;124m\"\u001b[39m),\n\u001b[0;32m   1266\u001b[0m     password\u001b[38;5;241m=\u001b[39m\u001b[38;5;28;01mFalse\u001b[39;00m,\n\u001b[0;32m   1267\u001b[0m )\n",
      "File \u001b[1;32m~\\anaconda3\\Lib\\site-packages\\ipykernel\\kernelbase.py:1305\u001b[0m, in \u001b[0;36mKernel._input_request\u001b[1;34m(self, prompt, ident, parent, password)\u001b[0m\n\u001b[0;32m   1302\u001b[0m \u001b[38;5;28;01mexcept\u001b[39;00m \u001b[38;5;167;01mKeyboardInterrupt\u001b[39;00m:\n\u001b[0;32m   1303\u001b[0m     \u001b[38;5;66;03m# re-raise KeyboardInterrupt, to truncate traceback\u001b[39;00m\n\u001b[0;32m   1304\u001b[0m     msg \u001b[38;5;241m=\u001b[39m \u001b[38;5;124m\"\u001b[39m\u001b[38;5;124mInterrupted by user\u001b[39m\u001b[38;5;124m\"\u001b[39m\n\u001b[1;32m-> 1305\u001b[0m     \u001b[38;5;28;01mraise\u001b[39;00m \u001b[38;5;167;01mKeyboardInterrupt\u001b[39;00m(msg) \u001b[38;5;28;01mfrom\u001b[39;00m \u001b[38;5;28;01mNone\u001b[39;00m\n\u001b[0;32m   1306\u001b[0m \u001b[38;5;28;01mexcept\u001b[39;00m \u001b[38;5;167;01mException\u001b[39;00m:\n\u001b[0;32m   1307\u001b[0m     \u001b[38;5;28mself\u001b[39m\u001b[38;5;241m.\u001b[39mlog\u001b[38;5;241m.\u001b[39mwarning(\u001b[38;5;124m\"\u001b[39m\u001b[38;5;124mInvalid Message:\u001b[39m\u001b[38;5;124m\"\u001b[39m, exc_info\u001b[38;5;241m=\u001b[39m\u001b[38;5;28;01mTrue\u001b[39;00m)\n",
      "\u001b[1;31mKeyboardInterrupt\u001b[0m: Interrupted by user"
     ]
    }
   ],
   "source": [
    "x1 = input ('enter the 1st number ')\n",
    "y1 = input('enter the 2nd number')\n",
    "z1 = x1 + y1\n",
    "print(z1)"
   ]
  },
  {
   "cell_type": "code",
   "execution_count": null,
   "id": "f7647367-8785-4f9c-9c39-0a7c044d9040",
   "metadata": {},
   "outputs": [],
   "source": []
  }
 ],
 "metadata": {
  "kernelspec": {
   "display_name": "Python [conda env:base] *",
   "language": "python",
   "name": "conda-base-py"
  },
  "language_info": {
   "codemirror_mode": {
    "name": "ipython",
    "version": 3
   },
   "file_extension": ".py",
   "mimetype": "text/x-python",
   "name": "python",
   "nbconvert_exporter": "python",
   "pygments_lexer": "ipython3",
   "version": "3.12.7"
  }
 },
 "nbformat": 4,
 "nbformat_minor": 5
}
