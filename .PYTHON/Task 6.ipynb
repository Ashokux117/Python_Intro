{
 "cells": [
  {
   "cell_type": "code",
   "execution_count": 1,
   "id": "04ab85cf-338e-4e75-9feb-8bd6fa7b7b31",
   "metadata": {},
   "outputs": [
    {
     "data": {
      "text/plain": [
       "'Welcome to naresh it hydrabad '"
      ]
     },
     "execution_count": 1,
     "metadata": {},
     "output_type": "execute_result"
    }
   ],
   "source": [
    "N = \"Welcome to naresh it hydrabad \"\n",
    "N.lstrip()"
   ]
  },
  {
   "cell_type": "code",
   "execution_count": 3,
   "id": "ce431f48-0369-4224-8f48-a83086dfdbb3",
   "metadata": {},
   "outputs": [
    {
     "data": {
      "text/plain": [
       "'Welcome to naresh it hydrabad'"
      ]
     },
     "execution_count": 3,
     "metadata": {},
     "output_type": "execute_result"
    }
   ],
   "source": [
    "N = \"Welcome to naresh it hydrabad\"\n",
    "N.strip()"
   ]
  },
  {
   "cell_type": "code",
   "execution_count": 5,
   "id": "b8475aa6-93a3-4741-bcd0-a81fadb45b57",
   "metadata": {},
   "outputs": [
    {
     "name": "stdout",
     "output_type": "stream",
     "text": [
      "My favoroute series is \"Game of thrones\"\n"
     ]
    }
   ],
   "source": [
    "# Using escape character to allow illegle character \n",
    "mystr = \"My favoroute series is \\\"Game of thrones\\\"\"\n",
    "print(mystr)"
   ]
  },
  {
   "cell_type": "markdown",
   "id": "5e60030c-a6f8-4b6e-92e5-31ca181804d3",
   "metadata": {},
   "source": [
    "# list \n",
    "1) list is an ordered sequence of items,\n",
    "2) We can have different data types uunder a list E.g.we can have integer, float and string items in a same list "
   ]
  },
  {
   "cell_type": "markdown",
   "id": "d55a1f59-07e1-4d51-b84e-ec103a2e3a62",
   "metadata": {},
   "source": [
    "List creation"
   ]
  },
  {
   "cell_type": "code",
   "execution_count": 11,
   "id": "23b9b337-2c31-4ec5-888e-00a633a979b4",
   "metadata": {},
   "outputs": [],
   "source": [
    "list1 = []   # empty list "
   ]
  },
  {
   "cell_type": "code",
   "execution_count": 13,
   "id": "e15b866c-18b0-4cf5-8a68-aad4e25b1347",
   "metadata": {},
   "outputs": [
    {
     "name": "stdout",
     "output_type": "stream",
     "text": [
      "<class 'list'>\n"
     ]
    }
   ],
   "source": [
    "print(type(list1))"
   ]
  },
  {
   "cell_type": "code",
   "execution_count": 17,
   "id": "09a7ef8b-a5c3-4d5a-a5c3-4525e8ab30fa",
   "metadata": {},
   "outputs": [
    {
     "data": {
      "text/plain": [
       "3"
      ]
     },
     "execution_count": 17,
     "metadata": {},
     "output_type": "execute_result"
    }
   ],
   "source": [
    "list2 = [10,20,30]        # list of integers numbers\n",
    "list3 = [20.50,30.44,60.89]  #list of float numbers\n",
    "list4 = ['one', 'two',\"three\"]   # list of string numbers \n",
    "list5 = ['Asif',25,[10,100],[150,90]]    # Nasted lists\n",
    "list6 = [100,'Asif',100.75]              # list of mixed data types \n",
    "list7 = ['asif',25,[50,100],[150,90],{'sanjay','David'}]\n",
    "len(list6)  # length of list "
   ]
  },
  {
   "cell_type": "code",
   "execution_count": 19,
   "id": "17a514ac-fd0c-4474-bbf9-69d6410040ad",
   "metadata": {},
   "outputs": [
    {
     "data": {
      "text/plain": [
       "10"
      ]
     },
     "execution_count": 19,
     "metadata": {},
     "output_type": "execute_result"
    }
   ],
   "source": [
    "list2[0]"
   ]
  },
  {
   "cell_type": "code",
   "execution_count": 21,
   "id": "48f419d9-09d2-49a0-a75a-46ee7258227e",
   "metadata": {},
   "outputs": [
    {
     "data": {
      "text/plain": [
       "'one'"
      ]
     },
     "execution_count": 21,
     "metadata": {},
     "output_type": "execute_result"
    }
   ],
   "source": [
    "list4[0]"
   ]
  },
  {
   "cell_type": "code",
   "execution_count": 27,
   "id": "ffaa14d3-96b6-4864-afd7-4ebb653b2cb3",
   "metadata": {},
   "outputs": [
    {
     "data": {
      "text/plain": [
       "'o'"
      ]
     },
     "execution_count": 27,
     "metadata": {},
     "output_type": "execute_result"
    }
   ],
   "source": [
    "list4[0][0]"
   ]
  },
  {
   "cell_type": "code",
   "execution_count": 29,
   "id": "f40801fe-3386-402d-aed7-b1341dd9b55c",
   "metadata": {},
   "outputs": [
    {
     "data": {
      "text/plain": [
       "'three'"
      ]
     },
     "execution_count": 29,
     "metadata": {},
     "output_type": "execute_result"
    }
   ],
   "source": [
    "list4[-1]    # last item of the list"
   ]
  },
  {
   "cell_type": "code",
   "execution_count": 33,
   "id": "dd42a9d5-9f5d-4b5d-8d54-027d3113f016",
   "metadata": {},
   "outputs": [
    {
     "data": {
      "text/plain": [
       "[150, 90]"
      ]
     },
     "execution_count": 33,
     "metadata": {},
     "output_type": "execute_result"
    }
   ],
   "source": [
    "list5[-1]"
   ]
  },
  {
   "cell_type": "code",
   "execution_count": 35,
   "id": "13f1212f-7d62-474d-9677-65e3da260182",
   "metadata": {},
   "outputs": [
    {
     "data": {
      "text/plain": [
       "{'David', 'sanjay'}"
      ]
     },
     "execution_count": 35,
     "metadata": {},
     "output_type": "execute_result"
    }
   ],
   "source": [
    "list7[-1]    # last item of the list "
   ]
  },
  {
   "cell_type": "code",
   "execution_count": 37,
   "id": "19b948f4-ba6c-40ca-9c2a-34322dae3705",
   "metadata": {},
   "outputs": [
    {
     "data": {
      "text/plain": [
       "25"
      ]
     },
     "execution_count": 37,
     "metadata": {},
     "output_type": "execute_result"
    }
   ],
   "source": [
    "list5[-3]"
   ]
  },
  {
   "cell_type": "code",
   "execution_count": null,
   "id": "02f45ac2-62bd-4fb0-a867-0eb74e304e0d",
   "metadata": {},
   "outputs": [],
   "source": [
    "list5[-4]"
   ]
  },
  {
   "cell_type": "markdown",
   "id": "51b928cf-f14f-41f0-8d7b-bdb4506c2e11",
   "metadata": {},
   "source": [
    "# List Slicing"
   ]
  },
  {
   "cell_type": "code",
   "execution_count": 46,
   "id": "b34da319-cea2-4ece-b611-600c2c181486",
   "metadata": {},
   "outputs": [],
   "source": [
    "mylist = ['one', 'two','three','four','five','six','seven','eight']"
   ]
  },
  {
   "cell_type": "code",
   "execution_count": 48,
   "id": "30445995-a817-46d8-bad5-ecb5c282443b",
   "metadata": {},
   "outputs": [
    {
     "data": {
      "text/plain": [
       "['one', 'two', 'three']"
      ]
     },
     "execution_count": 48,
     "metadata": {},
     "output_type": "execute_result"
    }
   ],
   "source": [
    "mylist[0:3]"
   ]
  },
  {
   "cell_type": "code",
   "execution_count": 52,
   "id": "5531dfaa-4d23-4ffb-9165-e9cd83916dde",
   "metadata": {},
   "outputs": [
    {
     "data": {
      "text/plain": [
       "['three', 'four', 'five']"
      ]
     },
     "execution_count": 52,
     "metadata": {},
     "output_type": "execute_result"
    }
   ],
   "source": [
    "mylist[2:5]\n"
   ]
  },
  {
   "cell_type": "code",
   "execution_count": 56,
   "id": "f24bdbca-daed-4ec6-be15-360d4b1f5094",
   "metadata": {},
   "outputs": [
    {
     "data": {
      "text/plain": [
       "['two', 'three', 'four', 'five', 'six', 'seven']"
      ]
     },
     "execution_count": 56,
     "metadata": {},
     "output_type": "execute_result"
    }
   ],
   "source": [
    "mylist[1:7]"
   ]
  },
  {
   "cell_type": "code",
   "execution_count": 58,
   "id": "30b67f79-5c64-4163-91c0-10c7bf224dcc",
   "metadata": {},
   "outputs": [
    {
     "data": {
      "text/plain": [
       "['one', 'two', 'three']"
      ]
     },
     "execution_count": 58,
     "metadata": {},
     "output_type": "execute_result"
    }
   ],
   "source": [
    "mylist[:3]"
   ]
  },
  {
   "cell_type": "code",
   "execution_count": 60,
   "id": "e643d7cb-b39b-4fad-a7aa-e8e311801e0a",
   "metadata": {},
   "outputs": [
    {
     "data": {
      "text/plain": [
       "['one', 'two', 'three', 'four', 'five', 'six', 'seven', 'eight']"
      ]
     },
     "execution_count": 60,
     "metadata": {},
     "output_type": "execute_result"
    }
   ],
   "source": [
    "mylist[:8]"
   ]
  },
  {
   "cell_type": "code",
   "execution_count": 64,
   "id": "b463207d-ef83-46c4-b2d1-194540cf2a1c",
   "metadata": {},
   "outputs": [
    {
     "data": {
      "text/plain": [
       "'one'"
      ]
     },
     "execution_count": 64,
     "metadata": {},
     "output_type": "execute_result"
    }
   ],
   "source": [
    "mylist[-8]"
   ]
  },
  {
   "cell_type": "code",
   "execution_count": 68,
   "id": "3c8a08a2-1f01-48f4-82c5-935d446afa3d",
   "metadata": {},
   "outputs": [
    {
     "data": {
      "text/plain": [
       "['six', 'seven', 'eight']"
      ]
     },
     "execution_count": 68,
     "metadata": {},
     "output_type": "execute_result"
    }
   ],
   "source": [
    "mylist[-3:]"
   ]
  },
  {
   "cell_type": "code",
   "execution_count": 70,
   "id": "1403c82e-52ce-463e-85d0-7583202b19be",
   "metadata": {},
   "outputs": [
    {
     "data": {
      "text/plain": [
       "['one', 'two', 'three', 'four', 'five']"
      ]
     },
     "execution_count": 70,
     "metadata": {},
     "output_type": "execute_result"
    }
   ],
   "source": [
    "mylist[:-3]"
   ]
  },
  {
   "cell_type": "code",
   "execution_count": 72,
   "id": "3caa4e56-7d71-4051-9cab-fce66d8aa9e7",
   "metadata": {},
   "outputs": [
    {
     "data": {
      "text/plain": [
       "'eight'"
      ]
     },
     "execution_count": 72,
     "metadata": {},
     "output_type": "execute_result"
    }
   ],
   "source": [
    "mylist[-1]     # return last item of the list"
   ]
  },
  {
   "cell_type": "code",
   "execution_count": 74,
   "id": "5f5cfdf5-1844-43d0-8605-729004a73843",
   "metadata": {},
   "outputs": [
    {
     "data": {
      "text/plain": [
       "['one', 'two', 'three', 'four', 'five', 'six', 'seven', 'eight']"
      ]
     },
     "execution_count": 74,
     "metadata": {},
     "output_type": "execute_result"
    }
   ],
   "source": [
    "mylist[:]    # return whole list \n"
   ]
  },
  {
   "cell_type": "markdown",
   "id": "e2ef26e7-374d-4393-a3b6-f6074764f4c6",
   "metadata": {},
   "source": [
    "# Add, Remove & change items"
   ]
  },
  {
   "cell_type": "code",
   "execution_count": 77,
   "id": "d629d278-c8a7-4e1a-9859-0b3df431d056",
   "metadata": {},
   "outputs": [
    {
     "data": {
      "text/plain": [
       "['one', 'two', 'three', 'four', 'five', 'six', 'seven', 'eight']"
      ]
     },
     "execution_count": 77,
     "metadata": {},
     "output_type": "execute_result"
    }
   ],
   "source": [
    "mylist"
   ]
  },
  {
   "cell_type": "code",
   "execution_count": 79,
   "id": "3036fd14-5bb2-42d1-b125-2a14d82f17a3",
   "metadata": {},
   "outputs": [
    {
     "data": {
      "text/plain": [
       "['one', 'two', 'three', 'four', 'five', 'six', 'seven', 'eight', 'nine']"
      ]
     },
     "execution_count": 79,
     "metadata": {},
     "output_type": "execute_result"
    }
   ],
   "source": [
    "mylist.append('nine')            # add an item to the end of  the list\n",
    "mylist"
   ]
  },
  {
   "cell_type": "code",
   "execution_count": 81,
   "id": "c50c9af4-d62d-4f61-96bd-72a6a0ce60bc",
   "metadata": {},
   "outputs": [
    {
     "data": {
      "text/plain": [
       "['one', 'two', 'three', 'four', 'five', 'six', 'seven', 'eight', 'nine', 'ten']"
      ]
     },
     "execution_count": 81,
     "metadata": {},
     "output_type": "execute_result"
    }
   ],
   "source": [
    "mylist.append('ten')\n",
    "mylist"
   ]
  },
  {
   "cell_type": "code",
   "execution_count": 87,
   "id": "ef4a72cb-c772-47e3-b4f2-0d80fe2b44e2",
   "metadata": {},
   "outputs": [
    {
     "data": {
      "text/plain": [
       "['zero',\n",
       " 'one',\n",
       " 'zero',\n",
       " 'two',\n",
       " 'three',\n",
       " 'four',\n",
       " 'five',\n",
       " 'six',\n",
       " 'seven',\n",
       " 'eight',\n",
       " 'nine',\n",
       " 'ten']"
      ]
     },
     "execution_count": 87,
     "metadata": {},
     "output_type": "execute_result"
    }
   ],
   "source": [
    "mylist.insert(-11,'zero')      # Add an item to index location -11 \n",
    "mylist"
   ]
  },
  {
   "cell_type": "code",
   "execution_count": 95,
   "id": "b5893cd5-bee5-4101-940e-9be70f8b00e3",
   "metadata": {},
   "outputs": [
    {
     "data": {
      "text/plain": [
       "['one', 'two', 'three', 'four', 'five', 'six', 'seven', 'eight', 'nine', 'ten']"
      ]
     },
     "execution_count": 95,
     "metadata": {},
     "output_type": "execute_result"
    }
   ],
   "source": [
    "mylist.remove('zero')      # remove item \"zero\"\n",
    "mylist"
   ]
  },
  {
   "cell_type": "raw",
   "id": "827e88b7-b4f6-4087-b716-3010d407930a",
   "metadata": {},
   "source": [
    "mylist.insert(-11,'zero')   #  add on item index -11\n",
    "mylist"
   ]
  },
  {
   "cell_type": "code",
   "execution_count": 101,
   "id": "2185442f-9ff6-4b28-91b8-db4bdb6b066a",
   "metadata": {},
   "outputs": [
    {
     "data": {
      "text/plain": [
       "['zero',\n",
       " 'zero',\n",
       " 'one',\n",
       " 'two',\n",
       " 'three',\n",
       " 'four',\n",
       " 'five',\n",
       " 'six',\n",
       " 'seven',\n",
       " 'eight',\n",
       " 'nine',\n",
       " 'ten']"
      ]
     },
     "execution_count": 101,
     "metadata": {},
     "output_type": "execute_result"
    }
   ],
   "source": [
    "mylist"
   ]
  },
  {
   "cell_type": "code",
   "execution_count": 103,
   "id": "9d2b12bd-6263-490f-a813-129e91ead4fc",
   "metadata": {},
   "outputs": [
    {
     "data": {
      "text/plain": [
       "['zero',\n",
       " 'zero',\n",
       " 'one',\n",
       " 'two',\n",
       " 'three',\n",
       " 'four',\n",
       " 'five',\n",
       " 'six',\n",
       " 'seven',\n",
       " 'eight',\n",
       " 'nine']"
      ]
     },
     "execution_count": 103,
     "metadata": {},
     "output_type": "execute_result"
    }
   ],
   "source": [
    "mylist.pop()       # pop(), means remove last item of the  list  \n",
    "mylist"
   ]
  },
  {
   "cell_type": "code",
   "execution_count": 107,
   "id": "e84b9476-8173-46a5-bd4d-4a1dfd3bdd0c",
   "metadata": {},
   "outputs": [
    {
     "data": {
      "text/plain": [
       "['zero',\n",
       " 'zero',\n",
       " 'one',\n",
       " 'two',\n",
       " 'three',\n",
       " 'five',\n",
       " 'six',\n",
       " 'seven',\n",
       " 'eight',\n",
       " 'nine']"
      ]
     },
     "execution_count": 107,
     "metadata": {},
     "output_type": "execute_result"
    }
   ],
   "source": [
    "mylist.pop(5)     # remove item at index location 5\n",
    "mylist "
   ]
  },
  {
   "cell_type": "code",
   "execution_count": 109,
   "id": "d68e03ec-9a15-4b80-b367-8fc880a22163",
   "metadata": {},
   "outputs": [
    {
     "data": {
      "text/plain": [
       "['zero', 'zero', 'one', 'two', 'three', 'five', 'six', 'seven', 'nine']"
      ]
     },
     "execution_count": 109,
     "metadata": {},
     "output_type": "execute_result"
    }
   ],
   "source": [
    "mylist.pop(8)      # remove item at index location 8\n",
    "mylist"
   ]
  },
  {
   "cell_type": "code",
   "execution_count": 114,
   "id": "f21c9c36-e3c3-4a29-a32e-bdd57e4f0e07",
   "metadata": {},
   "outputs": [
    {
     "data": {
      "text/plain": [
       "['zero', 'one', 'two', 'three', 'five', 'six', 'seven', 'nine']"
      ]
     },
     "execution_count": 114,
     "metadata": {},
     "output_type": "execute_result"
    }
   ],
   "source": [
    "mylist.remove('zero')\n",
    "mylist"
   ]
  },
  {
   "cell_type": "code",
   "execution_count": 118,
   "id": "390227d9-1670-45d0-a1ad-f926fa216ea6",
   "metadata": {},
   "outputs": [
    {
     "data": {
      "text/plain": [
       "['zero', 'one', 'two', 'three', 'four', 'five', 'six', 'seven', 'nine']"
      ]
     },
     "execution_count": 118,
     "metadata": {},
     "output_type": "execute_result"
    }
   ],
   "source": [
    "mylist.insert(4,'four')\n",
    "mylist"
   ]
  },
  {
   "cell_type": "code",
   "execution_count": 120,
   "id": "0c715533-7a9f-4056-b89c-c3dca3a9d74f",
   "metadata": {},
   "outputs": [
    {
     "data": {
      "text/plain": [
       "['zero',\n",
       " 'one',\n",
       " 'two',\n",
       " 'three',\n",
       " 'four',\n",
       " 'five',\n",
       " 'six',\n",
       " 'seven',\n",
       " 'eight',\n",
       " 'nine']"
      ]
     },
     "execution_count": 120,
     "metadata": {},
     "output_type": "execute_result"
    }
   ],
   "source": [
    "mylist.insert(8,'eight')\n",
    "mylist"
   ]
  },
  {
   "cell_type": "code",
   "execution_count": 122,
   "id": "f59bbc4e-ad62-4545-8eef-7b25a4b00f90",
   "metadata": {},
   "outputs": [
    {
     "data": {
      "text/plain": [
       "['zero',\n",
       " 'one',\n",
       " 'two',\n",
       " 'three',\n",
       " 'four',\n",
       " 'five',\n",
       " 'six',\n",
       " 'seven',\n",
       " 'eight',\n",
       " 'nine',\n",
       " 'ten']"
      ]
     },
     "execution_count": 122,
     "metadata": {},
     "output_type": "execute_result"
    }
   ],
   "source": [
    "mylist.insert(10,'ten')\n",
    "mylist"
   ]
  },
  {
   "cell_type": "code",
   "execution_count": 124,
   "id": "8c641c22-6eae-444d-835e-21d7bc0ae584",
   "metadata": {},
   "outputs": [
    {
     "data": {
      "text/plain": [
       "['one', 'two', 'three', 'four', 'five', 'six', 'seven', 'eight', 'nine', 'ten']"
      ]
     },
     "execution_count": 124,
     "metadata": {},
     "output_type": "execute_result"
    }
   ],
   "source": [
    "mylist.remove('zero')\n",
    "mylist"
   ]
  },
  {
   "cell_type": "code",
   "execution_count": 126,
   "id": "1e304b92-e59b-4172-908f-a82c9285dde8",
   "metadata": {},
   "outputs": [
    {
     "data": {
      "text/plain": [
       "['one', 'two', 'three', 'four', 'five', 'six', 'seven', 'eight', 'nine', 'ten']"
      ]
     },
     "execution_count": 126,
     "metadata": {},
     "output_type": "execute_result"
    }
   ],
   "source": [
    "mylist"
   ]
  },
  {
   "cell_type": "code",
   "execution_count": 132,
   "id": "cf179826-1356-4e0b-937d-9387051cb65b",
   "metadata": {},
   "outputs": [
    {
     "data": {
      "text/plain": [
       "[1, 2, 3, 4, 'five', 'six', 'seven', 'eight', 9, 'ten']"
      ]
     },
     "execution_count": 132,
     "metadata": {},
     "output_type": "execute_result"
    }
   ],
   "source": [
    "# change value of the string \n",
    "mylist[0]=1\n",
    "mylist[1]=2\n",
    "mylist[2]=3\n",
    "mylist[3]=4\n",
    "mylist[8]=9\n",
    "mylist"
   ]
  },
  {
   "cell_type": "code",
   "execution_count": 136,
   "id": "f6707a26-88ec-4695-b471-24166cdcd636",
   "metadata": {},
   "outputs": [
    {
     "data": {
      "text/plain": [
       "[]"
      ]
     },
     "execution_count": 136,
     "metadata": {},
     "output_type": "execute_result"
    }
   ],
   "source": [
    "mylist.clear()    # Empty list/delete all item in the list\n",
    "mylist"
   ]
  },
  {
   "cell_type": "markdown",
   "id": "bca929ea-7e15-4f66-860f-eef465d37c9b",
   "metadata": {},
   "source": [
    "# Copy list"
   ]
  },
  {
   "cell_type": "code",
   "execution_count": 139,
   "id": "883b64f7-9ef9-49c3-a1c7-07837c520718",
   "metadata": {},
   "outputs": [
    {
     "data": {
      "text/plain": [
       "['one', 'two', 'three', 'four', 'five', 'six', 'seven', 'eight', 'nine']"
      ]
     },
     "execution_count": 139,
     "metadata": {},
     "output_type": "execute_result"
    }
   ],
   "source": [
    "mylist = ['one', 'two', 'three', 'four', 'five', 'six', 'seven', 'eight', 'nine']\n"
   ]
  },
  {
   "cell_type": "code",
   "execution_count": 141,
   "id": "ac8b1c2b-3a0b-4c06-920b-f80622527b53",
   "metadata": {},
   "outputs": [],
   "source": [
    "mylist1 = mylist  #creat a new raference \"mylist1\" "
   ]
  },
  {
   "cell_type": "code",
   "execution_count": 143,
   "id": "cd12d3fc-8dec-4e47-9724-bbe12cc23921",
   "metadata": {},
   "outputs": [
    {
     "data": {
      "text/plain": [
       "(2782635919936, 2782635919936)"
      ]
     },
     "execution_count": 143,
     "metadata": {},
     "output_type": "execute_result"
    }
   ],
   "source": [
    "id(mylist),id(mylist1)     # boath list will be sem output"
   ]
  },
  {
   "cell_type": "code",
   "execution_count": 145,
   "id": "077af50d-a87c-41ea-a54a-ff00c7a3e801",
   "metadata": {},
   "outputs": [],
   "source": [
    "mylist2 = mylist.copy()    # creat a copy of the list "
   ]
  },
  {
   "cell_type": "code",
   "execution_count": 147,
   "id": "311ff7b3-5e4b-44ca-9b7c-2f89cf08f4a4",
   "metadata": {},
   "outputs": [
    {
     "data": {
      "text/plain": [
       "2782689622848"
      ]
     },
     "execution_count": 147,
     "metadata": {},
     "output_type": "execute_result"
    }
   ],
   "source": [
    "id (mylist2) # the address of mylist2 willl different from mylist because mylist"
   ]
  },
  {
   "cell_type": "code",
   "execution_count": 151,
   "id": "0d6895e6-6810-4dbd-a35e-ae7c18a1313e",
   "metadata": {},
   "outputs": [
    {
     "data": {
      "text/plain": [
       "[1, 'two', 'three', 'four', 'five', 'six', 'seven', 'eight', 'nine']"
      ]
     },
     "execution_count": 151,
     "metadata": {},
     "output_type": "execute_result"
    }
   ],
   "source": [
    "mylist[0] = 1\n",
    "mylist\n"
   ]
  },
  {
   "cell_type": "code",
   "execution_count": 157,
   "id": "4c1b49dc-963f-4a5f-9ff1-37e95eb2fe6a",
   "metadata": {},
   "outputs": [
    {
     "data": {
      "text/plain": [
       "[1, 'two', 'three', 'four', 'five', 'six', 'seven', 'eight', 'nine']"
      ]
     },
     "execution_count": 157,
     "metadata": {},
     "output_type": "execute_result"
    }
   ],
   "source": [
    "mylist1"
   ]
  },
  {
   "cell_type": "code",
   "execution_count": 155,
   "id": "83d5e0f6-a9b5-430d-821b-43bf82b4d254",
   "metadata": {},
   "outputs": [
    {
     "data": {
      "text/plain": [
       "['one', 'two', 'three', 'four', 'five', 'six', 'seven', 'eight', 'nine']"
      ]
     },
     "execution_count": 155,
     "metadata": {},
     "output_type": "execute_result"
    }
   ],
   "source": [
    "mylist2"
   ]
  },
  {
   "cell_type": "markdown",
   "id": "966297a2-2539-433a-a348-a27c89d58cb1",
   "metadata": {},
   "source": [
    "# job lists"
   ]
  },
  {
   "cell_type": "code",
   "execution_count": 160,
   "id": "3458963f-e270-4716-98a8-68acd5099802",
   "metadata": {},
   "outputs": [
    {
     "data": {
      "text/plain": [
       "['one', 'two', 'three', 'four', 'five', 'six', 'seven', 'eight', 'nine', 'ten']"
      ]
     },
     "execution_count": 160,
     "metadata": {},
     "output_type": "execute_result"
    }
   ],
   "source": [
    "list1 = ['one', 'two', 'three', 'four', 'five']\n",
    "list2 = ['six', 'seven', 'eight', 'nine','ten']\n",
    "list3 = list1 + list2        # join two listsby '+' operater\n",
    "list3 \n",
    "\n"
   ]
  },
  {
   "cell_type": "code",
   "execution_count": 162,
   "id": "3348ee86-aa02-47fe-b810-cabb4b0da996",
   "metadata": {},
   "outputs": [
    {
     "data": {
      "text/plain": [
       "['one', 'two', 'three', 'four', 'five', 'six', 'seven', 'eight', 'nine', 'ten']"
      ]
     },
     "execution_count": 162,
     "metadata": {},
     "output_type": "execute_result"
    }
   ],
   "source": [
    "list1.extend(list2)       # Append list2withlist1\n",
    "list1"
   ]
  },
  {
   "cell_type": "markdown",
   "id": "a125600e-f321-4437-b367-b4301d204ff3",
   "metadata": {},
   "source": [
    " # List Membership"
   ]
  },
  {
   "cell_type": "code",
   "execution_count": 165,
   "id": "1c3cc34a-5fcc-49d2-a626-47e24a7cad71",
   "metadata": {},
   "outputs": [
    {
     "data": {
      "text/plain": [
       "['one', 'two', 'three', 'four', 'five', 'six', 'seven', 'eight', 'nine', 'ten']"
      ]
     },
     "execution_count": 165,
     "metadata": {},
     "output_type": "execute_result"
    }
   ],
   "source": [
    "list1"
   ]
  },
  {
   "cell_type": "code",
   "execution_count": 169,
   "id": "7baee438-e4e1-4e83-b915-4fccee3a8a13",
   "metadata": {},
   "outputs": [
    {
     "data": {
      "text/plain": [
       "True"
      ]
     },
     "execution_count": 169,
     "metadata": {},
     "output_type": "execute_result"
    }
   ],
   "source": [
    "'one' in list1    # chek if 'one'exit in the list "
   ]
  },
  {
   "cell_type": "code",
   "execution_count": 177,
   "id": "bf645602-b041-4a15-8a3d-2efd2e47a70a",
   "metadata": {},
   "outputs": [
    {
     "data": {
      "text/plain": [
       "False"
      ]
     },
     "execution_count": 177,
     "metadata": {},
     "output_type": "execute_result"
    }
   ],
   "source": [
    "'eleven' in list1   # check if 'eleven' exist in the list "
   ]
  },
  {
   "cell_type": "code",
   "execution_count": 173,
   "id": "6ac23a13-f835-44e8-93c8-69a2747370a1",
   "metadata": {},
   "outputs": [
    {
     "data": {
      "text/plain": [
       "True"
      ]
     },
     "execution_count": 173,
     "metadata": {},
     "output_type": "execute_result"
    }
   ],
   "source": [
    "'ten' in list1\n"
   ]
  },
  {
   "cell_type": "markdown",
   "id": "e8317531-b2ff-46fc-8541-6ae6fb3971ff",
   "metadata": {},
   "source": [
    "# Reverse & sort list"
   ]
  },
  {
   "cell_type": "code",
   "execution_count": 180,
   "id": "69aff2f3-0b30-47be-ad01-3cfe846f3138",
   "metadata": {},
   "outputs": [
    {
     "data": {
      "text/plain": [
       "['one', 'two', 'three', 'four', 'five', 'six', 'seven', 'eight', 'nine', 'ten']"
      ]
     },
     "execution_count": 180,
     "metadata": {},
     "output_type": "execute_result"
    }
   ],
   "source": [
    "list1"
   ]
  },
  {
   "cell_type": "code",
   "execution_count": 182,
   "id": "053173ea-bf6b-4691-92c5-7669e4fb4464",
   "metadata": {},
   "outputs": [
    {
     "data": {
      "text/plain": [
       "['ten', 'nine', 'eight', 'seven', 'six', 'five', 'four', 'three', 'two', 'one']"
      ]
     },
     "execution_count": 182,
     "metadata": {},
     "output_type": "execute_result"
    }
   ],
   "source": [
    "list1.reverse()     # reverse the list \n",
    "list1"
   ]
  },
  {
   "cell_type": "code",
   "execution_count": 184,
   "id": "eb463356-7378-4425-9932-88e9e1a581d3",
   "metadata": {},
   "outputs": [
    {
     "data": {
      "text/plain": [
       "['one', 'two', 'three', 'four', 'five', 'six', 'seven', 'eight', 'nine', 'ten']"
      ]
     },
     "execution_count": 184,
     "metadata": {},
     "output_type": "execute_result"
    }
   ],
   "source": [
    "list1=list1[::-1]      # reverse the list \n",
    "list1"
   ]
  },
  {
   "cell_type": "code",
   "execution_count": 194,
   "id": "687c5d3a-cec3-4c68-bbca-52ba187a58eb",
   "metadata": {},
   "outputs": [
    {
     "data": {
      "text/plain": [
       "[1, 2, 9, 10, 20, 50, 99]"
      ]
     },
     "execution_count": 194,
     "metadata": {},
     "output_type": "execute_result"
    }
   ],
   "source": [
    "mylist3 = [9,2,10,50,1,99,20]\n",
    "mylist3.sort()                   #  sort list in assending order\n",
    "mylist3"
   ]
  },
  {
   "cell_type": "code",
   "execution_count": 198,
   "id": "40b0b23b-c751-4071-951a-522314dce80f",
   "metadata": {},
   "outputs": [
    {
     "data": {
      "text/plain": [
       "[99, 50, 20, 10, 9, 2, 1]"
      ]
     },
     "execution_count": 198,
     "metadata": {},
     "output_type": "execute_result"
    }
   ],
   "source": [
    "mylist3 = [9,2,10,50,1,99,20]\n",
    "mylist3.sort(reverse=True)      # sort list in descending order\n",
    "mylist3"
   ]
  },
  {
   "cell_type": "code",
   "execution_count": 200,
   "id": "12e7fe54-3909-42a8-af50-a80180b32ba6",
   "metadata": {},
   "outputs": [
    {
     "data": {
      "text/plain": [
       "[10, 15, 16, 20, 40, 50, 80]"
      ]
     },
     "execution_count": 200,
     "metadata": {},
     "output_type": "execute_result"
    }
   ],
   "source": [
    "mylist4 = [15,40,10,20,50,16,80,]\n",
    "sorted(mylist4)    # Return a new sorted list and doesn't change original list"
   ]
  },
  {
   "cell_type": "code",
   "execution_count": 202,
   "id": "9d1af42f-9ffb-4e06-9e4d-4533ded0461a",
   "metadata": {},
   "outputs": [
    {
     "data": {
      "text/plain": [
       "[15, 40, 10, 20, 50, 16, 80]"
      ]
     },
     "execution_count": 202,
     "metadata": {},
     "output_type": "execute_result"
    }
   ],
   "source": [
    " mylist4"
   ]
  },
  {
   "cell_type": "markdown",
   "id": "ebabf48a-140e-42f8-ad72-bafd72b1a0f8",
   "metadata": {},
   "source": [
    "# Loop Through a list"
   ]
  },
  {
   "cell_type": "code",
   "execution_count": 205,
   "id": "3ebc39be-d2d8-410e-b3a1-931d3464fbc8",
   "metadata": {},
   "outputs": [
    {
     "data": {
      "text/plain": [
       "['one', 'two', 'three', 'four', 'five', 'six', 'seven', 'eight', 'nine', 'ten']"
      ]
     },
     "execution_count": 205,
     "metadata": {},
     "output_type": "execute_result"
    }
   ],
   "source": [
    "list1"
   ]
  },
  {
   "cell_type": "code",
   "execution_count": 211,
   "id": "c2797cce-1df6-47c4-8315-6735392e138e",
   "metadata": {},
   "outputs": [
    {
     "name": "stdout",
     "output_type": "stream",
     "text": [
      "one\n",
      "two\n",
      "three\n",
      "four\n",
      "five\n",
      "six\n",
      "seven\n",
      "eight\n",
      "nine\n",
      "ten\n"
     ]
    }
   ],
   "source": [
    "for i in list1:\n",
    "     print(i)"
   ]
  },
  {
   "cell_type": "code",
   "execution_count": 217,
   "id": "2463346b-5b1d-49ee-81db-9db22dab9c51",
   "metadata": {},
   "outputs": [
    {
     "name": "stdout",
     "output_type": "stream",
     "text": [
      "(0, 'one')\n",
      "(1, 'two')\n",
      "(2, 'three')\n",
      "(3, 'four')\n",
      "(4, 'five')\n",
      "(5, 'six')\n",
      "(6, 'seven')\n",
      "(7, 'eight')\n",
      "(8, 'nine')\n",
      "(9, 'ten')\n"
     ]
    }
   ],
   "source": [
    "for i in enumerate(list1):\n",
    "   print(i)"
   ]
  },
  {
   "cell_type": "markdown",
   "id": "df394a5a-65b8-40d6-8f9e-96aa659e7f49",
   "metadata": {},
   "source": [
    "# Count"
   ]
  },
  {
   "cell_type": "code",
   "execution_count": 224,
   "id": "d333302a-e432-40dc-a92a-64e49b4cd985",
   "metadata": {},
   "outputs": [
    {
     "data": {
      "text/plain": [
       "2"
      ]
     },
     "execution_count": 224,
     "metadata": {},
     "output_type": "execute_result"
    }
   ],
   "source": [
    "list10=['one', 'two', 'three', 'four','one', 'two', 'three', 'four',]\n",
    "list10.count('one')      # number of times item \"one\" occurred in the list."
   ]
  },
  {
   "cell_type": "code",
   "execution_count": 226,
   "id": "a5bf5aad-9b32-4fd6-80e9-554d0f8f874b",
   "metadata": {},
   "outputs": [
    {
     "data": {
      "text/plain": [
       "2"
      ]
     },
     "execution_count": 226,
     "metadata": {},
     "output_type": "execute_result"
    }
   ],
   "source": [
    "list10.count('three')    # occourence of item 'three' in the list \n"
   ]
  },
  {
   "cell_type": "markdown",
   "id": "90da384c-4cc8-4f67-b17f-c2a3f945ce50",
   "metadata": {},
   "source": [
    "# All/Any #\n",
    ".  True - if all elements in a list are true \n",
    ".  False - if any alement i a list is false \n",
    "\n",
    "The any() function return True if any elements in the list is True if not, any() return False "
   ]
  },
  {
   "cell_type": "code",
   "execution_count": 231,
   "id": "77769af6-b0dd-446a-9cd0-ebf607952a28",
   "metadata": {},
   "outputs": [],
   "source": [
    "l1 = [1,2,3,4,0] "
   ]
  },
  {
   "cell_type": "code",
   "execution_count": 233,
   "id": "8b9a37c9-3924-4cbc-b9c1-bdd2662eb584",
   "metadata": {},
   "outputs": [
    {
     "data": {
      "text/plain": [
       "False"
      ]
     },
     "execution_count": 233,
     "metadata": {},
     "output_type": "execute_result"
    }
   ],
   "source": [
    "all(l1)      # will Return false as one value is false (value 0)"
   ]
  },
  {
   "cell_type": "code",
   "execution_count": 235,
   "id": "6a3cdec9-7d77-4baf-b1c8-9356066f014f",
   "metadata": {},
   "outputs": [
    {
     "data": {
      "text/plain": [
       "True"
      ]
     },
     "execution_count": 235,
     "metadata": {},
     "output_type": "execute_result"
    }
   ],
   "source": [
    "any(l1)          # will  Return true as we have items in the list with True value "
   ]
  },
  {
   "cell_type": "code",
   "execution_count": 237,
   "id": "1fd2ad44-ac1e-41c5-88ed-2f25c1ac256b",
   "metadata": {},
   "outputs": [
    {
     "data": {
      "text/plain": [
       "False"
      ]
     },
     "execution_count": 237,
     "metadata": {},
     "output_type": "execute_result"
    }
   ],
   "source": [
    "l2 = [1,2,3,4,True,False]\n",
    "all(l2)"
   ]
  },
  {
   "cell_type": "code",
   "execution_count": 239,
   "id": "c83a7b73-ee4d-4af8-84f5-bf6bd7616ec8",
   "metadata": {},
   "outputs": [
    {
     "data": {
      "text/plain": [
       "True"
      ]
     },
     "execution_count": 239,
     "metadata": {},
     "output_type": "execute_result"
    }
   ],
   "source": [
    "any(l2)"
   ]
  },
  {
   "cell_type": "code",
   "execution_count": 241,
   "id": "d82f4eca-79fd-4b4b-9380-beeffaf0e599",
   "metadata": {},
   "outputs": [],
   "source": [
    " l3 = [1,2,3,4,True] # will return True as we have items in yhe kist with true value "
   ]
  },
  {
   "cell_type": "code",
   "execution_count": 243,
   "id": "148e4195-25bb-4b60-ae02-a72bd2534fb7",
   "metadata": {},
   "outputs": [
    {
     "data": {
      "text/plain": [
       "True"
      ]
     },
     "execution_count": 243,
     "metadata": {},
     "output_type": "execute_result"
    }
   ],
   "source": [
    "all(l3)"
   ]
  },
  {
   "cell_type": "code",
   "execution_count": 245,
   "id": "853fc22d-9586-4c5f-9493-2416ed177616",
   "metadata": {},
   "outputs": [
    {
     "data": {
      "text/plain": [
       "True"
      ]
     },
     "execution_count": 245,
     "metadata": {},
     "output_type": "execute_result"
    }
   ],
   "source": [
    "any(l3)# will return true as all items in the list are true "
   ]
  },
  {
   "cell_type": "code",
   "execution_count": null,
   "id": "e707b389-299e-4cd8-b47c-8b2227c0705f",
   "metadata": {},
   "outputs": [],
   "source": []
  }
 ],
 "metadata": {
  "kernelspec": {
   "display_name": "Python [conda env:base] *",
   "language": "python",
   "name": "conda-base-py"
  },
  "language_info": {
   "codemirror_mode": {
    "name": "ipython",
    "version": 3
   },
   "file_extension": ".py",
   "mimetype": "text/x-python",
   "name": "python",
   "nbconvert_exporter": "python",
   "pygments_lexer": "ipython3",
   "version": "3.12.7"
  }
 },
 "nbformat": 4,
 "nbformat_minor": 5
}
