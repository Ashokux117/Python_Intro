{
 "cells": [
  {
   "cell_type": "markdown",
   "id": "00ae27ae-d408-45d2-8f68-67d9984ab8db",
   "metadata": {},
   "source": [
    "## Python Tutorial "
   ]
  },
  {
   "cell_type": "code",
   "execution_count": 2,
   "id": "e5017935-6d05-4d0d-b98c-d429170471c3",
   "metadata": {},
   "outputs": [],
   "source": [
    "import sys\n",
    "import keyword\n",
    "import operator\n",
    "from  datetime import datetime\n",
    "import os"
   ]
  },
  {
   "cell_type": "markdown",
   "id": "2bad9a60-eedc-41aa-999e-ded7f46fae95",
   "metadata": {},
   "source": [
    "## Keyword\n",
    "- keyward are the reserved words in python and can't be used as an identifier"
   ]
  },
  {
   "cell_type": "code",
   "execution_count": 7,
   "id": "05bd2c46-a5a3-40cc-8163-4a28b69c8992",
   "metadata": {},
   "outputs": [
    {
     "name": "stdout",
     "output_type": "stream",
     "text": [
      "['False', 'None', 'True', 'and', 'as', 'assert', 'async', 'await', 'break', 'class', 'continue', 'def', 'del', 'elif', 'else', 'except', 'finally', 'for', 'from', 'global', 'if', 'import', 'in', 'is', 'lambda', 'nonlocal', 'not', 'or', 'pass', 'raise', 'return', 'try', 'while', 'with', 'yield']\n"
     ]
    }
   ],
   "source": [
    "print(keyword.kwlist)  # list all python keyword"
   ]
  },
  {
   "cell_type": "code",
   "execution_count": 9,
   "id": "e780a03c-f430-4225-bf7c-478ef4e0ed55",
   "metadata": {},
   "outputs": [
    {
     "data": {
      "text/plain": [
       "35"
      ]
     },
     "execution_count": 9,
     "metadata": {},
     "output_type": "execute_result"
    }
   ],
   "source": [
    "len(keyword.kwlist)  # python contains 35 keywords"
   ]
  },
  {
   "cell_type": "markdown",
   "id": "d79bd8f3-d2c2-43d8-a3cf-ce574fb53d26",
   "metadata": {},
   "source": [
    "## Identifiers\n",
    "- an identifier is a name given to entities like class , functions, variable, etc. it helps to differentiate one entitu from another"
   ]
  },
  {
   "cell_type": "code",
   "execution_count": 13,
   "id": "54f1e67b-b434-4a5f-bc39-d0394bd2ed84",
   "metadata": {},
   "outputs": [
    {
     "ename": "SyntaxError",
     "evalue": "invalid decimal literal (4271750536.py, line 1)",
     "output_type": "error",
     "traceback": [
      "\u001b[1;36m  Cell \u001b[1;32mIn[13], line 1\u001b[1;36m\u001b[0m\n\u001b[1;33m    1var = 10 # identifier can't start with a digit\u001b[0m\n\u001b[1;37m    ^\u001b[0m\n\u001b[1;31mSyntaxError\u001b[0m\u001b[1;31m:\u001b[0m invalid decimal literal\n"
     ]
    }
   ],
   "source": [
    "1var = 10 # identifier can't start with a digit"
   ]
  },
  {
   "cell_type": "code",
   "execution_count": 15,
   "id": "a04ecff5-1b3c-45cf-9944-613192f02c5e",
   "metadata": {},
   "outputs": [
    {
     "ename": "SyntaxError",
     "evalue": "invalid syntax (2492417883.py, line 1)",
     "output_type": "error",
     "traceback": [
      "\u001b[1;36m  Cell \u001b[1;32mIn[15], line 1\u001b[1;36m\u001b[0m\n\u001b[1;33m    val2@ = 35  # Identifier can't use special saymbols\u001b[0m\n\u001b[1;37m          ^\u001b[0m\n\u001b[1;31mSyntaxError\u001b[0m\u001b[1;31m:\u001b[0m invalid syntax\n"
     ]
    }
   ],
   "source": [
    "val2@ = 35  # Identifier can't use special saymbols"
   ]
  },
  {
   "cell_type": "code",
   "execution_count": 17,
   "id": "d2e4786c-498d-4de7-8d8f-ae28b8d64fa8",
   "metadata": {},
   "outputs": [
    {
     "ename": "SyntaxError",
     "evalue": "invalid syntax (3943580876.py, line 1)",
     "output_type": "error",
     "traceback": [
      "\u001b[1;36m  Cell \u001b[1;32mIn[17], line 1\u001b[1;36m\u001b[0m\n\u001b[1;33m    import = 125 # keywords can't be used as identifiers\u001b[0m\n\u001b[1;37m           ^\u001b[0m\n\u001b[1;31mSyntaxError\u001b[0m\u001b[1;31m:\u001b[0m invalid syntax\n"
     ]
    }
   ],
   "source": [
    "import = 125 # keywords can't be used as identifiers"
   ]
  },
  {
   "cell_type": "code",
   "execution_count": 19,
   "id": "0fa63b62-1f82-4f74-a855-9fde5cfbf1f7",
   "metadata": {},
   "outputs": [],
   "source": [
    "\"\"\"  \n",
    "Correct way of defining an identifier\n",
    "(Identifiers can be a combination of latters in lowercase (a to z) or uppercase)\n",
    "\"\"\"\n",
    "val2 = 20"
   ]
  },
  {
   "cell_type": "code",
   "execution_count": 21,
   "id": "9a68185e-158a-4eaa-881a-13b3a94be942",
   "metadata": {},
   "outputs": [],
   "source": [
    "val_ = 99"
   ]
  },
  {
   "cell_type": "code",
   "execution_count": 23,
   "id": "678793c0-b0df-498c-8f40-d90758f3f53c",
   "metadata": {},
   "outputs": [],
   "source": [
    "# single line comment\n",
    "val1 = 10"
   ]
  },
  {
   "cell_type": "code",
   "execution_count": 25,
   "id": "455db8ca-3f17-4f26-a5b9-44638bfba3f2",
   "metadata": {},
   "outputs": [],
   "source": [
    "# Multiple \n",
    "# Line \n",
    "# Comment\n",
    "vl1 = 10"
   ]
  },
  {
   "cell_type": "code",
   "execution_count": 27,
   "id": "75051d60-ce61-4db7-bf6d-b84fc42a9852",
   "metadata": {},
   "outputs": [],
   "source": [
    "'''\n",
    "Multiple\n",
    "Line\n",
    "Comment\n",
    "'''\n",
    "val1 = 10"
   ]
  },
  {
   "cell_type": "code",
   "execution_count": 29,
   "id": "19c6fe2d-179c-424f-b780-90079cf288e5",
   "metadata": {},
   "outputs": [],
   "source": [
    "\"\"\"\n",
    "Multiple\n",
    "Line\n",
    "Comment\n",
    "\"\"\"\n",
    "val1 = 10"
   ]
  },
  {
   "cell_type": "markdown",
   "id": "3ca84e24-4e39-453f-b0f9-4551d38fdc54",
   "metadata": {},
   "source": [
    "## Statements\n",
    "- instructions that a python interapreter can excute."
   ]
  },
  {
   "cell_type": "code",
   "execution_count": 32,
   "id": "37e1069d-fd8e-4185-b52c-40edcd4aaac9",
   "metadata": {},
   "outputs": [
    {
     "data": {
      "text/plain": [
       "(20, int, '0x7ffed2d42c18')"
      ]
     },
     "execution_count": 32,
     "metadata": {},
     "output_type": "execute_result"
    }
   ],
   "source": [
    "p = 20 # creates an integer object with vakue 20 and assigns the variable p to p\n",
    "q = 20  # create new references q wich will point to value 20. p&q will be point\n",
    "r = q  # variable r will also point to the same location where p & q are pointing\n",
    "p, (type(p)), hex(id(p)) # variable p is pointing to memory location "
   ]
  },
  {
   "cell_type": "code",
   "execution_count": 34,
   "id": "19810b54-72a0-41b4-a3ae-305ef6828b06",
   "metadata": {},
   "outputs": [
    {
     "data": {
      "text/plain": [
       "(20, int, '0x7ffed2d42c18')"
      ]
     },
     "execution_count": 34,
     "metadata": {},
     "output_type": "execute_result"
    }
   ],
   "source": [
    "q, (type(q)), hex(id(q))"
   ]
  },
  {
   "cell_type": "code",
   "execution_count": 36,
   "id": "4771a9ff-8565-4b43-a552-e8b8127fea74",
   "metadata": {},
   "outputs": [
    {
     "data": {
      "text/plain": [
       "(20, int, '0x7ffed2d42c18')"
      ]
     },
     "execution_count": 36,
     "metadata": {},
     "output_type": "execute_result"
    }
   ],
   "source": [
    "r, (type(r)), hex(id(r))"
   ]
  },
  {
   "cell_type": "code",
   "execution_count": 38,
   "id": "495cc942-9831-4b70-9995-90731c1182e9",
   "metadata": {},
   "outputs": [
    {
     "data": {
      "text/plain": [
       "30"
      ]
     },
     "execution_count": 38,
     "metadata": {},
     "output_type": "execute_result"
    }
   ],
   "source": [
    "p = 20 \n",
    "p = p + 10 # variable oerwriting\n",
    "p"
   ]
  },
  {
   "cell_type": "markdown",
   "id": "a1434470-09e0-490b-b370-b92bd236f3d3",
   "metadata": {},
   "source": [
    "## varaible assignments"
   ]
  },
  {
   "cell_type": "code",
   "execution_count": 41,
   "id": "e9924004-5932-415b-9cb0-752410a219a3",
   "metadata": {},
   "outputs": [
    {
     "name": "stdout",
     "output_type": "stream",
     "text": [
      "10\n",
      "7.4\n",
      "Python language\n"
     ]
    }
   ],
   "source": [
    "intvar = 10 # Integer variable \n",
    "floatvar = 7.4 # float variable\n",
    "strvar = 'Python language' # string variable \n",
    "\n",
    "print(intvar)\n",
    "print(floatvar)\n",
    "print(strvar)"
   ]
  },
  {
   "cell_type": "markdown",
   "id": "ec1a8365-9a96-4d94-a4ed-f9d78adc00d3",
   "metadata": {},
   "source": [
    "# #  Multiple assignmant"
   ]
  },
  {
   "cell_type": "code",
   "execution_count": 44,
   "id": "122d0e22-99d7-4e73-91a8-829141d73a5d",
   "metadata": {},
   "outputs": [
    {
     "name": "stdout",
     "output_type": "stream",
     "text": [
      "10\n",
      "7.4\n",
      "Python language\n"
     ]
    }
   ],
   "source": [
    "intvar, floatvar, strvar = 10, 7.4, 'Python language' # ussing comma to seprate\n",
    "print(intvar)\n",
    "print(floatvar)\n",
    "print(strvar)"
   ]
  },
  {
   "cell_type": "code",
   "execution_count": 46,
   "id": "928a0a9c-9fbb-46ec-9a8f-afeaf2563c37",
   "metadata": {},
   "outputs": [
    {
     "name": "stdout",
     "output_type": "stream",
     "text": [
      "44 44 44 44\n"
     ]
    }
   ],
   "source": [
    "p1 =p2 = p3 = p4 = 44 # all variable pointing to same value\n",
    "print(p1,p2,p3,p4)"
   ]
  },
  {
   "cell_type": "markdown",
   "id": "4faa8502-843a-434a-b034-616e4f6013c0",
   "metadata": {},
   "source": [
    "# Data Types"
   ]
  },
  {
   "cell_type": "markdown",
   "id": "8b024c4c-112a-4b0c-a667-c787e6a7c671",
   "metadata": {},
   "source": [
    "## Numeric"
   ]
  },
  {
   "cell_type": "code",
   "execution_count": 50,
   "id": "1ce5af0f-89c8-47f1-ae37-5d06b411b3c0",
   "metadata": {},
   "outputs": [
    {
     "name": "stdout",
     "output_type": "stream",
     "text": [
      "10\n",
      "<class 'int'>\n",
      "28\n",
      "10 is Integer? True\n"
     ]
    }
   ],
   "source": [
    "val1 = 10 #integer data type\n",
    "print(val1)\n",
    "print(type(val1)) # type of object\n",
    "print(sys.getsizeof(val1)) # size of integer object in bytes\n",
    "print(val1, \"is Integer?\", isinstance(val1,int)) # val1 is an instance of int"
   ]
  },
  {
   "cell_type": "code",
   "execution_count": 52,
   "id": "27d88bfd-e175-49ab-bd20-914eae81eb36",
   "metadata": {},
   "outputs": [
    {
     "name": "stdout",
     "output_type": "stream",
     "text": [
      "56.4\n",
      "<class 'float'>\n",
      "24\n",
      "56.4 is Float? True\n"
     ]
    }
   ],
   "source": [
    "val2 = 56.40 #float data type\n",
    "print(val2)\n",
    "print(type(val2)) # type of object\n",
    "print(sys.getsizeof(val2)) # size of float object in bytes\n",
    "print(val2, \"is Float?\", isinstance(val2,float)) # val2 is an instance of float"
   ]
  },
  {
   "cell_type": "code",
   "execution_count": 54,
   "id": "181055cf-6945-4a40-b3a1-11feb46a0795",
   "metadata": {},
   "outputs": [
    {
     "name": "stdout",
     "output_type": "stream",
     "text": [
      "(34+10j)\n",
      "<class 'complex'>\n",
      "32\n",
      "(34+10j) is complex? True\n"
     ]
    }
   ],
   "source": [
    "val3 = 34+10j #complex data type\n",
    "print(val3)\n",
    "print(type(val3)) # type of object\n",
    "print(sys.getsizeof(val3)) # size of complex object in bytes\n",
    "print(val3, \"is complex?\", isinstance(val3,complex)) # val3 is an instance of complex"
   ]
  },
  {
   "cell_type": "code",
   "execution_count": 60,
   "id": "d3fe506a-a19d-4d09-9cb1-80f0759fa38c",
   "metadata": {},
   "outputs": [
    {
     "data": {
      "text/plain": [
       "28"
      ]
     },
     "execution_count": 60,
     "metadata": {},
     "output_type": "execute_result"
    }
   ],
   "source": [
    " sys.getsizeof(int()) # size of integer object in bytes"
   ]
  },
  {
   "cell_type": "code",
   "execution_count": 62,
   "id": "2c1c1350-6c0c-49eb-a975-de8515a95a7b",
   "metadata": {},
   "outputs": [
    {
     "data": {
      "text/plain": [
       "24"
      ]
     },
     "execution_count": 62,
     "metadata": {},
     "output_type": "execute_result"
    }
   ],
   "source": [
    " sys.getsizeof(float()) # size of float object in btyes"
   ]
  },
  {
   "cell_type": "code",
   "execution_count": 64,
   "id": "f8e2daa4-16d3-4f77-9abf-db835e7838b8",
   "metadata": {},
   "outputs": [
    {
     "data": {
      "text/plain": [
       "32"
      ]
     },
     "execution_count": 64,
     "metadata": {},
     "output_type": "execute_result"
    }
   ],
   "source": [
    " sys.getsizeof(complex()) # size of complex object in bytes"
   ]
  },
  {
   "cell_type": "markdown",
   "id": "ac903e7b-238c-4c5b-8a83-97ef2bf54a7c",
   "metadata": {},
   "source": [
    "# Boolean\n",
    "- Boolean data type can have onely two possible values true or false"
   ]
  },
  {
   "cell_type": "code",
   "execution_count": 70,
   "id": "3538eb50-c15d-4320-a50c-13b673634b05",
   "metadata": {},
   "outputs": [],
   "source": [
    "bool1 = True"
   ]
  },
  {
   "cell_type": "code",
   "execution_count": 72,
   "id": "692abca4-b214-41d0-ad51-21fc7d2183d3",
   "metadata": {},
   "outputs": [],
   "source": [
    "bool2 = False"
   ]
  },
  {
   "cell_type": "code",
   "execution_count": 74,
   "id": "a42d0b63-baa9-4e70-8e1b-006d3f688836",
   "metadata": {},
   "outputs": [
    {
     "name": "stdout",
     "output_type": "stream",
     "text": [
      "<class 'bool'>\n"
     ]
    }
   ],
   "source": [
    "print(type(bool1))"
   ]
  },
  {
   "cell_type": "code",
   "execution_count": 76,
   "id": "f21aaa93-a31f-472d-8949-d41347aaaa57",
   "metadata": {},
   "outputs": [
    {
     "name": "stdout",
     "output_type": "stream",
     "text": [
      "<class 'bool'>\n"
     ]
    }
   ],
   "source": [
    "print(type(bool2))"
   ]
  },
  {
   "cell_type": "code",
   "execution_count": 78,
   "id": "22230a82-4192-4a7b-8603-1fae2e28775a",
   "metadata": {},
   "outputs": [
    {
     "data": {
      "text/plain": [
       "True"
      ]
     },
     "execution_count": 78,
     "metadata": {},
     "output_type": "execute_result"
    }
   ],
   "source": [
    "isinstance(bool1,bool)"
   ]
  },
  {
   "cell_type": "code",
   "execution_count": 80,
   "id": "42ddf080-4229-42f7-a07c-7e83b0ab563e",
   "metadata": {},
   "outputs": [
    {
     "data": {
      "text/plain": [
       "False"
      ]
     },
     "execution_count": 80,
     "metadata": {},
     "output_type": "execute_result"
    }
   ],
   "source": [
    "bool(0)"
   ]
  },
  {
   "cell_type": "code",
   "execution_count": 82,
   "id": "47dea431-e7b0-4688-a368-76e0b3b98f2e",
   "metadata": {},
   "outputs": [
    {
     "data": {
      "text/plain": [
       "True"
      ]
     },
     "execution_count": 82,
     "metadata": {},
     "output_type": "execute_result"
    }
   ],
   "source": [
    "bool(1)"
   ]
  },
  {
   "cell_type": "code",
   "execution_count": 84,
   "id": "cbb3bced-3333-4c73-9097-ae702bc96f8a",
   "metadata": {},
   "outputs": [
    {
     "data": {
      "text/plain": [
       "False"
      ]
     },
     "execution_count": 84,
     "metadata": {},
     "output_type": "execute_result"
    }
   ],
   "source": [
    "bool(None)"
   ]
  },
  {
   "cell_type": "code",
   "execution_count": 86,
   "id": "75989c23-e28d-47c9-b03e-ddce604abdb0",
   "metadata": {},
   "outputs": [
    {
     "data": {
      "text/plain": [
       "False"
      ]
     },
     "execution_count": 86,
     "metadata": {},
     "output_type": "execute_result"
    }
   ],
   "source": [
    "bool(False)"
   ]
  },
  {
   "cell_type": "markdown",
   "id": "8ee25735-4f06-4b41-9b18-11b201fee3ae",
   "metadata": {},
   "source": [
    "# string\n",
    "## string creation"
   ]
  },
  {
   "cell_type": "code",
   "execution_count": 92,
   "id": "f48ba515-4165-40f2-b245-79896bfe3760",
   "metadata": {},
   "outputs": [
    {
     "name": "stdout",
     "output_type": "stream",
     "text": [
      "hello python\n"
     ]
    }
   ],
   "source": [
    "str1 = \"hello python\"\n",
    "print(str1)"
   ]
  },
  {
   "cell_type": "code",
   "execution_count": 94,
   "id": "4eb600b5-0f23-4302-baec-4419df2ab5b6",
   "metadata": {},
   "outputs": [
    {
     "name": "stdout",
     "output_type": "stream",
     "text": [
      "Hello world\n"
     ]
    }
   ],
   "source": [
    "mystr = 'Hello world'  # define  string using single quotes\n",
    "print(mystr)"
   ]
  },
  {
   "cell_type": "code",
   "execution_count": 96,
   "id": "dc31775f-35c3-4296-8a59-13f55ede1f6d",
   "metadata": {},
   "outputs": [
    {
     "name": "stdout",
     "output_type": "stream",
     "text": [
      "Hello world\n"
     ]
    }
   ],
   "source": [
    "mystr = \"Hello world\"  # define  string using double quotes\n",
    "print(mystr)"
   ]
  },
  {
   "cell_type": "code",
   "execution_count": 98,
   "id": "9f916f2a-a132-4bb4-9fe2-802c8955c5e8",
   "metadata": {},
   "outputs": [
    {
     "name": "stdout",
     "output_type": "stream",
     "text": [
      "Hello\n",
      "                world\n"
     ]
    }
   ],
   "source": [
    "mystr = '''Hello\n",
    "                world'''  # define  string using triple quotes\n",
    "print(mystr)"
   ]
  },
  {
   "cell_type": "code",
   "execution_count": 100,
   "id": "57b15539-e305-4348-953f-4a3027af5eaf",
   "metadata": {},
   "outputs": [
    {
     "name": "stdout",
     "output_type": "stream",
     "text": [
      "Hello\n",
      "                world\n"
     ]
    }
   ],
   "source": [
    "mystr = \"\"\"Hello\n",
    "                world\"\"\"  # define  string using triple quotes\n",
    "print(mystr)"
   ]
  },
  {
   "cell_type": "code",
   "execution_count": 106,
   "id": "0ee73a75-652a-4392-b723-9b028dbc519c",
   "metadata": {},
   "outputs": [
    {
     "name": "stdout",
     "output_type": "stream",
     "text": [
      "happy sunday Everyone\n"
     ]
    }
   ],
   "source": [
    "mystr = ('happy ' \n",
    "         'sunday '\n",
    "         'Everyone')\n",
    "print(mystr)"
   ]
  },
  {
   "cell_type": "code",
   "execution_count": 110,
   "id": "339b666d-8f59-426b-b364-2570ef23f652",
   "metadata": {},
   "outputs": [
    {
     "data": {
      "text/plain": [
       "'woohoo woohoo woohoo woohoo woohoo '"
      ]
     },
     "execution_count": 110,
     "metadata": {},
     "output_type": "execute_result"
    }
   ],
   "source": [
    "mystr2 = 'woohoo '\n",
    "mystr2 = mystr2*5\n",
    "mystr2"
   ]
  },
  {
   "cell_type": "code",
   "execution_count": 114,
   "id": "2a2dc8a2-1aab-4acd-9cfa-1c47fd82ec76",
   "metadata": {},
   "outputs": [
    {
     "data": {
      "text/plain": [
       "35"
      ]
     },
     "execution_count": 114,
     "metadata": {},
     "output_type": "execute_result"
    }
   ],
   "source": [
    "len(mystr2)   # check length of string"
   ]
  },
  {
   "cell_type": "code",
   "execution_count": 116,
   "id": "ff902f2c-f3b9-4c4c-9a1f-f11644aae3c8",
   "metadata": {},
   "outputs": [
    {
     "data": {
      "text/plain": [
       "'hello python'"
      ]
     },
     "execution_count": 116,
     "metadata": {},
     "output_type": "execute_result"
    }
   ],
   "source": [
    "str1"
   ]
  },
  {
   "cell_type": "code",
   "execution_count": 120,
   "id": "0989f755-9c1b-4166-bd98-24ab16b3ce23",
   "metadata": {},
   "outputs": [
    {
     "data": {
      "text/plain": [
       "'h'"
      ]
     },
     "execution_count": 120,
     "metadata": {},
     "output_type": "execute_result"
    }
   ],
   "source": [
    "str1[0] # first characters in string1"
   ]
  },
  {
   "cell_type": "code",
   "execution_count": 122,
   "id": "5c1bd5bc-d2f0-4b41-b43e-a9cb273ede64",
   "metadata": {},
   "outputs": [
    {
     "data": {
      "text/plain": [
       "'n'"
      ]
     },
     "execution_count": 122,
     "metadata": {},
     "output_type": "execute_result"
    }
   ],
   "source": [
    "str1[len(str1)-1] # last character in string using function"
   ]
  },
  {
   "cell_type": "code",
   "execution_count": 124,
   "id": "97f594bd-9d8b-498a-b94d-9aefbe823060",
   "metadata": {},
   "outputs": [
    {
     "data": {
      "text/plain": [
       "'n'"
      ]
     },
     "execution_count": 124,
     "metadata": {},
     "output_type": "execute_result"
    }
   ],
   "source": [
    "str1[-1] # last character in string"
   ]
  },
  {
   "cell_type": "code",
   "execution_count": 126,
   "id": "ecc09be9-2347-4633-9cb3-309a5c86c179",
   "metadata": {},
   "outputs": [
    {
     "data": {
      "text/plain": [
       "'p'"
      ]
     },
     "execution_count": 126,
     "metadata": {},
     "output_type": "execute_result"
    }
   ],
   "source": [
    "str1[6] # fetch 7th  element of string"
   ]
  },
  {
   "cell_type": "code",
   "execution_count": 130,
   "id": "f00d8838-f4ec-43c5-9d86-bdebeef50c22",
   "metadata": {},
   "outputs": [
    {
     "data": {
      "text/plain": [
       "'o'"
      ]
     },
     "execution_count": 130,
     "metadata": {},
     "output_type": "execute_result"
    }
   ],
   "source": [
    "str1[4]"
   ]
  },
  {
   "cell_type": "markdown",
   "id": "4bac052c-3000-46ec-84c9-33c4d4340b86",
   "metadata": {},
   "source": [
    "## string slicing"
   ]
  },
  {
   "cell_type": "code",
   "execution_count": 133,
   "id": "e4e065d8-a360-4252-b878-a0ab48586874",
   "metadata": {},
   "outputs": [
    {
     "data": {
      "text/plain": [
       "'hello python'"
      ]
     },
     "execution_count": 133,
     "metadata": {},
     "output_type": "execute_result"
    }
   ],
   "source": [
    "str = str1\n",
    "str"
   ]
  },
  {
   "cell_type": "code",
   "execution_count": 135,
   "id": "aeb1703c-4854-4697-9b4b-6d4857559c3f",
   "metadata": {},
   "outputs": [
    {
     "data": {
      "text/plain": [
       "'hello'"
      ]
     },
     "execution_count": 135,
     "metadata": {},
     "output_type": "execute_result"
    }
   ],
   "source": [
    "str[0:5] ## start sclicing - fetch all character from 0 to 5 index location exe"
   ]
  },
  {
   "cell_type": "code",
   "execution_count": 137,
   "id": "d123a69c-bfb5-4fcb-b0fc-606d5515233e",
   "metadata": {},
   "outputs": [
    {
     "data": {
      "text/plain": [
       "'python'"
      ]
     },
     "execution_count": 137,
     "metadata": {},
     "output_type": "execute_result"
    }
   ],
   "source": [
    "str[6:12]  #string slicing  retrive all characters between 6 - 12 index loc e"
   ]
  },
  {
   "cell_type": "code",
   "execution_count": 139,
   "id": "d5074b8c-92b6-4a62-8180-e2e6bef63985",
   "metadata": {},
   "outputs": [
    {
     "data": {
      "text/plain": [
       "'thon'"
      ]
     },
     "execution_count": 139,
     "metadata": {},
     "output_type": "execute_result"
    }
   ],
   "source": [
    "str[-4:]  # retreive last characters of the string"
   ]
  },
  {
   "cell_type": "code",
   "execution_count": 141,
   "id": "f89750d5-d6b4-49ec-bc50-606c829848c9",
   "metadata": {},
   "outputs": [
    {
     "data": {
      "text/plain": [
       "'hello py'"
      ]
     },
     "execution_count": 141,
     "metadata": {},
     "output_type": "execute_result"
    }
   ],
   "source": [
    "str[:-4]"
   ]
  },
  {
   "cell_type": "code",
   "execution_count": 143,
   "id": "9ecfb5a1-f55a-49d1-8d65-60f28e3b475b",
   "metadata": {},
   "outputs": [
    {
     "data": {
      "text/plain": [
       "'python'"
      ]
     },
     "execution_count": 143,
     "metadata": {},
     "output_type": "execute_result"
    }
   ],
   "source": [
    "str[-6:] # retreive last six characters of the string "
   ]
  },
  {
   "cell_type": "code",
   "execution_count": 145,
   "id": "c9c15089-c974-49cf-8bf4-fc605dee1bba",
   "metadata": {},
   "outputs": [
    {
     "data": {
      "text/plain": [
       "'hell'"
      ]
     },
     "execution_count": 145,
     "metadata": {},
     "output_type": "execute_result"
    }
   ],
   "source": [
    "str[:4] # retreive first four characters of the string "
   ]
  },
  {
   "cell_type": "code",
   "execution_count": 147,
   "id": "b90217aa-4684-4634-b586-978a246e730c",
   "metadata": {},
   "outputs": [
    {
     "data": {
      "text/plain": [
       "'hello '"
      ]
     },
     "execution_count": 147,
     "metadata": {},
     "output_type": "execute_result"
    }
   ],
   "source": [
    "str[:6] # retreive first  six characters of the string "
   ]
  },
  {
   "cell_type": "markdown",
   "id": "0a58aae8-f528-4245-adac-ca44aac85f5a",
   "metadata": {},
   "source": [
    "##  update a & delete string "
   ]
  },
  {
   "cell_type": "code",
   "execution_count": 150,
   "id": "6170505a-5479-4788-b9a9-ef0b47b146bd",
   "metadata": {},
   "outputs": [
    {
     "ename": "TypeError",
     "evalue": "'str' object does not support item assignment",
     "output_type": "error",
     "traceback": [
      "\u001b[1;31m---------------------------------------------------------------------------\u001b[0m",
      "\u001b[1;31mTypeError\u001b[0m                                 Traceback (most recent call last)",
      "Cell \u001b[1;32mIn[150], line 2\u001b[0m\n\u001b[0;32m      1\u001b[0m \u001b[38;5;66;03m# string are immutable wich means elements of a string cannot be changed once\u001b[39;00m\n\u001b[1;32m----> 2\u001b[0m \u001b[38;5;28mstr\u001b[39m[\u001b[38;5;241m0\u001b[39m:\u001b[38;5;241m5\u001b[39m]\u001b[38;5;241m=\u001b[39m \u001b[38;5;124m'\u001b[39m\u001b[38;5;124mHollaa\u001b[39m\u001b[38;5;124m'\u001b[39m\n",
      "\u001b[1;31mTypeError\u001b[0m: 'str' object does not support item assignment"
     ]
    }
   ],
   "source": [
    "# string are immutable wich means elements of a string cannot be changed once\n",
    "str[0:5]= 'Hollaa'"
   ]
  },
  {
   "cell_type": "code",
   "execution_count": 152,
   "id": "f20a1530-76f2-47bb-8a00-264fc10d0b2d",
   "metadata": {},
   "outputs": [
    {
     "name": "stdout",
     "output_type": "stream",
     "text": [
      "<class 'str'>\n"
     ]
    }
   ],
   "source": [
    "del str # Delete astring\n",
    "print(str)"
   ]
  },
  {
   "cell_type": "code",
   "execution_count": null,
   "id": "446b3544-ee9a-431a-b491-d9e7d6d134e1",
   "metadata": {},
   "outputs": [],
   "source": []
  }
 ],
 "metadata": {
  "kernelspec": {
   "display_name": "Python [conda env:base] *",
   "language": "python",
   "name": "conda-base-py"
  },
  "language_info": {
   "codemirror_mode": {
    "name": "ipython",
    "version": 3
   },
   "file_extension": ".py",
   "mimetype": "text/x-python",
   "name": "python",
   "nbconvert_exporter": "python",
   "pygments_lexer": "ipython3",
   "version": "3.12.7"
  }
 },
 "nbformat": 4,
 "nbformat_minor": 5
}
