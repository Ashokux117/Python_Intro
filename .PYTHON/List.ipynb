{
 "cells": [
  {
   "cell_type": "markdown",
   "id": "1c97bf4a-9ae0-426a-baec-3d715e5d18d6",
   "metadata": {},
   "source": [
    "## Using  Escape cahracter "
   ]
  },
  {
   "cell_type": "code",
   "execution_count": null,
   "id": "5f7cb6c0-11fc-4184-96cb-af3d243c8d19",
   "metadata": {},
   "outputs": [],
   "source": [
    "# using double  quotes in the string is not allowed.\n",
    "mystr = 'my favourite webseries is 'maharani''"
   ]
  },
  {
   "cell_type": "code",
   "execution_count": 6,
   "id": "9f46bf32-bdc2-48ab-8cb0-2dc5b21a30e4",
   "metadata": {},
   "outputs": [
    {
     "name": "stdout",
     "output_type": "stream",
     "text": [
      "my favourite web series is \"Maharani\"\n"
     ]
    }
   ],
   "source": [
    "# Using escape caharacter to allow illegal characters \n",
    "mystr = \"my favourite web series is \\\"Maharani\\\"\"\n",
    "print(mystr)"
   ]
  },
  {
   "cell_type": "markdown",
   "id": "aebef7dd-4eef-4db8-b05b-aa387440c13b",
   "metadata": {},
   "source": [
    "#  List \n",
    "- 1.) list is an ordered sequence of items .\n",
    "- 2.) We can have different data types under a list E.g we can have integer, float, and string items in a same list."
   ]
  },
  {
   "cell_type": "markdown",
   "id": "12498bbd-5feb-4ab6-886e-36601d6a85ae",
   "metadata": {},
   "source": [
    "## List creation "
   ]
  },
  {
   "cell_type": "code",
   "execution_count": 14,
   "id": "86c75ae1-839d-4e51-9584-17f3a15ce004",
   "metadata": {},
   "outputs": [],
   "source": [
    "list1 = [] #empty list "
   ]
  },
  {
   "cell_type": "code",
   "execution_count": 16,
   "id": "8aef716b-19f2-4590-b9bc-38d6e1a1d978",
   "metadata": {},
   "outputs": [
    {
     "name": "stdout",
     "output_type": "stream",
     "text": [
      "<class 'list'>\n"
     ]
    }
   ],
   "source": [
    "print(type(list1))"
   ]
  },
  {
   "cell_type": "code",
   "execution_count": 24,
   "id": "176f84db-d664-4384-bd85-62dcd07f63b1",
   "metadata": {},
   "outputs": [
    {
     "data": {
      "text/plain": [
       "[10, 20, 30, 60]"
      ]
     },
     "execution_count": 24,
     "metadata": {},
     "output_type": "execute_result"
    }
   ],
   "source": [
    "list2 = [10, 20, 30, 60]  # list of integers numbers \n",
    "list2"
   ]
  },
  {
   "cell_type": "code",
   "execution_count": 26,
   "id": "2e7326dd-89cf-4719-a042-8e3c0089385e",
   "metadata": {},
   "outputs": [
    {
     "data": {
      "text/plain": [
       "[20.23, 14.53, 55.34]"
      ]
     },
     "execution_count": 26,
     "metadata": {},
     "output_type": "execute_result"
    }
   ],
   "source": [
    "list3 = [ 20.23, 14.53, 55.34]  # list of float numbers \n",
    "list3"
   ]
  },
  {
   "cell_type": "code",
   "execution_count": 28,
   "id": "f6e5c3ff-f25a-4ac5-8283-d8b617f0ea21",
   "metadata": {},
   "outputs": [
    {
     "data": {
      "text/plain": [
       "['one', 'two', 'three', 'four']"
      ]
     },
     "execution_count": 28,
     "metadata": {},
     "output_type": "execute_result"
    }
   ],
   "source": [
    "list4 = ['one', 'two', 'three','four'] # list of string numbers\n",
    "list4"
   ]
  },
  {
   "cell_type": "code",
   "execution_count": 30,
   "id": "33de0727-b0d7-4ca2-bf5e-21ff24acbb36",
   "metadata": {},
   "outputs": [
    {
     "data": {
      "text/plain": [
       "[10, 23.43, 'sanjay', [34, 56], [34, 46, 50]]"
      ]
     },
     "execution_count": 30,
     "metadata": {},
     "output_type": "execute_result"
    }
   ],
   "source": [
    "list5 = [10, 23.43, 'sanjay',[34,56], [34,46,50]] # nasted list \n",
    "list5"
   ]
  },
  {
   "cell_type": "code",
   "execution_count": 32,
   "id": "7030133a-0f52-44b5-9654-68f44cdacf13",
   "metadata": {},
   "outputs": [
    {
     "data": {
      "text/plain": [
       "[100, 'sanjay', 34.56]"
      ]
     },
     "execution_count": 32,
     "metadata": {},
     "output_type": "execute_result"
    }
   ],
   "source": [
    "list6 = [100, 'sanjay', 34.56] # list of mixed data types\n",
    "list6"
   ]
  },
  {
   "cell_type": "code",
   "execution_count": 34,
   "id": "4eb3e4f0-a63f-4b4d-b08d-519dfc09275b",
   "metadata": {},
   "outputs": [
    {
     "data": {
      "text/plain": [
       "['rahul', 34, [34, 56], [25, 58], {'nehru', 'raju'}]"
      ]
     },
     "execution_count": 34,
     "metadata": {},
     "output_type": "execute_result"
    }
   ],
   "source": [
    "list7 = ['rahul', 34,[34,56],[25,58],{'nehru','raju'}]\n",
    "list7"
   ]
  },
  {
   "cell_type": "code",
   "execution_count": 36,
   "id": "18c6624a-d758-4f1e-b610-a24e375ade6c",
   "metadata": {},
   "outputs": [
    {
     "data": {
      "text/plain": [
       "3"
      ]
     },
     "execution_count": 36,
     "metadata": {},
     "output_type": "execute_result"
    }
   ],
   "source": [
    "len(list6)  # length of list6"
   ]
  },
  {
   "cell_type": "code",
   "execution_count": 38,
   "id": "bdbda00a-9920-4992-9b67-a8bfe8209dac",
   "metadata": {},
   "outputs": [
    {
     "data": {
      "text/plain": [
       "10"
      ]
     },
     "execution_count": 38,
     "metadata": {},
     "output_type": "execute_result"
    }
   ],
   "source": [
    "list2[0] # retarive first element of the list"
   ]
  },
  {
   "cell_type": "code",
   "execution_count": 40,
   "id": "eb7db4b3-a560-4c68-90a5-640476e8f716",
   "metadata": {},
   "outputs": [
    {
     "data": {
      "text/plain": [
       "'one'"
      ]
     },
     "execution_count": 40,
     "metadata": {},
     "output_type": "execute_result"
    }
   ],
   "source": [
    "list4[0]# retarive first element of the list"
   ]
  },
  {
   "cell_type": "code",
   "execution_count": 42,
   "id": "0c760a62-df04-4ac3-a837-b513eb20b8df",
   "metadata": {},
   "outputs": [
    {
     "data": {
      "text/plain": [
       "'o'"
      ]
     },
     "execution_count": 42,
     "metadata": {},
     "output_type": "execute_result"
    }
   ],
   "source": [
    "list4[0][0] # nasted indexing access the first characters of the first list element"
   ]
  },
  {
   "cell_type": "code",
   "execution_count": 46,
   "id": "60c829ce-0084-4850-8ef3-af205e941c58",
   "metadata": {},
   "outputs": [
    {
     "data": {
      "text/plain": [
       "'four'"
      ]
     },
     "execution_count": 46,
     "metadata": {},
     "output_type": "execute_result"
    }
   ],
   "source": [
    "list4[-1] # last item of the list "
   ]
  },
  {
   "cell_type": "code",
   "execution_count": 50,
   "id": "2cbc1e76-b4a7-483e-a57e-9338033a612e",
   "metadata": {},
   "outputs": [
    {
     "data": {
      "text/plain": [
       "[34, 46, 50]"
      ]
     },
     "execution_count": 50,
     "metadata": {},
     "output_type": "execute_result"
    }
   ],
   "source": [
    "list5[-1] # last item of the list"
   ]
  },
  {
   "cell_type": "markdown",
   "id": "93ed5882-ae40-45cd-b8fd-e5ad45054361",
   "metadata": {},
   "source": [
    "## List slicing"
   ]
  },
  {
   "cell_type": "code",
   "execution_count": 53,
   "id": "382da2c9-fc7f-481c-8fb2-36f97de9d09f",
   "metadata": {},
   "outputs": [
    {
     "data": {
      "text/plain": [
       "['one', 'two', 'three', 'four', 'five', 'six', 'seven', 'eight']"
      ]
     },
     "execution_count": 53,
     "metadata": {},
     "output_type": "execute_result"
    }
   ],
   "source": [
    "mylist = ['one','two','three','four','five','six', 'seven', 'eight']\n",
    "mylist"
   ]
  },
  {
   "cell_type": "code",
   "execution_count": 55,
   "id": "d05bbd4c-6bf1-40c3-aae7-483f9b60f787",
   "metadata": {},
   "outputs": [
    {
     "data": {
      "text/plain": [
       "['one', 'two', 'three']"
      ]
     },
     "execution_count": 55,
     "metadata": {},
     "output_type": "execute_result"
    }
   ],
   "source": [
    "mylist[0:3] # return all item from 0 to 3rd index location excuting the item "
   ]
  },
  {
   "cell_type": "code",
   "execution_count": 57,
   "id": "a5a7be8b-d125-4606-9433-4efca03874df",
   "metadata": {},
   "outputs": [
    {
     "data": {
      "text/plain": [
       "['three', 'four', 'five']"
      ]
     },
     "execution_count": 57,
     "metadata": {},
     "output_type": "execute_result"
    }
   ],
   "source": [
    "mylist[2:5] # list all item from 2nd to 5th index location excluding the item \n"
   ]
  },
  {
   "cell_type": "code",
   "execution_count": 59,
   "id": "95e8bae9-2b67-42f6-a916-d9dce6170f9d",
   "metadata": {},
   "outputs": [
    {
     "data": {
      "text/plain": [
       "['one', 'two', 'three']"
      ]
     },
     "execution_count": 59,
     "metadata": {},
     "output_type": "execute_result"
    }
   ],
   "source": [
    "mylist[:3]  # return first three item "
   ]
  },
  {
   "cell_type": "code",
   "execution_count": 61,
   "id": "97d667a5-4236-42dd-94c2-2b14e8260d91",
   "metadata": {},
   "outputs": [
    {
     "data": {
      "text/plain": [
       "['one', 'two']"
      ]
     },
     "execution_count": 61,
     "metadata": {},
     "output_type": "execute_result"
    }
   ],
   "source": [
    "mylist[:2] # return first two item "
   ]
  },
  {
   "cell_type": "code",
   "execution_count": 65,
   "id": "e615bab2-0c9c-4397-b586-486ea4e3a49f",
   "metadata": {},
   "outputs": [
    {
     "data": {
      "text/plain": [
       "['six', 'seven', 'eight']"
      ]
     },
     "execution_count": 65,
     "metadata": {},
     "output_type": "execute_result"
    }
   ],
   "source": [
    "mylist[-3:] # return last three item"
   ]
  },
  {
   "cell_type": "code",
   "execution_count": 67,
   "id": "315b3ae2-afa6-4d57-8778-034e91f2c855",
   "metadata": {},
   "outputs": [
    {
     "data": {
      "text/plain": [
       "['seven', 'eight']"
      ]
     },
     "execution_count": 67,
     "metadata": {},
     "output_type": "execute_result"
    }
   ],
   "source": [
    "mylist[-2:]"
   ]
  },
  {
   "cell_type": "code",
   "execution_count": 69,
   "id": "340b9e4c-02e5-469a-ad3e-67e9d9d6eb60",
   "metadata": {},
   "outputs": [
    {
     "data": {
      "text/plain": [
       "'eight'"
      ]
     },
     "execution_count": 69,
     "metadata": {},
     "output_type": "execute_result"
    }
   ],
   "source": [
    "mylist[-1]"
   ]
  },
  {
   "cell_type": "code",
   "execution_count": 75,
   "id": "45982899-f2cd-4702-b1c4-0e2bc24e6d3a",
   "metadata": {},
   "outputs": [
    {
     "data": {
      "text/plain": [
       "['one', 'two', 'three', 'four', 'five', 'six', 'seven', 'eight']"
      ]
     },
     "execution_count": 75,
     "metadata": {},
     "output_type": "execute_result"
    }
   ],
   "source": [
    "mylist[:]  # return whole list"
   ]
  },
  {
   "cell_type": "markdown",
   "id": "4652c72c-a548-43fb-b392-fd133fd1100f",
   "metadata": {},
   "source": [
    "## Add Remove & change item "
   ]
  },
  {
   "cell_type": "code",
   "execution_count": 78,
   "id": "a5935a8f-6bfd-4153-ad9b-7c34354d8347",
   "metadata": {},
   "outputs": [
    {
     "data": {
      "text/plain": [
       "['one', 'two', 'three', 'four', 'five', 'six', 'seven', 'eight']"
      ]
     },
     "execution_count": 78,
     "metadata": {},
     "output_type": "execute_result"
    }
   ],
   "source": [
    "mylist"
   ]
  },
  {
   "cell_type": "code",
   "execution_count": 80,
   "id": "e9f1c5df-6860-4de5-8022-26a68781f20b",
   "metadata": {},
   "outputs": [
    {
     "data": {
      "text/plain": [
       "['one', 'two', 'three', 'four', 'five', 'six', 'seven', 'eight', 'nine']"
      ]
     },
     "execution_count": 80,
     "metadata": {},
     "output_type": "execute_result"
    }
   ],
   "source": [
    "mylist.append('nine') # add an item to the end of the list\n",
    "mylist"
   ]
  },
  {
   "cell_type": "code",
   "execution_count": 82,
   "id": "1944b24b-10a6-454c-897c-3c2412d0caf2",
   "metadata": {},
   "outputs": [
    {
     "data": {
      "text/plain": [
       "['one', 'two', 'three', 'four', 'five', 'six', 'seven', 'eight', 'nine', 'ten']"
      ]
     },
     "execution_count": 82,
     "metadata": {},
     "output_type": "execute_result"
    }
   ],
   "source": [
    "mylist.insert(9,'ten') # add item to  index location 9\n",
    "mylist"
   ]
  },
  {
   "cell_type": "code",
   "execution_count": 84,
   "id": "1f0d617c-2d53-4acc-93c8-e61628a64cee",
   "metadata": {},
   "outputs": [
    {
     "data": {
      "text/plain": [
       "['one',\n",
       " 'ONE',\n",
       " 'two',\n",
       " 'three',\n",
       " 'four',\n",
       " 'five',\n",
       " 'six',\n",
       " 'seven',\n",
       " 'eight',\n",
       " 'nine',\n",
       " 'ten']"
      ]
     },
     "execution_count": 84,
     "metadata": {},
     "output_type": "execute_result"
    }
   ],
   "source": [
    "mylist.insert(1,'ONE') # add item at Index location 1 \n",
    "mylist "
   ]
  },
  {
   "cell_type": "code",
   "execution_count": 86,
   "id": "34c96310-b352-4756-9281-272a789608b6",
   "metadata": {},
   "outputs": [
    {
     "data": {
      "text/plain": [
       "['one', 'two', 'three', 'four', 'five', 'six', 'seven', 'eight', 'nine', 'ten']"
      ]
     },
     "execution_count": 86,
     "metadata": {},
     "output_type": "execute_result"
    }
   ],
   "source": [
    "mylist.remove(\"ONE\") # remove item \"ONE\"\n",
    "mylist"
   ]
  },
  {
   "cell_type": "code",
   "execution_count": 88,
   "id": "ebc83b00-332b-4034-ba3c-040073998f43",
   "metadata": {},
   "outputs": [
    {
     "data": {
      "text/plain": [
       "['one', 'two', 'three', 'four', 'five', 'six', 'seven', 'eight', 'nine']"
      ]
     },
     "execution_count": 88,
     "metadata": {},
     "output_type": "execute_result"
    }
   ],
   "source": [
    "mylist.pop() # remove last item of the list\n",
    "mylist"
   ]
  },
  {
   "cell_type": "code",
   "execution_count": 100,
   "id": "c978c662-eecd-4914-9dd5-359ec6d0504c",
   "metadata": {},
   "outputs": [
    {
     "data": {
      "text/plain": [
       "['one', 'two', 'three', 'four', 'five', 'six', 'seven']"
      ]
     },
     "execution_count": 100,
     "metadata": {},
     "output_type": "execute_result"
    }
   ],
   "source": [
    "mylist.pop(7) # remove last at index location 8\n",
    "mylist"
   ]
  },
  {
   "cell_type": "code",
   "execution_count": 102,
   "id": "b85ec9be-450b-4849-98fa-44f070fb43bd",
   "metadata": {},
   "outputs": [
    {
     "data": {
      "text/plain": [
       "['one', 'two', 'three', 'four', 'five', 'six']"
      ]
     },
     "execution_count": 102,
     "metadata": {},
     "output_type": "execute_result"
    }
   ],
   "source": [
    "del mylist[6] # remove item a hthe index location 6\n",
    "mylist "
   ]
  },
  {
   "cell_type": "code",
   "execution_count": 104,
   "id": "696b708b-4bfa-4871-b1e1-cdc6273dd2fd",
   "metadata": {},
   "outputs": [
    {
     "data": {
      "text/plain": [
       "[1, 2, 3, 4, 'five', 'six']"
      ]
     },
     "execution_count": 104,
     "metadata": {},
     "output_type": "execute_result"
    }
   ],
   "source": [
    "# change value of the string\n",
    "mylist[0] = 1\n",
    "mylist[1] = 2\n",
    "mylist[2] = 3\n",
    "mylist[3] = 4\n",
    "mylist"
   ]
  },
  {
   "cell_type": "code",
   "execution_count": 106,
   "id": "f133e15d-c825-4898-b37a-833837ba377d",
   "metadata": {},
   "outputs": [
    {
     "data": {
      "text/plain": [
       "[]"
      ]
     },
     "execution_count": 106,
     "metadata": {},
     "output_type": "execute_result"
    }
   ],
   "source": [
    "mylist.clear() # empty list/ Delete all items in the list \n",
    "mylist"
   ]
  },
  {
   "cell_type": "code",
   "execution_count": 108,
   "id": "bf86233f-7818-452c-a173-0825ec1e0091",
   "metadata": {},
   "outputs": [
    {
     "ename": "NameError",
     "evalue": "name 'mylist' is not defined",
     "output_type": "error",
     "traceback": [
      "\u001b[1;31m---------------------------------------------------------------------------\u001b[0m",
      "\u001b[1;31mNameError\u001b[0m                                 Traceback (most recent call last)",
      "Cell \u001b[1;32mIn[108], line 2\u001b[0m\n\u001b[0;32m      1\u001b[0m \u001b[38;5;28;01mdel\u001b[39;00m mylist \u001b[38;5;66;03m# delee the whole list\u001b[39;00m\n\u001b[1;32m----> 2\u001b[0m mylist\n",
      "\u001b[1;31mNameError\u001b[0m: name 'mylist' is not defined"
     ]
    }
   ],
   "source": [
    "del mylist # delee the whole list\n",
    "mylist"
   ]
  },
  {
   "cell_type": "markdown",
   "id": "7c2ad8bc-e919-48ba-b1a5-b5ddfc697f06",
   "metadata": {},
   "source": [
    "## Copy List"
   ]
  },
  {
   "cell_type": "code",
   "execution_count": 112,
   "id": "37bd5c13-36af-4287-a69a-7474f68e49bf",
   "metadata": {},
   "outputs": [
    {
     "data": {
      "text/plain": [
       "['one', 'two', 'three', 'four', 'five', 'six', 'seven', 'eight']"
      ]
     },
     "execution_count": 112,
     "metadata": {},
     "output_type": "execute_result"
    }
   ],
   "source": [
    "mylist = ['one','two','three','four','five','six', 'seven', 'eight']\n",
    "mylist"
   ]
  },
  {
   "cell_type": "code",
   "execution_count": 114,
   "id": "b4e84f9b-5033-4abe-ad99-5f4a26d54870",
   "metadata": {},
   "outputs": [],
   "source": [
    "mylist1 = mylist  # create a new refrences \"mylist1\""
   ]
  },
  {
   "cell_type": "code",
   "execution_count": 116,
   "id": "98568386-4eee-452d-8d16-e79b97ea6b7e",
   "metadata": {},
   "outputs": [
    {
     "data": {
      "text/plain": [
       "(2493398395904, 2493398395904)"
      ]
     },
     "execution_count": 116,
     "metadata": {},
     "output_type": "execute_result"
    }
   ],
   "source": [
    "id(mylist),id(mylist1)  # the address of the both mylist & mylist1 will be the same \n"
   ]
  },
  {
   "cell_type": "code",
   "execution_count": 118,
   "id": "5b09b186-0ad5-4930-b7f6-57a02e13e13a",
   "metadata": {},
   "outputs": [],
   "source": [
    "mylist2 = mylist.copy()# Create a copy of the list "
   ]
  },
  {
   "cell_type": "code",
   "execution_count": 120,
   "id": "4b035581-86b0-4434-a07c-03fbdb7cf305",
   "metadata": {},
   "outputs": [
    {
     "data": {
      "text/plain": [
       "2493398784384"
      ]
     },
     "execution_count": 120,
     "metadata": {},
     "output_type": "execute_result"
    }
   ],
   "source": [
    "id(mylist2) # the address of mylist2 will be different from mylis bacause mylist"
   ]
  },
  {
   "cell_type": "code",
   "execution_count": 122,
   "id": "f0876fbe-67ff-4852-8418-0d1a4b4a4de9",
   "metadata": {},
   "outputs": [],
   "source": [
    "mylist[0] = 1"
   ]
  },
  {
   "cell_type": "code",
   "execution_count": 126,
   "id": "34bea626-bfc2-4bbe-bd4d-b4674c61723d",
   "metadata": {},
   "outputs": [
    {
     "data": {
      "text/plain": [
       "[1, 'two', 'three', 'four', 'five', 'six', 'seven', 'eight']"
      ]
     },
     "execution_count": 126,
     "metadata": {},
     "output_type": "execute_result"
    }
   ],
   "source": [
    "mylist # mylist will be also impaced as it is pointing to the same list "
   ]
  },
  {
   "cell_type": "code",
   "execution_count": 128,
   "id": "1a7d5ac1-306a-4b32-90bf-d0681bd227d0",
   "metadata": {},
   "outputs": [
    {
     "data": {
      "text/plain": [
       "['one', 'two', 'three', 'four', 'five', 'six', 'seven', 'eight']"
      ]
     },
     "execution_count": 128,
     "metadata": {},
     "output_type": "execute_result"
    }
   ],
   "source": [
    "mylist2 # copy of list won't be impacted due o cahnges made on the original list"
   ]
  },
  {
   "cell_type": "markdown",
   "id": "5ae9c5f7-69d0-44fe-b0e9-0d64ed9e2719",
   "metadata": {},
   "source": [
    "## Join List"
   ]
  },
  {
   "cell_type": "code",
   "execution_count": 137,
   "id": "cfc00bff-057a-4e4f-80c3-69a2bff7f477",
   "metadata": {},
   "outputs": [],
   "source": [
    "list1 = ['one','two', 'three', 'four']\n",
    "list2 = ['five','six', 'seven','eight']"
   ]
  },
  {
   "cell_type": "code",
   "execution_count": 139,
   "id": "a2dd4f7d-72e8-4ab4-be1f-24dcba05600b",
   "metadata": {},
   "outputs": [
    {
     "data": {
      "text/plain": [
       "['one', 'two', 'three', 'four', 'five', 'six', 'seven', 'eight']"
      ]
     },
     "execution_count": 139,
     "metadata": {},
     "output_type": "execute_result"
    }
   ],
   "source": [
    "list3 = list1+list2  #join two list by '+' operator\n",
    "list3"
   ]
  },
  {
   "cell_type": "code",
   "execution_count": 141,
   "id": "725fc5c8-bc7d-4bf3-b063-0a14dffdc1b9",
   "metadata": {},
   "outputs": [
    {
     "data": {
      "text/plain": [
       "['one', 'two', 'three', 'four', 'five', 'six', 'seven', 'eight']"
      ]
     },
     "execution_count": 141,
     "metadata": {},
     "output_type": "execute_result"
    }
   ],
   "source": [
    "list1.extend(list2)  # Append list2 with list1\n",
    "list1"
   ]
  },
  {
   "cell_type": "markdown",
   "id": "18d6b75e-1dee-47f4-b844-093fc100e80d",
   "metadata": {},
   "source": [
    "## list membership"
   ]
  },
  {
   "cell_type": "code",
   "execution_count": 144,
   "id": "8e749f8c-4c9a-4ea1-aadc-b01f97b60828",
   "metadata": {},
   "outputs": [
    {
     "data": {
      "text/plain": [
       "['one', 'two', 'three', 'four', 'five', 'six', 'seven', 'eight']"
      ]
     },
     "execution_count": 144,
     "metadata": {},
     "output_type": "execute_result"
    }
   ],
   "source": [
    "list1"
   ]
  },
  {
   "cell_type": "code",
   "execution_count": 148,
   "id": "1eb807d3-5f95-4644-a255-56a793236f10",
   "metadata": {},
   "outputs": [
    {
     "data": {
      "text/plain": [
       "True"
      ]
     },
     "execution_count": 148,
     "metadata": {},
     "output_type": "execute_result"
    }
   ],
   "source": [
    "'one' in list1 # check if 'one' exist in the list "
   ]
  },
  {
   "cell_type": "code",
   "execution_count": 150,
   "id": "13758a1e-40a7-4eaf-b517-ccf0b2bce3b8",
   "metadata": {},
   "outputs": [
    {
     "data": {
      "text/plain": [
       "False"
      ]
     },
     "execution_count": 150,
     "metadata": {},
     "output_type": "execute_result"
    }
   ],
   "source": [
    "'ten' in list1 # check if en exist inthe list "
   ]
  },
  {
   "cell_type": "code",
   "execution_count": 152,
   "id": "b2e0d0fb-4f64-434c-9c29-f7df82df891a",
   "metadata": {},
   "outputs": [
    {
     "name": "stdout",
     "output_type": "stream",
     "text": [
      "three is present in the list\n"
     ]
    }
   ],
   "source": [
    "if 'three' in list1:   ## check if 'three' exist in the list\n",
    "    print('three is present in the list')\n",
    "else:\n",
    "    print('three is not present in the list')"
   ]
  },
  {
   "cell_type": "code",
   "execution_count": 154,
   "id": "c0a5f9fa-deed-4641-a80d-4366d472c437",
   "metadata": {},
   "outputs": [
    {
     "name": "stdout",
     "output_type": "stream",
     "text": [
      "eleven is present in the list\n"
     ]
    }
   ],
   "source": [
    "if 'three' in list1:   # check if 'eleven' exixst in the list\n",
    "    print('eleven is present in the list')\n",
    "else:\n",
    "    print('eleven is not present in the list')"
   ]
  },
  {
   "cell_type": "markdown",
   "id": "c7b95512-9263-4acd-9f53-4d8733f4ce4f",
   "metadata": {},
   "source": [
    "## Reverse & Sort List"
   ]
  },
  {
   "cell_type": "code",
   "execution_count": 157,
   "id": "e62f49ff-75d3-4614-bc60-4174ccc6997c",
   "metadata": {},
   "outputs": [
    {
     "data": {
      "text/plain": [
       "['one', 'two', 'three', 'four', 'five', 'six', 'seven', 'eight']"
      ]
     },
     "execution_count": 157,
     "metadata": {},
     "output_type": "execute_result"
    }
   ],
   "source": [
    "list1"
   ]
  },
  {
   "cell_type": "code",
   "execution_count": 159,
   "id": "6481a8ce-3076-42c9-bc4f-091f838cb5e3",
   "metadata": {},
   "outputs": [
    {
     "data": {
      "text/plain": [
       "['eight', 'seven', 'six', 'five', 'four', 'three', 'two', 'one']"
      ]
     },
     "execution_count": 159,
     "metadata": {},
     "output_type": "execute_result"
    }
   ],
   "source": [
    "list1.reverse()  # Reverse the list\n",
    "list1"
   ]
  },
  {
   "cell_type": "code",
   "execution_count": 161,
   "id": "5a8c5218-bc53-430f-ba96-cc1a2dd63cd3",
   "metadata": {},
   "outputs": [
    {
     "data": {
      "text/plain": [
       "['one', 'two', 'three', 'four', 'five', 'six', 'seven', 'eight']"
      ]
     },
     "execution_count": 161,
     "metadata": {},
     "output_type": "execute_result"
    }
   ],
   "source": [
    "list1 = list1[::-1]  # reverse the list\n",
    "list1"
   ]
  },
  {
   "cell_type": "code",
   "execution_count": 163,
   "id": "650184f0-c7d8-40bd-bbb1-80ff3d8ddc97",
   "metadata": {},
   "outputs": [
    {
     "data": {
      "text/plain": [
       "[5, 6, 8, 9, 12, 12, 21, 34, 43, 65]"
      ]
     },
     "execution_count": 163,
     "metadata": {},
     "output_type": "execute_result"
    }
   ],
   "source": [
    "mylist3 = [9,8,5,6,34,12,43,65,12,21]\n",
    "mylist3.sort() # sort list in accending order \n",
    "mylist3"
   ]
  },
  {
   "cell_type": "code",
   "execution_count": 165,
   "id": "01f18466-efe2-42b8-a348-ca14536986f1",
   "metadata": {},
   "outputs": [
    {
     "data": {
      "text/plain": [
       "[65, 43, 34, 21, 12, 12, 9, 8, 6, 5]"
      ]
     },
     "execution_count": 165,
     "metadata": {},
     "output_type": "execute_result"
    }
   ],
   "source": [
    "mylist3 = [9,8,5,6,34,12,43,65,12,21]\n",
    "mylist3.sort(reverse = True) # sort list in accending order \n",
    "mylist3"
   ]
  },
  {
   "cell_type": "code",
   "execution_count": 167,
   "id": "741019a7-07b5-4714-a01f-06328d7f3ecd",
   "metadata": {},
   "outputs": [
    {
     "data": {
      "text/plain": [
       "[32, 44, 45, 66, 78, 87, 98]"
      ]
     },
     "execution_count": 167,
     "metadata": {},
     "output_type": "execute_result"
    }
   ],
   "source": [
    "mylist4 = [66,78,44,45,87,32,98]\n",
    "sorted(mylist4)    #returns a new sorted list and dosen't change original list "
   ]
  },
  {
   "cell_type": "markdown",
   "id": "e2a718dd-c640-4739-942d-fff6fea7bb30",
   "metadata": {},
   "source": [
    "## Loop Through a List \n"
   ]
  },
  {
   "cell_type": "code",
   "execution_count": 170,
   "id": "c0acb30a-3729-4db9-b7a9-f2c0f0135420",
   "metadata": {},
   "outputs": [
    {
     "data": {
      "text/plain": [
       "['one', 'two', 'three', 'four', 'five', 'six', 'seven', 'eight']"
      ]
     },
     "execution_count": 170,
     "metadata": {},
     "output_type": "execute_result"
    }
   ],
   "source": [
    "list1"
   ]
  },
  {
   "cell_type": "code",
   "execution_count": 172,
   "id": "fa848bbe-c38e-4451-8041-25ec2320e0fa",
   "metadata": {},
   "outputs": [
    {
     "name": "stdout",
     "output_type": "stream",
     "text": [
      "one\n",
      "two\n",
      "three\n",
      "four\n",
      "five\n",
      "six\n",
      "seven\n",
      "eight\n"
     ]
    }
   ],
   "source": [
    "for i in list1:\n",
    "    print(i)"
   ]
  },
  {
   "cell_type": "code",
   "execution_count": 174,
   "id": "e5c28d0f-4a3e-4a87-a7e6-f1aaed5f8340",
   "metadata": {},
   "outputs": [
    {
     "name": "stdout",
     "output_type": "stream",
     "text": [
      "(0, 'one')\n",
      "(1, 'two')\n",
      "(2, 'three')\n",
      "(3, 'four')\n",
      "(4, 'five')\n",
      "(5, 'six')\n",
      "(6, 'seven')\n",
      "(7, 'eight')\n"
     ]
    }
   ],
   "source": [
    "for i in enumerate (list1):\n",
    "    print(i)"
   ]
  },
  {
   "cell_type": "markdown",
   "id": "ccbfd3d7-5ab9-49f5-81c0-5334918e949c",
   "metadata": {},
   "source": [
    "# Count"
   ]
  },
  {
   "cell_type": "code",
   "execution_count": 177,
   "id": "7e3335e5-c4a7-4574-86a2-39a9ca234ad4",
   "metadata": {},
   "outputs": [],
   "source": [
    "list10 = ['one','two','three','four','one','two','three']"
   ]
  },
  {
   "cell_type": "code",
   "execution_count": 179,
   "id": "23c1bfec-3628-4d25-8a37-2e7bffee451a",
   "metadata": {},
   "outputs": [
    {
     "data": {
      "text/plain": [
       "2"
      ]
     },
     "execution_count": 179,
     "metadata": {},
     "output_type": "execute_result"
    }
   ],
   "source": [
    "list10.count('one') # number of item \"one\" occured in the list "
   ]
  },
  {
   "cell_type": "code",
   "execution_count": 181,
   "id": "e21b4b83-0a34-45a9-a457-41017471a851",
   "metadata": {},
   "outputs": [
    {
     "data": {
      "text/plain": [
       "1"
      ]
     },
     "execution_count": 181,
     "metadata": {},
     "output_type": "execute_result"
    }
   ],
   "source": [
    "list10.count('four')  # occured in item 'four' in the list "
   ]
  },
  {
   "cell_type": "code",
   "execution_count": 183,
   "id": "35a1bdcd-f8b6-44af-abe0-b1a2326dd3ab",
   "metadata": {},
   "outputs": [
    {
     "data": {
      "text/plain": [
       "2"
      ]
     },
     "execution_count": 183,
     "metadata": {},
     "output_type": "execute_result"
    }
   ],
   "source": [
    "list10.count('two')  # occured in item 'two' in the list "
   ]
  },
  {
   "cell_type": "markdown",
   "id": "f8ddf195-5002-4567-8cc8-deee5a23661c",
   "metadata": {},
   "source": [
    " ## All/ Any \n",
    "The all ()method returns:\n",
    "- True - if all elements in a list are true\n",
    "- False - if any elements in a list is false\n",
    "- The any functions return True if any element in the list is True.if not, any() return false."
   ]
  },
  {
   "cell_type": "code",
   "execution_count": 188,
   "id": "53521d86-cbfd-493d-af6c-c8da5696c9e6",
   "metadata": {},
   "outputs": [],
   "source": [
    "l1 = [1,2,3,4,0]"
   ]
  },
  {
   "cell_type": "code",
   "execution_count": 190,
   "id": "daad4bd9-fdd6-48b2-826d-c47bff95ed2e",
   "metadata": {},
   "outputs": [
    {
     "data": {
      "text/plain": [
       "False"
      ]
     },
     "execution_count": 190,
     "metadata": {},
     "output_type": "execute_result"
    }
   ],
   "source": [
    "all(l1) # will Return false as one value is false (value 0)"
   ]
  },
  {
   "cell_type": "code",
   "execution_count": 192,
   "id": "e566ad6b-f402-470e-8f2c-0e1eec1510bf",
   "metadata": {},
   "outputs": [
    {
     "data": {
      "text/plain": [
       "True"
      ]
     },
     "execution_count": 192,
     "metadata": {},
     "output_type": "execute_result"
    }
   ],
   "source": [
    "any(l1)  # will return true as we have items in the list with true value"
   ]
  },
  {
   "cell_type": "code",
   "execution_count": 194,
   "id": "adfab77f-9a6d-4423-a126-b48ad775ab2e",
   "metadata": {},
   "outputs": [],
   "source": [
    "l2 = [1,2,3,4,5,True,False]"
   ]
  },
  {
   "cell_type": "code",
   "execution_count": 196,
   "id": "22828d29-b60d-4939-a043-3d413d5c60b1",
   "metadata": {},
   "outputs": [
    {
     "data": {
      "text/plain": [
       "False"
      ]
     },
     "execution_count": 196,
     "metadata": {},
     "output_type": "execute_result"
    }
   ],
   "source": [
    "all(l2) # return false as one value if false "
   ]
  },
  {
   "cell_type": "code",
   "execution_count": 198,
   "id": "3ef491c9-d336-4359-a027-db854b33e013",
   "metadata": {},
   "outputs": [
    {
     "data": {
      "text/plain": [
       "True"
      ]
     },
     "execution_count": 198,
     "metadata": {},
     "output_type": "execute_result"
    }
   ],
   "source": [
    "any(l2) # will return true as we have items in the list with true value"
   ]
  },
  {
   "cell_type": "code",
   "execution_count": 200,
   "id": "1660398a-d366-4c35-9a5c-7424d2505076",
   "metadata": {},
   "outputs": [],
   "source": [
    "l3 = [1,2,3,True]"
   ]
  },
  {
   "cell_type": "code",
   "execution_count": 202,
   "id": "55b70777-f6ab-4902-a6f8-050e89c99cb7",
   "metadata": {},
   "outputs": [
    {
     "data": {
      "text/plain": [
       "True"
      ]
     },
     "execution_count": 202,
     "metadata": {},
     "output_type": "execute_result"
    }
   ],
   "source": [
    "all(l3) # will return true as all items in the list are true"
   ]
  },
  {
   "cell_type": "code",
   "execution_count": null,
   "id": "ab7ca875-5a0c-4b7d-b385-0b2121d3c5e2",
   "metadata": {},
   "outputs": [],
   "source": []
  }
 ],
 "metadata": {
  "kernelspec": {
   "display_name": "Python [conda env:base] *",
   "language": "python",
   "name": "conda-base-py"
  },
  "language_info": {
   "codemirror_mode": {
    "name": "ipython",
    "version": 3
   },
   "file_extension": ".py",
   "mimetype": "text/x-python",
   "name": "python",
   "nbconvert_exporter": "python",
   "pygments_lexer": "ipython3",
   "version": "3.12.7"
  }
 },
 "nbformat": 4,
 "nbformat_minor": 5
}
