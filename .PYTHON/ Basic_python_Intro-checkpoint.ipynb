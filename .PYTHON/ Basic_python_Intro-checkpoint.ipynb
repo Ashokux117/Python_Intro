{
 "cells": [
  {
   "cell_type": "markdown",
   "id": "f6790d80-1d39-4439-9856-3e5904caffcc",
   "metadata": {},
   "source": [
    "- what is a python programming language\n",
    "- python Intrepretter\n",
    "- IDE(Intergrated Devlopment Invironment)\n",
    "- what is IDE\n",
    "- python Inerpreter & compiler\n",
    "- anaconda"
   ]
  },
  {
   "cell_type": "markdown",
   "id": "b6c68f91-ce08-47e5-90c1-6db1faad3463",
   "metadata": {},
   "source": [
    "# python programming language "
   ]
  },
  {
   "cell_type": "markdown",
   "id": "a7551de5-0e52-4f9a-9585-8505d9ff9bd0",
   "metadata": {},
   "source": [
    "Python Became the Best Programming Language & fastest programming language.\n",
    "Python is used in Machine Learning, Data Science, Big Data, Web Development, Scripting. \n",
    "we will learn pyton from start to end || basic to expert.\n",
    "if you are not done programm then that is totally fine. \n",
    "I will explain from starting from scratch.\n",
    "python software - pycharm || vs code || jupyter || spyder"
   ]
  },
  {
   "cell_type": "markdown",
   "id": "16c54a62-dce4-4d5f-871e-84dec211890d",
   "metadata": {},
   "source": [
    "## python interpretter\n",
    "## ide(integrated devlopment environment)"
   ]
  },
  {
   "cell_type": "markdown",
   "id": "311ffd54-08c5-4043-901c-a39b56ebec15",
   "metadata": {},
   "source": [
    "PYTHON INTERPRETER -->\n",
    "What is Python interpreter?\n",
    "A python interpreter is a computer program that converts each high-level program statement into machine code. An interpreter translates the command that you write out into code that the computer can understand\n",
    "\n",
    "PYTHON INTERPRETER EXAMPLE --> \n",
    "You write your Python code in a text file with a name like hello.py . How does that code Run? There is program installed on your computer named \"python3\" or \"python\", and its job is looking at and running your Python code. This type of program is called an \"interpreter\"."
   ]
  },
  {
   "cell_type": "markdown",
   "id": "e13c9d98-397d-49ac-9ae9-3234fa404ea5",
   "metadata": {},
   "source": [
    "IDE (INTEGRATED DEVELOPMENT ENVIRONMENT) =>\n",
    "- using IDE - one can write code, run the code, debug the code\n",
    "- IDE takes care of interpreting the Python code, running python scripts, building executables, and debugging the applications.\n",
    "- An IDE enables programmers to combine the different aspects of writing a computer program. \n",
    "- if you wnated to be python developer only then you need to install (IDE -- PYCHARM)"
   ]
  },
  {
   "cell_type": "markdown",
   "id": "2d3f2b93-9f00-4d33-9775-cab0eb16b405",
   "metadata": {},
   "source": [
    "# Python Interpretter & compiler"
   ]
  },
  {
   "cell_type": "markdown",
   "id": "bd51d6f1-2f95-4da5-ace2-ed9a482b83b8",
   "metadata": {},
   "source": [
    "Both compilers and interpreters are used to convert a program written in a high-level language into machine code understood by computers.\n",
    "Interpreter -->\n",
    "- Translates program one statement at a time\n",
    "- Interpreter run every line item \n",
    "- Execut the single, partial line of code\n",
    "- Easy for programming \n",
    "\n",
    "Compiler -->\n",
    "- Scans the entire program and translates it as a whole into machine code.\n",
    "- No execution if an error occurs\n",
    "- you can not fix the bug (debug) line by line "
   ]
  },
  {
   "cell_type": "markdown",
   "id": "8d6c0c41-66f9-4eae-ac94-0596b69c2b19",
   "metadata": {},
   "source": [
    "# ANACONDA "
   ]
  },
  {
   "cell_type": "markdown",
   "id": "873bfdb0-2c2f-41a9-aa8d-eeac8c91d4a2",
   "metadata": {},
   "source": [
    "\n",
    "\n",
    "Anaconda is a distribution of the Python and R programming languages for scientific computing (data science, machine learning applications, large-scale data processing, predictive analytics, etc.), that aims to simplify package management and deployment.\n"
   ]
  },
  {
   "cell_type": "markdown",
   "id": "df667aad-4a11-496b-b71d-e8e37005ed3b",
   "metadata": {},
   "source": [
    "- 10+5        addition \n",
    "- 10-5        subtraction \n",
    "- 10*5        multiplication\n",
    "- 10/5        division\n",
    "- 10/5        float division\n",
    "- 10//5       Integer divisions\n",
    "- 4**5        exponentaion\n",
    "- 4*4*4*4*4   exponention\n",
    "- 14%2        moduls \n",
    "- 15%%2       sayntax error\n",
    "- +, -, *, /, =,  (call operator)\n"
   ]
  },
  {
   "cell_type": "code",
   "execution_count": 28,
   "id": "b299c0ca-ed1b-4c37-8a46-eb35ac0d0037",
   "metadata": {},
   "outputs": [
    {
     "data": {
      "text/plain": [
       "11"
      ]
     },
     "execution_count": 28,
     "metadata": {},
     "output_type": "execute_result"
    }
   ],
   "source": [
    "5+6"
   ]
  },
  {
   "cell_type": "code",
   "execution_count": 29,
   "id": "be87049b-544a-41b0-ad04-cb156fb485b6",
   "metadata": {},
   "outputs": [
    {
     "data": {
      "text/plain": [
       "5"
      ]
     },
     "execution_count": 29,
     "metadata": {},
     "output_type": "execute_result"
    }
   ],
   "source": [
    " 10-5"
   ]
  },
  {
   "cell_type": "code",
   "execution_count": 30,
   "id": "78c0736a-3d8d-486b-bab5-41b9ee388036",
   "metadata": {},
   "outputs": [
    {
     "data": {
      "text/plain": [
       "50"
      ]
     },
     "execution_count": 30,
     "metadata": {},
     "output_type": "execute_result"
    }
   ],
   "source": [
    "10*5"
   ]
  },
  {
   "cell_type": "code",
   "execution_count": 31,
   "id": "e6ce9e9a-73d6-4211-b77c-4fb49120ebf7",
   "metadata": {},
   "outputs": [
    {
     "data": {
      "text/plain": [
       "625"
      ]
     },
     "execution_count": 31,
     "metadata": {},
     "output_type": "execute_result"
    }
   ],
   "source": [
    "5**4"
   ]
  },
  {
   "cell_type": "code",
   "execution_count": 32,
   "id": "cfc2180c-0d9d-4a14-b724-ef262e93f17f",
   "metadata": {},
   "outputs": [
    {
     "data": {
      "text/plain": [
       "625"
      ]
     },
     "execution_count": 32,
     "metadata": {},
     "output_type": "execute_result"
    }
   ],
   "source": [
    "5*5*5*5"
   ]
  },
  {
   "cell_type": "code",
   "execution_count": 33,
   "id": "26f0a3c9-eb11-4ddd-a89f-7993233b2de2",
   "metadata": {},
   "outputs": [
    {
     "data": {
      "text/plain": [
       "2.0"
      ]
     },
     "execution_count": 33,
     "metadata": {},
     "output_type": "execute_result"
    }
   ],
   "source": [
    "10/5"
   ]
  },
  {
   "cell_type": "code",
   "execution_count": 34,
   "id": "5cf496b8-2d38-410a-bc18-3e9d86d7d0cb",
   "metadata": {},
   "outputs": [
    {
     "data": {
      "text/plain": [
       "2"
      ]
     },
     "execution_count": 34,
     "metadata": {},
     "output_type": "execute_result"
    }
   ],
   "source": [
    "10//5"
   ]
  },
  {
   "cell_type": "code",
   "execution_count": 35,
   "id": "b46b512d-75d4-4836-b3b4-0814f89a33dd",
   "metadata": {},
   "outputs": [
    {
     "data": {
      "text/plain": [
       "0"
      ]
     },
     "execution_count": 35,
     "metadata": {},
     "output_type": "execute_result"
    }
   ],
   "source": [
    "14%2"
   ]
  },
  {
   "cell_type": "code",
   "execution_count": 36,
   "id": "88198d35-831d-4ca4-b1b2-8e1401fe4a57",
   "metadata": {},
   "outputs": [
    {
     "ename": "SyntaxError",
     "evalue": "invalid syntax (1537055890.py, line 1)",
     "output_type": "error",
     "traceback": [
      "\u001b[1;36m  Cell \u001b[1;32mIn[36], line 1\u001b[1;36m\u001b[0m\n\u001b[1;33m    15%%2\u001b[0m\n\u001b[1;37m       ^\u001b[0m\n\u001b[1;31mSyntaxError\u001b[0m\u001b[1;31m:\u001b[0m invalid syntax\n"
     ]
    }
   ],
   "source": [
    "15%%2"
   ]
  },
  {
   "cell_type": "code",
   "execution_count": 61,
   "id": "345cd32a-f9c0-4c41-97b4-4d43149056b2",
   "metadata": {},
   "outputs": [
    {
     "name": "stdout",
     "output_type": "stream",
     "text": [
      "10\n",
      "15.3\n",
      "rahul\n",
      "(8+9j)\n",
      "True\n"
     ]
    }
   ],
   "source": [
    "a,b,c,d,e = 10, 15.3, 'rahul', 8+9j, True\n",
    "print(a)\n",
    "print(b)\n",
    "print(c)\n",
    "print(d)\n",
    "print(e)"
   ]
  },
  {
   "cell_type": "code",
   "execution_count": 63,
   "id": "0b266409-17b1-4d87-9a4b-7da49840e674",
   "metadata": {},
   "outputs": [
    {
     "name": "stdout",
     "output_type": "stream",
     "text": [
      "<class 'int'>\n",
      "<class 'float'>\n",
      "<class 'str'>\n",
      "<class 'complex'>\n",
      "<class 'bool'>\n"
     ]
    }
   ],
   "source": [
    "print(type(a))\n",
    "print(type(b))\n",
    "print(type(c))\n",
    "print(type(d))\n",
    "print(type(e))"
   ]
  },
  {
   "cell_type": "code",
   "execution_count": 65,
   "id": "488a428b-eca3-46f1-856d-d07d210a0860",
   "metadata": {},
   "outputs": [
    {
     "data": {
      "text/plain": [
       "int"
      ]
     },
     "execution_count": 65,
     "metadata": {},
     "output_type": "execute_result"
    }
   ],
   "source": [
    "type (a)"
   ]
  },
  {
   "cell_type": "code",
   "execution_count": 67,
   "id": "da4d6623-36c1-4e25-8805-c54af3e58534",
   "metadata": {},
   "outputs": [
    {
     "data": {
      "text/plain": [
       "complex"
      ]
     },
     "execution_count": 67,
     "metadata": {},
     "output_type": "execute_result"
    }
   ],
   "source": [
    "type(d)"
   ]
  },
  {
   "cell_type": "raw",
   "id": "803fef0a-335a-43bf-889e-d88ab8271609",
   "metadata": {},
   "source": [
    ". so far we code with numbers (integers)\n",
    ". let's work with string"
   ]
  },
  {
   "cell_type": "code",
   "execution_count": 69,
   "id": "b6adb7c6-703e-4c51-9df4-4bd2e59c0ee8",
   "metadata": {},
   "outputs": [
    {
     "data": {
      "text/plain": [
       "'Hydrabad'"
      ]
     },
     "execution_count": 69,
     "metadata": {},
     "output_type": "execute_result"
    }
   ],
   "source": [
    "'Hydrabad'"
   ]
  },
  {
   "cell_type": "code",
   "execution_count": 71,
   "id": "e02580e3-f910-4ee9-87b6-09141c8bdb0a",
   "metadata": {},
   "outputs": [
    {
     "name": "stdout",
     "output_type": "stream",
     "text": [
      "naresh it\n"
     ]
    }
   ],
   "source": [
    "print('naresh it')"
   ]
  },
  {
   "cell_type": "code",
   "execution_count": 73,
   "id": "defc4e46-e38f-4bcc-b3a2-042356f19b18",
   "metadata": {},
   "outputs": [
    {
     "data": {
      "text/plain": [
       "'max technology'"
      ]
     },
     "execution_count": 73,
     "metadata": {},
     "output_type": "execute_result"
    }
   ],
   "source": [
    "'max technology'"
   ]
  },
  {
   "cell_type": "code",
   "execution_count": 75,
   "id": "3b916598-cee1-4a42-afe8-de63b62ed066",
   "metadata": {},
   "outputs": [
    {
     "data": {
      "text/plain": [
       "'naresh it technology'"
      ]
     },
     "execution_count": 75,
     "metadata": {},
     "output_type": "execute_result"
    }
   ],
   "source": [
    "s1 = 'naresh it technology'\n",
    "s1"
   ]
  },
  {
   "cell_type": "code",
   "execution_count": 77,
   "id": "d140c208-100e-40e8-92bc-fef718014334",
   "metadata": {},
   "outputs": [
    {
     "data": {
      "text/plain": [
       "11"
      ]
     },
     "execution_count": 77,
     "metadata": {},
     "output_type": "execute_result"
    }
   ],
   "source": [
    "a = 5\n",
    "b = 6\n",
    "c = a+b\n",
    "c"
   ]
  },
  {
   "cell_type": "code",
   "execution_count": 79,
   "id": "5bcacd4f-8f41-47fe-8a29-89a6c17b86a4",
   "metadata": {},
   "outputs": [
    {
     "data": {
      "text/plain": [
       "str"
      ]
     },
     "execution_count": 79,
     "metadata": {},
     "output_type": "execute_result"
    }
   ],
   "source": [
    "a = 4\n",
    "b = 'hello'\n",
    "type(b)"
   ]
  },
  {
   "cell_type": "code",
   "execution_count": 81,
   "id": "195a44a2-3e9e-42c8-8497-85de705489b9",
   "metadata": {},
   "outputs": [
    {
     "ename": "TypeError",
     "evalue": "unsupported operand type(s) for +: 'int' and 'str'",
     "output_type": "error",
     "traceback": [
      "\u001b[1;31m---------------------------------------------------------------------------\u001b[0m",
      "\u001b[1;31mTypeError\u001b[0m                                 Traceback (most recent call last)",
      "Cell \u001b[1;32mIn[81], line 1\u001b[0m\n\u001b[1;32m----> 1\u001b[0m a\u001b[38;5;241m+\u001b[39mb\n",
      "\u001b[1;31mTypeError\u001b[0m: unsupported operand type(s) for +: 'int' and 'str'"
     ]
    }
   ],
   "source": [
    "a+b"
   ]
  },
  {
   "cell_type": "code",
   "execution_count": 83,
   "id": "d23ce096-5658-4406-85a3-252b1e94bee8",
   "metadata": {},
   "outputs": [
    {
     "ename": "SyntaxError",
     "evalue": "invalid syntax. Perhaps you forgot a comma? (3579163789.py, line 1)",
     "output_type": "error",
     "traceback": [
      "\u001b[1;36m  Cell \u001b[1;32mIn[83], line 1\u001b[1;36m\u001b[0m\n\u001b[1;33m    print('naresh it's'technologia')\u001b[0m\n\u001b[1;37m          ^\u001b[0m\n\u001b[1;31mSyntaxError\u001b[0m\u001b[1;31m:\u001b[0m invalid syntax. Perhaps you forgot a comma?\n"
     ]
    }
   ],
   "source": [
    "print('naresh it's'technologia')"
   ]
  },
  {
   "cell_type": "code",
   "execution_count": 85,
   "id": "e305aac8-0572-4a63-81b9-0598a50dee4e",
   "metadata": {},
   "outputs": [
    {
     "name": "stdout",
     "output_type": "stream",
     "text": [
      "naresh it's\"technologia\"\n"
     ]
    }
   ],
   "source": [
    "print('naresh it\\'s\"technologia\"') # \\has some special meaning to ignore the error"
   ]
  },
  {
   "cell_type": "code",
   "execution_count": 87,
   "id": "8ca7bbaa-6b5a-41a4-b182-0d34c9210413",
   "metadata": {},
   "outputs": [
    {
     "name": "stdout",
     "output_type": "stream",
     "text": [
      "naresh it technologia\n"
     ]
    }
   ],
   "source": [
    "print('naresh it','technologia')"
   ]
  },
  {
   "cell_type": "code",
   "execution_count": 89,
   "id": "c230f70b-cb4d-4e67-b557-bd5b709272af",
   "metadata": {},
   "outputs": [
    {
     "ename": "SyntaxError",
     "evalue": "unterminated string literal (detected at line 1) (33181463.py, line 1)",
     "output_type": "error",
     "traceback": [
      "\u001b[1;36m  Cell \u001b[1;32mIn[89], line 1\u001b[1;36m\u001b[0m\n\u001b[1;33m    print('naresh it', 'technologia\")\u001b[0m\n\u001b[1;37m                       ^\u001b[0m\n\u001b[1;31mSyntaxError\u001b[0m\u001b[1;31m:\u001b[0m unterminated string literal (detected at line 1)\n"
     ]
    }
   ],
   "source": [
    "print('naresh it', 'technologia\")"
   ]
  },
  {
   "cell_type": "code",
   "execution_count": 91,
   "id": "a89d5ee9-b35f-4b80-a1dd-8dff4a23b665",
   "metadata": {},
   "outputs": [
    {
     "data": {
      "text/plain": [
       "'rahulrahul'"
      ]
     },
     "execution_count": 91,
     "metadata": {},
     "output_type": "execute_result"
    }
   ],
   "source": [
    "# print the rahul 2 times\n",
    "'rahul' + 'rahul'"
   ]
  },
  {
   "cell_type": "code",
   "execution_count": null,
   "id": "3267d36d-d36f-465f-8533-a1da46a2af31",
   "metadata": {},
   "outputs": [],
   "source": [
    "# 4 time print \n",
    "4 * 'rahul'"
   ]
  },
  {
   "cell_type": "code",
   "execution_count": 93,
   "id": "dcb8d8f5-cfaa-40b8-ae7e-b4a81b2eb942",
   "metadata": {},
   "outputs": [
    {
     "data": {
      "text/plain": [
       "' rahul  rahul  rahul  rahul '"
      ]
     },
     "execution_count": 93,
     "metadata": {},
     "output_type": "execute_result"
    }
   ],
   "source": [
    "4*' rahul ' # space batween word"
   ]
  },
  {
   "cell_type": "code",
   "execution_count": 95,
   "id": "58aa80d1-49d5-4ada-9c7d-e03bb1391824",
   "metadata": {},
   "outputs": [
    {
     "name": "stdout",
     "output_type": "stream",
     "text": [
      "c:\n",
      "it\n"
     ]
    }
   ],
   "source": [
    "print('c:\\nit')  # \\n -- new line"
   ]
  },
  {
   "cell_type": "code",
   "execution_count": 97,
   "id": "8367daa2-9dcf-42bb-8bb0-8930757d4eae",
   "metadata": {},
   "outputs": [
    {
     "name": "stdout",
     "output_type": "stream",
     "text": [
      "c:\\nit\n"
     ]
    }
   ],
   "source": [
    "print(r'c:\\nit') # raw string"
   ]
  },
  {
   "cell_type": "code",
   "execution_count": 99,
   "id": "d38a0607-5c2a-4c66-ae74-4780e26e6b8f",
   "metadata": {},
   "outputs": [
    {
     "data": {
      "text/plain": [
       "5"
      ]
     },
     "execution_count": 99,
     "metadata": {},
     "output_type": "execute_result"
    }
   ],
   "source": [
    "x = 5 # x is call variable/identifier/object,,  5 is call the value \n",
    "x"
   ]
  },
  {
   "cell_type": "code",
   "execution_count": 101,
   "id": "a17c09b6-29cc-48f6-939e-ca1c0c464c75",
   "metadata": {},
   "outputs": [
    {
     "data": {
      "text/plain": [
       "8"
      ]
     },
     "execution_count": 101,
     "metadata": {},
     "output_type": "execute_result"
    }
   ],
   "source": [
    "x + 3"
   ]
  },
  {
   "cell_type": "code",
   "execution_count": 103,
   "id": "5747b7b3-e557-4dc4-936d-014744428c31",
   "metadata": {},
   "outputs": [
    {
     "data": {
      "text/plain": [
       "3"
      ]
     },
     "execution_count": 103,
     "metadata": {},
     "output_type": "execute_result"
    }
   ],
   "source": [
    "y = 3\n",
    "y"
   ]
  },
  {
   "cell_type": "code",
   "execution_count": 105,
   "id": "da796ce2-1576-4a9f-962f-e8529904ad9c",
   "metadata": {},
   "outputs": [
    {
     "data": {
      "text/plain": [
       "8"
      ]
     },
     "execution_count": 105,
     "metadata": {},
     "output_type": "execute_result"
    }
   ],
   "source": [
    "x+y"
   ]
  },
  {
   "cell_type": "code",
   "execution_count": 107,
   "id": "d58b9592-0d90-48f7-9ae5-396a962e6e9c",
   "metadata": {},
   "outputs": [
    {
     "data": {
      "text/plain": [
       "8"
      ]
     },
     "execution_count": 107,
     "metadata": {},
     "output_type": "execute_result"
    }
   ],
   "source": [
    "x = 8\n",
    "x"
   ]
  },
  {
   "cell_type": "code",
   "execution_count": 109,
   "id": "adbcaba0-c201-4dee-b1ae-80b8add1872d",
   "metadata": {},
   "outputs": [
    {
     "data": {
      "text/plain": [
       "11"
      ]
     },
     "execution_count": 109,
     "metadata": {},
     "output_type": "execute_result"
    }
   ],
   "source": [
    "x + y"
   ]
  },
  {
   "cell_type": "code",
   "execution_count": 111,
   "id": "cae80098-603f-4f53-a458-d6445fd59fd7",
   "metadata": {},
   "outputs": [
    {
     "data": {
      "text/plain": [
       "18"
      ]
     },
     "execution_count": 111,
     "metadata": {},
     "output_type": "execute_result"
    }
   ],
   "source": [
    "x + 10"
   ]
  },
  {
   "cell_type": "code",
   "execution_count": 121,
   "id": "b70598d8-c5b9-4162-8d83-e81d542050b2",
   "metadata": {},
   "outputs": [
    {
     "data": {
      "text/plain": [
       "3"
      ]
     },
     "execution_count": 121,
     "metadata": {},
     "output_type": "execute_result"
    }
   ],
   "source": [
    "\n",
    "y"
   ]
  },
  {
   "cell_type": "code",
   "execution_count": 131,
   "id": "6b3f9764-c11d-4436-9b86-a494f260d01c",
   "metadata": {},
   "outputs": [
    {
     "data": {
      "text/plain": [
       "3"
      ]
     },
     "execution_count": 131,
     "metadata": {},
     "output_type": "execute_result"
    }
   ],
   "source": [
    "y"
   ]
  },
  {
   "cell_type": "code",
   "execution_count": 141,
   "id": "1845ea7a-9dbc-4590-a0a3-40a46e255e2e",
   "metadata": {},
   "outputs": [
    {
     "data": {
      "text/plain": [
       "6"
      ]
     },
     "execution_count": 141,
     "metadata": {},
     "output_type": "execute_result"
    }
   ],
   "source": []
  },
  {
   "cell_type": "code",
   "execution_count": 145,
   "id": "60539393-a884-48f5-b8e6-0b7273e6d15d",
   "metadata": {},
   "outputs": [
    {
     "data": {
      "text/plain": [
       "'rahul'"
      ]
     },
     "execution_count": 145,
     "metadata": {},
     "output_type": "execute_result"
    }
   ],
   "source": [
    "# string variable \n",
    "\n",
    "name = 'rahul'\n",
    "name"
   ]
  },
  {
   "cell_type": "code",
   "execution_count": 149,
   "id": "b4a4b472-cf78-41f4-a1a2-d3fcdce581bc",
   "metadata": {},
   "outputs": [
    {
     "data": {
      "text/plain": [
       "'rahul technology'"
      ]
     },
     "execution_count": 149,
     "metadata": {},
     "output_type": "execute_result"
    }
   ],
   "source": [
    "name + \" technology\""
   ]
  },
  {
   "cell_type": "code",
   "execution_count": 151,
   "id": "53db433d-b3f6-4478-add4-305a7040024f",
   "metadata": {},
   "outputs": [
    {
     "ename": "SyntaxError",
     "evalue": "invalid syntax (975163155.py, line 1)",
     "output_type": "error",
     "traceback": [
      "\u001b[1;36m  Cell \u001b[1;32mIn[151], line 1\u001b[1;36m\u001b[0m\n\u001b[1;33m    name \"technology\"\u001b[0m\n\u001b[1;37m         ^\u001b[0m\n\u001b[1;31mSyntaxError\u001b[0m\u001b[1;31m:\u001b[0m invalid syntax\n"
     ]
    }
   ],
   "source": [
    "name \"technology\""
   ]
  },
  {
   "cell_type": "code",
   "execution_count": 153,
   "id": "cd405747-6827-4efb-9610-0d82bac07c17",
   "metadata": {},
   "outputs": [
    {
     "data": {
      "text/plain": [
       "'rahul'"
      ]
     },
     "execution_count": 153,
     "metadata": {},
     "output_type": "execute_result"
    }
   ],
   "source": [
    "name"
   ]
  },
  {
   "cell_type": "code",
   "execution_count": 155,
   "id": "fb196e17-b085-40c5-848f-6d7ff22ceae4",
   "metadata": {},
   "outputs": [
    {
     "data": {
      "text/plain": [
       "5"
      ]
     },
     "execution_count": 155,
     "metadata": {},
     "output_type": "execute_result"
    }
   ],
   "source": [
    "len(name)"
   ]
  },
  {
   "cell_type": "code",
   "execution_count": 157,
   "id": "3a092e7b-4b7f-4f41-b97e-bf8ebee6ee93",
   "metadata": {},
   "outputs": [
    {
     "data": {
      "text/plain": [
       "'r'"
      ]
     },
     "execution_count": 157,
     "metadata": {},
     "output_type": "execute_result"
    }
   ],
   "source": [
    "name[0]  # python index begins with 0"
   ]
  },
  {
   "cell_type": "code",
   "execution_count": 159,
   "id": "085038b0-7bd8-4e57-b9f1-4eddd01d4c7c",
   "metadata": {},
   "outputs": [
    {
     "data": {
      "text/plain": [
       "'l'"
      ]
     },
     "execution_count": 159,
     "metadata": {},
     "output_type": "execute_result"
    }
   ],
   "source": [
    "name[4]"
   ]
  },
  {
   "cell_type": "code",
   "execution_count": 163,
   "id": "20bc0ea7-303c-44cf-982b-8c259fa6b8ca",
   "metadata": {},
   "outputs": [
    {
     "ename": "IndexError",
     "evalue": "string index out of range",
     "output_type": "error",
     "traceback": [
      "\u001b[1;31m---------------------------------------------------------------------------\u001b[0m",
      "\u001b[1;31mIndexError\u001b[0m                                Traceback (most recent call last)",
      "Cell \u001b[1;32mIn[163], line 1\u001b[0m\n\u001b[1;32m----> 1\u001b[0m name[\u001b[38;5;241m5\u001b[39m]\n",
      "\u001b[1;31mIndexError\u001b[0m: string index out of range"
     ]
    }
   ],
   "source": [
    " name[5] # out of range not valide"
   ]
  },
  {
   "cell_type": "code",
   "execution_count": 165,
   "id": "91083f59-f137-4ff0-9d9c-7ce01f47992b",
   "metadata": {},
   "outputs": [
    {
     "data": {
      "text/plain": [
       "'h'"
      ]
     },
     "execution_count": 165,
     "metadata": {},
     "output_type": "execute_result"
    }
   ],
   "source": [
    "name[-3]"
   ]
  },
  {
   "cell_type": "code",
   "execution_count": 167,
   "id": "6f06dbe0-54c9-41cb-a2db-58c627e46255",
   "metadata": {},
   "outputs": [
    {
     "data": {
      "text/plain": [
       "'r'"
      ]
     },
     "execution_count": 167,
     "metadata": {},
     "output_type": "execute_result"
    }
   ],
   "source": [
    "name[-0]"
   ]
  },
  {
   "cell_type": "code",
   "execution_count": 169,
   "id": "dd57c603-7091-45ed-aa02-2214491b9da6",
   "metadata": {},
   "outputs": [
    {
     "data": {
      "text/plain": [
       "'r'"
      ]
     },
     "execution_count": 169,
     "metadata": {},
     "output_type": "execute_result"
    }
   ],
   "source": [
    "name[0]"
   ]
  },
  {
   "cell_type": "code",
   "execution_count": 171,
   "id": "68e93f83-79d6-45d2-b33d-c4f423fbc858",
   "metadata": {},
   "outputs": [
    {
     "data": {
      "text/plain": [
       "'l'"
      ]
     },
     "execution_count": 171,
     "metadata": {},
     "output_type": "execute_result"
    }
   ],
   "source": [
    "name[-1]"
   ]
  },
  {
   "cell_type": "code",
   "execution_count": 173,
   "id": "27857949-2835-4ffa-b3f6-6139792a49e1",
   "metadata": {},
   "outputs": [
    {
     "data": {
      "text/plain": [
       "'my name is ashok mahto'"
      ]
     },
     "execution_count": 173,
     "metadata": {},
     "output_type": "execute_result"
    }
   ],
   "source": [
    "name = \"my name is ashok mahto\"\n",
    "name"
   ]
  },
  {
   "cell_type": "code",
   "execution_count": 175,
   "id": "a2ad639a-ab8a-4a21-8634-ec4fee1989d9",
   "metadata": {},
   "outputs": [
    {
     "data": {
      "text/plain": [
       "22"
      ]
     },
     "execution_count": 175,
     "metadata": {},
     "output_type": "execute_result"
    }
   ],
   "source": [
    "len(name)"
   ]
  },
  {
   "cell_type": "code",
   "execution_count": 179,
   "id": "d28c05bd-6104-4fe2-a4a5-81c7bf452695",
   "metadata": {},
   "outputs": [
    {
     "data": {
      "text/plain": [
       "('m', 'm')"
      ]
     },
     "execution_count": 179,
     "metadata": {},
     "output_type": "execute_result"
    }
   ],
   "source": [
    "name[-0], name[0]"
   ]
  },
  {
   "cell_type": "code",
   "execution_count": 181,
   "id": "ab350b3b-b124-4ac9-9ff9-8c6dbc7a1ace",
   "metadata": {},
   "outputs": [
    {
     "data": {
      "text/plain": [
       "('y', 'o')"
      ]
     },
     "execution_count": 181,
     "metadata": {},
     "output_type": "execute_result"
    }
   ],
   "source": [
    "name[1], name[-1]"
   ]
  },
  {
   "cell_type": "code",
   "execution_count": 183,
   "id": "09454f00-4d44-4486-afdb-f74eb50875d1",
   "metadata": {},
   "outputs": [
    {
     "data": {
      "text/plain": [
       "'m'"
      ]
     },
     "execution_count": 183,
     "metadata": {},
     "output_type": "execute_result"
    }
   ],
   "source": [
    "name[-22]"
   ]
  },
  {
   "cell_type": "code",
   "execution_count": 195,
   "id": "ae9c109d-526d-4902-bfe2-82018cea3046",
   "metadata": {},
   "outputs": [
    {
     "data": {
      "text/plain": [
       "('m', 'm')"
      ]
     },
     "execution_count": 195,
     "metadata": {},
     "output_type": "execute_result"
    }
   ],
   "source": [
    "name [17], name[-5]"
   ]
  },
  {
   "cell_type": "code",
   "execution_count": 197,
   "id": "02bb3671-3049-4b15-bfaf-4744c53489b8",
   "metadata": {},
   "outputs": [
    {
     "ename": "TypeError",
     "evalue": "string indices must be integers, not 'tuple'",
     "output_type": "error",
     "traceback": [
      "\u001b[1;31m---------------------------------------------------------------------------\u001b[0m",
      "\u001b[1;31mTypeError\u001b[0m                                 Traceback (most recent call last)",
      "Cell \u001b[1;32mIn[197], line 1\u001b[0m\n\u001b[1;32m----> 1\u001b[0m name[\u001b[38;5;241m17\u001b[39m,\u001b[38;5;241m-\u001b[39m\u001b[38;5;241m5\u001b[39m]\n",
      "\u001b[1;31mTypeError\u001b[0m: string indices must be integers, not 'tuple'"
     ]
    }
   ],
   "source": [
    "name[17,-5]"
   ]
  },
  {
   "cell_type": "markdown",
   "id": "e8b47ff3-0d45-47ac-8ae6-9d8a6c18a359",
   "metadata": {},
   "source": [
    "## slicing"
   ]
  },
  {
   "cell_type": "code",
   "execution_count": 200,
   "id": "0dd26bb0-9585-497f-92bc-38719a0d1a98",
   "metadata": {},
   "outputs": [
    {
     "data": {
      "text/plain": [
       "'my name is rahul kumar'"
      ]
     },
     "execution_count": 200,
     "metadata": {},
     "output_type": "execute_result"
    }
   ],
   "source": [
    "name = \"my name is rahul kumar\"\n",
    "name"
   ]
  },
  {
   "cell_type": "code",
   "execution_count": 204,
   "id": "94657f26-1054-4173-9ab7-17a36fe6c250",
   "metadata": {},
   "outputs": [
    {
     "data": {
      "text/plain": [
       "'m'"
      ]
     },
     "execution_count": 204,
     "metadata": {},
     "output_type": "execute_result"
    }
   ],
   "source": [
    "# print 2 character\n",
    "name[0:1]"
   ]
  },
  {
   "cell_type": "code",
   "execution_count": 208,
   "id": "3d922fa2-0a4d-4105-ba41-2ddb547ff28b",
   "metadata": {},
   "outputs": [
    {
     "data": {
      "text/plain": [
       "'my'"
      ]
     },
     "execution_count": 208,
     "metadata": {},
     "output_type": "execute_result"
    }
   ],
   "source": [
    "name[0:2]"
   ]
  },
  {
   "cell_type": "code",
   "execution_count": 210,
   "id": "828024f5-9374-445e-9693-ef0d08c86b8f",
   "metadata": {},
   "outputs": [
    {
     "data": {
      "text/plain": [
       "'my name is r'"
      ]
     },
     "execution_count": 210,
     "metadata": {},
     "output_type": "execute_result"
    }
   ],
   "source": [
    "name[0:12]"
   ]
  },
  {
   "cell_type": "code",
   "execution_count": 214,
   "id": "16ca876f-8baa-45a9-b4c9-5e19284decd9",
   "metadata": {},
   "outputs": [
    {
     "data": {
      "text/plain": [
       "'me'"
      ]
     },
     "execution_count": 214,
     "metadata": {},
     "output_type": "execute_result"
    }
   ],
   "source": [
    "name[0:12:6]"
   ]
  },
  {
   "cell_type": "code",
   "execution_count": 1,
   "id": "c1db734c-e0cd-447d-b371-cba0e785a51a",
   "metadata": {},
   "outputs": [
    {
     "data": {
      "text/plain": [
       "'fine'"
      ]
     },
     "execution_count": 1,
     "metadata": {},
     "output_type": "execute_result"
    }
   ],
   "source": [
    "name1= \"fine\"\n",
    "name1"
   ]
  },
  {
   "cell_type": "code",
   "execution_count": 3,
   "id": "143e9cb6-c713-4cd6-9a6d-85e481772c05",
   "metadata": {},
   "outputs": [
    {
     "data": {
      "text/plain": [
       "'f'"
      ]
     },
     "execution_count": 3,
     "metadata": {},
     "output_type": "execute_result"
    }
   ],
   "source": [
    "name1[0:1]"
   ]
  },
  {
   "cell_type": "code",
   "execution_count": 5,
   "id": "8eb34b2a-b131-4b42-aeb0-5738082d0432",
   "metadata": {},
   "outputs": [
    {
     "ename": "TypeError",
     "evalue": "'str' object does not support item assignment",
     "output_type": "error",
     "traceback": [
      "\u001b[1;31m---------------------------------------------------------------------------\u001b[0m",
      "\u001b[1;31mTypeError\u001b[0m                                 Traceback (most recent call last)",
      "Cell \u001b[1;32mIn[5], line 1\u001b[0m\n\u001b[1;32m----> 1\u001b[0m name1[\u001b[38;5;241m0\u001b[39m:\u001b[38;5;241m1\u001b[39m] \u001b[38;5;241m=\u001b[39m \u001b[38;5;124m'\u001b[39m\u001b[38;5;124md\u001b[39m\u001b[38;5;124m'\u001b[39m\n",
      "\u001b[1;31mTypeError\u001b[0m: 'str' object does not support item assignment"
     ]
    }
   ],
   "source": [
    "name1[0:1] = 'd' # want change 1st character "
   ]
  },
  {
   "cell_type": "code",
   "execution_count": 7,
   "id": "0e76aff4-b183-4ade-906d-6debf9bfe395",
   "metadata": {},
   "outputs": [
    {
     "data": {
      "text/plain": [
       "'fine'"
      ]
     },
     "execution_count": 7,
     "metadata": {},
     "output_type": "execute_result"
    }
   ],
   "source": [
    "name1"
   ]
  },
  {
   "cell_type": "code",
   "execution_count": 9,
   "id": "6e7acff7-7daf-4d5f-a642-778644e7084e",
   "metadata": {},
   "outputs": [
    {
     "ename": "TypeError",
     "evalue": "'str' object does not support item assignment",
     "output_type": "error",
     "traceback": [
      "\u001b[1;31m---------------------------------------------------------------------------\u001b[0m",
      "\u001b[1;31mTypeError\u001b[0m                                 Traceback (most recent call last)",
      "Cell \u001b[1;32mIn[9], line 1\u001b[0m\n\u001b[1;32m----> 1\u001b[0m name1[\u001b[38;5;241m0\u001b[39m] \u001b[38;5;241m=\u001b[39m \u001b[38;5;124m'\u001b[39m\u001b[38;5;124md\u001b[39m\u001b[38;5;124m'\u001b[39m\n",
      "\u001b[1;31mTypeError\u001b[0m: 'str' object does not support item assignment"
     ]
    }
   ],
   "source": [
    "name1[0] = 'd' # string in python are immutable "
   ]
  },
  {
   "cell_type": "code",
   "execution_count": 11,
   "id": "8650b4e9-d0af-4108-b793-f9a653d49982",
   "metadata": {},
   "outputs": [
    {
     "data": {
      "text/plain": [
       "'fine'"
      ]
     },
     "execution_count": 11,
     "metadata": {},
     "output_type": "execute_result"
    }
   ],
   "source": [
    "name1"
   ]
  },
  {
   "cell_type": "code",
   "execution_count": 13,
   "id": "fe29f645-8ff7-4c06-b954-871035633b68",
   "metadata": {},
   "outputs": [
    {
     "data": {
      "text/plain": [
       "'dine'"
      ]
     },
     "execution_count": 13,
     "metadata": {},
     "output_type": "execute_result"
    }
   ],
   "source": [
    "'d' + name1[1:] # I want to change fine to dine "
   ]
  },
  {
   "cell_type": "code",
   "execution_count": 17,
   "id": "0354da91-bcea-46ed-b728-3c0fb08597df",
   "metadata": {},
   "outputs": [
    {
     "data": {
      "text/plain": [
       "4"
      ]
     },
     "execution_count": 17,
     "metadata": {},
     "output_type": "execute_result"
    }
   ],
   "source": [
    "len(name1)  # python inbuild function "
   ]
  },
  {
   "cell_type": "markdown",
   "id": "42ca223f-bc60-4ced-81cf-a71dcc14bded",
   "metadata": {},
   "source": [
    "# list"
   ]
  },
  {
   "cell_type": "code",
   "execution_count": 20,
   "id": "8dbfe0f7-ef53-4828-b54b-75a8227649ca",
   "metadata": {},
   "outputs": [
    {
     "data": {
      "text/plain": [
       "[10, 20, 30]"
      ]
     },
     "execution_count": 20,
     "metadata": {},
     "output_type": "execute_result"
    }
   ],
   "source": [
    "# list list list \n",
    "nums = [10,20,30]\n",
    "nums"
   ]
  },
  {
   "cell_type": "code",
   "execution_count": 22,
   "id": "000a203d-d1cd-412e-89cd-b76d6274e62d",
   "metadata": {},
   "outputs": [
    {
     "data": {
      "text/plain": [
       "10"
      ]
     },
     "execution_count": 22,
     "metadata": {},
     "output_type": "execute_result"
    }
   ],
   "source": [
    "nums[0]"
   ]
  },
  {
   "cell_type": "code",
   "execution_count": 24,
   "id": "27e748db-b96a-43b3-ac69-2c8d4ae937b2",
   "metadata": {},
   "outputs": [
    {
     "data": {
      "text/plain": [
       "30"
      ]
     },
     "execution_count": 24,
     "metadata": {},
     "output_type": "execute_result"
    }
   ],
   "source": [
    "nums[-1]"
   ]
  },
  {
   "cell_type": "code",
   "execution_count": 26,
   "id": "250c3746-0d3b-4878-b16b-864f06dfa329",
   "metadata": {},
   "outputs": [
    {
     "data": {
      "text/plain": [
       "[20, 30]"
      ]
     },
     "execution_count": 26,
     "metadata": {},
     "output_type": "execute_result"
    }
   ],
   "source": [
    "nums[1:]"
   ]
  },
  {
   "cell_type": "code",
   "execution_count": 28,
   "id": "1102eabe-c010-4bf4-bf0b-57d960f11631",
   "metadata": {},
   "outputs": [
    {
     "data": {
      "text/plain": [
       "[10]"
      ]
     },
     "execution_count": 28,
     "metadata": {},
     "output_type": "execute_result"
    }
   ],
   "source": [
    "nums[:1]"
   ]
  },
  {
   "cell_type": "code",
   "execution_count": 32,
   "id": "609667bb-1b72-4c20-910d-0df07b1ae704",
   "metadata": {},
   "outputs": [
    {
     "data": {
      "text/plain": [
       "['hi', 'hello']"
      ]
     },
     "execution_count": 32,
     "metadata": {},
     "output_type": "execute_result"
    }
   ],
   "source": [
    "num1 = ['hi' ,'hello']\n",
    "num1"
   ]
  },
  {
   "cell_type": "code",
   "execution_count": 34,
   "id": "a13c74f6-e155-4759-844e-0900c6eb51cb",
   "metadata": {},
   "outputs": [
    {
     "data": {
      "text/plain": [
       "['hi', 'hello']"
      ]
     },
     "execution_count": 34,
     "metadata": {},
     "output_type": "execute_result"
    }
   ],
   "source": [
    "num1"
   ]
  },
  {
   "cell_type": "code",
   "execution_count": 36,
   "id": "0a37d98e-95a7-40bb-bf53-9977054d6981",
   "metadata": {},
   "outputs": [
    {
     "data": {
      "text/plain": [
       "['hi', 24.56, 80]"
      ]
     },
     "execution_count": 36,
     "metadata": {},
     "output_type": "execute_result"
    }
   ],
   "source": [
    "num2 = ['hi', 24.56, 80] # we can assign multiple variable\n",
    "num2"
   ]
  },
  {
   "cell_type": "code",
   "execution_count": 38,
   "id": "aa157840-53a6-49b0-bf25-6ca432b32d4c",
   "metadata": {},
   "outputs": [
    {
     "data": {
      "text/plain": [
       "[[10, 20, 30], ['hi', 'hello']]"
      ]
     },
     "execution_count": 38,
     "metadata": {},
     "output_type": "execute_result"
    }
   ],
   "source": [
    "num3 = [nums,num1] # can we have 2 list together \n",
    "num3"
   ]
  },
  {
   "cell_type": "code",
   "execution_count": 42,
   "id": "70ecba57-e35e-42cb-93d6-0315677288b9",
   "metadata": {},
   "outputs": [
    {
     "data": {
      "text/plain": [
       "[[10, 20, 30], ['hi', 'hello'], ['hi', 24.56, 80]]"
      ]
     },
     "execution_count": 42,
     "metadata": {},
     "output_type": "execute_result"
    }
   ],
   "source": [
    "num4 = [nums,num1, num2]\n",
    "num4"
   ]
  },
  {
   "cell_type": "code",
   "execution_count": 76,
   "id": "6d70dced-f9ea-4aa4-b1da-823cb1eae839",
   "metadata": {},
   "outputs": [],
   "source": [
    " nums.append (45) #  append means add value in the  last"
   ]
  },
  {
   "cell_type": "code",
   "execution_count": 78,
   "id": "ef0fde0d-5215-4255-883a-53e46a708e52",
   "metadata": {},
   "outputs": [
    {
     "data": {
      "text/plain": [
       "[10, 20, 30, 45]"
      ]
     },
     "execution_count": 78,
     "metadata": {},
     "output_type": "execute_result"
    }
   ],
   "source": [
    "nums"
   ]
  },
  {
   "cell_type": "code",
   "execution_count": 80,
   "id": "e4fb9ca4-8b5c-4999-96ff-c9508b730815",
   "metadata": {},
   "outputs": [],
   "source": [
    "nums.remove(45) #  remove means remove value in specific () number "
   ]
  },
  {
   "cell_type": "code",
   "execution_count": 110,
   "id": "bbec06b7-9519-44be-bbf6-7899fb00500e",
   "metadata": {},
   "outputs": [
    {
     "data": {
      "text/plain": [
       "[10, 20, 30]"
      ]
     },
     "execution_count": 110,
     "metadata": {},
     "output_type": "execute_result"
    }
   ],
   "source": [
    "nums = [10,20,30]\n",
    "nums"
   ]
  },
  {
   "cell_type": "code",
   "execution_count": 112,
   "id": "b5027554-10a5-4f08-943a-d35651b3de9a",
   "metadata": {},
   "outputs": [
    {
     "data": {
      "text/plain": [
       "[10, 20, 30]"
      ]
     },
     "execution_count": 112,
     "metadata": {},
     "output_type": "execute_result"
    }
   ],
   "source": [
    "nums"
   ]
  },
  {
   "cell_type": "code",
   "execution_count": 114,
   "id": "de6746b5-ccdf-420e-96d1-8ab142e24d35",
   "metadata": {},
   "outputs": [
    {
     "data": {
      "text/plain": [
       "20"
      ]
     },
     "execution_count": 114,
     "metadata": {},
     "output_type": "execute_result"
    }
   ],
   "source": [
    "nums.pop(1)"
   ]
  },
  {
   "cell_type": "code",
   "execution_count": 116,
   "id": "85bdf77c-2595-42d3-ba45-7e7e24ffe46c",
   "metadata": {},
   "outputs": [
    {
     "data": {
      "text/plain": [
       "[10, 30]"
      ]
     },
     "execution_count": 116,
     "metadata": {},
     "output_type": "execute_result"
    }
   ],
   "source": [
    "nums"
   ]
  },
  {
   "cell_type": "code",
   "execution_count": 118,
   "id": "6b5b0a99-f969-473f-b232-1b3407483512",
   "metadata": {},
   "outputs": [
    {
     "data": {
      "text/plain": [
       "30"
      ]
     },
     "execution_count": 118,
     "metadata": {},
     "output_type": "execute_result"
    }
   ],
   "source": [
    "nums.pop() # if we don't assign the index element then it will consider bydefaulylast value"
   ]
  },
  {
   "cell_type": "code",
   "execution_count": 120,
   "id": "9e26228f-3eec-43ce-a50f-545ea66d4126",
   "metadata": {},
   "outputs": [
    {
     "data": {
      "text/plain": [
       "[10]"
      ]
     },
     "execution_count": 120,
     "metadata": {},
     "output_type": "execute_result"
    }
   ],
   "source": [
    "nums"
   ]
  },
  {
   "cell_type": "code",
   "execution_count": 122,
   "id": "3b0caad2-58eb-4f46-8a6a-3796699ae377",
   "metadata": {},
   "outputs": [
    {
     "data": {
      "text/plain": [
       "['hi', 'hello']"
      ]
     },
     "execution_count": 122,
     "metadata": {},
     "output_type": "execute_result"
    }
   ],
   "source": [
    "num1"
   ]
  },
  {
   "cell_type": "code",
   "execution_count": 124,
   "id": "68dfb30e-cb95-4bac-b550-9bd2308f7970",
   "metadata": {},
   "outputs": [],
   "source": [
    "num1.insert(2,'nit') # insert the value as per index values i.e 2nd index we are assining nit"
   ]
  },
  {
   "cell_type": "code",
   "execution_count": 126,
   "id": "8f9b5fe0-958d-46bd-af02-f618169bc13c",
   "metadata": {},
   "outputs": [
    {
     "data": {
      "text/plain": [
       "['hi', 'hello', 'nit']"
      ]
     },
     "execution_count": 126,
     "metadata": {},
     "output_type": "execute_result"
    }
   ],
   "source": [
    "num1"
   ]
  },
  {
   "cell_type": "code",
   "execution_count": 128,
   "id": "81f2dcb6-6607-479a-aa9b-0e434234790f",
   "metadata": {},
   "outputs": [],
   "source": [
    "num1.insert(0,1)"
   ]
  },
  {
   "cell_type": "code",
   "execution_count": 130,
   "id": "23d7cbf1-038f-4e08-90ef-8ac50c5be57b",
   "metadata": {},
   "outputs": [
    {
     "data": {
      "text/plain": [
       "[1, 'hi', 'hello', 'nit']"
      ]
     },
     "execution_count": 130,
     "metadata": {},
     "output_type": "execute_result"
    }
   ],
   "source": [
    "num1"
   ]
  },
  {
   "cell_type": "code",
   "execution_count": 132,
   "id": "77b4a171-239c-437f-b8d3-7375a4d9c837",
   "metadata": {},
   "outputs": [
    {
     "data": {
      "text/plain": [
       "['hi', 24.56, 80]"
      ]
     },
     "execution_count": 132,
     "metadata": {},
     "output_type": "execute_result"
    }
   ],
   "source": [
    "# if we want to delete multiple value \n",
    "num2"
   ]
  },
  {
   "cell_type": "code",
   "execution_count": 134,
   "id": "02280a1b-1e52-4820-9792-791af66def13",
   "metadata": {},
   "outputs": [],
   "source": [
    "del num2[2:]"
   ]
  },
  {
   "cell_type": "code",
   "execution_count": 136,
   "id": "1266a376-78f7-47a1-812e-56e47823c633",
   "metadata": {},
   "outputs": [
    {
     "data": {
      "text/plain": [
       "['hi', 24.56]"
      ]
     },
     "execution_count": 136,
     "metadata": {},
     "output_type": "execute_result"
    }
   ],
   "source": [
    "num2"
   ]
  },
  {
   "cell_type": "code",
   "execution_count": 140,
   "id": "b61f7e91-fb58-4068-8728-90593e987bc8",
   "metadata": {},
   "outputs": [],
   "source": [
    "# if you need to add multiple values\n",
    "num2.extend([29,15,20])"
   ]
  },
  {
   "cell_type": "code",
   "execution_count": 142,
   "id": "895e8886-6923-43cb-bf1e-0b94a8b52127",
   "metadata": {},
   "outputs": [
    {
     "data": {
      "text/plain": [
       "['hi', 24.56, 29, 15, 20]"
      ]
     },
     "execution_count": 142,
     "metadata": {},
     "output_type": "execute_result"
    }
   ],
   "source": [
    "num2"
   ]
  },
  {
   "cell_type": "code",
   "execution_count": 144,
   "id": "4b27bcca-57b2-4fb3-b2c8-efff9c948ae1",
   "metadata": {},
   "outputs": [
    {
     "data": {
      "text/plain": [
       "[[10], [1, 'hi', 'hello', 'nit']]"
      ]
     },
     "execution_count": 144,
     "metadata": {},
     "output_type": "execute_result"
    }
   ],
   "source": [
    "num3"
   ]
  },
  {
   "cell_type": "code",
   "execution_count": 146,
   "id": "96d123a7-11ab-48d9-b816-f081ac88e29e",
   "metadata": {},
   "outputs": [],
   "source": [
    "num3.extend(['a',5,6.7])"
   ]
  },
  {
   "cell_type": "code",
   "execution_count": 148,
   "id": "b92fa761-fab7-468f-a3e2-5a462cd2a01d",
   "metadata": {},
   "outputs": [
    {
     "data": {
      "text/plain": [
       "[[10], [1, 'hi', 'hello', 'nit'], 'a', 5, 6.7]"
      ]
     },
     "execution_count": 148,
     "metadata": {},
     "output_type": "execute_result"
    }
   ],
   "source": [
    "num3"
   ]
  },
  {
   "cell_type": "code",
   "execution_count": 154,
   "id": "4cb7c831-9274-4833-a14e-4dd4d43582a7",
   "metadata": {},
   "outputs": [
    {
     "data": {
      "text/plain": [
       "[10, 20, 30]"
      ]
     },
     "execution_count": 154,
     "metadata": {},
     "output_type": "execute_result"
    }
   ],
   "source": [
    "nums = [10,20,30]\n",
    "nums"
   ]
  },
  {
   "cell_type": "code",
   "execution_count": 156,
   "id": "1723ef38-e657-41cc-9620-e87f1f1ff79a",
   "metadata": {},
   "outputs": [
    {
     "data": {
      "text/plain": [
       "10"
      ]
     },
     "execution_count": 156,
     "metadata": {},
     "output_type": "execute_result"
    }
   ],
   "source": [
    "min(nums) # inbuild functions"
   ]
  },
  {
   "cell_type": "code",
   "execution_count": 164,
   "id": "b863c841-69dd-4b8e-b63f-4b08f79499f0",
   "metadata": {},
   "outputs": [
    {
     "data": {
      "text/plain": [
       "30"
      ]
     },
     "execution_count": 164,
     "metadata": {},
     "output_type": "execute_result"
    }
   ],
   "source": [
    "max(nums) # inbuild functions"
   ]
  },
  {
   "cell_type": "code",
   "execution_count": 166,
   "id": "5efbf11e-ae6b-42b4-9668-5a8199cb66df",
   "metadata": {},
   "outputs": [
    {
     "data": {
      "text/plain": [
       "[1, 'hi', 'hello', 'nit']"
      ]
     },
     "execution_count": 166,
     "metadata": {},
     "output_type": "execute_result"
    }
   ],
   "source": [
    "num1"
   ]
  },
  {
   "cell_type": "code",
   "execution_count": 168,
   "id": "4b93eb1d-ec97-4321-b2ee-14689868a0b8",
   "metadata": {},
   "outputs": [
    {
     "ename": "TypeError",
     "evalue": "'<' not supported between instances of 'str' and 'int'",
     "output_type": "error",
     "traceback": [
      "\u001b[1;31m---------------------------------------------------------------------------\u001b[0m",
      "\u001b[1;31mTypeError\u001b[0m                                 Traceback (most recent call last)",
      "Cell \u001b[1;32mIn[168], line 1\u001b[0m\n\u001b[1;32m----> 1\u001b[0m \u001b[38;5;28mmin\u001b[39m(num1)\n",
      "\u001b[1;31mTypeError\u001b[0m: '<' not supported between instances of 'str' and 'int'"
     ]
    }
   ],
   "source": [
    "min(num1)"
   ]
  },
  {
   "cell_type": "code",
   "execution_count": 170,
   "id": "99f3f9b4-c892-47ee-947d-1b0304f04073",
   "metadata": {},
   "outputs": [
    {
     "data": {
      "text/plain": [
       "60"
      ]
     },
     "execution_count": 170,
     "metadata": {},
     "output_type": "execute_result"
    }
   ],
   "source": [
    "sum(nums) # inbuild functions"
   ]
  },
  {
   "cell_type": "code",
   "execution_count": 172,
   "id": "380ad48e-c619-4465-b74d-7e18100be7dc",
   "metadata": {},
   "outputs": [],
   "source": [
    "nums.sort() # sort method"
   ]
  },
  {
   "cell_type": "code",
   "execution_count": 174,
   "id": "64c8311c-a936-4a02-9e6e-56ec7aaae188",
   "metadata": {},
   "outputs": [
    {
     "data": {
      "text/plain": [
       "[10, 20, 30]"
      ]
     },
     "execution_count": 174,
     "metadata": {},
     "output_type": "execute_result"
    }
   ],
   "source": [
    "nums"
   ]
  },
  {
   "cell_type": "markdown",
   "id": "f7161839-a996-4a1b-a17f-af0bece6b724",
   "metadata": {},
   "source": [
    "## Tuple"
   ]
  },
  {
   "cell_type": "code",
   "execution_count": 198,
   "id": "e78c7754-49c7-446d-908d-5c033eb33a7f",
   "metadata": {},
   "outputs": [
    {
     "data": {
      "text/plain": [
       "(15, 25, 35, 21, 10)"
      ]
     },
     "execution_count": 198,
     "metadata": {},
     "output_type": "execute_result"
    }
   ],
   "source": [
    "# tuple tuple tuple \n",
    "tup = (15,25,35,21, 10)\n",
    "tup"
   ]
  },
  {
   "cell_type": "code",
   "execution_count": 181,
   "id": "54ff2c7d-2caf-41cc-96bf-fa5ddb799993",
   "metadata": {},
   "outputs": [
    {
     "data": {
      "text/plain": [
       "15"
      ]
     },
     "execution_count": 181,
     "metadata": {},
     "output_type": "execute_result"
    }
   ],
   "source": [
    "tup[0]"
   ]
  },
  {
   "cell_type": "code",
   "execution_count": 183,
   "id": "2a948f3e-3501-44fa-90f0-123a883a8007",
   "metadata": {},
   "outputs": [
    {
     "ename": "TypeError",
     "evalue": "'tuple' object does not support item assignment",
     "output_type": "error",
     "traceback": [
      "\u001b[1;31m---------------------------------------------------------------------------\u001b[0m",
      "\u001b[1;31mTypeError\u001b[0m                                 Traceback (most recent call last)",
      "Cell \u001b[1;32mIn[183], line 1\u001b[0m\n\u001b[1;32m----> 1\u001b[0m tup[\u001b[38;5;241m0\u001b[39m] \u001b[38;5;241m=\u001b[39m \u001b[38;5;241m10\u001b[39m\n",
      "\u001b[1;31mTypeError\u001b[0m: 'tuple' object does not support item assignment"
     ]
    }
   ],
   "source": [
    "tup[0] = 10"
   ]
  },
  {
   "cell_type": "raw",
   "id": "a52a9580-f7a3-43ef-bb5b-e7c7792b0463",
   "metadata": {},
   "source": [
    "# # as we are unable to change any value or parameter in tuple so iteration very faster in tuple compare to list "
   ]
  },
  {
   "cell_type": "markdown",
   "id": "49464578-4eac-4a90-8a81-584c5732aec3",
   "metadata": {},
   "source": [
    "##  Set"
   ]
  },
  {
   "cell_type": "code",
   "execution_count": 186,
   "id": "37422fdf-4166-4f1a-9d9c-98ecce6024c9",
   "metadata": {},
   "outputs": [],
   "source": [
    "# set set set  #  set  by default assending  order  \n",
    "s = {}"
   ]
  },
  {
   "cell_type": "code",
   "execution_count": 188,
   "id": "a3ac0738-14e5-421e-bc3c-4fba719b00b1",
   "metadata": {},
   "outputs": [
    {
     "data": {
      "text/plain": [
       "{7, 20, 21, 24, 35, 36}"
      ]
     },
     "execution_count": 188,
     "metadata": {},
     "output_type": "execute_result"
    }
   ],
   "source": [
    "s1 = {21,20,35,36,24,7}\n",
    "s1"
   ]
  },
  {
   "cell_type": "code",
   "execution_count": 190,
   "id": "52b6a9bf-1897-4e0a-8391-367b88defdda",
   "metadata": {},
   "outputs": [],
   "source": [
    "s2 =  {12,34,45,64,32,21,\"nit\",23,35}"
   ]
  },
  {
   "cell_type": "code",
   "execution_count": 192,
   "id": "4e2e655e-46a2-4a2b-86b5-7e9cd55b8549",
   "metadata": {},
   "outputs": [
    {
     "data": {
      "text/plain": [
       "{12, 21, 23, 32, 34, 35, 45, 64, 'nit'}"
      ]
     },
     "execution_count": 192,
     "metadata": {},
     "output_type": "execute_result"
    }
   ],
   "source": [
    "s2"
   ]
  },
  {
   "cell_type": "code",
   "execution_count": 204,
   "id": "defcb990-9960-49a5-81c5-3eb2269e56da",
   "metadata": {},
   "outputs": [
    {
     "ename": "TypeError",
     "evalue": "'set' object is not subscriptable",
     "output_type": "error",
     "traceback": [
      "\u001b[1;31m---------------------------------------------------------------------------\u001b[0m",
      "\u001b[1;31mTypeError\u001b[0m                                 Traceback (most recent call last)",
      "Cell \u001b[1;32mIn[204], line 1\u001b[0m\n\u001b[1;32m----> 1\u001b[0m s1[\u001b[38;5;241m1\u001b[39m]\n",
      "\u001b[1;31mTypeError\u001b[0m: 'set' object is not subscriptable"
     ]
    }
   ],
   "source": [
    "s1[1] ## as we dont have proper sequencing thats why indexing not subscriptable"
   ]
  },
  {
   "cell_type": "markdown",
   "id": "dfc88a13-1207-4a0b-a7d5-d49bb9a13eed",
   "metadata": {},
   "source": [
    "## Dictionary"
   ]
  },
  {
   "cell_type": "code",
   "execution_count": 207,
   "id": "9d6b72f6-edf3-45c1-918c-d0c8cec352d4",
   "metadata": {},
   "outputs": [
    {
     "data": {
      "text/plain": [
       "{1: 'apple', 2: 'banana', 3: 'orange', 4: 'grepss'}"
      ]
     },
     "execution_count": 207,
     "metadata": {},
     "output_type": "execute_result"
    }
   ],
   "source": [
    "# dictionary   dictionary   dictionary \n",
    "data = { 1:'apple', 2:'banana', 3:'orange', 4:'grepss'}\n",
    "data"
   ]
  },
  {
   "cell_type": "code",
   "execution_count": 209,
   "id": "15445375-93ad-41d2-bb5e-1904542b50dc",
   "metadata": {},
   "outputs": [
    {
     "data": {
      "text/plain": [
       "'grepss'"
      ]
     },
     "execution_count": 209,
     "metadata": {},
     "output_type": "execute_result"
    }
   ],
   "source": [
    "data[4]"
   ]
  },
  {
   "cell_type": "code",
   "execution_count": 211,
   "id": "8d47ef05-f3e6-46d0-8098-0b0fda9e022a",
   "metadata": {},
   "outputs": [
    {
     "data": {
      "text/plain": [
       "'banana'"
      ]
     },
     "execution_count": 211,
     "metadata": {},
     "output_type": "execute_result"
    }
   ],
   "source": [
    "data[2]"
   ]
  },
  {
   "cell_type": "code",
   "execution_count": 213,
   "id": "2005121e-71c4-40c5-bf5f-af6ab5c705fa",
   "metadata": {},
   "outputs": [
    {
     "data": {
      "text/plain": [
       "'banana'"
      ]
     },
     "execution_count": 213,
     "metadata": {},
     "output_type": "execute_result"
    }
   ],
   "source": [
    "data.get(2)"
   ]
  },
  {
   "cell_type": "code",
   "execution_count": 215,
   "id": "0ba9189b-e934-479a-ae10-5c3110ee062c",
   "metadata": {},
   "outputs": [
    {
     "data": {
      "text/plain": [
       "'grepss'"
      ]
     },
     "execution_count": 215,
     "metadata": {},
     "output_type": "execute_result"
    }
   ],
   "source": [
    "data.get(4)"
   ]
  },
  {
   "cell_type": "code",
   "execution_count": 217,
   "id": "5b1be3b4-fc80-44ad-9f5e-36f2cfb419cd",
   "metadata": {},
   "outputs": [
    {
     "name": "stdout",
     "output_type": "stream",
     "text": [
      "orange\n"
     ]
    }
   ],
   "source": [
    "print(data.get(3))"
   ]
  },
  {
   "cell_type": "code",
   "execution_count": 219,
   "id": "45926cfd-4075-4bd8-a2c5-cfdf6304b55c",
   "metadata": {},
   "outputs": [
    {
     "data": {
      "text/plain": [
       "'apple'"
      ]
     },
     "execution_count": 219,
     "metadata": {},
     "output_type": "execute_result"
    }
   ],
   "source": [
    "data.get(1,'Not found')"
   ]
  },
  {
   "cell_type": "code",
   "execution_count": 221,
   "id": "dc8367e6-d567-4592-b737-7240e8f4c183",
   "metadata": {},
   "outputs": [
    {
     "data": {
      "text/plain": [
       "'grepss'"
      ]
     },
     "execution_count": 221,
     "metadata": {},
     "output_type": "execute_result"
    }
   ],
   "source": [
    "data.get(4,'Not found')"
   ]
  },
  {
   "cell_type": "code",
   "execution_count": 223,
   "id": "c9992dd1-df21-4c80-823e-f0761b4edfee",
   "metadata": {},
   "outputs": [
    {
     "data": {
      "text/plain": [
       "'banana'"
      ]
     },
     "execution_count": 223,
     "metadata": {},
     "output_type": "execute_result"
    }
   ],
   "source": [
    "data.get(2,'Not found')"
   ]
  },
  {
   "cell_type": "code",
   "execution_count": 225,
   "id": "4decdd85-20bc-4c54-9ccb-1411d565eff8",
   "metadata": {},
   "outputs": [],
   "source": [
    "data[5] = 'five' # add value"
   ]
  },
  {
   "cell_type": "code",
   "execution_count": 227,
   "id": "b38e4a23-92d7-4947-b35d-d3816c019b86",
   "metadata": {},
   "outputs": [
    {
     "data": {
      "text/plain": [
       "{1: 'apple', 2: 'banana', 3: 'orange', 4: 'grepss', 5: 'five'}"
      ]
     },
     "execution_count": 227,
     "metadata": {},
     "output_type": "execute_result"
    }
   ],
   "source": [
    "data"
   ]
  },
  {
   "cell_type": "code",
   "execution_count": 229,
   "id": "24cabb96-9ece-4abb-ba91-5d0b8ac56945",
   "metadata": {},
   "outputs": [],
   "source": [
    "del data[5]  ## delete value"
   ]
  },
  {
   "cell_type": "code",
   "execution_count": 231,
   "id": "4df4faa4-2198-47c0-99df-6e93d50667c9",
   "metadata": {},
   "outputs": [
    {
     "data": {
      "text/plain": [
       "{1: 'apple', 2: 'banana', 3: 'orange', 4: 'grepss'}"
      ]
     },
     "execution_count": 231,
     "metadata": {},
     "output_type": "execute_result"
    }
   ],
   "source": [
    "data"
   ]
  },
  {
   "cell_type": "code",
   "execution_count": 233,
   "id": "c8566aac-c692-49aa-b544-196b9ef1aa17",
   "metadata": {},
   "outputs": [
    {
     "data": {
      "text/plain": [
       "{'python': ['vs code', 'pycharm'],\n",
       " 'machine learning': 'sklearn',\n",
       " 'datascientist': ['jupyter', 'spyder']}"
      ]
     },
     "execution_count": 233,
     "metadata": {},
     "output_type": "execute_result"
    }
   ],
   "source": [
    "# # list in the dictionary\n",
    "prog = {'python':['vs code','pycharm'], 'machine learning': 'sklearn', 'datascientist':['jupyter','spyder']}\n",
    "prog"
   ]
  },
  {
   "cell_type": "code",
   "execution_count": 237,
   "id": "9d29ffc8-2e50-4931-9bd3-93022129611b",
   "metadata": {},
   "outputs": [
    {
     "data": {
      "text/plain": [
       "['vs code', 'pycharm']"
      ]
     },
     "execution_count": 237,
     "metadata": {},
     "output_type": "execute_result"
    }
   ],
   "source": [
    "prog['python']"
   ]
  },
  {
   "cell_type": "code",
   "execution_count": 239,
   "id": "447d7279-38f6-49c9-a4cf-3880313790b3",
   "metadata": {},
   "outputs": [
    {
     "data": {
      "text/plain": [
       "'sklearn'"
      ]
     },
     "execution_count": 239,
     "metadata": {},
     "output_type": "execute_result"
    }
   ],
   "source": [
    "prog['machine learning']"
   ]
  },
  {
   "cell_type": "code",
   "execution_count": 243,
   "id": "bfaabdcd-02fd-4f29-81be-6ef47bce6413",
   "metadata": {},
   "outputs": [
    {
     "data": {
      "text/plain": [
       "['jupyter', 'spyder']"
      ]
     },
     "execution_count": 243,
     "metadata": {},
     "output_type": "execute_result"
    }
   ],
   "source": [
    "prog['datascientist']"
   ]
  },
  {
   "cell_type": "markdown",
   "id": "de314a2a-a902-4c9f-b2fc-4f2f45ba6319",
   "metadata": {},
   "source": [
    "## How to create environment variable "
   ]
  },
  {
   "cell_type": "markdown",
   "id": "7606c893-d743-43e1-916e-374305641565",
   "metadata": {},
   "source": [
    "- STEPS TO SET UP EXECUTE PYTHON IN SYSTEM CMD (TO CREATE ENVIRONMENT VARIABLE)\n",
    "- Open cmd # python (You will get error when you execute 1st time)\n",
    "- search with environment variable - system variable:(C:\\Users\\kdata\\AppData\\Local\\Microsoft\\WindowsApps)\n",
    "- restart the cmd & type python in cmd it will work now\n"
   ]
  },
  {
   "cell_type": "markdown",
   "id": "4513aa73-651b-46f9-8f56-52b0d93648b4",
   "metadata": {},
   "source": [
    "## to find help"
   ]
  },
  {
   "cell_type": "markdown",
   "id": "2920980a-fdc8-4606-9277-3c09dd316ead",
   "metadata": {},
   "source": [
    "STEPS TO FIND HELP OPTION -->\n",
    "1- help() | 2- topics | 3- search as per requirments | 4- quit\n",
    "if you want help on any command then help(list) || help(tuple)"
   ]
  },
  {
   "cell_type": "markdown",
   "id": "deecc1ac-fa15-45f5-9926-dcc2cf00cd94",
   "metadata": {},
   "source": [
    "help()"
   ]
  },
  {
   "cell_type": "code",
   "execution_count": 247,
   "id": "d64e4ae3-57bd-4992-821d-7c96e83baaab",
   "metadata": {},
   "outputs": [
    {
     "name": "stdout",
     "output_type": "stream",
     "text": [
      "Help on class list in module builtins:\n",
      "\n",
      "class list(object)\n",
      " |  list(iterable=(), /)\n",
      " |\n",
      " |  Built-in mutable sequence.\n",
      " |\n",
      " |  If no argument is given, the constructor creates a new empty list.\n",
      " |  The argument must be an iterable if specified.\n",
      " |\n",
      " |  Methods defined here:\n",
      " |\n",
      " |  __add__(self, value, /)\n",
      " |      Return self+value.\n",
      " |\n",
      " |  __contains__(self, key, /)\n",
      " |      Return bool(key in self).\n",
      " |\n",
      " |  __delitem__(self, key, /)\n",
      " |      Delete self[key].\n",
      " |\n",
      " |  __eq__(self, value, /)\n",
      " |      Return self==value.\n",
      " |\n",
      " |  __ge__(self, value, /)\n",
      " |      Return self>=value.\n",
      " |\n",
      " |  __getattribute__(self, name, /)\n",
      " |      Return getattr(self, name).\n",
      " |\n",
      " |  __getitem__(self, index, /)\n",
      " |      Return self[index].\n",
      " |\n",
      " |  __gt__(self, value, /)\n",
      " |      Return self>value.\n",
      " |\n",
      " |  __iadd__(self, value, /)\n",
      " |      Implement self+=value.\n",
      " |\n",
      " |  __imul__(self, value, /)\n",
      " |      Implement self*=value.\n",
      " |\n",
      " |  __init__(self, /, *args, **kwargs)\n",
      " |      Initialize self.  See help(type(self)) for accurate signature.\n",
      " |\n",
      " |  __iter__(self, /)\n",
      " |      Implement iter(self).\n",
      " |\n",
      " |  __le__(self, value, /)\n",
      " |      Return self<=value.\n",
      " |\n",
      " |  __len__(self, /)\n",
      " |      Return len(self).\n",
      " |\n",
      " |  __lt__(self, value, /)\n",
      " |      Return self<value.\n",
      " |\n",
      " |  __mul__(self, value, /)\n",
      " |      Return self*value.\n",
      " |\n",
      " |  __ne__(self, value, /)\n",
      " |      Return self!=value.\n",
      " |\n",
      " |  __repr__(self, /)\n",
      " |      Return repr(self).\n",
      " |\n",
      " |  __reversed__(self, /)\n",
      " |      Return a reverse iterator over the list.\n",
      " |\n",
      " |  __rmul__(self, value, /)\n",
      " |      Return value*self.\n",
      " |\n",
      " |  __setitem__(self, key, value, /)\n",
      " |      Set self[key] to value.\n",
      " |\n",
      " |  __sizeof__(self, /)\n",
      " |      Return the size of the list in memory, in bytes.\n",
      " |\n",
      " |  append(self, object, /)\n",
      " |      Append object to the end of the list.\n",
      " |\n",
      " |  clear(self, /)\n",
      " |      Remove all items from list.\n",
      " |\n",
      " |  copy(self, /)\n",
      " |      Return a shallow copy of the list.\n",
      " |\n",
      " |  count(self, value, /)\n",
      " |      Return number of occurrences of value.\n",
      " |\n",
      " |  extend(self, iterable, /)\n",
      " |      Extend list by appending elements from the iterable.\n",
      " |\n",
      " |  index(self, value, start=0, stop=9223372036854775807, /)\n",
      " |      Return first index of value.\n",
      " |\n",
      " |      Raises ValueError if the value is not present.\n",
      " |\n",
      " |  insert(self, index, object, /)\n",
      " |      Insert object before index.\n",
      " |\n",
      " |  pop(self, index=-1, /)\n",
      " |      Remove and return item at index (default last).\n",
      " |\n",
      " |      Raises IndexError if list is empty or index is out of range.\n",
      " |\n",
      " |  remove(self, value, /)\n",
      " |      Remove first occurrence of value.\n",
      " |\n",
      " |      Raises ValueError if the value is not present.\n",
      " |\n",
      " |  reverse(self, /)\n",
      " |      Reverse *IN PLACE*.\n",
      " |\n",
      " |  sort(self, /, *, key=None, reverse=False)\n",
      " |      Sort the list in ascending order and return None.\n",
      " |\n",
      " |      The sort is in-place (i.e. the list itself is modified) and stable (i.e. the\n",
      " |      order of two equal elements is maintained).\n",
      " |\n",
      " |      If a key function is given, apply it once to each list item and sort them,\n",
      " |      ascending or descending, according to their function values.\n",
      " |\n",
      " |      The reverse flag can be set to sort in descending order.\n",
      " |\n",
      " |  ----------------------------------------------------------------------\n",
      " |  Class methods defined here:\n",
      " |\n",
      " |  __class_getitem__(...)\n",
      " |      See PEP 585\n",
      " |\n",
      " |  ----------------------------------------------------------------------\n",
      " |  Static methods defined here:\n",
      " |\n",
      " |  __new__(*args, **kwargs)\n",
      " |      Create and return a new object.  See help(type) for accurate signature.\n",
      " |\n",
      " |  ----------------------------------------------------------------------\n",
      " |  Data and other attributes defined here:\n",
      " |\n",
      " |  __hash__ = None\n",
      "\n"
     ]
    }
   ],
   "source": [
    "help(list)"
   ]
  },
  {
   "cell_type": "code",
   "execution_count": 253,
   "id": "98baddb3-c8a1-4376-b05f-7d4432a67a23",
   "metadata": {},
   "outputs": [
    {
     "name": "stdout",
     "output_type": "stream",
     "text": [
      "Help on class tuple in module builtins:\n",
      "\n",
      "class tuple(object)\n",
      " |  tuple(iterable=(), /)\n",
      " |\n",
      " |  Built-in immutable sequence.\n",
      " |\n",
      " |  If no argument is given, the constructor returns an empty tuple.\n",
      " |  If iterable is specified the tuple is initialized from iterable's items.\n",
      " |\n",
      " |  If the argument is a tuple, the return value is the same object.\n",
      " |\n",
      " |  Built-in subclasses:\n",
      " |      asyncgen_hooks\n",
      " |      MonthDayNano\n",
      " |      UnraisableHookArgs\n",
      " |\n",
      " |  Methods defined here:\n",
      " |\n",
      " |  __add__(self, value, /)\n",
      " |      Return self+value.\n",
      " |\n",
      " |  __contains__(self, key, /)\n",
      " |      Return bool(key in self).\n",
      " |\n",
      " |  __eq__(self, value, /)\n",
      " |      Return self==value.\n",
      " |\n",
      " |  __ge__(self, value, /)\n",
      " |      Return self>=value.\n",
      " |\n",
      " |  __getattribute__(self, name, /)\n",
      " |      Return getattr(self, name).\n",
      " |\n",
      " |  __getitem__(self, key, /)\n",
      " |      Return self[key].\n",
      " |\n",
      " |  __getnewargs__(self, /)\n",
      " |\n",
      " |  __gt__(self, value, /)\n",
      " |      Return self>value.\n",
      " |\n",
      " |  __hash__(self, /)\n",
      " |      Return hash(self).\n",
      " |\n",
      " |  __iter__(self, /)\n",
      " |      Implement iter(self).\n",
      " |\n",
      " |  __le__(self, value, /)\n",
      " |      Return self<=value.\n",
      " |\n",
      " |  __len__(self, /)\n",
      " |      Return len(self).\n",
      " |\n",
      " |  __lt__(self, value, /)\n",
      " |      Return self<value.\n",
      " |\n",
      " |  __mul__(self, value, /)\n",
      " |      Return self*value.\n",
      " |\n",
      " |  __ne__(self, value, /)\n",
      " |      Return self!=value.\n",
      " |\n",
      " |  __repr__(self, /)\n",
      " |      Return repr(self).\n",
      " |\n",
      " |  __rmul__(self, value, /)\n",
      " |      Return value*self.\n",
      " |\n",
      " |  count(self, value, /)\n",
      " |      Return number of occurrences of value.\n",
      " |\n",
      " |  index(self, value, start=0, stop=9223372036854775807, /)\n",
      " |      Return first index of value.\n",
      " |\n",
      " |      Raises ValueError if the value is not present.\n",
      " |\n",
      " |  ----------------------------------------------------------------------\n",
      " |  Class methods defined here:\n",
      " |\n",
      " |  __class_getitem__(...)\n",
      " |      See PEP 585\n",
      " |\n",
      " |  ----------------------------------------------------------------------\n",
      " |  Static methods defined here:\n",
      " |\n",
      " |  __new__(*args, **kwargs)\n",
      " |      Create and return a new object.  See help(type) for accurate signature.\n",
      "\n"
     ]
    }
   ],
   "source": [
    "help(tuple)"
   ]
  },
  {
   "cell_type": "markdown",
   "id": "f12e5c1a-f432-4af7-b1b5-f7d7e3fa590e",
   "metadata": {},
   "source": [
    "## introduce to ID()"
   ]
  },
  {
   "cell_type": "code",
   "execution_count": 256,
   "id": "63ec0116-28c0-473c-a2bd-6abac05bf9e7",
   "metadata": {},
   "outputs": [
    {
     "data": {
      "text/plain": [
       "140722568899128"
      ]
     },
     "execution_count": 256,
     "metadata": {},
     "output_type": "execute_result"
    }
   ],
   "source": [
    "#  variable address\n",
    "num = 5\n",
    "id(num)"
   ]
  },
  {
   "cell_type": "code",
   "execution_count": 258,
   "id": "5e4f9aa2-1405-4a9a-9d4c-a98145d908af",
   "metadata": {},
   "outputs": [
    {
     "data": {
      "text/plain": [
       "2825071729072"
      ]
     },
     "execution_count": 258,
     "metadata": {},
     "output_type": "execute_result"
    }
   ],
   "source": [
    "name = 'nit'\n",
    "id(name)    # Address will be different for both \n"
   ]
  },
  {
   "cell_type": "code",
   "execution_count": 260,
   "id": "9fc2aed9-ebeb-4d5d-857f-b9beb4e3987e",
   "metadata": {},
   "outputs": [
    {
     "data": {
      "text/plain": [
       "140722568899288"
      ]
     },
     "execution_count": 260,
     "metadata": {},
     "output_type": "execute_result"
    }
   ],
   "source": [
    "a = 10\n",
    "id(a)"
   ]
  },
  {
   "cell_type": "code",
   "execution_count": 262,
   "id": "69f86e57-6bb8-4a00-84a8-459425b4f310",
   "metadata": {},
   "outputs": [
    {
     "data": {
      "text/plain": [
       "140722568899288"
      ]
     },
     "execution_count": 262,
     "metadata": {},
     "output_type": "execute_result"
    }
   ],
   "source": [
    "b = a # thats why python is more memory efficient\n",
    "id(b)"
   ]
  },
  {
   "cell_type": "code",
   "execution_count": 264,
   "id": "4b752445-3ae9-4737-a776-39757803efac",
   "metadata": {},
   "outputs": [
    {
     "data": {
      "text/plain": [
       "140722568899288"
      ]
     },
     "execution_count": 264,
     "metadata": {},
     "output_type": "execute_result"
    }
   ],
   "source": [
    "id(10)"
   ]
  },
  {
   "cell_type": "code",
   "execution_count": 266,
   "id": "b62ec22c-0c75-4f83-9484-eb440cabc18f",
   "metadata": {},
   "outputs": [
    {
     "data": {
      "text/plain": [
       "140722568899288"
      ]
     },
     "execution_count": 266,
     "metadata": {},
     "output_type": "execute_result"
    }
   ],
   "source": [
    "k = 10\n",
    "id(k)"
   ]
  },
  {
   "cell_type": "code",
   "execution_count": 268,
   "id": "01db7cd1-a2be-4efc-a5c0-903c846f90a6",
   "metadata": {},
   "outputs": [
    {
     "data": {
      "text/plain": [
       "140722568899608"
      ]
     },
     "execution_count": 268,
     "metadata": {},
     "output_type": "execute_result"
    }
   ],
   "source": [
    "a = 20    # as we change the value of a then address will change \n",
    "id(a)"
   ]
  },
  {
   "cell_type": "code",
   "execution_count": 270,
   "id": "34a6b370-dbef-4833-8ade-b6a5f7ce18a0",
   "metadata": {},
   "outputs": [
    {
     "data": {
      "text/plain": [
       "140722568899288"
      ]
     },
     "execution_count": 270,
     "metadata": {},
     "output_type": "execute_result"
    }
   ],
   "source": [
    "id(b)"
   ]
  },
  {
   "cell_type": "markdown",
   "id": "59b3250a-9e69-4847-b4bd-04861e568fbc",
   "metadata": {},
   "source": [
    "what ever the variale we assigned the memory and we not assigned anywhere then we can use as garbage collection.|| \n",
    "VARIABLE - we can change the values || CONSTANT - we cannot change the value\n",
    "-can we make VARIABLE as a CONSTANT (note - in python you cannot make variable as constant)\n"
   ]
  },
  {
   "cell_type": "code",
   "execution_count": 273,
   "id": "bd9759b3-68be-4d90-a7a2-a45c6ee0c73e",
   "metadata": {},
   "outputs": [
    {
     "data": {
      "text/plain": [
       "3.14"
      ]
     },
     "execution_count": 273,
     "metadata": {},
     "output_type": "execute_result"
    }
   ],
   "source": [
    "PI = 3.14  # in math this is alway constant but python we can chang\n",
    "PI"
   ]
  },
  {
   "cell_type": "code",
   "execution_count": 275,
   "id": "ab7d14d6-b253-4359-ad20-bb113f4e28a7",
   "metadata": {},
   "outputs": [
    {
     "data": {
      "text/plain": [
       "3.18"
      ]
     },
     "execution_count": 275,
     "metadata": {},
     "output_type": "execute_result"
    }
   ],
   "source": [
    "PI = 3.18\n",
    "PI"
   ]
  },
  {
   "cell_type": "code",
   "execution_count": 277,
   "id": "ea5e4517-fdcc-4795-a1b9-35fa30fb34fe",
   "metadata": {},
   "outputs": [
    {
     "data": {
      "text/plain": [
       "float"
      ]
     },
     "execution_count": 277,
     "metadata": {},
     "output_type": "execute_result"
    }
   ],
   "source": [
    "type(PI)"
   ]
  },
  {
   "cell_type": "markdown",
   "id": "e13db313-fbe8-4266-9a42-a515df674ca6",
   "metadata": {},
   "source": [
    "### DATA TYPES & DATA STRUCTURES-->\n",
    "1- NUMERIC || 2-LIST || 3-TUPLE || 4-SET || 5-STRING || 6-RANGE || 7-DICTIONARY"
   ]
  },
  {
   "cell_type": "code",
   "execution_count": 283,
   "id": "7f45afda-3581-4b0a-be93-107ef5cd29b9",
   "metadata": {},
   "outputs": [
    {
     "data": {
      "text/plain": [
       "float"
      ]
     },
     "execution_count": 283,
     "metadata": {},
     "output_type": "execute_result"
    }
   ],
   "source": [
    "w = 2.5\n",
    "type(w)"
   ]
  },
  {
   "cell_type": "code",
   "execution_count": 285,
   "id": "f17c082b-49aa-4e2a-ae24-5e436e0964c4",
   "metadata": {},
   "outputs": [
    {
     "data": {
      "text/plain": [
       "20"
      ]
     },
     "execution_count": 285,
     "metadata": {},
     "output_type": "execute_result"
    }
   ],
   "source": [
    "a\n",
    "(a)"
   ]
  },
  {
   "cell_type": "code",
   "execution_count": 287,
   "id": "1b9426d0-22dc-4792-942c-1d5a9336fbb7",
   "metadata": {},
   "outputs": [
    {
     "data": {
      "text/plain": [
       "complex"
      ]
     },
     "execution_count": 287,
     "metadata": {},
     "output_type": "execute_result"
    }
   ],
   "source": [
    "w2 = 2+3j # so hear is represent as root of -1\n",
    "type(w2)"
   ]
  },
  {
   "cell_type": "code",
   "execution_count": 291,
   "id": "531b9bf5-4f37-41da-8a54-980565be7ee6",
   "metadata": {},
   "outputs": [],
   "source": [
    "# convert flot to integer \n",
    "a = 5.6 \n",
    "b = int(a)"
   ]
  },
  {
   "cell_type": "code",
   "execution_count": 293,
   "id": "21723a33-3f95-4cfe-90c8-21880674eb0e",
   "metadata": {},
   "outputs": [
    {
     "data": {
      "text/plain": [
       "5"
      ]
     },
     "execution_count": 293,
     "metadata": {},
     "output_type": "execute_result"
    }
   ],
   "source": [
    "b"
   ]
  },
  {
   "cell_type": "code",
   "execution_count": 297,
   "id": "a6d918f1-37f9-4ae0-ad82-f98cca7aa8c7",
   "metadata": {},
   "outputs": [
    {
     "data": {
      "text/plain": [
       "int"
      ]
     },
     "execution_count": 297,
     "metadata": {},
     "output_type": "execute_result"
    }
   ],
   "source": [
    "type(b)"
   ]
  },
  {
   "cell_type": "code",
   "execution_count": 299,
   "id": "ae6c7e8c-8f9f-4a66-96b7-3d69924e1177",
   "metadata": {},
   "outputs": [
    {
     "data": {
      "text/plain": [
       "float"
      ]
     },
     "execution_count": 299,
     "metadata": {},
     "output_type": "execute_result"
    }
   ],
   "source": [
    "type(a)"
   ]
  },
  {
   "cell_type": "code",
   "execution_count": 301,
   "id": "445dd70e-7c54-42e8-866c-165558e73920",
   "metadata": {},
   "outputs": [
    {
     "data": {
      "text/plain": [
       "5.0"
      ]
     },
     "execution_count": 301,
     "metadata": {},
     "output_type": "execute_result"
    }
   ],
   "source": [
    "k = float(b)\n",
    "k"
   ]
  },
  {
   "cell_type": "code",
   "execution_count": 303,
   "id": "e14d5e1b-523b-42a5-bed7-95cedcfc15aa",
   "metadata": {},
   "outputs": [
    {
     "name": "stdout",
     "output_type": "stream",
     "text": [
      "5.6\n",
      "5\n",
      "5.0\n"
     ]
    }
   ],
   "source": [
    "print(a)\n",
    "print(b)\n",
    "print(k)"
   ]
  },
  {
   "cell_type": "code",
   "execution_count": 309,
   "id": "358e29fc-4fd3-4f60-b9e2-673794a0e7dc",
   "metadata": {},
   "outputs": [],
   "source": [
    "k1 = complex(b,k)"
   ]
  },
  {
   "cell_type": "code",
   "execution_count": 311,
   "id": "a61a0902-a78b-406b-91d9-7769b53bc0c4",
   "metadata": {},
   "outputs": [
    {
     "name": "stdout",
     "output_type": "stream",
     "text": [
      "(5+5j)\n"
     ]
    },
    {
     "data": {
      "text/plain": [
       "complex"
      ]
     },
     "execution_count": 311,
     "metadata": {},
     "output_type": "execute_result"
    }
   ],
   "source": [
    "print(k1)\n",
    "type(k1)"
   ]
  },
  {
   "cell_type": "code",
   "execution_count": 313,
   "id": "5d89b765-ff40-4c28-885e-9b9638d9f0d3",
   "metadata": {},
   "outputs": [
    {
     "data": {
      "text/plain": [
       "False"
      ]
     },
     "execution_count": 313,
     "metadata": {},
     "output_type": "execute_result"
    }
   ],
   "source": [
    "b < k"
   ]
  },
  {
   "cell_type": "code",
   "execution_count": 315,
   "id": "76a987b2-d9c0-4aa3-91de-050aad5b58c3",
   "metadata": {},
   "outputs": [
    {
     "data": {
      "text/plain": [
       "False"
      ]
     },
     "execution_count": 315,
     "metadata": {},
     "output_type": "execute_result"
    }
   ],
   "source": [
    "condition = b < k\n",
    "condition"
   ]
  },
  {
   "cell_type": "code",
   "execution_count": 319,
   "id": "7bab0763-4752-4983-a7c7-b559f0110237",
   "metadata": {},
   "outputs": [
    {
     "data": {
      "text/plain": [
       "bool"
      ]
     },
     "execution_count": 319,
     "metadata": {},
     "output_type": "execute_result"
    }
   ],
   "source": [
    "type(condition)"
   ]
  },
  {
   "cell_type": "code",
   "execution_count": 323,
   "id": "2710cb6f-a4be-4d7a-abb6-06e5505014f8",
   "metadata": {},
   "outputs": [
    {
     "data": {
      "text/plain": [
       "1"
      ]
     },
     "execution_count": 323,
     "metadata": {},
     "output_type": "execute_result"
    }
   ],
   "source": [
    "int(True)"
   ]
  },
  {
   "cell_type": "code",
   "execution_count": 325,
   "id": "28619c1d-6baa-4143-8ccd-a9f08948538b",
   "metadata": {},
   "outputs": [
    {
     "data": {
      "text/plain": [
       "0"
      ]
     },
     "execution_count": 325,
     "metadata": {},
     "output_type": "execute_result"
    }
   ],
   "source": [
    "int(False)"
   ]
  },
  {
   "cell_type": "code",
   "execution_count": 331,
   "id": "3448c36b-6993-4ab2-8092-628a4016a364",
   "metadata": {},
   "outputs": [
    {
     "name": "stdout",
     "output_type": "stream",
     "text": [
      "[1, 2, 3, 4]\n"
     ]
    },
    {
     "data": {
      "text/plain": [
       "list"
      ]
     },
     "execution_count": 331,
     "metadata": {},
     "output_type": "execute_result"
    }
   ],
   "source": [
    "l =  [1,2,3,4]\n",
    "print(l)\n",
    "type(l)"
   ]
  },
  {
   "cell_type": "code",
   "execution_count": 333,
   "id": "e8d3cd63-d470-4912-a41c-673f06e1eb2f",
   "metadata": {},
   "outputs": [
    {
     "name": "stdout",
     "output_type": "stream",
     "text": [
      "{1, 2, 3, 4, 5}\n"
     ]
    },
    {
     "data": {
      "text/plain": [
       "set"
      ]
     },
     "execution_count": 333,
     "metadata": {},
     "output_type": "execute_result"
    }
   ],
   "source": [
    "s = {1,2,3,4,5}\n",
    "print(s)\n",
    "type(s)"
   ]
  },
  {
   "cell_type": "code",
   "execution_count": 335,
   "id": "b9b3990f-e032-4f11-8522-9e7f2adc89a5",
   "metadata": {},
   "outputs": [
    {
     "data": {
      "text/plain": [
       "{1, 2, 3, 4, 5, 6, 7}"
      ]
     },
     "execution_count": 335,
     "metadata": {},
     "output_type": "execute_result"
    }
   ],
   "source": [
    "s = {1,2,3,4,5,1, 6,7,2} ## duplicate are not allowed\n",
    "s"
   ]
  },
  {
   "cell_type": "code",
   "execution_count": 337,
   "id": "4ba8ccd6-5751-4c32-92e5-a8cd5290a536",
   "metadata": {},
   "outputs": [
    {
     "data": {
      "text/plain": [
       "(10, 20, 30, 40)"
      ]
     },
     "execution_count": 337,
     "metadata": {},
     "output_type": "execute_result"
    }
   ],
   "source": [
    "t = (10,20,30,40)\n",
    "t"
   ]
  },
  {
   "cell_type": "code",
   "execution_count": null,
   "id": "d5d101f8-def8-460b-8cba-0fe8a51e2efb",
   "metadata": {},
   "outputs": [],
   "source": [
    "type(t)\n",
    "\n",
    "str = 'nit'    # we dont have character in python\n",
    "type(str)"
   ]
  },
  {
   "cell_type": "code",
   "execution_count": 343,
   "id": "0724ac6d-27ed-4174-8e5e-8b76e7244f3f",
   "metadata": {},
   "outputs": [
    {
     "data": {
      "text/plain": [
       "str"
      ]
     },
     "execution_count": 343,
     "metadata": {},
     "output_type": "execute_result"
    }
   ],
   "source": [
    "st = 'n'\n",
    "type(st)"
   ]
  },
  {
   "cell_type": "markdown",
   "id": "748e40a4-86db-42c3-817b-b0fa350cb02f",
   "metadata": {
    "scrolled": true
   },
   "source": [
    "# #range()"
   ]
  },
  {
   "cell_type": "code",
   "execution_count": 348,
   "id": "a1ba6ae9-d4c0-4e7d-9d39-e5c75fffcb32",
   "metadata": {},
   "outputs": [
    {
     "data": {
      "text/plain": [
       "range(0, 10)"
      ]
     },
     "execution_count": 348,
     "metadata": {},
     "output_type": "execute_result"
    }
   ],
   "source": [
    "r = range(0,10)\n",
    "r"
   ]
  },
  {
   "cell_type": "code",
   "execution_count": 350,
   "id": "9c19ada5-bf70-4c1b-b613-328e27e80943",
   "metadata": {},
   "outputs": [
    {
     "data": {
      "text/plain": [
       "range"
      ]
     },
     "execution_count": 350,
     "metadata": {},
     "output_type": "execute_result"
    }
   ],
   "source": [
    "type(r)"
   ]
  },
  {
   "cell_type": "code",
   "execution_count": 352,
   "id": "cbb6a058-9f05-4e45-8176-d9d27e5a9fda",
   "metadata": {},
   "outputs": [
    {
     "data": {
      "text/plain": [
       "[0, 1, 2, 3, 4, 5, 6, 7, 8, 9]"
      ]
     },
     "execution_count": 352,
     "metadata": {},
     "output_type": "execute_result"
    }
   ],
   "source": [
    "# if you want to print the range \n",
    "list(range(0,10))"
   ]
  },
  {
   "cell_type": "code",
   "execution_count": 354,
   "id": "f5818aa9-0492-4697-924a-f7c7b4f995c2",
   "metadata": {},
   "outputs": [
    {
     "data": {
      "text/plain": [
       "[0, 1, 2, 3, 4, 5, 6, 7, 8, 9]"
      ]
     },
     "execution_count": 354,
     "metadata": {},
     "output_type": "execute_result"
    }
   ],
   "source": [
    "r1 = list(r)\n",
    "r1"
   ]
  },
  {
   "cell_type": "code",
   "execution_count": 358,
   "id": "9c4ddec1-9612-418f-a246-b82bddfda55c",
   "metadata": {},
   "outputs": [
    {
     "data": {
      "text/plain": [
       "[2, 4, 6, 8, 10, 12, 14, 16, 18]"
      ]
     },
     "execution_count": 358,
     "metadata": {},
     "output_type": "execute_result"
    }
   ],
   "source": [
    "# if you want to print even number \n",
    "even_number = list(range(2,20,2))\n",
    "even_number"
   ]
  },
  {
   "cell_type": "code",
   "execution_count": 364,
   "id": "61075725-03a0-4237-9896-d9177e1cde57",
   "metadata": {},
   "outputs": [
    {
     "data": {
      "text/plain": [
       "list"
      ]
     },
     "execution_count": 364,
     "metadata": {},
     "output_type": "execute_result"
    }
   ],
   "source": [
    "type(even_number)"
   ]
  },
  {
   "cell_type": "code",
   "execution_count": 360,
   "id": "74cd1bed-32fa-498b-a0ce-31752d1ec93f",
   "metadata": {},
   "outputs": [
    {
     "data": {
      "text/plain": [
       "{1: 'banana', 2: 'orange', 3: 'apple'}"
      ]
     },
     "execution_count": 360,
     "metadata": {},
     "output_type": "execute_result"
    }
   ],
   "source": [
    "d = {1:'banana', 2:'orange', 3:'apple'}\n",
    "d"
   ]
  },
  {
   "cell_type": "code",
   "execution_count": 362,
   "id": "d723ec1f-4eca-40e7-b885-0e67381ad0be",
   "metadata": {},
   "outputs": [
    {
     "data": {
      "text/plain": [
       "dict"
      ]
     },
     "execution_count": 362,
     "metadata": {},
     "output_type": "execute_result"
    }
   ],
   "source": [
    "type(d)"
   ]
  },
  {
   "cell_type": "code",
   "execution_count": 366,
   "id": "ae665841-9243-461a-84e8-c1305daa4328",
   "metadata": {},
   "outputs": [
    {
     "data": {
      "text/plain": [
       "2825162643328"
      ]
     },
     "execution_count": 366,
     "metadata": {},
     "output_type": "execute_result"
    }
   ],
   "source": [
    "id(d)"
   ]
  },
  {
   "cell_type": "code",
   "execution_count": 368,
   "id": "bd9285c6-a0db-41fa-a725-83edd8da8e28",
   "metadata": {},
   "outputs": [
    {
     "data": {
      "text/plain": [
       "dict_keys([1, 2, 3])"
      ]
     },
     "execution_count": 368,
     "metadata": {},
     "output_type": "execute_result"
    }
   ],
   "source": [
    "# print the keys\n",
    "d.keys()"
   ]
  },
  {
   "cell_type": "code",
   "execution_count": 370,
   "id": "99d2806e-3093-4d03-b1ad-2b153b8e9557",
   "metadata": {},
   "outputs": [
    {
     "data": {
      "text/plain": [
       "dict_values(['banana', 'orange', 'apple'])"
      ]
     },
     "execution_count": 370,
     "metadata": {},
     "output_type": "execute_result"
    }
   ],
   "source": [
    "d.values()"
   ]
  },
  {
   "cell_type": "code",
   "execution_count": 372,
   "id": "a09c8899-c9b2-40fb-8072-5372c5e9df49",
   "metadata": {},
   "outputs": [
    {
     "data": {
      "text/plain": [
       "'orange'"
      ]
     },
     "execution_count": 372,
     "metadata": {},
     "output_type": "execute_result"
    }
   ],
   "source": [
    "# how to get a  particular values\n",
    "d[2]"
   ]
  },
  {
   "cell_type": "code",
   "execution_count": 374,
   "id": "b159f143-9c86-4d92-b065-c369b517e529",
   "metadata": {},
   "outputs": [
    {
     "data": {
      "text/plain": [
       "'orange'"
      ]
     },
     "execution_count": 374,
     "metadata": {},
     "output_type": "execute_result"
    }
   ],
   "source": [
    "# other way to get value as \n",
    "d.get(2)"
   ]
  },
  {
   "cell_type": "markdown",
   "id": "c7bb1cb2-f8e2-438b-aad2-0cbf66815ed8",
   "metadata": {},
   "source": [
    "# Operator's in python"
   ]
  },
  {
   "cell_type": "markdown",
   "id": "4435f0d7-09d4-4782-9ab7-775e234527f4",
   "metadata": {},
   "source": [
    "- 1. arithmetic operator(+,-,*,/,**,%,%%,^)\n",
    "- 2. assignment operator(=)\n",
    "- 3. relational operator\n",
    "- 4. logicl operator\n",
    "- 5. unary operator"
   ]
  },
  {
   "cell_type": "markdown",
   "id": "901f11e2-1ebb-4eac-b796-aca964dab71c",
   "metadata": {},
   "source": [
    "## Arithmetic operator"
   ]
  },
  {
   "cell_type": "code",
   "execution_count": 379,
   "id": "4b7eb3a5-0d24-465f-8adf-e0956f3d6d3e",
   "metadata": {},
   "outputs": [],
   "source": [
    "x1,y1 = 10, 5 "
   ]
  },
  {
   "cell_type": "code",
   "execution_count": 381,
   "id": "39790c9b-73e4-4b2f-8cf3-a81ca86124bc",
   "metadata": {},
   "outputs": [
    {
     "data": {
      "text/plain": [
       "15"
      ]
     },
     "execution_count": 381,
     "metadata": {},
     "output_type": "execute_result"
    }
   ],
   "source": [
    "x1 + y1"
   ]
  },
  {
   "cell_type": "code",
   "execution_count": 383,
   "id": "d882b69e-a54c-40bc-bb88-7bd0d2c16073",
   "metadata": {},
   "outputs": [
    {
     "data": {
      "text/plain": [
       "5"
      ]
     },
     "execution_count": 383,
     "metadata": {},
     "output_type": "execute_result"
    }
   ],
   "source": [
    "x1 - y1 "
   ]
  },
  {
   "cell_type": "code",
   "execution_count": 385,
   "id": "a0da66cc-d542-4810-b0c6-1b0b12376fef",
   "metadata": {},
   "outputs": [
    {
     "data": {
      "text/plain": [
       "50"
      ]
     },
     "execution_count": 385,
     "metadata": {},
     "output_type": "execute_result"
    }
   ],
   "source": [
    "x1 * y1 "
   ]
  },
  {
   "cell_type": "code",
   "execution_count": 387,
   "id": "a6e966a1-a69f-4a4f-9dd0-00f6af52751c",
   "metadata": {},
   "outputs": [
    {
     "data": {
      "text/plain": [
       "100000"
      ]
     },
     "execution_count": 387,
     "metadata": {},
     "output_type": "execute_result"
    }
   ],
   "source": [
    "x1 ** y1 "
   ]
  },
  {
   "cell_type": "code",
   "execution_count": 389,
   "id": "e3c1068a-afc6-487d-ab0f-2a7b2555eed8",
   "metadata": {},
   "outputs": [
    {
     "data": {
      "text/plain": [
       "2.0"
      ]
     },
     "execution_count": 389,
     "metadata": {},
     "output_type": "execute_result"
    }
   ],
   "source": [
    "x1 / y1 "
   ]
  },
  {
   "cell_type": "code",
   "execution_count": 391,
   "id": "da98f7e4-e7e0-49cd-9cac-6721827ef4f1",
   "metadata": {},
   "outputs": [
    {
     "data": {
      "text/plain": [
       "2"
      ]
     },
     "execution_count": 391,
     "metadata": {},
     "output_type": "execute_result"
    }
   ],
   "source": [
    "x1// y1 "
   ]
  },
  {
   "cell_type": "code",
   "execution_count": 393,
   "id": "a8b06f04-9057-4043-9c20-ce0bff3ba274",
   "metadata": {},
   "outputs": [
    {
     "data": {
      "text/plain": [
       "0"
      ]
     },
     "execution_count": 393,
     "metadata": {},
     "output_type": "execute_result"
    }
   ],
   "source": [
    "x1 % y1 "
   ]
  },
  {
   "cell_type": "markdown",
   "id": "6d445398-6857-4f35-8b6f-aabae858b6a8",
   "metadata": {},
   "source": [
    "## Assignment operator"
   ]
  },
  {
   "cell_type": "code",
   "execution_count": 400,
   "id": "8113f206-d675-4743-952c-40d8cc87234c",
   "metadata": {},
   "outputs": [],
   "source": [
    "x = 2"
   ]
  },
  {
   "cell_type": "code",
   "execution_count": 404,
   "id": "a35aa159-ed89-4f5a-83fe-35ff5807d8cf",
   "metadata": {},
   "outputs": [
    {
     "data": {
      "text/plain": [
       "6"
      ]
     },
     "execution_count": 404,
     "metadata": {},
     "output_type": "execute_result"
    }
   ],
   "source": [
    "x = x + 2\n",
    "x"
   ]
  },
  {
   "cell_type": "code",
   "execution_count": 406,
   "id": "9e3275b9-d545-4631-b21f-6c7da51e1a90",
   "metadata": {},
   "outputs": [],
   "source": [
    "x += 2"
   ]
  },
  {
   "cell_type": "code",
   "execution_count": 408,
   "id": "129120f7-e508-447c-8929-99b81f2a14d0",
   "metadata": {},
   "outputs": [
    {
     "data": {
      "text/plain": [
       "8"
      ]
     },
     "execution_count": 408,
     "metadata": {},
     "output_type": "execute_result"
    }
   ],
   "source": [
    "x"
   ]
  },
  {
   "cell_type": "code",
   "execution_count": 412,
   "id": "2734c5f9-80e6-4df7-bb60-416f880072ab",
   "metadata": {},
   "outputs": [],
   "source": [
    "x *= 2"
   ]
  },
  {
   "cell_type": "code",
   "execution_count": 414,
   "id": "c7df2410-9227-4ce2-9afd-a6730eaeb5de",
   "metadata": {},
   "outputs": [
    {
     "data": {
      "text/plain": [
       "16"
      ]
     },
     "execution_count": 414,
     "metadata": {},
     "output_type": "execute_result"
    }
   ],
   "source": [
    "x"
   ]
  },
  {
   "cell_type": "code",
   "execution_count": 416,
   "id": "450e3370-91e4-4f41-82a9-3cfe20156478",
   "metadata": {},
   "outputs": [],
   "source": [
    "x -= 2"
   ]
  },
  {
   "cell_type": "code",
   "execution_count": 418,
   "id": "62476662-c199-48ff-8c43-dd11846ec613",
   "metadata": {},
   "outputs": [
    {
     "data": {
      "text/plain": [
       "14"
      ]
     },
     "execution_count": 418,
     "metadata": {},
     "output_type": "execute_result"
    }
   ],
   "source": [
    "x"
   ]
  },
  {
   "cell_type": "code",
   "execution_count": 420,
   "id": "a3202f48-934d-4dd5-baa0-e0995bd31907",
   "metadata": {},
   "outputs": [],
   "source": [
    "x /= 2"
   ]
  },
  {
   "cell_type": "code",
   "execution_count": 422,
   "id": "f5abb70d-0a3c-404c-9897-47bcb03e0a77",
   "metadata": {},
   "outputs": [
    {
     "data": {
      "text/plain": [
       "7.0"
      ]
     },
     "execution_count": 422,
     "metadata": {},
     "output_type": "execute_result"
    }
   ],
   "source": [
    "x"
   ]
  },
  {
   "cell_type": "code",
   "execution_count": 428,
   "id": "f2437384-4548-4063-8f7d-39b2d35ce23a",
   "metadata": {},
   "outputs": [
    {
     "data": {
      "text/plain": [
       "2401.0"
      ]
     },
     "execution_count": 428,
     "metadata": {},
     "output_type": "execute_result"
    }
   ],
   "source": [
    "x **= 2\n",
    "x"
   ]
  },
  {
   "cell_type": "code",
   "execution_count": 430,
   "id": "03c44cf4-0563-4a98-92c1-df45c8368285",
   "metadata": {},
   "outputs": [],
   "source": [
    "x //= 2"
   ]
  },
  {
   "cell_type": "code",
   "execution_count": 432,
   "id": "28466121-83db-4288-80fa-36df64452855",
   "metadata": {},
   "outputs": [
    {
     "data": {
      "text/plain": [
       "1200.0"
      ]
     },
     "execution_count": 432,
     "metadata": {},
     "output_type": "execute_result"
    }
   ],
   "source": [
    "x"
   ]
  },
  {
   "cell_type": "markdown",
   "id": "589bbc60-4618-48b9-b57c-fe2b7fdd767a",
   "metadata": {},
   "source": [
    "# Unary Operator\n",
    "- Hare  we are applying unary minus operator (-) on the operand n; the value of bacausse -7, wich indicates it as a negative value."
   ]
  },
  {
   "cell_type": "code",
   "execution_count": 2,
   "id": "df9de994-7a22-4606-9dd7-8ba1a9388488",
   "metadata": {},
   "outputs": [],
   "source": [
    "n=7 # negattion \n"
   ]
  },
  {
   "cell_type": "code",
   "execution_count": 4,
   "id": "edeaa713-57aa-414b-9243-c8494e8e2acb",
   "metadata": {},
   "outputs": [],
   "source": [
    "m = -(n)"
   ]
  },
  {
   "cell_type": "code",
   "execution_count": 6,
   "id": "ba8d9ec5-e616-4b04-9012-0b48385d6b9d",
   "metadata": {},
   "outputs": [
    {
     "data": {
      "text/plain": [
       "-7"
      ]
     },
     "execution_count": 6,
     "metadata": {},
     "output_type": "execute_result"
    }
   ],
   "source": [
    "m"
   ]
  },
  {
   "cell_type": "code",
   "execution_count": 8,
   "id": "23fd0035-eccd-4273-969a-d5036074528d",
   "metadata": {},
   "outputs": [
    {
     "data": {
      "text/plain": [
       "7"
      ]
     },
     "execution_count": 8,
     "metadata": {},
     "output_type": "execute_result"
    }
   ],
   "source": [
    "n "
   ]
  },
  {
   "cell_type": "code",
   "execution_count": 10,
   "id": "714eb1db-dfa9-48ff-a136-9aa818e3261d",
   "metadata": {},
   "outputs": [
    {
     "data": {
      "text/plain": [
       "-7"
      ]
     },
     "execution_count": 10,
     "metadata": {},
     "output_type": "execute_result"
    }
   ],
   "source": [
    "-n"
   ]
  },
  {
   "cell_type": "markdown",
   "id": "9b47e56a-ee51-4413-a58c-469f302aabfe",
   "metadata": {},
   "source": [
    "# Relational Operator \n",
    " - We are using this oprtator for comparing"
   ]
  },
  {
   "cell_type": "code",
   "execution_count": 13,
   "id": "0c482367-9d79-4430-8322-ad84029b591f",
   "metadata": {},
   "outputs": [],
   "source": [
    "a = 5\n",
    "b= 7\n"
   ]
  },
  {
   "cell_type": "code",
   "execution_count": 15,
   "id": "248c32e9-2b1e-4b5b-aaef-0e33160f80f6",
   "metadata": {},
   "outputs": [
    {
     "data": {
      "text/plain": [
       "False"
      ]
     },
     "execution_count": 15,
     "metadata": {},
     "output_type": "execute_result"
    }
   ],
   "source": [
    "a == b"
   ]
  },
  {
   "cell_type": "code",
   "execution_count": 17,
   "id": "1cf57a11-8824-4552-b212-1b83fa8312eb",
   "metadata": {},
   "outputs": [
    {
     "data": {
      "text/plain": [
       "True"
      ]
     },
     "execution_count": 17,
     "metadata": {},
     "output_type": "execute_result"
    }
   ],
   "source": [
    "a<b"
   ]
  },
  {
   "cell_type": "code",
   "execution_count": 19,
   "id": "e2999948-18b8-4398-9d22-f0fd3a9ac4e5",
   "metadata": {},
   "outputs": [
    {
     "data": {
      "text/plain": [
       "False"
      ]
     },
     "execution_count": 19,
     "metadata": {},
     "output_type": "execute_result"
    }
   ],
   "source": [
    "a>b"
   ]
  },
  {
   "cell_type": "code",
   "execution_count": 21,
   "id": "e44c6429-b5ce-4e26-950a-6dc2ab0fc548",
   "metadata": {},
   "outputs": [],
   "source": [
    "# a = b # we are use = operator that means it is assigning "
   ]
  },
  {
   "cell_type": "code",
   "execution_count": 23,
   "id": "9c5b708f-f11e-44bb-803f-17df09a2e53d",
   "metadata": {},
   "outputs": [
    {
     "data": {
      "text/plain": [
       "False"
      ]
     },
     "execution_count": 23,
     "metadata": {},
     "output_type": "execute_result"
    }
   ],
   "source": [
    "a == b"
   ]
  },
  {
   "cell_type": "code",
   "execution_count": 25,
   "id": "c1a80d7d-f66e-4cc3-9dba-826eeb8eccf2",
   "metadata": {},
   "outputs": [],
   "source": [
    "a = 10"
   ]
  },
  {
   "cell_type": "code",
   "execution_count": 31,
   "id": "d2e2cf6a-69f1-465b-93a4-f20eabb3c963",
   "metadata": {},
   "outputs": [
    {
     "data": {
      "text/plain": [
       "True"
      ]
     },
     "execution_count": 31,
     "metadata": {},
     "output_type": "execute_result"
    }
   ],
   "source": [
    "a != b"
   ]
  },
  {
   "cell_type": "code",
   "execution_count": 33,
   "id": "98110a89-1289-4545-a983-e695ef208245",
   "metadata": {},
   "outputs": [],
   "source": [
    "# hear if i change b = 6\n",
    "b = 10"
   ]
  },
  {
   "cell_type": "code",
   "execution_count": 35,
   "id": "13f44e5f-939b-49a3-bbad-eee50e212f14",
   "metadata": {},
   "outputs": [
    {
     "data": {
      "text/plain": [
       "True"
      ]
     },
     "execution_count": 35,
     "metadata": {},
     "output_type": "execute_result"
    }
   ],
   "source": [
    "a == b"
   ]
  },
  {
   "cell_type": "code",
   "execution_count": 37,
   "id": "ea987f57-77cf-47df-a270-ef3c32f65d80",
   "metadata": {},
   "outputs": [
    {
     "data": {
      "text/plain": [
       "True"
      ]
     },
     "execution_count": 37,
     "metadata": {},
     "output_type": "execute_result"
    }
   ],
   "source": [
    "a >= b"
   ]
  },
  {
   "cell_type": "code",
   "execution_count": 39,
   "id": "2e63129a-4f30-4603-a26e-cc26444acbe6",
   "metadata": {},
   "outputs": [
    {
     "data": {
      "text/plain": [
       "True"
      ]
     },
     "execution_count": 39,
     "metadata": {},
     "output_type": "execute_result"
    }
   ],
   "source": [
    "a <= b"
   ]
  },
  {
   "cell_type": "code",
   "execution_count": 41,
   "id": "a0cff6f6-6dc8-41e1-8142-cb2c68478076",
   "metadata": {},
   "outputs": [
    {
     "data": {
      "text/plain": [
       "False"
      ]
     },
     "execution_count": 41,
     "metadata": {},
     "output_type": "execute_result"
    }
   ],
   "source": [
    "a < b"
   ]
  },
  {
   "cell_type": "code",
   "execution_count": 45,
   "id": "0ec9b8f0-2b91-45c1-8e0e-bf7dc4228436",
   "metadata": {},
   "outputs": [],
   "source": [
    "b= 7"
   ]
  },
  {
   "cell_type": "code",
   "execution_count": 47,
   "id": "ab5309d5-d9d0-409a-8b7b-5010c9bddfce",
   "metadata": {},
   "outputs": [
    {
     "data": {
      "text/plain": [
       "True"
      ]
     },
     "execution_count": 47,
     "metadata": {},
     "output_type": "execute_result"
    }
   ],
   "source": [
    "a != b"
   ]
  },
  {
   "cell_type": "markdown",
   "id": "1d478793-2102-4da8-961d-cee07b81feea",
   "metadata": {},
   "source": [
    "# Logical Operator\n",
    "- AND,  OR, NOT"
   ]
  },
  {
   "cell_type": "code",
   "execution_count": 50,
   "id": "8b14e047-18f5-465f-9e4a-93e8baa66076",
   "metadata": {},
   "outputs": [],
   "source": [
    "a = 5\n",
    "b = 4"
   ]
  },
  {
   "cell_type": "code",
   "execution_count": 52,
   "id": "d7825b91-7b00-4b2d-92cd-3379a6f0908b",
   "metadata": {},
   "outputs": [
    {
     "data": {
      "text/plain": [
       "True"
      ]
     },
     "execution_count": 52,
     "metadata": {},
     "output_type": "execute_result"
    }
   ],
   "source": [
    "a < 8 and b < 5 # refer to the truth table "
   ]
  },
  {
   "cell_type": "code",
   "execution_count": 54,
   "id": "41024c26-9e49-4f18-823e-3d0b27f27ae0",
   "metadata": {},
   "outputs": [
    {
     "data": {
      "text/plain": [
       "False"
      ]
     },
     "execution_count": 54,
     "metadata": {},
     "output_type": "execute_result"
    }
   ],
   "source": [
    "a < 8 and b < 2"
   ]
  },
  {
   "cell_type": "code",
   "execution_count": 58,
   "id": "40a5ac92-7aea-4d39-9045-d709974988fc",
   "metadata": {},
   "outputs": [
    {
     "data": {
      "text/plain": [
       "True"
      ]
     },
     "execution_count": 58,
     "metadata": {},
     "output_type": "execute_result"
    }
   ],
   "source": [
    "a < 8 or b < 2  # because  hare are use 'OR'"
   ]
  },
  {
   "cell_type": "code",
   "execution_count": 60,
   "id": "1faaaa45-44fe-437b-9e2b-3450091864b8",
   "metadata": {},
   "outputs": [
    {
     "data": {
      "text/plain": [
       "False"
      ]
     },
     "execution_count": 60,
     "metadata": {},
     "output_type": "execute_result"
    }
   ],
   "source": [
    "a > 8 or b < 2"
   ]
  },
  {
   "cell_type": "code",
   "execution_count": 62,
   "id": "91aa35fa-a361-4a90-afb5-c56a4fcadc53",
   "metadata": {},
   "outputs": [
    {
     "data": {
      "text/plain": [
       "False"
      ]
     },
     "execution_count": 62,
     "metadata": {},
     "output_type": "execute_result"
    }
   ],
   "source": [
    "x = False \n",
    "x"
   ]
  },
  {
   "cell_type": "code",
   "execution_count": 64,
   "id": "f78ab1ec-4443-479e-9490-090f04c533db",
   "metadata": {},
   "outputs": [
    {
     "data": {
      "text/plain": [
       "True"
      ]
     },
     "execution_count": 64,
     "metadata": {},
     "output_type": "execute_result"
    }
   ],
   "source": [
    "not x  # you can reserve the operation "
   ]
  },
  {
   "cell_type": "code",
   "execution_count": 66,
   "id": "8e6c9a8f-4a5a-4be6-9050-ba7daa04bf9c",
   "metadata": {},
   "outputs": [
    {
     "data": {
      "text/plain": [
       "True"
      ]
     },
     "execution_count": 66,
     "metadata": {},
     "output_type": "execute_result"
    }
   ],
   "source": [
    "x = not x \n",
    "x"
   ]
  },
  {
   "cell_type": "code",
   "execution_count": 70,
   "id": "ed472c4b-34d4-408b-95b1-fa0ba218559d",
   "metadata": {},
   "outputs": [
    {
     "data": {
      "text/plain": [
       "True"
      ]
     },
     "execution_count": 70,
     "metadata": {},
     "output_type": "execute_result"
    }
   ],
   "source": [
    "x"
   ]
  },
  {
   "cell_type": "code",
   "execution_count": 72,
   "id": "b81fa7e2-98d6-44a9-933f-bb22e9c5adab",
   "metadata": {},
   "outputs": [
    {
     "data": {
      "text/plain": [
       "False"
      ]
     },
     "execution_count": 72,
     "metadata": {},
     "output_type": "execute_result"
    }
   ],
   "source": [
    "not x"
   ]
  },
  {
   "cell_type": "markdown",
   "id": "ea7c76c7-a631-40db-b368-b73def4fe58f",
   "metadata": {},
   "source": [
    "# Number system converstion (bit-binary digit)\n",
    "- binary: base (0-1) --> please divide 15/2 & count in reverse order octal: base (0-7)hexadecimal: base (0-9 & then a-f) when you check ipadress you will these format -->cmd ipconfig "
   ]
  },
  {
   "cell_type": "code",
   "execution_count": 75,
   "id": "55ff9a03-6a7f-47b5-9cac-cac2ad993bda",
   "metadata": {},
   "outputs": [
    {
     "data": {
      "text/plain": [
       "25"
      ]
     },
     "execution_count": 75,
     "metadata": {},
     "output_type": "execute_result"
    }
   ],
   "source": [
    "25"
   ]
  },
  {
   "cell_type": "code",
   "execution_count": 77,
   "id": "908c94ee-6b1e-42f7-bf3f-644846534a5f",
   "metadata": {},
   "outputs": [
    {
     "data": {
      "text/plain": [
       "'0b11001'"
      ]
     },
     "execution_count": 77,
     "metadata": {},
     "output_type": "execute_result"
    }
   ],
   "source": [
    "bin(25)"
   ]
  },
  {
   "cell_type": "code",
   "execution_count": 79,
   "id": "c1784c04-f6b0-4cb9-a893-a11b4a88a52e",
   "metadata": {},
   "outputs": [
    {
     "data": {
      "text/plain": [
       "25"
      ]
     },
     "execution_count": 79,
     "metadata": {},
     "output_type": "execute_result"
    }
   ],
   "source": [
    "int(0b11001)"
   ]
  },
  {
   "cell_type": "code",
   "execution_count": 81,
   "id": "d9408d80-e469-4fb1-b024-6bfc8e107836",
   "metadata": {},
   "outputs": [
    {
     "data": {
      "text/plain": [
       "17"
      ]
     },
     "execution_count": 81,
     "metadata": {},
     "output_type": "execute_result"
    }
   ],
   "source": [
    "int(0b10001)"
   ]
  },
  {
   "cell_type": "code",
   "execution_count": 91,
   "id": "3e10884e-c16e-40d1-b547-596044b3aa00",
   "metadata": {},
   "outputs": [
    {
     "data": {
      "text/plain": [
       "'0o17'"
      ]
     },
     "execution_count": 91,
     "metadata": {},
     "output_type": "execute_result"
    }
   ],
   "source": [
    "oct(15)"
   ]
  },
  {
   "cell_type": "code",
   "execution_count": 99,
   "id": "1e6fcebb-8f6b-41dd-89c8-1f4ce87e6ec3",
   "metadata": {},
   "outputs": [
    {
     "data": {
      "text/plain": [
       "'0x9'"
      ]
     },
     "execution_count": 99,
     "metadata": {},
     "output_type": "execute_result"
    }
   ],
   "source": [
    "hex(9)"
   ]
  },
  {
   "cell_type": "code",
   "execution_count": 101,
   "id": "6f1617ee-a23e-4f72-a3d3-dc921c626262",
   "metadata": {},
   "outputs": [
    {
     "data": {
      "text/plain": [
       "'0xa'"
      ]
     },
     "execution_count": 101,
     "metadata": {},
     "output_type": "execute_result"
    }
   ],
   "source": [
    "hex(10)"
   ]
  },
  {
   "cell_type": "code",
   "execution_count": 103,
   "id": "392eb1c2-8b5c-4cb3-82d2-fc9e9a06c3c4",
   "metadata": {},
   "outputs": [
    {
     "data": {
      "text/plain": [
       "'0x19'"
      ]
     },
     "execution_count": 103,
     "metadata": {},
     "output_type": "execute_result"
    }
   ],
   "source": [
    "hex (25)"
   ]
  },
  {
   "cell_type": "code",
   "execution_count": 105,
   "id": "4766caf1-5680-46c1-9a45-afae874d500a",
   "metadata": {},
   "outputs": [
    {
     "data": {
      "text/plain": [
       "'0x14'"
      ]
     },
     "execution_count": 105,
     "metadata": {},
     "output_type": "execute_result"
    }
   ],
   "source": [
    "hex(20)"
   ]
  },
  {
   "cell_type": "markdown",
   "id": "a6ffbcc5-b09b-47a9-bbbb-947a7632c88e",
   "metadata": {},
   "source": [
    "# Swap variable in python \n",
    "- (a,b = 5,6) After swap we should get ==> (a,b = 6,5)"
   ]
  },
  {
   "cell_type": "code",
   "execution_count": 110,
   "id": "1b87e3a0-7b68-41d0-be58-adb41542575b",
   "metadata": {},
   "outputs": [],
   "source": [
    "a = 5\n",
    "b = 6"
   ]
  },
  {
   "cell_type": "code",
   "execution_count": 112,
   "id": "974cfb57-79f8-4ee4-b59c-1bb716a06f77",
   "metadata": {},
   "outputs": [],
   "source": [
    "a = b\n",
    "b = a"
   ]
  },
  {
   "cell_type": "code",
   "execution_count": 114,
   "id": "d6ec7fdf-703b-47fa-9cd1-87b10b37a93c",
   "metadata": {},
   "outputs": [],
   "source": [
    "a,b = b,a"
   ]
  },
  {
   "cell_type": "code",
   "execution_count": 116,
   "id": "e6e8d961-25fb-4169-b7dd-f73cc9b81846",
   "metadata": {},
   "outputs": [
    {
     "name": "stdout",
     "output_type": "stream",
     "text": [
      "6\n",
      "6\n"
     ]
    }
   ],
   "source": [
    "print(a)\n",
    "print(b)"
   ]
  },
  {
   "cell_type": "code",
   "execution_count": 118,
   "id": "4fba8380-bf58-4708-b7b9-6ed9c8eb2232",
   "metadata": {},
   "outputs": [],
   "source": [
    "#  in above scenario we lost the value 5\n",
    "a1 = 7\n",
    "b1 = 8"
   ]
  },
  {
   "cell_type": "code",
   "execution_count": 120,
   "id": "1515bafc-c6ed-4f43-a218-359ac35d8663",
   "metadata": {},
   "outputs": [],
   "source": [
    "temp = a1\n",
    "a1 = b1\n",
    "b1 = temp"
   ]
  },
  {
   "cell_type": "code",
   "execution_count": 122,
   "id": "77de38bf-efba-4306-975b-acdad8174fda",
   "metadata": {},
   "outputs": [
    {
     "name": "stdout",
     "output_type": "stream",
     "text": [
      "8\n",
      "7\n"
     ]
    }
   ],
   "source": [
    "print(a1)\n",
    "print(b1)"
   ]
  },
  {
   "cell_type": "code",
   "execution_count": 128,
   "id": "f1079a07-39d5-4afb-9e7b-0ccd030951d0",
   "metadata": {},
   "outputs": [],
   "source": [
    "a2 = 5\n",
    "b2 = 6"
   ]
  },
  {
   "cell_type": "code",
   "execution_count": 130,
   "id": "68dec0e1-6313-4fb2-af2d-6738f0aa7ad2",
   "metadata": {},
   "outputs": [],
   "source": [
    "# swap variable fourmulas \n",
    "a2 = a2 + b2\n",
    "b2 = a2 - b2\n",
    "a2 = a2 -b2"
   ]
  },
  {
   "cell_type": "code",
   "execution_count": 132,
   "id": "254ad0eb-2d71-4abf-b06c-956edd6f32d4",
   "metadata": {},
   "outputs": [
    {
     "name": "stdout",
     "output_type": "stream",
     "text": [
      "6\n",
      "5\n"
     ]
    }
   ],
   "source": [
    "print(a2)\n",
    "print(b2)"
   ]
  },
  {
   "cell_type": "code",
   "execution_count": 134,
   "id": "3d6b7eda-1c51-4389-996f-7b718a5e1981",
   "metadata": {},
   "outputs": [
    {
     "name": "stdout",
     "output_type": "stream",
     "text": [
      "5\n",
      "6\n"
     ]
    }
   ],
   "source": [
    "print(0b101)  # 101 is # bit\n",
    "print(0b110) # 110 also 3bit"
   ]
  },
  {
   "cell_type": "code",
   "execution_count": 140,
   "id": "faaf7a89-561c-48b0-90db-b2ef8c797d49",
   "metadata": {},
   "outputs": [
    {
     "name": "stdout",
     "output_type": "stream",
     "text": [
      "0b1011\n",
      "11\n"
     ]
    }
   ],
   "source": [
    "# there we use a2 + b2  then we get 11 that means we will get 4 bit is 1 bit extra  \n",
    "print(bin(11))\n",
    "print(0b1011)"
   ]
  },
  {
   "cell_type": "code",
   "execution_count": 142,
   "id": "b99f1d63-ae0e-47fa-a97b-344d7b65008d",
   "metadata": {},
   "outputs": [],
   "source": [
    "# there is other  way to work using swap variable also wich is XOR because it will not waste extra bit \n",
    "a2 = a2 ^ b2\n",
    "b2 = a2 ^ b2\n",
    "a2 = a2 ^ b2"
   ]
  },
  {
   "cell_type": "code",
   "execution_count": 144,
   "id": "9dd155a7-44d9-45e6-bc00-597ec2aa45ad",
   "metadata": {},
   "outputs": [
    {
     "name": "stdout",
     "output_type": "stream",
     "text": [
      "5\n",
      "6\n"
     ]
    }
   ],
   "source": [
    "print(a2)\n",
    "print(b2)"
   ]
  },
  {
   "cell_type": "code",
   "execution_count": 146,
   "id": "66d71b97-7ba3-4a11-bd47-1fe5eb67ff96",
   "metadata": {},
   "outputs": [],
   "source": [
    "a2,b2 = b2,a2"
   ]
  },
  {
   "cell_type": "code",
   "execution_count": 148,
   "id": "6bad736b-d0c2-47bf-a30b-486b7adf858a",
   "metadata": {},
   "outputs": [
    {
     "name": "stdout",
     "output_type": "stream",
     "text": [
      "6\n",
      "5\n"
     ]
    }
   ],
   "source": [
    "print(a2)\n",
    "print(b2) "
   ]
  },
  {
   "cell_type": "markdown",
   "id": "4d818031-393c-420c-bbda-aa8e7f75aa17",
   "metadata": {},
   "source": [
    "# Bitwise Operator \n",
    "- we have 6 Operator complement (~)|| AND(&)||OR(|)|| XOR(^)|| LEFT SHIFT(<<)|| RIGHT SHIFT(>>)"
   ]
  },
  {
   "cell_type": "raw",
   "id": "913877d9-f98d-41b6-b070-e45dd5af954c",
   "metadata": {},
   "source": [
    "# complement --> you will get this key below esc character\n",
    "12 ==> 1100 || \n",
    "first thing we need to understand what is mean by complement. \n",
    "complement means it will do reverse of the binary format i.e. - ~0 it will give you 1 ~1 it will give 0\n",
    "12 binary format is 00001100 ( complement of ~00001100 reverse the number - 11110011 which is (-13)\n",
    "\n",
    " but the question is why we got -13 \n",
    " to understand this concept ( we have concept of 2's complement\n",
    " 2's complement mean (1's complement + 1)\n",
    " in the system we can store +Ve number but how to store -ve number\n",
    " \n",
    " lets understand binary form of 13 - 00001101 + 1 \n",
    " ![image.png](attachment:image.png) "
   ]
  },
  {
   "cell_type": "code",
   "execution_count": 156,
   "id": "1c3f3a8c-6a77-4a26-98c5-989bfc9d3b28",
   "metadata": {},
   "outputs": [
    {
     "data": {
      "text/plain": [
       "-13"
      ]
     },
     "execution_count": 156,
     "metadata": {},
     "output_type": "execute_result"
    }
   ],
   "source": [
    "# COMPLEMENT(~) (TILDE OR TILD)\n",
    "# why we get -13 . first we understand what is complment means (reversr of binary format)\n",
    "~12"
   ]
  },
  {
   "cell_type": "code",
   "execution_count": 158,
   "id": "bfbc90ac-ab9d-4559-bddf-cfb3fc4c6a34",
   "metadata": {},
   "outputs": [
    {
     "data": {
      "text/plain": [
       "-46"
      ]
     },
     "execution_count": 158,
     "metadata": {},
     "output_type": "execute_result"
    }
   ],
   "source": [
    "~45"
   ]
  },
  {
   "cell_type": "code",
   "execution_count": 160,
   "id": "1a361f65-2e39-4dfa-b4b0-3bb520136bfd",
   "metadata": {},
   "outputs": [
    {
     "data": {
      "text/plain": [
       "-10"
      ]
     },
     "execution_count": 160,
     "metadata": {},
     "output_type": "execute_result"
    }
   ],
   "source": [
    "~9"
   ]
  },
  {
   "cell_type": "code",
   "execution_count": 162,
   "id": "8958971c-a89d-4ce8-bb32-d3755b36bc75",
   "metadata": {},
   "outputs": [
    {
     "data": {
      "text/plain": [
       "14"
      ]
     },
     "execution_count": 162,
     "metadata": {},
     "output_type": "execute_result"
    }
   ],
   "source": [
    "~-15"
   ]
  },
  {
   "cell_type": "markdown",
   "id": "430f1b55-042b-452d-a1f4-8e7924a4b6c7",
   "metadata": {},
   "source": [
    "# bit wise and operator \n",
    "- AND - LOGICAL OPERATOR||| & - BITWISE AND OPERATOR \n",
    "(we know that 1 & 1 is 1 ) 12 - 00001100 13 -00001101 whe we are both then out we will get as 12 "
   ]
  },
  {
   "cell_type": "code",
   "execution_count": 165,
   "id": "6b7de7a9-0a42-492f-a1bb-7d2c6b629039",
   "metadata": {},
   "outputs": [
    {
     "data": {
      "text/plain": [
       "12"
      ]
     },
     "execution_count": 165,
     "metadata": {},
     "output_type": "execute_result"
    }
   ],
   "source": [
    "12 & 13"
   ]
  },
  {
   "cell_type": "code",
   "execution_count": 167,
   "id": "e4d3f9db-8bf3-4016-b4da-30bdcd182c3c",
   "metadata": {},
   "outputs": [
    {
     "data": {
      "text/plain": [
       "1"
      ]
     },
     "execution_count": 167,
     "metadata": {},
     "output_type": "execute_result"
    }
   ],
   "source": [
    "1 & 1"
   ]
  },
  {
   "cell_type": "code",
   "execution_count": 169,
   "id": "66af9fbc-b085-48f8-af69-d290ddea3c80",
   "metadata": {},
   "outputs": [
    {
     "data": {
      "text/plain": [
       "0"
      ]
     },
     "execution_count": 169,
     "metadata": {},
     "output_type": "execute_result"
    }
   ],
   "source": [
    "1&0"
   ]
  },
  {
   "cell_type": "code",
   "execution_count": 171,
   "id": "76376b5a-e93d-4609-b818-f0edd03a47bb",
   "metadata": {},
   "outputs": [
    {
     "data": {
      "text/plain": [
       "13"
      ]
     },
     "execution_count": 171,
     "metadata": {},
     "output_type": "execute_result"
    }
   ],
   "source": [
    "12 | 13"
   ]
  },
  {
   "cell_type": "code",
   "execution_count": 173,
   "id": "84f57922-16a8-4774-a2e5-9ea74fb31947",
   "metadata": {},
   "outputs": [
    {
     "data": {
      "text/plain": [
       "32"
      ]
     },
     "execution_count": 173,
     "metadata": {},
     "output_type": "execute_result"
    }
   ],
   "source": [
    "35&40"
   ]
  },
  {
   "cell_type": "code",
   "execution_count": 175,
   "id": "fb788ac1-0aa8-4a88-b586-4c4f7fa00547",
   "metadata": {},
   "outputs": [
    {
     "data": {
      "text/plain": [
       "1"
      ]
     },
     "execution_count": 175,
     "metadata": {},
     "output_type": "execute_result"
    }
   ],
   "source": [
    "12^13"
   ]
  },
  {
   "cell_type": "code",
   "execution_count": 177,
   "id": "2d3bec19-c5c5-44cf-8f98-2317f77b0721",
   "metadata": {},
   "outputs": [
    {
     "data": {
      "text/plain": [
       "7"
      ]
     },
     "execution_count": 177,
     "metadata": {},
     "output_type": "execute_result"
    }
   ],
   "source": [
    "25^30"
   ]
  },
  {
   "cell_type": "code",
   "execution_count": 179,
   "id": "32d4954a-2704-4eaa-aa41-8b309da26538",
   "metadata": {},
   "outputs": [
    {
     "data": {
      "text/plain": [
       "'0b11001'"
      ]
     },
     "execution_count": 179,
     "metadata": {},
     "output_type": "execute_result"
    }
   ],
   "source": [
    "bin(25)"
   ]
  },
  {
   "cell_type": "code",
   "execution_count": 181,
   "id": "147fff87-bf1d-4497-af35-6d4f45823906",
   "metadata": {},
   "outputs": [
    {
     "data": {
      "text/plain": [
       "'0b11110'"
      ]
     },
     "execution_count": 181,
     "metadata": {},
     "output_type": "execute_result"
    }
   ],
   "source": [
    "bin(30)"
   ]
  },
  {
   "cell_type": "code",
   "execution_count": 183,
   "id": "6b058b77-1975-46ee-9489-201300bdaf1b",
   "metadata": {},
   "outputs": [
    {
     "data": {
      "text/plain": [
       "7"
      ]
     },
     "execution_count": 183,
     "metadata": {},
     "output_type": "execute_result"
    }
   ],
   "source": [
    "int(0b000111)"
   ]
  },
  {
   "cell_type": "code",
   "execution_count": 185,
   "id": "8d30d3cc-6286-42d1-8bb6-40738343ed96",
   "metadata": {},
   "outputs": [
    {
     "data": {
      "text/plain": [
       "40"
      ]
     },
     "execution_count": 185,
     "metadata": {},
     "output_type": "execute_result"
    }
   ],
   "source": [
    "# bite wise operator\n",
    "# bit wise left operator byedefault you will take 2 zeroes()\n",
    "# 10 binary operator is 1010| also i can say 1010\n",
    "10<<2"
   ]
  },
  {
   "cell_type": "code",
   "execution_count": 187,
   "id": "37cec443-396f-421a-b2cf-6041c20b2094",
   "metadata": {},
   "outputs": [
    {
     "data": {
      "text/plain": [
       "320"
      ]
     },
     "execution_count": 187,
     "metadata": {},
     "output_type": "execute_result"
    }
   ],
   "source": [
    "20<<4"
   ]
  },
  {
   "cell_type": "markdown",
   "id": "e76651a9-cf41-48a3-8002-edfb357022b6",
   "metadata": {},
   "source": [
    "# bitwise right shift operator"
   ]
  },
  {
   "cell_type": "code",
   "execution_count": 193,
   "id": "0195253f-ffa8-4f3e-ab3d-360e63773b14",
   "metadata": {},
   "outputs": [
    {
     "data": {
      "text/plain": [
       "2"
      ]
     },
     "execution_count": 193,
     "metadata": {},
     "output_type": "execute_result"
    }
   ],
   "source": [
    "10>>2"
   ]
  },
  {
   "cell_type": "code",
   "execution_count": 195,
   "id": "9fa82f91-97f9-49d4-a6e9-3d5eb6b7940e",
   "metadata": {},
   "outputs": [
    {
     "data": {
      "text/plain": [
       "'0b10100'"
      ]
     },
     "execution_count": 195,
     "metadata": {},
     "output_type": "execute_result"
    }
   ],
   "source": [
    "bin(20)"
   ]
  },
  {
   "cell_type": "code",
   "execution_count": 197,
   "id": "87dee590-f648-466b-b26d-1a4d9765aae6",
   "metadata": {},
   "outputs": [
    {
     "data": {
      "text/plain": [
       "1"
      ]
     },
     "execution_count": 197,
     "metadata": {},
     "output_type": "execute_result"
    }
   ],
   "source": [
    "20>>4"
   ]
  },
  {
   "cell_type": "markdown",
   "id": "e4d83940-eefb-4fd8-9fc9-af267e340c32",
   "metadata": {},
   "source": [
    "### import math module \n",
    "https://docs.python.org/3/library/math.html"
   ]
  },
  {
   "cell_type": "code",
   "execution_count": 204,
   "id": "c21ac9b8-d51d-4870-b111-027a47ed6880",
   "metadata": {},
   "outputs": [
    {
     "ename": "NameError",
     "evalue": "name 'sqrt' is not defined",
     "output_type": "error",
     "traceback": [
      "\u001b[1;31m---------------------------------------------------------------------------\u001b[0m",
      "\u001b[1;31mNameError\u001b[0m                                 Traceback (most recent call last)",
      "Cell \u001b[1;32mIn[204], line 1\u001b[0m\n\u001b[1;32m----> 1\u001b[0m x \u001b[38;5;241m=\u001b[39m sqrt(\u001b[38;5;241m25\u001b[39m)\n",
      "\u001b[1;31mNameError\u001b[0m: name 'sqrt' is not defined"
     ]
    }
   ],
   "source": [
    "x = sqrt(25)   # sqrt is inbuild function "
   ]
  },
  {
   "cell_type": "code",
   "execution_count": 208,
   "id": "3773c947-8c39-4557-9083-e0dcb1d551f3",
   "metadata": {},
   "outputs": [],
   "source": [
    " import math # math is module  "
   ]
  },
  {
   "cell_type": "code",
   "execution_count": 212,
   "id": "9d2710c7-40d0-4853-9868-01052a24e7a8",
   "metadata": {},
   "outputs": [
    {
     "data": {
      "text/plain": [
       "5.0"
      ]
     },
     "execution_count": 212,
     "metadata": {},
     "output_type": "execute_result"
    }
   ],
   "source": [
    "x = math.sqrt(25)\n",
    "x"
   ]
  },
  {
   "cell_type": "code",
   "execution_count": 214,
   "id": "1f6bd623-2978-4b1c-a436-1b648151d2d2",
   "metadata": {},
   "outputs": [
    {
     "data": {
      "text/plain": [
       "float"
      ]
     },
     "execution_count": 214,
     "metadata": {},
     "output_type": "execute_result"
    }
   ],
   "source": [
    "type(x)"
   ]
  },
  {
   "cell_type": "code",
   "execution_count": 216,
   "id": "4c31f06d-8aa8-40fb-b6e7-b91c6e78651c",
   "metadata": {},
   "outputs": [
    {
     "data": {
      "text/plain": [
       "3.872983346207417"
      ]
     },
     "execution_count": 216,
     "metadata": {},
     "output_type": "execute_result"
    }
   ],
   "source": [
    "x1 = math.sqrt(15)\n",
    "x1"
   ]
  },
  {
   "cell_type": "code",
   "execution_count": 218,
   "id": "14214aca-7042-433c-a947-a0023f586a1d",
   "metadata": {},
   "outputs": [
    {
     "name": "stdout",
     "output_type": "stream",
     "text": [
      "2\n"
     ]
    }
   ],
   "source": [
    "print(math.floor(2.9)) # floor - minimum or least value"
   ]
  },
  {
   "cell_type": "code",
   "execution_count": 222,
   "id": "00afd190-c2c8-41fc-8226-914b2787094c",
   "metadata": {},
   "outputs": [
    {
     "name": "stdout",
     "output_type": "stream",
     "text": [
      "3\n"
     ]
    }
   ],
   "source": [
    "print(math.ceil(2.9)) # cail - maximum or highest value"
   ]
  },
  {
   "cell_type": "code",
   "execution_count": 224,
   "id": "9c74baf2-ab30-4e47-91e7-56e593e5b074",
   "metadata": {},
   "outputs": [
    {
     "name": "stdout",
     "output_type": "stream",
     "text": [
      "9.0\n"
     ]
    }
   ],
   "source": [
    "print(math.pow(3,2))"
   ]
  },
  {
   "cell_type": "code",
   "execution_count": 228,
   "id": "4937eb42-c8fe-4ab2-b482-94198ce8b51e",
   "metadata": {},
   "outputs": [
    {
     "name": "stdout",
     "output_type": "stream",
     "text": [
      "3.141592653589793\n"
     ]
    }
   ],
   "source": [
    "print(math.pi) #these are constant"
   ]
  },
  {
   "cell_type": "code",
   "execution_count": 230,
   "id": "e4431ae1-5a9a-4497-a55d-de3b9ed8382e",
   "metadata": {},
   "outputs": [
    {
     "name": "stdout",
     "output_type": "stream",
     "text": [
      "2.718281828459045\n"
     ]
    }
   ],
   "source": [
    "print(math.e) # these are constant"
   ]
  },
  {
   "cell_type": "code",
   "execution_count": 232,
   "id": "63a1c8a3-0787-40e4-9451-11d41fc744cf",
   "metadata": {},
   "outputs": [
    {
     "data": {
      "text/plain": [
       "3.1622776601683795"
      ]
     },
     "execution_count": 232,
     "metadata": {},
     "output_type": "execute_result"
    }
   ],
   "source": [
    "import math as m \n",
    "m.sqrt(10)"
   ]
  },
  {
   "cell_type": "code",
   "execution_count": 1,
   "id": "98934f98-0562-454f-8bd0-eef221930026",
   "metadata": {},
   "outputs": [
    {
     "data": {
      "text/plain": [
       "8.0"
      ]
     },
     "execution_count": 1,
     "metadata": {},
     "output_type": "execute_result"
    }
   ],
   "source": [
    "from math import sqrt,pow  # math has many function if u want to call specific functions then you use from\n",
    "pow(2,3)"
   ]
  },
  {
   "cell_type": "code",
   "execution_count": 3,
   "id": "3dd1986f-360e-4302-acb1-3ea84942a0fd",
   "metadata": {},
   "outputs": [
    {
     "data": {
      "text/plain": [
       "8"
      ]
     },
     "execution_count": 3,
     "metadata": {},
     "output_type": "execute_result"
    }
   ],
   "source": [
    "round(pow(2,3))"
   ]
  },
  {
   "cell_type": "code",
   "execution_count": 5,
   "id": "525ac771-c328-4114-a254-521f8f53e3c5",
   "metadata": {},
   "outputs": [],
   "source": [
    "#help(math)"
   ]
  },
  {
   "cell_type": "markdown",
   "id": "dcd71bbc-360d-45c3-b1c5-e516aa9ae7cc",
   "metadata": {},
   "source": [
    "## user input function in python command line inpute "
   ]
  },
  {
   "cell_type": "code",
   "execution_count": 8,
   "id": "30ec7ed0-a622-4b4e-bce8-da3bc4c23e30",
   "metadata": {},
   "outputs": [
    {
     "name": "stdin",
     "output_type": "stream",
     "text": [
      " x1\n",
      " 5\n"
     ]
    },
    {
     "name": "stdout",
     "output_type": "stream",
     "text": [
      "x15\n"
     ]
    }
   ],
   "source": [
    "x = input()\n",
    "y = input()\n",
    "z = x + y\n",
    "print(z)  # console is waiting for user to enter input \n",
    "# also if you work in idle"
   ]
  },
  {
   "cell_type": "code",
   "execution_count": 10,
   "id": "de2f3d76-24a4-4632-bfd6-1edc2afd2358",
   "metadata": {},
   "outputs": [
    {
     "name": "stdin",
     "output_type": "stream",
     "text": [
      "Every the 1st number 5\n",
      "Every the 2nd number 6\n"
     ]
    },
    {
     "name": "stdout",
     "output_type": "stream",
     "text": [
      "56\n"
     ]
    }
   ],
   "source": [
    "x1 = input('Every the 1st number') # whenevery tou work in input it always give you string\n",
    "y1 = input('Every the 2nd number') # it wont understant as arithmetic operator\n",
    "z1 = x1 + y1 \n",
    "print(z1)"
   ]
  },
  {
   "cell_type": "code",
   "execution_count": 12,
   "id": "381ee6dc-20fe-4337-9de4-f6c399e673b4",
   "metadata": {},
   "outputs": [
    {
     "data": {
      "text/plain": [
       "str"
      ]
     },
     "execution_count": 12,
     "metadata": {},
     "output_type": "execute_result"
    }
   ],
   "source": [
    "type(x1)\n",
    "type(y1)"
   ]
  },
  {
   "cell_type": "code",
   "execution_count": 14,
   "id": "95a16b3e-0f05-4a8d-9419-e2d407c41575",
   "metadata": {},
   "outputs": [
    {
     "name": "stdin",
     "output_type": "stream",
     "text": [
      "Every the 1st number 5\n",
      "Every the 2nd number 6\n"
     ]
    },
    {
     "name": "stdout",
     "output_type": "stream",
     "text": [
      "11\n"
     ]
    }
   ],
   "source": [
    "x1 = input('Every the 1st number') # whenevery tou work in input it always give you string\n",
    "a1 = int(x1)\n",
    "y1 = input('Every the 2nd number') # it wont understant as arithmetic operator\n",
    "b1 = int(y1)\n",
    "z1 = a1 + b1\n",
    "print(z1)\n"
   ]
  },
  {
   "cell_type": "code",
   "execution_count": 16,
   "id": "ad28680e-f96c-467a-8b2b-fb9d6d0f66b9",
   "metadata": {},
   "outputs": [
    {
     "name": "stdin",
     "output_type": "stream",
     "text": [
      "Every the 1st number 5\n",
      "Every the 2nd number 4\n"
     ]
    },
    {
     "data": {
      "text/plain": [
       "9"
      ]
     },
     "execution_count": 16,
     "metadata": {},
     "output_type": "execute_result"
    }
   ],
   "source": [
    "x2 = int(input('Every the 1st number'))\n",
    "y2 = int(input('Every the 2nd number'))\n",
    "z2 = x2 + y2\n",
    "z2"
   ]
  },
  {
   "cell_type": "markdown",
   "id": "c63e4e7a-24c0-457f-a355-4050741ba149",
   "metadata": {},
   "source": [
    " - Let's take from the user in char format, but we dont have char format in python"
   ]
  },
  {
   "cell_type": "code",
   "execution_count": 20,
   "id": "8c0ed28d-b9ad-420f-87bc-1d170f32349d",
   "metadata": {},
   "outputs": [
    {
     "name": "stdin",
     "output_type": "stream",
     "text": [
      "enter a char hello world\n"
     ]
    },
    {
     "name": "stdout",
     "output_type": "stream",
     "text": [
      "hello world\n"
     ]
    }
   ],
   "source": [
    "ch = input ('enter a char')\n",
    "print(ch)"
   ]
  },
  {
   "cell_type": "code",
   "execution_count": 22,
   "id": "a5f964bc-7fe3-401a-bbcb-2add661824c6",
   "metadata": {},
   "outputs": [
    {
     "name": "stdout",
     "output_type": "stream",
     "text": [
      "h\n"
     ]
    }
   ],
   "source": [
    "print(ch[0])"
   ]
  },
  {
   "cell_type": "code",
   "execution_count": 24,
   "id": "b909ccd1-224c-45db-b1bd-50e558065004",
   "metadata": {},
   "outputs": [
    {
     "name": "stdout",
     "output_type": "stream",
     "text": [
      "l\n"
     ]
    }
   ],
   "source": [
    "print(ch[-2])"
   ]
  },
  {
   "cell_type": "code",
   "execution_count": 36,
   "id": "7872dc17-66a2-4c6e-a2d1-4e67f75801bf",
   "metadata": {},
   "outputs": [
    {
     "name": "stdin",
     "output_type": "stream",
     "text": [
      "enter a char hello\n"
     ]
    },
    {
     "name": "stdout",
     "output_type": "stream",
     "text": [
      "l\n"
     ]
    }
   ],
   "source": [
    "ch = input('enter a char')[0]\n",
    "print(ch)"
   ]
  },
  {
   "cell_type": "code",
   "execution_count": 38,
   "id": "3c87c96f-851b-44a6-a897-5972365983df",
   "metadata": {},
   "outputs": [
    {
     "name": "stdin",
     "output_type": "stream",
     "text": [
      "enter a character 2+3-4+10\n"
     ]
    },
    {
     "name": "stdout",
     "output_type": "stream",
     "text": [
      "2+3-4+10\n"
     ]
    }
   ],
   "source": [
    "ch = input('enter a character')\n",
    "print(ch)  # if you enter as 2 + 6 - 1we get output as 2 + 6-1 only"
   ]
  },
  {
   "cell_type": "markdown",
   "id": "e7aa7f81-f918-44f1-993c-f947b211cf1e",
   "metadata": {},
   "source": [
    "## -- EVAL function using input "
   ]
  },
  {
   "cell_type": "code",
   "execution_count": null,
   "id": "a71b5396-93ca-4a13-b723-3496052bcb9e",
   "metadata": {},
   "outputs": [],
   "source": []
  }
 ],
 "metadata": {
  "kernelspec": {
   "display_name": "Python [conda env:base] *",
   "language": "python",
   "name": "conda-base-py"
  },
  "language_info": {
   "codemirror_mode": {
    "name": "ipython",
    "version": 3
   },
   "file_extension": ".py",
   "mimetype": "text/x-python",
   "name": "python",
   "nbconvert_exporter": "python",
   "pygments_lexer": "ipython3",
   "version": "3.12.7"
  }
 },
 "nbformat": 4,
 "nbformat_minor": 5
}
