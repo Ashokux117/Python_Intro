{
 "cells": [
  {
   "cell_type": "markdown",
   "id": "0c9b8f31-9ec2-4b8e-b8c7-a33b5bac0822",
   "metadata": {},
   "source": [
    "# DATA STRUCTURE"
   ]
  },
  {
   "cell_type": "code",
   "execution_count": 123,
   "id": "25272c85-d27c-4848-969e-aec3d3f5270f",
   "metadata": {},
   "outputs": [
    {
     "data": {
      "text/plain": [
       "['z', 'x', 'b', 'd']"
      ]
     },
     "execution_count": 123,
     "metadata": {},
     "output_type": "execute_result"
    }
   ],
   "source": [
    "l6 = ['z','x','b','d']\n",
    "l6"
   ]
  },
  {
   "cell_type": "code",
   "execution_count": 124,
   "id": "ea230682-ce3a-4688-b7ba-175779d7b6f0",
   "metadata": {},
   "outputs": [],
   "source": [
    "l6.sort()"
   ]
  },
  {
   "cell_type": "markdown",
   "id": "fa9cf1d0-9464-46ad-9a13-ca001f438aa3",
   "metadata": {},
   "source": [
    "l6"
   ]
  },
  {
   "cell_type": "code",
   "execution_count": 126,
   "id": "f2d65a47-a9e5-4cb4-a901-a6c06461b9ce",
   "metadata": {},
   "outputs": [],
   "source": [
    "l6.sort(reverse=True)"
   ]
  },
  {
   "cell_type": "code",
   "execution_count": 127,
   "id": "8babb715-1368-4c8c-b7a4-c3ff1e1f8593",
   "metadata": {},
   "outputs": [
    {
     "name": "stdout",
     "output_type": "stream",
     "text": [
      "z\n",
      "x\n",
      "d\n",
      "b\n"
     ]
    }
   ],
   "source": [
    "for i in l6:\n",
    "    print(i)"
   ]
  },
  {
   "cell_type": "code",
   "execution_count": 128,
   "id": "a73cffc2-b4ac-407f-b5f7-d7575a670dc7",
   "metadata": {},
   "outputs": [
    {
     "data": {
      "text/plain": [
       "True"
      ]
     },
     "execution_count": 128,
     "metadata": {},
     "output_type": "execute_result"
    }
   ],
   "source": [
    "'z'in l6"
   ]
  },
  {
   "cell_type": "code",
   "execution_count": 129,
   "id": "c8d0cf87-5a2a-4d2b-a3b6-297182638154",
   "metadata": {},
   "outputs": [
    {
     "name": "stdout",
     "output_type": "stream",
     "text": [
      "(0, 'z')\n",
      "(1, 'x')\n",
      "(2, 'd')\n",
      "(3, 'b')\n"
     ]
    }
   ],
   "source": [
    "for i in enumerate(l6):\n",
    "    print(i)"
   ]
  },
  {
   "cell_type": "code",
   "execution_count": 130,
   "id": "d6ca4f07-bd54-486d-944d-cd3c77c21bbf",
   "metadata": {},
   "outputs": [
    {
     "data": {
      "text/plain": [
       "['z', 'x', 'd', 'b']"
      ]
     },
     "execution_count": 130,
     "metadata": {},
     "output_type": "execute_result"
    }
   ],
   "source": [
    "l6"
   ]
  },
  {
   "cell_type": "code",
   "execution_count": 131,
   "id": "bc7d1590-2dca-478e-99ab-08724f7fc3de",
   "metadata": {},
   "outputs": [
    {
     "data": {
      "text/plain": [
       "True"
      ]
     },
     "execution_count": 131,
     "metadata": {},
     "output_type": "execute_result"
    }
   ],
   "source": [
    "all(l6)"
   ]
  },
  {
   "cell_type": "code",
   "execution_count": 132,
   "id": "abdfad11-937b-4a23-823f-44a1d2c50e4c",
   "metadata": {},
   "outputs": [
    {
     "data": {
      "text/plain": [
       "True"
      ]
     },
     "execution_count": 132,
     "metadata": {},
     "output_type": "execute_result"
    }
   ],
   "source": [
    "any(l6)"
   ]
  },
  {
   "cell_type": "code",
   "execution_count": 133,
   "id": "5b930551-af6a-48b9-860f-b55164970268",
   "metadata": {},
   "outputs": [],
   "source": [
    "l6.append(0)"
   ]
  },
  {
   "cell_type": "code",
   "execution_count": 134,
   "id": "623d9758-43c6-46a6-9f01-37fceeaf909f",
   "metadata": {},
   "outputs": [
    {
     "data": {
      "text/plain": [
       "False"
      ]
     },
     "execution_count": 134,
     "metadata": {},
     "output_type": "execute_result"
    }
   ],
   "source": [
    "all(l6)"
   ]
  },
  {
   "cell_type": "code",
   "execution_count": 135,
   "id": "4a2aa3f2-c2e7-455f-b827-e2b9cb57d77a",
   "metadata": {},
   "outputs": [
    {
     "data": {
      "text/plain": [
       "True"
      ]
     },
     "execution_count": 135,
     "metadata": {},
     "output_type": "execute_result"
    }
   ],
   "source": [
    "any(l6)"
   ]
  },
  {
   "cell_type": "markdown",
   "id": "6b4f372f-3d95-4b39-a045-ee12a9fb6326",
   "metadata": {},
   "source": [
    "# TUPLE"
   ]
  },
  {
   "cell_type": "code",
   "execution_count": 137,
   "id": "80169420-0853-4c4d-b18f-90a872723837",
   "metadata": {},
   "outputs": [
    {
     "data": {
      "text/plain": [
       "()"
      ]
     },
     "execution_count": 137,
     "metadata": {},
     "output_type": "execute_result"
    }
   ],
   "source": [
    "t = ()\n",
    "t"
   ]
  },
  {
   "cell_type": "code",
   "execution_count": 138,
   "id": "e3b49d04-b27e-4257-b088-9f1b6ae21b58",
   "metadata": {},
   "outputs": [
    {
     "data": {
      "text/plain": [
       "0"
      ]
     },
     "execution_count": 138,
     "metadata": {},
     "output_type": "execute_result"
    }
   ],
   "source": [
    "len(t)"
   ]
  },
  {
   "cell_type": "code",
   "execution_count": 139,
   "id": "7a08734d-2a28-402f-bbc0-d4812c00bc09",
   "metadata": {},
   "outputs": [
    {
     "data": {
      "text/plain": [
       "(10, 20, 30, 40, 50)"
      ]
     },
     "execution_count": 139,
     "metadata": {},
     "output_type": "execute_result"
    }
   ],
   "source": [
    "t1 =(10,20,30,40,50)\n",
    "t1"
   ]
  },
  {
   "cell_type": "code",
   "execution_count": 140,
   "id": "99595b54-dbb7-4b8b-b262-a7dab80f1b7c",
   "metadata": {},
   "outputs": [
    {
     "data": {
      "text/plain": [
       "('a', 'z', 'n', 'm')"
      ]
     },
     "execution_count": 140,
     "metadata": {},
     "output_type": "execute_result"
    }
   ],
   "source": [
    "t2 = ('a','z', 'n','m')\n",
    "t2"
   ]
  },
  {
   "cell_type": "code",
   "execution_count": 141,
   "id": "28f0197d-bb32-40b2-9172-5bf2a86f7947",
   "metadata": {},
   "outputs": [
    {
     "data": {
      "text/plain": [
       "1"
      ]
     },
     "execution_count": 141,
     "metadata": {},
     "output_type": "execute_result"
    }
   ],
   "source": [
    "t2.count('z')"
   ]
  },
  {
   "cell_type": "code",
   "execution_count": 142,
   "id": "f0f171e4-9bff-4863-9a55-30684ae180f6",
   "metadata": {},
   "outputs": [
    {
     "data": {
      "text/plain": [
       "0"
      ]
     },
     "execution_count": 142,
     "metadata": {},
     "output_type": "execute_result"
    }
   ],
   "source": [
    "t2.index('a')"
   ]
  },
  {
   "cell_type": "code",
   "execution_count": 143,
   "id": "0628adf7-93ae-473b-b366-ea6571771435",
   "metadata": {},
   "outputs": [
    {
     "data": {
      "text/plain": [
       "(10, 20, 30, 40, 50)"
      ]
     },
     "execution_count": 143,
     "metadata": {},
     "output_type": "execute_result"
    }
   ],
   "source": [
    "t1"
   ]
  },
  {
   "cell_type": "code",
   "execution_count": 144,
   "id": "f16887d1-05e6-4385-868b-e83f12a06c45",
   "metadata": {},
   "outputs": [
    {
     "ename": "SyntaxError",
     "evalue": "cannot assign to function call here. Maybe you meant '==' instead of '='? (3934285954.py, line 1)",
     "output_type": "error",
     "traceback": [
      "\u001b[1;36m  Cell \u001b[1;32mIn[144], line 1\u001b[1;36m\u001b[0m\n\u001b[1;33m    t1(0) = 100\u001b[0m\n\u001b[1;37m    ^\u001b[0m\n\u001b[1;31mSyntaxError\u001b[0m\u001b[1;31m:\u001b[0m cannot assign to function call here. Maybe you meant '==' instead of '='?\n"
     ]
    }
   ],
   "source": [
    "t1(0) = 100"
   ]
  },
  {
   "cell_type": "code",
   "execution_count": null,
   "id": "e206106a-f205-42d1-8239-9d4972600037",
   "metadata": {},
   "outputs": [],
   "source": [
    "t1"
   ]
  },
  {
   "cell_type": "code",
   "execution_count": null,
   "id": "ea823f80-9b0f-4821-81b2-f774e40a0bbd",
   "metadata": {},
   "outputs": [],
   "source": [
    "t1"
   ]
  },
  {
   "cell_type": "code",
   "execution_count": null,
   "id": "faf7c312-f79b-45cc-aa81-0c38b9dcc426",
   "metadata": {},
   "outputs": [],
   "source": [
    "t3=t1*3\n",
    "t3"
   ]
  },
  {
   "cell_type": "markdown",
   "id": "1351f9f0-ce21-4290-a34a-73757c7fa3ee",
   "metadata": {},
   "source": [
    "# tuple completed "
   ]
  },
  {
   "cell_type": "markdown",
   "id": "0e4045ff-a194-46b5-a5fb-7271642d9120",
   "metadata": {},
   "source": [
    "# 24th april\n",
    "   # SET"
   ]
  },
  {
   "cell_type": "code",
   "execution_count": 43,
   "id": "1665ee9d-a3a0-4e57-a140-a478779b035d",
   "metadata": {},
   "outputs": [
    {
     "data": {
      "text/plain": [
       "{}"
      ]
     },
     "execution_count": 43,
     "metadata": {},
     "output_type": "execute_result"
    }
   ],
   "source": [
    "s = {}\n",
    "s"
   ]
  },
  {
   "cell_type": "code",
   "execution_count": 45,
   "id": "5ab9a15c-1368-41db-a8b5-56fb255bff0d",
   "metadata": {},
   "outputs": [
    {
     "data": {
      "text/plain": [
       "dict"
      ]
     },
     "execution_count": 45,
     "metadata": {},
     "output_type": "execute_result"
    }
   ],
   "source": [
    "type(s)\n"
   ]
  },
  {
   "cell_type": "code",
   "execution_count": 51,
   "id": "74365a62-2736-457c-b4fd-b2a0773f12b5",
   "metadata": {},
   "outputs": [
    {
     "data": {
      "text/plain": [
       "set"
      ]
     },
     "execution_count": 51,
     "metadata": {},
     "output_type": "execute_result"
    }
   ],
   "source": [
    "s1=set()\n",
    "type(s1)"
   ]
  },
  {
   "cell_type": "code",
   "execution_count": 53,
   "id": "a931d2a7-edcc-4d7f-abdf-771b617082fe",
   "metadata": {},
   "outputs": [
    {
     "data": {
      "text/plain": [
       "{10}"
      ]
     },
     "execution_count": 53,
     "metadata": {},
     "output_type": "execute_result"
    }
   ],
   "source": [
    "s1.add(10)\n",
    "s1"
   ]
  },
  {
   "cell_type": "code",
   "execution_count": 59,
   "id": "1eed3d55-37d6-4633-b8c1-343f5f94e97f",
   "metadata": {},
   "outputs": [],
   "source": [
    "s1.add(20)\n",
    "s1.add('nit')\n",
    "s1.add(True)\n",
    "s1.add(1+2j)\n",
    "s1.add(3.2)"
   ]
  },
  {
   "cell_type": "code",
   "execution_count": 21,
   "id": "8f25bccd-3f44-46f1-8b71-702106ad36d9",
   "metadata": {},
   "outputs": [
    {
     "data": {
      "text/plain": [
       "{10}"
      ]
     },
     "execution_count": 21,
     "metadata": {},
     "output_type": "execute_result"
    }
   ],
   "source": [
    "s1"
   ]
  },
  {
   "cell_type": "code",
   "execution_count": 23,
   "id": "80885290-d6af-4862-b287-99c9194d9a15",
   "metadata": {},
   "outputs": [
    {
     "data": {
      "text/plain": [
       "{}"
      ]
     },
     "execution_count": 23,
     "metadata": {},
     "output_type": "execute_result"
    }
   ],
   "source": [
    "s2 ={}\n",
    "s2"
   ]
  },
  {
   "cell_type": "code",
   "execution_count": 57,
   "id": "ddee142b-5ede-47f9-bb92-ce7aa3ebc6c0",
   "metadata": {},
   "outputs": [
    {
     "data": {
      "text/plain": [
       "set()"
      ]
     },
     "execution_count": 57,
     "metadata": {},
     "output_type": "execute_result"
    }
   ],
   "source": [
    "s2=set()\n",
    "s2"
   ]
  },
  {
   "cell_type": "code",
   "execution_count": null,
   "id": "0faa5d31-be2d-4c4d-9263-de495804ca74",
   "metadata": {},
   "outputs": [],
   "source": [
    "s2.add(100)\n",
    "s2.add(10)\n",
    "s2.add(9)\n",
    "s2.add(200)\n",
    "s2"
   ]
  },
  {
   "cell_type": "code",
   "execution_count": 65,
   "id": "1b58408e-1acd-4659-b66c-b84bf72a2fd1",
   "metadata": {},
   "outputs": [
    {
     "data": {
      "text/plain": [
       "set()"
      ]
     },
     "execution_count": 65,
     "metadata": {},
     "output_type": "execute_result"
    }
   ],
   "source": [
    "s3 = set()\n",
    "s3"
   ]
  },
  {
   "cell_type": "code",
   "execution_count": 67,
   "id": "b0ad1ca8-d347-4a53-ad73-54fec600bc52",
   "metadata": {},
   "outputs": [
    {
     "data": {
      "text/plain": [
       "{'a', 'b', 'm', 'z'}"
      ]
     },
     "execution_count": 67,
     "metadata": {},
     "output_type": "execute_result"
    }
   ],
   "source": [
    "s3.add('a')\n",
    "s3.add('b')\n",
    "s3.add('m')\n",
    "s3.add('z')\n",
    "s3"
   ]
  },
  {
   "cell_type": "code",
   "execution_count": 25,
   "id": "b47d7806-8c21-4019-bc8e-382bc6649cee",
   "metadata": {},
   "outputs": [
    {
     "name": "stdout",
     "output_type": "stream",
     "text": [
      "{10}\n",
      "{}\n",
      "{'z', 'b', 'm', 'a'}\n"
     ]
    }
   ],
   "source": [
    "print(s1)\n",
    "print(s2)\n",
    "print(s3)"
   ]
  },
  {
   "cell_type": "code",
   "execution_count": 69,
   "id": "031a147a-7171-4eb5-bfbd-bb0651a87760",
   "metadata": {},
   "outputs": [
    {
     "name": "stdout",
     "output_type": "stream",
     "text": [
      "4\n"
     ]
    },
    {
     "data": {
      "text/plain": [
       "{'a', 'b', 'm', 'z'}"
      ]
     },
     "execution_count": 69,
     "metadata": {},
     "output_type": "execute_result"
    }
   ],
   "source": [
    "print(len(s3))\n",
    "s3      "
   ]
  },
  {
   "cell_type": "code",
   "execution_count": 71,
   "id": "72a7f2af-0f26-4320-af48-94efe670e8d2",
   "metadata": {},
   "outputs": [
    {
     "data": {
      "text/plain": [
       "{'a', 'b', 'm', 'z'}"
      ]
     },
     "execution_count": 71,
     "metadata": {},
     "output_type": "execute_result"
    }
   ],
   "source": [
    "s4=s3.copy()\n",
    "s4"
   ]
  },
  {
   "cell_type": "code",
   "execution_count": null,
   "id": "26f020dd-e365-4872-aa74-af4188db7661",
   "metadata": {},
   "outputs": [],
   "source": [
    "s3==s4"
   ]
  },
  {
   "cell_type": "code",
   "execution_count": null,
   "id": "2a656030-5b50-4257-abbf-7a49eb70c471",
   "metadata": {},
   "outputs": [],
   "source": [
    "s4"
   ]
  },
  {
   "cell_type": "code",
   "execution_count": null,
   "id": "7697bcfe-8339-4d76-a408-c3a125010973",
   "metadata": {},
   "outputs": [],
   "source": [
    "s4.clear()\n",
    "s4"
   ]
  },
  {
   "cell_type": "code",
   "execution_count": null,
   "id": "4bed435d-d47e-42f5-8423-b35713eaeb12",
   "metadata": {},
   "outputs": [],
   "source": [
    "s1"
   ]
  },
  {
   "cell_type": "code",
   "execution_count": null,
   "id": "6d2b4461-53b4-402d-8e7a-854f0746c89b",
   "metadata": {},
   "outputs": [],
   "source": [
    "s1.remove((1+2j))\n",
    "s1"
   ]
  },
  {
   "cell_type": "code",
   "execution_count": 29,
   "id": "f1b42730-75b8-4d3d-80cc-436a3df9db33",
   "metadata": {},
   "outputs": [
    {
     "name": "stdout",
     "output_type": "stream",
     "text": [
      "z\n",
      "b\n",
      "m\n",
      "a\n"
     ]
    }
   ],
   "source": [
    "for i in s3:\n",
    " print(i)"
   ]
  },
  {
   "cell_type": "code",
   "execution_count": 31,
   "id": "b36961d7-6b0b-49a7-97e3-dce1f740dbda",
   "metadata": {},
   "outputs": [
    {
     "name": "stdout",
     "output_type": "stream",
     "text": [
      "(0, 'z')\n",
      "(1, 'b')\n",
      "(2, 'm')\n",
      "(3, 'a')\n"
     ]
    }
   ],
   "source": [
    "for i in enumerate(s3):\n",
    "    print(i)"
   ]
  },
  {
   "cell_type": "markdown",
   "id": "991b45e8-4d24-4d22-bf5b-9ffc4bdd6dbb",
   "metadata": {},
   "source": [
    "# set operations"
   ]
  },
  {
   "cell_type": "code",
   "execution_count": 1,
   "id": "23e19fdc-be70-447c-a507-dff18b2503b3",
   "metadata": {},
   "outputs": [
    {
     "data": {
      "text/plain": [
       "{1, 2, 3, 4, 5, 6, 7, 8}"
      ]
     },
     "execution_count": 1,
     "metadata": {},
     "output_type": "execute_result"
    }
   ],
   "source": [
    "A={1,2,3,4,5}\n",
    "B={5,6,7,8,}\n",
    "C={8,9,10}\n",
    "A|B"
   ]
  },
  {
   "cell_type": "code",
   "execution_count": 3,
   "id": "148e6d78-f395-4ddd-bf0f-fdd6e12999ce",
   "metadata": {},
   "outputs": [
    {
     "data": {
      "text/plain": [
       "{5, 6, 7, 8, 9, 10}"
      ]
     },
     "execution_count": 3,
     "metadata": {},
     "output_type": "execute_result"
    }
   ],
   "source": [
    "B.union(C)"
   ]
  },
  {
   "cell_type": "code",
   "execution_count": 5,
   "id": "edf446c3-f5f3-44e6-bd1f-5b71fd13eac4",
   "metadata": {},
   "outputs": [
    {
     "data": {
      "text/plain": [
       "{1, 2, 3, 4, 5, 6, 7, 8, 9, 10}"
      ]
     },
     "execution_count": 5,
     "metadata": {},
     "output_type": "execute_result"
    }
   ],
   "source": [
    "A.union(B,C)"
   ]
  },
  {
   "cell_type": "code",
   "execution_count": 7,
   "id": "f0c065ae-13a8-41df-b14d-78c889e8170b",
   "metadata": {},
   "outputs": [
    {
     "data": {
      "text/plain": [
       "{1, 2, 3, 4, 5, 6, 7, 8, 9, 10}"
      ]
     },
     "execution_count": 7,
     "metadata": {},
     "output_type": "execute_result"
    }
   ],
   "source": [
    "C|B|A"
   ]
  },
  {
   "cell_type": "code",
   "execution_count": 9,
   "id": "c5e47125-7275-4b1b-8e9e-ff66ad967b06",
   "metadata": {},
   "outputs": [
    {
     "data": {
      "text/plain": [
       "{8, 9, 10}"
      ]
     },
     "execution_count": 9,
     "metadata": {},
     "output_type": "execute_result"
    }
   ],
   "source": [
    "C"
   ]
  },
  {
   "cell_type": "code",
   "execution_count": 11,
   "id": "6df6b990-c951-40cc-b1b4-8c53703966c9",
   "metadata": {},
   "outputs": [
    {
     "data": {
      "text/plain": [
       "{8, 9, 10}"
      ]
     },
     "execution_count": 11,
     "metadata": {},
     "output_type": "execute_result"
    }
   ],
   "source": [
    "D=C.copy()\n",
    "D"
   ]
  },
  {
   "cell_type": "code",
   "execution_count": 13,
   "id": "aad13929-75d5-457c-810b-2bbef9e2d015",
   "metadata": {},
   "outputs": [
    {
     "name": "stdout",
     "output_type": "stream",
     "text": [
      "{8, 9, 10}\n",
      "{8, 9, 10}\n"
     ]
    }
   ],
   "source": [
    "print(C)\n",
    "print(D)"
   ]
  },
  {
   "cell_type": "code",
   "execution_count": 15,
   "id": "8060d5ac-1ac2-4de8-9dbd-4e5ee89f9fb4",
   "metadata": {},
   "outputs": [
    {
     "data": {
      "text/plain": [
       "{5, 6, 7, 8, 9, 10}"
      ]
     },
     "execution_count": 15,
     "metadata": {},
     "output_type": "execute_result"
    }
   ],
   "source": [
    "C.update(B)\n",
    "C"
   ]
  },
  {
   "cell_type": "code",
   "execution_count": 17,
   "id": "58034591-d62a-4166-8489-b88a387c8d4c",
   "metadata": {},
   "outputs": [
    {
     "name": "stdout",
     "output_type": "stream",
     "text": [
      "{1, 2, 3, 4, 5}\n",
      "{8, 5, 6, 7}\n",
      "{5, 6, 7, 8, 9, 10}\n"
     ]
    }
   ],
   "source": [
    "print(A)\n",
    "print(B)\n",
    "print(C)"
   ]
  },
  {
   "cell_type": "code",
   "execution_count": 21,
   "id": "db3c0a9b-c4d0-44bc-a471-5210f6580a7f",
   "metadata": {},
   "outputs": [
    {
     "data": {
      "text/plain": [
       "{5}"
      ]
     },
     "execution_count": 21,
     "metadata": {},
     "output_type": "execute_result"
    }
   ],
   "source": [
    "A&B&C"
   ]
  },
  {
   "cell_type": "code",
   "execution_count": 25,
   "id": "d2f99db9-7a9f-432f-b492-30ff09e0bc63",
   "metadata": {},
   "outputs": [
    {
     "data": {
      "text/plain": [
       "{5, 6, 7, 8}"
      ]
     },
     "execution_count": 25,
     "metadata": {},
     "output_type": "execute_result"
    }
   ],
   "source": [
    "B&C"
   ]
  },
  {
   "cell_type": "code",
   "execution_count": 27,
   "id": "d72beeeb-3358-44c8-8cc6-0cca2b50f45a",
   "metadata": {},
   "outputs": [
    {
     "data": {
      "text/plain": [
       "{5, 6, 7, 8}"
      ]
     },
     "execution_count": 27,
     "metadata": {},
     "output_type": "execute_result"
    }
   ],
   "source": [
    "B.intersection(C)\n",
    "B"
   ]
  },
  {
   "cell_type": "code",
   "execution_count": 29,
   "id": "a00faab4-307c-4913-85cc-a64bbaec2be2",
   "metadata": {},
   "outputs": [
    {
     "data": {
      "text/plain": [
       "{5}"
      ]
     },
     "execution_count": 29,
     "metadata": {},
     "output_type": "execute_result"
    }
   ],
   "source": [
    "A & B & C"
   ]
  },
  {
   "cell_type": "code",
   "execution_count": 31,
   "id": "226c8e98-5fe2-4aa4-b612-6498e4b00a52",
   "metadata": {},
   "outputs": [
    {
     "data": {
      "text/plain": [
       "{1, 2, 3, 4}"
      ]
     },
     "execution_count": 31,
     "metadata": {},
     "output_type": "execute_result"
    }
   ],
   "source": [
    "A-B"
   ]
  },
  {
   "cell_type": "code",
   "execution_count": 33,
   "id": "96198fa9-20cf-4933-958e-c736a01b7963",
   "metadata": {},
   "outputs": [
    {
     "data": {
      "text/plain": [
       "{9, 10}"
      ]
     },
     "execution_count": 33,
     "metadata": {},
     "output_type": "execute_result"
    }
   ],
   "source": [
    "C-B"
   ]
  },
  {
   "cell_type": "code",
   "execution_count": 35,
   "id": "27fb242f-f09e-42bd-93c0-3e55385a7e0a",
   "metadata": {},
   "outputs": [
    {
     "data": {
      "text/plain": [
       "{6, 7, 8, 9, 10}"
      ]
     },
     "execution_count": 35,
     "metadata": {},
     "output_type": "execute_result"
    }
   ],
   "source": [
    "C.difference(A)"
   ]
  },
  {
   "cell_type": "code",
   "execution_count": 39,
   "id": "ab11c021-23c6-42dc-9755-adbc78898276",
   "metadata": {},
   "outputs": [
    {
     "data": {
      "text/plain": [
       "{1, 2, 3, 4}"
      ]
     },
     "execution_count": 39,
     "metadata": {},
     "output_type": "execute_result"
    }
   ],
   "source": [
    "A.difference(C)"
   ]
  },
  {
   "cell_type": "markdown",
   "id": "314d6fdd-826c-493e-b25d-eb0027c609dd",
   "metadata": {},
   "source": [
    "# 25th april\n",
    "  # Set \n",
    "  # Dict"
   ]
  },
  {
   "cell_type": "code",
   "execution_count": 73,
   "id": "363e9b61-50e2-4a3a-8d78-afba32385560",
   "metadata": {},
   "outputs": [
    {
     "data": {
      "text/plain": [
       "{'a', 'b', 'm', 'z'}"
      ]
     },
     "execution_count": 73,
     "metadata": {},
     "output_type": "execute_result"
    }
   ],
   "source": [
    "s3"
   ]
  },
  {
   "cell_type": "code",
   "execution_count": 77,
   "id": "1231fcde-5383-4603-8707-7e5bc95415da",
   "metadata": {},
   "outputs": [],
   "source": [
    "s3.discard('x')"
   ]
  },
  {
   "cell_type": "code",
   "execution_count": 47,
   "id": "ad0393e8-f2ea-4214-8327-4f9ed20d6f1f",
   "metadata": {},
   "outputs": [
    {
     "data": {
      "text/plain": [
       "{'a', 'b', 'm'}"
      ]
     },
     "execution_count": 47,
     "metadata": {},
     "output_type": "execute_result"
    }
   ],
   "source": [
    "s3.discard('z')\n",
    "s3"
   ]
  },
  {
   "cell_type": "markdown",
   "id": "8e3816ca-b322-4a90-bcb8-8f5a17c6250a",
   "metadata": {},
   "source": [
    "#super set (dad)\n",
    "#subset (son)\n",
    "#disjoint "
   ]
  },
  {
   "cell_type": "code",
   "execution_count": 62,
   "id": "074dc759-dca9-4ad8-8ae4-454bd5497b9a",
   "metadata": {},
   "outputs": [],
   "source": [
    "a9={1,2,3,4,5,6,7,8,9}\n",
    "b9={3,4,5,6,7,8,}\n",
    "c9={10,20,30,40,}"
   ]
  },
  {
   "cell_type": "markdown",
   "id": "01d2c47c-9c7a-45a3-a276-59ccbcd6a652",
   "metadata": {},
   "source": [
    "# Dictionary"
   ]
  },
  {
   "cell_type": "code",
   "execution_count": 86,
   "id": "cf2688b2-e486-440b-9727-5aefa6509ff2",
   "metadata": {},
   "outputs": [
    {
     "data": {
      "text/plain": [
       "dict"
      ]
     },
     "execution_count": 86,
     "metadata": {},
     "output_type": "execute_result"
    }
   ],
   "source": [
    "d = {}\n",
    "type(d)"
   ]
  },
  {
   "cell_type": "code",
   "execution_count": 88,
   "id": "1ea2c4c2-ad54-4874-9437-aa069c9ab06c",
   "metadata": {},
   "outputs": [
    {
     "data": {
      "text/plain": [
       "{1: 'one'}"
      ]
     },
     "execution_count": 88,
     "metadata": {},
     "output_type": "execute_result"
    }
   ],
   "source": [
    "d = {1:'one'}\n",
    "d"
   ]
  },
  {
   "cell_type": "code",
   "execution_count": 90,
   "id": "b46b10bb-9c8a-4ed3-9ce4-20c62e8e1d3b",
   "metadata": {},
   "outputs": [
    {
     "data": {
      "text/plain": [
       "{1: 'one', 2: 'two', 3: 'three', 4: 'four'}"
      ]
     },
     "execution_count": 90,
     "metadata": {},
     "output_type": "execute_result"
    }
   ],
   "source": [
    "d = {1:'one',2:'two',3:'three',4:'four'}\n",
    "d"
   ]
  },
  {
   "cell_type": "code",
   "execution_count": 92,
   "id": "10aab20d-3b8d-44b0-abcf-1e1767d65bc0",
   "metadata": {},
   "outputs": [
    {
     "data": {
      "text/plain": [
       "dict_keys([1, 2, 3, 4])"
      ]
     },
     "execution_count": 92,
     "metadata": {},
     "output_type": "execute_result"
    }
   ],
   "source": [
    "d.keys()"
   ]
  },
  {
   "cell_type": "code",
   "execution_count": 94,
   "id": "4362d214-7f44-4478-b924-aeef66c05990",
   "metadata": {},
   "outputs": [
    {
     "data": {
      "text/plain": [
       "dict_values(['one', 'two', 'three', 'four'])"
      ]
     },
     "execution_count": 94,
     "metadata": {},
     "output_type": "execute_result"
    }
   ],
   "source": [
    "d.values()"
   ]
  },
  {
   "cell_type": "code",
   "execution_count": 96,
   "id": "a949a980-d564-45f3-a851-a76983adebd2",
   "metadata": {},
   "outputs": [
    {
     "data": {
      "text/plain": [
       "dict_items([(1, 'one'), (2, 'two'), (3, 'three'), (4, 'four')])"
      ]
     },
     "execution_count": 96,
     "metadata": {},
     "output_type": "execute_result"
    }
   ],
   "source": [
    "d.items()"
   ]
  },
  {
   "cell_type": "code",
   "execution_count": 98,
   "id": "be1631ec-47ca-4ee1-ab7b-8721825e46f1",
   "metadata": {},
   "outputs": [
    {
     "data": {
      "text/plain": [
       "4"
      ]
     },
     "execution_count": 98,
     "metadata": {},
     "output_type": "execute_result"
    }
   ],
   "source": [
    "len(d)"
   ]
  },
  {
   "cell_type": "code",
   "execution_count": 100,
   "id": "406ed3bb-674e-464f-95a4-7d5369ad6815",
   "metadata": {},
   "outputs": [
    {
     "data": {
      "text/plain": [
       "'four'"
      ]
     },
     "execution_count": 100,
     "metadata": {},
     "output_type": "execute_result"
    }
   ],
   "source": [
    "d[4]"
   ]
  },
  {
   "cell_type": "code",
   "execution_count": 102,
   "id": "cee41ed0-2432-4da4-bfc7-ddc01d46979d",
   "metadata": {},
   "outputs": [
    {
     "data": {
      "text/plain": [
       "{1: 'one', 2: 'two', 3: 'three', 4: 'four'}"
      ]
     },
     "execution_count": 102,
     "metadata": {},
     "output_type": "execute_result"
    }
   ],
   "source": [
    "d"
   ]
  },
  {
   "cell_type": "code",
   "execution_count": 104,
   "id": "1335a22c-07f8-46b8-b708-d536a2a4f2ab",
   "metadata": {},
   "outputs": [
    {
     "data": {
      "text/plain": [
       "'one'"
      ]
     },
     "execution_count": 104,
     "metadata": {},
     "output_type": "execute_result"
    }
   ],
   "source": [
    "d.get(1)\n"
   ]
  },
  {
   "cell_type": "code",
   "execution_count": 106,
   "id": "e949dbc7-cecd-408d-8041-0d9290eb9a72",
   "metadata": {},
   "outputs": [
    {
     "data": {
      "text/plain": [
       "{1: 'one', 2: 'two', 3: 'three', 4: 'four'}"
      ]
     },
     "execution_count": 106,
     "metadata": {},
     "output_type": "execute_result"
    }
   ],
   "source": [
    "d1 = d.copy()\n",
    "d1"
   ]
  },
  {
   "cell_type": "code",
   "execution_count": 108,
   "id": "a0578270-084f-4faf-a143-2d6ce8d7de8a",
   "metadata": {},
   "outputs": [
    {
     "data": {
      "text/plain": [
       "{1: 'one', 2: 'two', 3: 'three', 4: 'four'}"
      ]
     },
     "execution_count": 108,
     "metadata": {},
     "output_type": "execute_result"
    }
   ],
   "source": [
    "d1"
   ]
  },
  {
   "cell_type": "code",
   "execution_count": 110,
   "id": "be2e3764-c156-413a-9907-b17f2cba7c31",
   "metadata": {},
   "outputs": [
    {
     "name": "stdout",
     "output_type": "stream",
     "text": [
      "1\n",
      "2\n",
      "3\n",
      "4\n"
     ]
    }
   ],
   "source": [
    "for i in d:\n",
    "    print(i)"
   ]
  },
  {
   "cell_type": "code",
   "execution_count": 126,
   "id": "a8e2683b-969a-41f9-ba0f-db05de11a43b",
   "metadata": {},
   "outputs": [
    {
     "ename": "TypeError",
     "evalue": "'dict' object is not callable",
     "output_type": "error",
     "traceback": [
      "\u001b[1;31m---------------------------------------------------------------------------\u001b[0m",
      "\u001b[1;31mTypeError\u001b[0m                                 Traceback (most recent call last)",
      "Cell \u001b[1;32mIn[126], line 2\u001b[0m\n\u001b[0;32m      1\u001b[0m \u001b[38;5;28;01mfor\u001b[39;00m i \u001b[38;5;129;01min\u001b[39;00m d:\n\u001b[1;32m----> 2\u001b[0m     \u001b[38;5;28mprint\u001b[39m (i,d(\u001b[38;5;241m1\u001b[39m))\n",
      "\u001b[1;31mTypeError\u001b[0m: 'dict' object is not callable"
     ]
    }
   ],
   "source": [
    "for i in d:\n",
    "    print (i,':',d(1))"
   ]
  },
  {
   "cell_type": "markdown",
   "id": "9c97d183-1f6e-4d56-88c7-0b7a06cc1b28",
   "metadata": {},
   "source": [
    "# Range"
   ]
  },
  {
   "cell_type": "code",
   "execution_count": 110,
   "id": "13a3fb26-583d-4c7c-80bf-e6be532f0e7a",
   "metadata": {},
   "outputs": [
    {
     "data": {
      "text/plain": [
       "range(0, 10)"
      ]
     },
     "execution_count": 110,
     "metadata": {},
     "output_type": "execute_result"
    }
   ],
   "source": [
    "range(10)"
   ]
  },
  {
   "cell_type": "code",
   "execution_count": 112,
   "id": "bfcf9c7f-ea0a-4231-85dc-bc59f30588f3",
   "metadata": {},
   "outputs": [
    {
     "data": {
      "text/plain": [
       "range(0, 10)"
      ]
     },
     "execution_count": 112,
     "metadata": {},
     "output_type": "execute_result"
    }
   ],
   "source": [
    "r = range(10)\n",
    "r"
   ]
  },
  {
   "cell_type": "code",
   "execution_count": 114,
   "id": "7623dd45-77e2-4865-9cf7-66de3a052f50",
   "metadata": {},
   "outputs": [
    {
     "name": "stdout",
     "output_type": "stream",
     "text": [
      "0\n",
      "1\n",
      "2\n",
      "3\n",
      "4\n",
      "5\n",
      "6\n",
      "7\n",
      "8\n",
      "9\n"
     ]
    }
   ],
   "source": [
    "for i in r:\n",
    "    print(i)"
   ]
  },
  {
   "cell_type": "code",
   "execution_count": 116,
   "id": "3809e9e6-7478-42c3-b0fc-700a6c9248ea",
   "metadata": {},
   "outputs": [
    {
     "data": {
      "text/plain": [
       "[0, 1, 2, 3, 4, 5, 6, 7, 8, 9]"
      ]
     },
     "execution_count": 116,
     "metadata": {},
     "output_type": "execute_result"
    }
   ],
   "source": [
    "list(r)"
   ]
  },
  {
   "cell_type": "code",
   "execution_count": 118,
   "id": "a5f42201-66e9-40e8-b757-8e6164d0b776",
   "metadata": {},
   "outputs": [
    {
     "data": {
      "text/plain": [
       "range(10, 20)"
      ]
     },
     "execution_count": 118,
     "metadata": {},
     "output_type": "execute_result"
    }
   ],
   "source": [
    "r1 =range(10,20)\n",
    "r1"
   ]
  },
  {
   "cell_type": "code",
   "execution_count": 122,
   "id": "4c9dbdb8-82a3-4c58-af46-4818e877663a",
   "metadata": {},
   "outputs": [
    {
     "data": {
      "text/plain": [
       "[10, 11, 12, 13, 14, 15, 16, 17, 18, 19]"
      ]
     },
     "execution_count": 122,
     "metadata": {},
     "output_type": "execute_result"
    }
   ],
   "source": [
    "list(r1)"
   ]
  },
  {
   "cell_type": "code",
   "execution_count": 126,
   "id": "80dd63bc-b600-4cbf-a068-b98c621ffea5",
   "metadata": {},
   "outputs": [
    {
     "data": {
      "text/plain": [
       "[0, 1, 2, 3, 4, 5, 6, 7, 8, 9]"
      ]
     },
     "execution_count": 126,
     "metadata": {},
     "output_type": "execute_result"
    }
   ],
   "source": [
    "list(range(0,10))"
   ]
  },
  {
   "cell_type": "markdown",
   "id": "b5bd820f-2ac7-4032-9583-a2ebe7e56b1d",
   "metadata": {},
   "source": [
    "# python datastructure completed today"
   ]
  },
  {
   "cell_type": "code",
   "execution_count": null,
   "id": "2ee72568-1288-40f5-9337-06108d34715b",
   "metadata": {},
   "outputs": [],
   "source": []
  }
 ],
 "metadata": {
  "kernelspec": {
   "display_name": "Python [conda env:base] *",
   "language": "python",
   "name": "conda-base-py"
  },
  "language_info": {
   "codemirror_mode": {
    "name": "ipython",
    "version": 3
   },
   "file_extension": ".py",
   "mimetype": "text/x-python",
   "name": "python",
   "nbconvert_exporter": "python",
   "pygments_lexer": "ipython3",
   "version": "3.12.7"
  }
 },
 "nbformat": 4,
 "nbformat_minor": 5
}
