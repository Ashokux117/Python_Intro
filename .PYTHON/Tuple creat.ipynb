{
 "cells": [
  {
   "cell_type": "markdown",
   "id": "d74c14f3-045d-4ff8-8afe-a97b4d80c31e",
   "metadata": {},
   "source": [
    " # Tuple creation "
   ]
  },
  {
   "cell_type": "code",
   "execution_count": 2,
   "id": "aae1af46-e7e9-4e1f-befa-7c8c00216d77",
   "metadata": {},
   "outputs": [],
   "source": [
    "tup = ()"
   ]
  },
  {
   "cell_type": "code",
   "execution_count": 4,
   "id": "5c65efa1-0766-48f1-bd14-f631cf2fb33a",
   "metadata": {},
   "outputs": [],
   "source": [
    "tup2 = (10,30,60,)"
   ]
  },
  {
   "cell_type": "code",
   "execution_count": 6,
   "id": "57798b82-74af-4479-a58c-b8a3d7bfb1eb",
   "metadata": {},
   "outputs": [],
   "source": [
    "tup3 = (20.35,55.30,23.12) "
   ]
  },
  {
   "cell_type": "code",
   "execution_count": 8,
   "id": "aadd99f9-ea8c-4eb8-9b1c-5cf765a7ed69",
   "metadata": {},
   "outputs": [],
   "source": [
    "tup4 = ('one','two','three')"
   ]
  },
  {
   "cell_type": "code",
   "execution_count": 14,
   "id": "023ab070-5fa1-45de-9496-a441173df06e",
   "metadata": {},
   "outputs": [],
   "source": [
    "tup5 = ('Asif',25,(40,25),(100,56))"
   ]
  },
  {
   "cell_type": "code",
   "execution_count": 16,
   "id": "3530df22-8b9f-4cd8-a0bd-e620dfc7faa1",
   "metadata": {},
   "outputs": [],
   "source": [
    "tup6 = (100,'Asif',40.56)"
   ]
  },
  {
   "cell_type": "code",
   "execution_count": 22,
   "id": "0916b4dd-9191-42d8-b29c-b562d37bc8bf",
   "metadata": {},
   "outputs": [],
   "source": [
    "tup7 = ('Asif', 25, [20,100],[70,20],{'john','david'},(90,85,23))"
   ]
  },
  {
   "cell_type": "code",
   "execution_count": 26,
   "id": "0f8655dd-7119-481f-8e50-068b70a61837",
   "metadata": {},
   "outputs": [
    {
     "data": {
      "text/plain": [
       "6"
      ]
     },
     "execution_count": 26,
     "metadata": {},
     "output_type": "execute_result"
    }
   ],
   "source": [
    "len(tup7)     #length of list"
   ]
  },
  {
   "cell_type": "markdown",
   "id": "5c39f644-72f2-4355-86ed-8cff8e5d24b1",
   "metadata": {},
   "source": [
    "# Tuple indexing "
   ]
  },
  {
   "cell_type": "code",
   "execution_count": 29,
   "id": "5dd0cbf9-2953-49eb-9054-1d0ae7ff3d30",
   "metadata": {},
   "outputs": [
    {
     "data": {
      "text/plain": [
       "10"
      ]
     },
     "execution_count": 29,
     "metadata": {},
     "output_type": "execute_result"
    }
   ],
   "source": [
    "tup2[0]"
   ]
  },
  {
   "cell_type": "code",
   "execution_count": 31,
   "id": "1a6dc5c9-784e-4c32-a2a1-48ec0c55c19a",
   "metadata": {},
   "outputs": [
    {
     "data": {
      "text/plain": [
       "'Asif'"
      ]
     },
     "execution_count": 31,
     "metadata": {},
     "output_type": "execute_result"
    }
   ],
   "source": [
    "tup5[0]"
   ]
  },
  {
   "cell_type": "code",
   "execution_count": 33,
   "id": "0b6bf291-9ca5-466b-884a-a77176557e84",
   "metadata": {},
   "outputs": [
    {
     "data": {
      "text/plain": [
       "25"
      ]
     },
     "execution_count": 33,
     "metadata": {},
     "output_type": "execute_result"
    }
   ],
   "source": [
    "tup7[-5]"
   ]
  },
  {
   "cell_type": "code",
   "execution_count": 35,
   "id": "07018ce5-3b72-4202-ab22-4beea0b420c0",
   "metadata": {},
   "outputs": [
    {
     "data": {
      "text/plain": [
       "40.56"
      ]
     },
     "execution_count": 35,
     "metadata": {},
     "output_type": "execute_result"
    }
   ],
   "source": [
    "tup6[-1]"
   ]
  },
  {
   "cell_type": "code",
   "execution_count": 37,
   "id": "0522d353-a9ae-4905-b128-44e456ecad40",
   "metadata": {},
   "outputs": [
    {
     "data": {
      "text/plain": [
       "'Asif'"
      ]
     },
     "execution_count": 37,
     "metadata": {},
     "output_type": "execute_result"
    }
   ],
   "source": [
    "tup7[0]"
   ]
  },
  {
   "cell_type": "markdown",
   "id": "ec0920a1-6e7d-44f8-91b9-fd23f23eeaa4",
   "metadata": {},
   "source": [
    "# Tuple slicing"
   ]
  },
  {
   "cell_type": "code",
   "execution_count": 5,
   "id": "46b9d2ba-da3a-40ae-b448-f72094bd6a94",
   "metadata": {},
   "outputs": [
    {
     "data": {
      "text/plain": [
       "('one', 'two', 'three', 'four', 'five', 'six', 'seven', 'eight')"
      ]
     },
     "execution_count": 5,
     "metadata": {},
     "output_type": "execute_result"
    }
   ],
   "source": [
    "mytuple = ('one', 'two','three','four','five','six','seven','eight')\n",
    "mytuple"
   ]
  },
  {
   "cell_type": "code",
   "execution_count": 7,
   "id": "4f9e27bd-7f0f-44a4-aa85-25731b61196b",
   "metadata": {},
   "outputs": [
    {
     "data": {
      "text/plain": [
       "('one', 'two', 'three')"
      ]
     },
     "execution_count": 7,
     "metadata": {},
     "output_type": "execute_result"
    }
   ],
   "source": [
    "mytuple[0:3]"
   ]
  },
  {
   "cell_type": "code",
   "execution_count": 9,
   "id": "6b411e5f-320e-4491-823d-9d14ae1a1a4f",
   "metadata": {},
   "outputs": [
    {
     "data": {
      "text/plain": [
       "('three', 'four', 'five')"
      ]
     },
     "execution_count": 9,
     "metadata": {},
     "output_type": "execute_result"
    }
   ],
   "source": [
    "mytuple[2:5]"
   ]
  },
  {
   "cell_type": "markdown",
   "id": "7460f5e2-9db8-4fbe-8326-646ac370a18f",
   "metadata": {},
   "source": [
    "mytuple[:3]"
   ]
  },
  {
   "cell_type": "code",
   "execution_count": 13,
   "id": "aa92b3a1-3180-4c07-a4d7-e7ddc1851d65",
   "metadata": {},
   "outputs": [
    {
     "data": {
      "text/plain": [
       "('one', 'two')"
      ]
     },
     "execution_count": 13,
     "metadata": {},
     "output_type": "execute_result"
    }
   ],
   "source": [
    "mytuple[:2]"
   ]
  },
  {
   "cell_type": "markdown",
   "id": "25f06970-92a4-4c8b-af8b-17a929ecfef2",
   "metadata": {},
   "source": [
    "mytuple[-2:]"
   ]
  },
  {
   "cell_type": "code",
   "execution_count": 23,
   "id": "28e66f1a-0937-4197-9569-4ba83e6fd396",
   "metadata": {},
   "outputs": [
    {
     "data": {
      "text/plain": [
       "('one', 'two', 'three', 'four', 'five', 'six', 'seven', 'eight')"
      ]
     },
     "execution_count": 23,
     "metadata": {},
     "output_type": "execute_result"
    }
   ],
   "source": [
    "mytuple[:]  # return whole tuple"
   ]
  },
  {
   "cell_type": "markdown",
   "id": "cd16eb42-306b-4d36-8a78-f0c8d398cb6b",
   "metadata": {},
   "source": [
    "# Remove and change item"
   ]
  },
  {
   "cell_type": "code",
   "execution_count": 28,
   "id": "b5aa993f-7101-4f67-bd84-2f20705bc3c4",
   "metadata": {},
   "outputs": [
    {
     "data": {
      "text/plain": [
       "('one', 'two', 'three', 'four', 'five', 'six', 'seven', 'eight')"
      ]
     },
     "execution_count": 28,
     "metadata": {},
     "output_type": "execute_result"
    }
   ],
   "source": [
    "mytuple"
   ]
  },
  {
   "cell_type": "code",
   "execution_count": 30,
   "id": "ed37cddb-fccb-4416-89e2-876918da71e8",
   "metadata": {},
   "outputs": [
    {
     "ename": "TypeError",
     "evalue": "'tuple' object doesn't support item deletion",
     "output_type": "error",
     "traceback": [
      "\u001b[1;31m---------------------------------------------------------------------------\u001b[0m",
      "\u001b[1;31mTypeError\u001b[0m                                 Traceback (most recent call last)",
      "Cell \u001b[1;32mIn[30], line 1\u001b[0m\n\u001b[1;32m----> 1\u001b[0m \u001b[38;5;28;01mdel\u001b[39;00m mytuple[\u001b[38;5;241m0\u001b[39m]\n",
      "\u001b[1;31mTypeError\u001b[0m: 'tuple' object doesn't support item deletion"
     ]
    }
   ],
   "source": [
    "del mytuple[0]  # tuple are immutable wich means e can't DELETEtuple\n"
   ]
  },
  {
   "cell_type": "code",
   "execution_count": 32,
   "id": "affa3f41-3a2c-4226-a4a7-b348fb9a2aea",
   "metadata": {},
   "outputs": [
    {
     "ename": "TypeError",
     "evalue": "'tuple' object does not support item assignment",
     "output_type": "error",
     "traceback": [
      "\u001b[1;31m---------------------------------------------------------------------------\u001b[0m",
      "\u001b[1;31mTypeError\u001b[0m                                 Traceback (most recent call last)",
      "Cell \u001b[1;32mIn[32], line 1\u001b[0m\n\u001b[1;32m----> 1\u001b[0m mytuple[\u001b[38;5;241m0\u001b[39m] \u001b[38;5;241m=\u001b[39m \u001b[38;5;241m1\u001b[39m\n",
      "\u001b[1;31mTypeError\u001b[0m: 'tuple' object does not support item assignment"
     ]
    }
   ],
   "source": [
    "mytuple[0] = 1    # tuple are immutable wich means we can't CHANGE tuple "
   ]
  },
  {
   "cell_type": "code",
   "execution_count": 34,
   "id": "45e4e42a-8304-4367-b486-04c02a99e52c",
   "metadata": {},
   "outputs": [],
   "source": [
    "del mytuple  # deleting entire tuple objectis possible "
   ]
  },
  {
   "cell_type": "markdown",
   "id": "227dc9fb-2ff2-46a5-aadc-db7b09485c63",
   "metadata": {},
   "source": [
    " # Loop through a tuple "
   ]
  },
  {
   "cell_type": "code",
   "execution_count": 44,
   "id": "42c5621e-16aa-473b-b3b3-9b173837a89a",
   "metadata": {},
   "outputs": [
    {
     "data": {
      "text/plain": [
       "('one', 'two', 'three', 'four', 'five', 'six', 'seven', 'eight')"
      ]
     },
     "execution_count": 44,
     "metadata": {},
     "output_type": "execute_result"
    }
   ],
   "source": [
    "mytuple = ('one', 'two','three','four','five','six','seven','eight')\n",
    "mytuple"
   ]
  },
  {
   "cell_type": "code",
   "execution_count": 46,
   "id": "b1ff39f0-f4cc-4f51-9095-201c94aa0e78",
   "metadata": {},
   "outputs": [
    {
     "name": "stdout",
     "output_type": "stream",
     "text": [
      "one\n",
      "two\n",
      "three\n",
      "four\n",
      "five\n",
      "six\n",
      "seven\n",
      "eight\n"
     ]
    }
   ],
   "source": [
    "for i in mytuple:\n",
    "    print(i)"
   ]
  },
  {
   "cell_type": "code",
   "execution_count": 61,
   "id": "d9dee705-92e5-4034-8a6f-1cf6e8779e7b",
   "metadata": {},
   "outputs": [
    {
     "ename": "SyntaxError",
     "evalue": "invalid syntax (449408373.py, line 1)",
     "output_type": "error",
     "traceback": [
      "\u001b[1;36m  Cell \u001b[1;32mIn[61], line 1\u001b[1;36m\u001b[0m\n\u001b[1;33m    for i enumerate(mytuple):\u001b[0m\n\u001b[1;37m          ^\u001b[0m\n\u001b[1;31mSyntaxError\u001b[0m\u001b[1;31m:\u001b[0m invalid syntax\n"
     ]
    }
   ],
   "source": [
    " for i enumerate(mytuple):\n",
    "      print(i)"
   ]
  },
  {
   "cell_type": "code",
   "execution_count": null,
   "id": "37e30f94-6fe9-46ad-a3d2-d3e2a2e0eaf3",
   "metadata": {},
   "outputs": [],
   "source": []
  },
  {
   "cell_type": "code",
   "execution_count": null,
   "id": "0d83b7dd-cfde-46a0-925b-a5381b1e2bf1",
   "metadata": {},
   "outputs": [],
   "source": []
  }
 ],
 "metadata": {
  "kernelspec": {
   "display_name": "Python [conda env:base] *",
   "language": "python",
   "name": "conda-base-py"
  },
  "language_info": {
   "codemirror_mode": {
    "name": "ipython",
    "version": 3
   },
   "file_extension": ".py",
   "mimetype": "text/x-python",
   "name": "python",
   "nbconvert_exporter": "python",
   "pygments_lexer": "ipython3",
   "version": "3.12.7"
  }
 },
 "nbformat": 4,
 "nbformat_minor": 5
}
