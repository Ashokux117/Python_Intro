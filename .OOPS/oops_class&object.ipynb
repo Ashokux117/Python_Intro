{
 "cells": [
  {
   "cell_type": "markdown",
   "id": "51da2ce1",
   "metadata": {},
   "source": [
    "## opps\n",
    "1. Class → A blueprint or template to create objects.\n",
    "\n",
    "2. Object → An instance of a class (real-world entity).\n",
    "\n",
    "3. Attributes → Variables inside a class (properties of object).\n",
    "\n",
    "4. Methods → Functions inside a class (behavior of object)."
   ]
  },
  {
   "cell_type": "code",
   "execution_count": 34,
   "id": "db5e8c7a",
   "metadata": {},
   "outputs": [
    {
     "name": "stdout",
     "output_type": "stream",
     "text": [
      "i5 8gb\n"
     ]
    }
   ],
   "source": [
    "class computer: # this is a class\n",
    "    def config():      # this is a method\n",
    "        print('i5','8gb')\n",
    "        \n",
    "com1 = computer() # creating an object \n",
    "\n",
    "computer.config() # calling a method through class name\n"
   ]
  },
  {
   "cell_type": "code",
   "execution_count": 35,
   "id": "bbc20358",
   "metadata": {},
   "outputs": [
    {
     "ename": "TypeError",
     "evalue": "computer.config() takes 0 positional arguments but 1 was given",
     "output_type": "error",
     "traceback": [
      "\u001b[1;31m---------------------------------------------------------------------------\u001b[0m",
      "\u001b[1;31mTypeError\u001b[0m                                 Traceback (most recent call last)",
      "Cell \u001b[1;32mIn[35], line 16\u001b[0m\n\u001b[0;32m      8\u001b[0m com1 \u001b[38;5;241m=\u001b[39m computer()\n\u001b[0;32m     10\u001b[0m \u001b[38;5;66;03m# when we write com1.config(), Python automatically passes the object (com1) as first argument\u001b[39;00m\n\u001b[0;32m     11\u001b[0m \u001b[38;5;66;03m# internally it becomes: computer.config(com1)\u001b[39;00m\n\u001b[0;32m     12\u001b[0m \n\u001b[0;32m     13\u001b[0m \u001b[38;5;66;03m# BUT our method config() is defined with 0 parameters\u001b[39;00m\n\u001b[0;32m     14\u001b[0m \u001b[38;5;66;03m# Python is passing 1 argument (com1), but method expects 0\u001b[39;00m\n\u001b[0;32m     15\u001b[0m \u001b[38;5;66;03m# => TypeError: config() takes 0 positional arguments but 1 was given\u001b[39;00m\n\u001b[1;32m---> 16\u001b[0m com1\u001b[38;5;241m.\u001b[39mconfig()\n",
      "\u001b[1;31mTypeError\u001b[0m: computer.config() takes 0 positional arguments but 1 was given"
     ]
    }
   ],
   "source": [
    "class computer:\n",
    "    # here config() is defined without 'self'\n",
    "    # so Python thinks it's just a normal function inside the class\n",
    "    def config():\n",
    "        print(\"i5\", \"8GB\")\n",
    "\n",
    "# create an object of the class\n",
    "com1 = computer()\n",
    "\n",
    "# when we write com1.config(), Python automatically passes the object (com1) as first argument\n",
    "# internally it becomes: computer.config(com1)\n",
    "\n",
    "# BUT our method config() is defined with 0 parameters\n",
    "# Python is passing 1 argument (com1), but method expects 0\n",
    "# => TypeError: config() takes 0 positional arguments but 1 was given\n",
    "com1.config()\n"
   ]
  },
  {
   "cell_type": "code",
   "execution_count": null,
   "id": "d09953e2",
   "metadata": {},
   "outputs": [
    {
     "name": "stdout",
     "output_type": "stream",
     "text": [
      "i5 8gb\n"
     ]
    }
   ],
   "source": [
    "class computer:\n",
    "    \n",
    "    # add 'self' so method can accept the object  automatcally\n",
    "    def config(self):     \n",
    "        print('i5','8gb')\n",
    "        \n",
    "com1 = computer()\n",
    "\n",
    "com1.config()  # then work fine now"
   ]
  },
  {
   "cell_type": "code",
   "execution_count": null,
   "id": "26ec42a9",
   "metadata": {},
   "outputs": [
    {
     "name": "stdout",
     "output_type": "stream",
     "text": [
      "i5 8gb\n",
      "i5 8gb\n"
     ]
    }
   ],
   "source": [
    "class computer:\n",
    "    def config(self):     \n",
    "        print('i5','8gb')\n",
    "        \n",
    "        \n",
    "        \n",
    "com1 = computer()\n",
    "com2 = computer()\n",
    "\n",
    "com1.config() \n",
    "com2.config()\n",
    "#  we create multiple objects of the same class\n"
   ]
  },
  {
   "cell_type": "code",
   "execution_count": null,
   "id": "346ce1a7",
   "metadata": {},
   "outputs": [
    {
     "name": "stdout",
     "output_type": "stream",
     "text": [
      "i5 8gb\n",
      "i5 8gb\n",
      "i5 8gb\n"
     ]
    }
   ],
   "source": [
    "class computer:\n",
    "    def config(self):     \n",
    "        print('i5','8gb')\n",
    "        \n",
    "com1 = computer()\n",
    "com2 = computer()\n",
    "com3 = computer()\n",
    "\n",
    "com1.config() \n",
    "com2.config()\n",
    "com3.config()\n"
   ]
  },
  {
   "cell_type": "code",
   "execution_count": null,
   "id": "fae3c1d7",
   "metadata": {},
   "outputs": [],
   "source": [
    "class computer:\n",
    "    def __init__(self):     # use special method __init__(constructor)\n",
    "        print('i5','8gb')\n",
    "        "
   ]
  },
  {
   "cell_type": "code",
   "execution_count": null,
   "id": "31d284f5",
   "metadata": {},
   "outputs": [
    {
     "name": "stdout",
     "output_type": "stream",
     "text": [
      "i5 8gb\n",
      "i5 8gb\n"
     ]
    }
   ],
   "source": [
    "class computer:\n",
    "    def __init__(self):     # use special method __init__(constructor)\n",
    "        print('i5','8gb')\n",
    "        \n",
    "com1 = computer()\n",
    "\n",
    "com1.__init__()\n"
   ]
  },
  {
   "cell_type": "code",
   "execution_count": null,
   "id": "bd4015fd",
   "metadata": {},
   "outputs": [
    {
     "name": "stdout",
     "output_type": "stream",
     "text": [
      "i5 8gb\n",
      "i5 8gb\n",
      "i5 8gb\n"
     ]
    }
   ],
   "source": [
    "class computer:\n",
    "    def __init__(self):     \n",
    "        print('i5','8gb')\n",
    "        \n",
    "com1 = computer()\n",
    "com2 = computer()\n",
    "\n",
    "com1.__init__()\n",
    "#com2.__init__()\n",
    "#com3.__init__()\n"
   ]
  },
  {
   "cell_type": "code",
   "execution_count": null,
   "id": "33162996",
   "metadata": {},
   "outputs": [
    {
     "name": "stdout",
     "output_type": "stream",
     "text": [
      "i5 8gb\n",
      "i5 8gb\n",
      "i5 8gb\n",
      "i5 8gb\n"
     ]
    }
   ],
   "source": [
    "class computer:\n",
    "    def __init__(self):     \n",
    "        print('i5','8gb')\n",
    "        \n",
    "com1 = computer()\n",
    "com2 = computer()\n",
    "\n",
    "com1.__init__()\n",
    "com2.__init__()"
   ]
  },
  {
   "cell_type": "code",
   "execution_count": null,
   "id": "97a32b57",
   "metadata": {},
   "outputs": [
    {
     "name": "stdout",
     "output_type": "stream",
     "text": [
      "in init\n",
      "in init\n",
      "in init\n",
      "i5 8gb\n"
     ]
    }
   ],
   "source": [
    "class Computer:\n",
    "    def __init__(self):     \n",
    "        print('in init')   # constructor runs automatically when object is created\n",
    "        \n",
    "    def config(self):  \n",
    "        print('i5','8gb')  # normal method\n",
    "\n",
    "com1 = Computer()   # calls __init__ automatically → prints \"in init\"\n",
    "com2 = Computer()   # calls __init__ automatically → prints \"in init\"\n",
    "\n",
    "com1.__init__()     # manually calling constructor again → prints \"in init\"\n",
    "com2.config()       # calling method on com2 → prints \"i5 8gb\"\n"
   ]
  },
  {
   "cell_type": "code",
   "execution_count": null,
   "id": "02d19d4f",
   "metadata": {},
   "outputs": [
    {
     "name": "stdout",
     "output_type": "stream",
     "text": [
      "in init\n",
      "in init\n",
      "in init\n",
      "i5 8gb\n",
      "i5 8gb\n",
      "i5 8gb\n"
     ]
    }
   ],
   "source": [
    "# hear i want to pass some argument \n",
    "\n",
    "class computer():        \n",
    "    \n",
    "    def __init__(self,cpu,ram):   \n",
    "        print('in init')\n",
    "    \n",
    "    def config(self):     \n",
    "        print('i5', '8gb')\n",
    "\n",
    "com1 = computer('i5', 8)\n",
    "com2 = computer('intel5', 16)\n",
    "com3 = computer('i9', 32)\n",
    "com1.config() \n",
    "com2.config()\n",
    "com3.config()"
   ]
  },
  {
   "cell_type": "markdown",
   "id": "29d5d69d",
   "metadata": {},
   "source": [
    "## self is the argument and self olso act as a aobject "
   ]
  },
  {
   "cell_type": "code",
   "execution_count": null,
   "id": "dcfb858a",
   "metadata": {},
   "outputs": [],
   "source": []
  },
  {
   "cell_type": "code",
   "execution_count": null,
   "id": "644fe55e",
   "metadata": {},
   "outputs": [
    {
     "name": "stdout",
     "output_type": "stream",
     "text": [
      "config is : i5 8\n",
      "config is : intel5 16\n"
     ]
    }
   ],
   "source": [
    "class computer():\n",
    "    \n",
    "    def __init__(self,cpu,ram):   # self bydefault create a one argument\n",
    "        self.cpu = cpu\n",
    "        self.ram = ram\n",
    "        \n",
    "    def config(self):     \n",
    "        print('config is :',self.cpu, self.ram)\n",
    "        \n",
    "        \n",
    "com1 = computer('i5', 8)\n",
    "com2 = computer('intel5', 16)\n",
    "\n",
    "com1.config()\n",
    "com2.config()   "
   ]
  },
  {
   "cell_type": "code",
   "execution_count": null,
   "id": "78cd74d9",
   "metadata": {},
   "outputs": [
    {
     "name": "stdout",
     "output_type": "stream",
     "text": [
      "config is : i5 8 20000\n",
      "config is : intel5 16 40000\n"
     ]
    }
   ],
   "source": [
    "class computer():\n",
    "    \n",
    "    def __init__(self,cpu,ram,price):\n",
    "        self.cpu = cpu\n",
    "        self.ram = ram\n",
    "        self.price = price\n",
    "        \n",
    "    def config(self):     \n",
    "        print('config is :',self.cpu, self.ram, self.price)\n",
    "        \n",
    "        \n",
    "com1 = computer('i5', 8,20000)\n",
    "com2 = computer('intel5', 16,40000)\n",
    "\n",
    "com1.config()\n",
    "com2.config()   "
   ]
  },
  {
   "cell_type": "code",
   "execution_count": null,
   "id": "6da5fb2c",
   "metadata": {},
   "outputs": [
    {
     "ename": "IndentationError",
     "evalue": "expected an indented block after class definition on line 1 (2619127349.py, line 3)",
     "output_type": "error",
     "traceback": [
      "\u001b[1;36m  Cell \u001b[1;32mIn[72], line 3\u001b[1;36m\u001b[0m\n\u001b[1;33m    c1 = computer()\u001b[0m\n\u001b[1;37m    ^\u001b[0m\n\u001b[1;31mIndentationError\u001b[0m\u001b[1;31m:\u001b[0m expected an indented block after class definition on line 1\n"
     ]
    }
   ],
   "source": [
    "class computer:\n",
    "\n",
    "c1 = computer()\n",
    "\n",
    "print(id(c1))\n",
    "\n"
   ]
  },
  {
   "cell_type": "code",
   "execution_count": null,
   "id": "cacdb0d4",
   "metadata": {},
   "outputs": [
    {
     "name": "stdout",
     "output_type": "stream",
     "text": [
      "2992647023616\n"
     ]
    }
   ],
   "source": [
    "class computer:\n",
    "    pass\n",
    "\n",
    "c1 = computer()\n",
    "print(id(c1))\n"
   ]
  },
  {
   "cell_type": "code",
   "execution_count": null,
   "id": "88f79988",
   "metadata": {},
   "outputs": [
    {
     "name": "stdout",
     "output_type": "stream",
     "text": [
      "2992647018336\n",
      "2992647023616\n"
     ]
    }
   ],
   "source": [
    "class computer:\n",
    "    pass\n",
    "\n",
    "c1 = computer()\n",
    "c2 = computer()\n",
    "\n",
    "print(id(c1))\n",
    "print(id(c2))\n"
   ]
  },
  {
   "cell_type": "code",
   "execution_count": null,
   "id": "152ce1e3",
   "metadata": {},
   "outputs": [
    {
     "name": "stdout",
     "output_type": "stream",
     "text": [
      "Ashok 23\n",
      "Ashok 23\n"
     ]
    }
   ],
   "source": [
    "class computer():\n",
    "    def __init__(self):\n",
    "        self.name = \"Ashok\"\n",
    "        self.age = 23\n",
    "        \n",
    "c1 = computer()\n",
    "c2 = computer()\n",
    "\n",
    "\n",
    "print(c1.name,c1.age)\n",
    "print(c2.name,c2.age)\n"
   ]
  },
  {
   "cell_type": "code",
   "execution_count": null,
   "id": "9a6dc6b4",
   "metadata": {},
   "outputs": [
    {
     "name": "stdout",
     "output_type": "stream",
     "text": [
      "2327788706256\n",
      "2327788705392\n",
      "Ravi 25\n",
      "Ashok 23\n"
     ]
    }
   ],
   "source": [
    "class computer():\n",
    "\n",
    "    def __init__(self):   # __init__ is a constructor & self is a pointer\n",
    "        self.name = \"Ashok\"\n",
    "        self.age = 23\n",
    "    \n",
    "        \n",
    "c1 = computer()\n",
    "c2 = computer()\n",
    "\n",
    "print(id(c1))\n",
    "print(id(c2))  \n",
    "\n",
    "c1.name = \"Ravi\"\n",
    "c1.age = 25 \n",
    "\n",
    "print(c1.name,c1.age)\n",
    "print(c2.name,c2.age)"
   ]
  },
  {
   "cell_type": "code",
   "execution_count": null,
   "id": "22654468",
   "metadata": {},
   "outputs": [
    {
     "name": "stdout",
     "output_type": "stream",
     "text": [
      "1678613256560\n",
      "1678617196976\n"
     ]
    },
    {
     "ename": "AttributeError",
     "evalue": "'computer' object has no attribute 'compare'",
     "output_type": "error",
     "traceback": [
      "\u001b[1;31m---------------------------------------------------------------------------\u001b[0m",
      "\u001b[1;31mAttributeError\u001b[0m                            Traceback (most recent call last)",
      "Cell \u001b[1;32mIn[5], line 15\u001b[0m\n\u001b[0;32m     12\u001b[0m \u001b[38;5;28mprint\u001b[39m(\u001b[38;5;28mid\u001b[39m(c1))\n\u001b[0;32m     13\u001b[0m \u001b[38;5;28mprint\u001b[39m(\u001b[38;5;28mid\u001b[39m(c2))\n\u001b[1;32m---> 15\u001b[0m \u001b[38;5;28;01mif\u001b[39;00m c1\u001b[38;5;241m.\u001b[39mcompare(c2): \u001b[38;5;66;03m#hear i dont want to compare object address but i want to compare vlaues means age\u001b[39;00m\n\u001b[0;32m     16\u001b[0m     \u001b[38;5;28mprint\u001b[39m(\u001b[38;5;124m'\u001b[39m\u001b[38;5;124mthey are same\u001b[39m\u001b[38;5;124m'\u001b[39m) \u001b[38;5;66;03m# compare is not an inbuild method \u001b[39;00m\n\u001b[0;32m     18\u001b[0m c1\u001b[38;5;241m.\u001b[39mupdate() \u001b[38;5;66;03m#when we call update which value will change & i am not mentioning which object i am talking about\u001b[39;00m\n",
      "\u001b[1;31mAttributeError\u001b[0m: 'computer' object has no attribute 'compare'"
     ]
    }
   ],
   "source": [
    "class computer():\n",
    "    def __init__(self):\n",
    "        self.name = 'Ashok'\n",
    "        self.age = 24\n",
    "    \n",
    "    def update(self):  #lets create another object \n",
    "        self.age = 25\n",
    "\n",
    "c1 = computer()\n",
    "c2 = computer()\n",
    "\n",
    "print(id(c1))\n",
    "print(id(c2))\n",
    "\n",
    "if c1.compare(c2): #hear i dont want to compare object address but i want to compare vlaues means age\n",
    "    print('they are same') # compare is not an inbuild method \n",
    "\n",
    "c1.update() #when we call update which value will change & i am not mentioning which object i am talking about\n",
    "\n",
    "print(c1.name)\n",
    "print(c1.age)\n",
    "print(c2.name)\n",
    "print(c2.age)"
   ]
  },
  {
   "cell_type": "code",
   "execution_count": null,
   "id": "6a42fa40",
   "metadata": {},
   "outputs": [
    {
     "name": "stdout",
     "output_type": "stream",
     "text": [
      "1678614723424\n",
      "1678614723184\n",
      "they are same\n",
      "Ashok 24\n",
      "Ashok 24\n"
     ]
    }
   ],
   "source": [
    "class computer():\n",
    "    def __init__(self):\n",
    "        self.name = 'Ashok'\n",
    "        self.age = 24\n",
    "    \n",
    "    def compare(self,other):  #lets create another object \n",
    "        if self.age == other.age:\n",
    "            return True\n",
    "        else:\n",
    "            return False\n",
    "\n",
    "c1 = computer()\n",
    "c2 = computer()\n",
    "\n",
    "print(id(c1))\n",
    "print(id(c2))\n",
    "\n",
    "if c1.compare(c2): #hear i dont want to compare object address but i want to compare vlaues means age\n",
    "    print('they are same') # compare is not an inbuild method \n",
    "\n",
    "#c1.update() #when we call update which value will change & i am not mentioning which object i am talking about\n",
    "\n",
    "print(c1.name,c1.age)\n",
    "\n",
    "print(c2.name,c2.age)\n"
   ]
  },
  {
   "cell_type": "markdown",
   "id": "28f24a58",
   "metadata": {},
   "source": [
    "##   # Encapsulation #"
   ]
  },
  {
   "cell_type": "code",
   "execution_count": null,
   "id": "28332567",
   "metadata": {},
   "outputs": [
    {
     "name": "stdout",
     "output_type": "stream",
     "text": [
      "bmw 10\n",
      "bmw 10\n"
     ]
    }
   ],
   "source": [
    "class car:\n",
    "    def __init__(self):\n",
    "        self.mil = 10\n",
    "        self.com = 'bmw'\n",
    "        \n",
    "c1 = car()\n",
    "c2 = car()\n",
    "\n",
    "print(c1.com, c1.mil)\n",
    "print(c2.com, c2.mil)"
   ]
  },
  {
   "cell_type": "code",
   "execution_count": null,
   "id": "8a6973a3",
   "metadata": {},
   "outputs": [
    {
     "name": "stdout",
     "output_type": "stream",
     "text": [
      "bmw 8\n",
      "audi 15\n"
     ]
    }
   ],
   "source": [
    "class car:\n",
    "    def __init__(self):\n",
    "        self.mil = 10\n",
    "        self.com = 'bmw'\n",
    "        \n",
    "c1 = car()\n",
    "c2 = car()\n",
    "\n",
    "c1.mil = 8\n",
    "c2.com = 'audi'\n",
    "c2.mil = 15\n",
    "print(c1.com, c1.mil)\n",
    "print(c2.com, c2.mil)\n"
   ]
  },
  {
   "cell_type": "code",
   "execution_count": null,
   "id": "cfdc0275",
   "metadata": {},
   "outputs": [
    {
     "name": "stdout",
     "output_type": "stream",
     "text": [
      "bmw 8 5\n",
      "audi 15 5\n"
     ]
    }
   ],
   "source": [
    "class car:\n",
    "    wheels = 5\n",
    "    \n",
    "    def __init__(self):\n",
    "        self.mil = 10\n",
    "        self.com = 'bmw'\n",
    "        \n",
    "c1 = car()\n",
    "c2 = car()\n",
    "\n",
    "\n",
    "c1.mil = 8\n",
    "c2.com = 'audi'\n",
    "c2.mil = 15\n",
    "c2.wheels\n",
    "print(c1.com, c1.mil,c1.wheels)\n",
    "print(c2.com, c2.mil, c2.wheels)\n",
    "\n"
   ]
  },
  {
   "cell_type": "code",
   "execution_count": null,
   "id": "bce2cca2",
   "metadata": {},
   "outputs": [
    {
     "name": "stdout",
     "output_type": "stream",
     "text": [
      "56.0\n",
      "67.0\n"
     ]
    }
   ],
   "source": [
    "class student():\n",
    "    \n",
    "    school = \"nit\"\n",
    "    \n",
    "    def __init__(self, m1, m2, m3):\n",
    "        self.m1 = m1\n",
    "        self.m2 = m2\n",
    "        self.m3 = m3   \n",
    "        \n",
    "    def avg(self):\n",
    "        return(self.m1 + self.m2 + self.m3) / 3\n",
    "    \n",
    "    \n",
    "s1 = student(34,56,78)\n",
    "s2 = student(89,67,45)\n",
    "\n",
    "print(s1.avg())\n",
    "print(s2.avg())"
   ]
  },
  {
   "cell_type": "code",
   "execution_count": null,
   "id": "04995ba1",
   "metadata": {},
   "outputs": [
    {
     "name": "stdout",
     "output_type": "stream",
     "text": [
      "56.0\n",
      "67.0\n",
      "nit\n",
      "nit\n"
     ]
    }
   ],
   "source": [
    "# class mathod\n",
    "class student():\n",
    "    \n",
    "    school = \"nit\"\n",
    "    \n",
    "    def __init__(self, m1, m2, m3):\n",
    "        self.m1 = m1\n",
    "        self.m2 = m2\n",
    "        self.m3 = m3   \n",
    "        \n",
    "    def avg(self):  # instance method\n",
    "        return(self.m1 + self.m2 + self.m3) / 3\n",
    "    \n",
    "    def info (cls):  # class method\n",
    "        return cls.school\n",
    "    \n",
    "    \n",
    "s1 = student(34,56,78)\n",
    "s2 = student(89,67,45)\n",
    "\n",
    "print(s1.avg())    # instance method\n",
    "print(s2.avg())   # instance method\n",
    "\n",
    "print(s1.info())   # class method\n",
    "print(s2.info())   # class method"
   ]
  },
  {
   "cell_type": "code",
   "execution_count": null,
   "id": "b983784a",
   "metadata": {},
   "outputs": [
    {
     "name": "stdout",
     "output_type": "stream",
     "text": [
      "nit\n",
      "nit\n",
      "nit\n",
      "nit\n",
      "56.0\n",
      "67.0\n"
     ]
    }
   ],
   "source": [
    "# class mathod\n",
    "class student():\n",
    "    \n",
    "    school = \"nit\"\n",
    "    \n",
    "    def __init__(self, m1, m2, m3):  #  here i pass a 3 variable\n",
    "        self.m1 = m1\n",
    "        self.m2 = m2\n",
    "        self.m3 = m3   \n",
    "        \n",
    "    # lets create a method to calculate avg of the  marks\n",
    "    def avg(self):  # here avg is instance method\n",
    "        return(self.m1 + self.m2 + self.m3) / 3\n",
    "    \n",
    "    @classmethod\n",
    "    def info (cls):\n",
    "        return cls.school\n",
    "    \n",
    "    \n",
    "s1 = student(34,56,78)\n",
    "s2 = student(89,67,45)\n",
    "\n",
    "\n",
    "print(student.info())\n",
    "print(student.info())\n",
    "print(s1.info())\n",
    "print(s2.info())\n",
    "\n",
    "print(s1.avg())\n",
    "print(s2.avg())\n"
   ]
  },
  {
   "cell_type": "code",
   "execution_count": null,
   "id": "f91beeb3",
   "metadata": {},
   "outputs": [
    {
     "name": "stdout",
     "output_type": "stream",
     "text": [
      "56.0\n",
      "67.0\n",
      "nit\n",
      "this is student class \n",
      "None\n"
     ]
    }
   ],
   "source": [
    "\n",
    "class student():\n",
    "    \n",
    "    school = \"nit\"\n",
    "    \n",
    "    def __init__(self, m1, m2, m3):  #  here i pass a 3 variable\n",
    "        self.m1 = m1\n",
    "        self.m2 = m2\n",
    "        self.m3 = m3   \n",
    "        \n",
    "    # lets create a method to calculate avg of the  marks\n",
    "    def avg(self):  # here avg is instance method\n",
    "        return(self.m1 + self.m2 + self.m3) / 3\n",
    "    \n",
    "    @classmethod\n",
    "    def getschool (cls):\n",
    "        return cls.school\n",
    "    \n",
    "    @staticmethod\n",
    "    def info():\n",
    "        print(\"this is student class \")\n",
    "    \n",
    "    \n",
    "s1 = student(34,56,78)\n",
    "s2 = student(89,67,45)\n",
    "\n",
    "print(s1.avg()) \n",
    "print(s2.avg())# instance method\n",
    "\n",
    "\n",
    "print(s1.getschool())   # class method \n",
    "print(s1.info()) # static method\n",
    "\n"
   ]
  },
  {
   "cell_type": "code",
   "execution_count": null,
   "id": "7c7820cf",
   "metadata": {},
   "outputs": [
    {
     "name": "stdout",
     "output_type": "stream",
     "text": [
      "nit\n"
     ]
    }
   ],
   "source": [
    "\n",
    "class student():\n",
    "    \n",
    "    school = \"nit\"\n",
    "    \n",
    "    #def __init__(self, m1, m2, m3):  #  here i pass a 3 variable\n",
    "     #   self.m1 = m1\n",
    "      #  self.m2 = m2\n",
    "       # self.m3 = m3   \n",
    "        \n",
    "    # lets create a method to calculate avg of the  marks\n",
    "    #def avg(self):  # here avg is instance method\n",
    "     #   return(self.m1 + self.m2 + self.m3) / 3\n",
    "    \n",
    "    @classmethod\n",
    "    def getschool (cls):\n",
    "        return cls.school\n",
    "    \n",
    " #   @staticmethod\n",
    "  #  def info():\n",
    "   #     print(\"this is student class \")\n",
    "    \n",
    "    \n",
    "#s1 = student(34,56,78)\n",
    "#s2 = student(89,67,45)\n",
    "\n",
    "#print(s1.avg()) \n",
    "#print(s2.avg())# instance method\n",
    "\n",
    "\n",
    "print(student.getschool())   # class method \n",
    "#print(s1.info()) # static method\n",
    "\n"
   ]
  },
  {
   "cell_type": "code",
   "execution_count": null,
   "id": "7f58c74e",
   "metadata": {},
   "outputs": [
    {
     "name": "stdout",
     "output_type": "stream",
     "text": [
      "this is student class \n",
      "None\n"
     ]
    }
   ],
   "source": [
    "\n",
    "class student():\n",
    "    \n",
    "    #school = \"nit\"\n",
    "    \n",
    "   # def __init__(self, m1, m2, m3):  #  here i pass a 3 variable\n",
    "    #    self.m1 = m1\n",
    "     #   self.m2 = m2\n",
    "      #  self.m3 = m3   \n",
    "        \n",
    "    # lets create a method to calculate avg of the  marks\n",
    "    def avg(self):  # here avg is instance method\n",
    "        return(self.m1 + self.m2 + self.m3) / 3\n",
    "    \n",
    "#    @classmethod\n",
    " #   def getschool (cls):\n",
    "  #      return cls.school\n",
    "    \n",
    "    @staticmethod\n",
    "    def info():\n",
    "        print(\"this is student class \")\n",
    "    \n",
    "    \n",
    "#s1 = student(34,56,78)\n",
    "#s2 = student(89,67,45)\n",
    "\n",
    "#print(s1.avg()) \n",
    "#print(s2.avg())# instance method\n",
    "\n",
    "\n",
    "#print(s1.getschool())   # class method \n",
    "print(s1.info()) # static method\n",
    "\n"
   ]
  },
  {
   "cell_type": "code",
   "execution_count": null,
   "id": "787c5353",
   "metadata": {},
   "outputs": [
    {
     "name": "stdout",
     "output_type": "stream",
     "text": [
      "56.0\n",
      "67.0\n",
      "nit\n",
      "this is student class \n",
      "None\n"
     ]
    }
   ],
   "source": [
    "\n",
    "class student():\n",
    "    \n",
    "    school = \"nit\"\n",
    "    \n",
    "    def __init__(self, m1, m2, m3):  #  here i pass a 3 variable\n",
    "        self.m1 = m1\n",
    "        self.m2 = m2\n",
    "        self.m3 = m3   \n",
    "        \n",
    "    # lets create a method to calculate avg of the  marks\n",
    "    def avg(self):  # here avg is instance method\n",
    "        return(self.m1 + self.m2 + self.m3) / 3\n",
    "    \n",
    "    @classmethod\n",
    "    def getschool (cls):\n",
    "        return cls.school\n",
    "    \n",
    "    @staticmethod\n",
    "    def info():\n",
    "        print(\"this is student class \")\n",
    "    \n",
    "    \n",
    "s1 = student(34,56,78)\n",
    "s2 = student(89,67,45)\n",
    "\n",
    "print(s1.avg()) \n",
    "print(s2.avg())# instance method\n",
    "\n",
    "\n",
    "print(s1.getschool())   # class method \n",
    "print(s1.info()) # static method\n",
    "\n"
   ]
  },
  {
   "cell_type": "markdown",
   "id": "f5c3471b",
   "metadata": {},
   "source": [
    " - Encapsulation completed\n"
   ]
  },
  {
   "cell_type": "markdown",
   "id": "ec1a2d23",
   "metadata": {},
   "source": [
    "## class,object, Encapsulation method\n",
    "- inner class (  class inside the inner  class)"
   ]
  },
  {
   "cell_type": "code",
   "execution_count": null,
   "id": "0157ad49",
   "metadata": {},
   "outputs": [
    {
     "name": "stdout",
     "output_type": "stream",
     "text": [
      "Ashok 10\n",
      "Ravi 11\n"
     ]
    }
   ],
   "source": [
    "# inner class ( class inside the inner  class)\n",
    "class student():\n",
    "    def __init__(self, name, rollno):\n",
    "        self.name = name\n",
    "        self.rollno = rollno    \n",
    "        \n",
    "s1 = student(\"Ashok\", 10)\n",
    "s2 = student(\"Ravi\", 11)\n",
    "\n",
    "print(s1.name, s1.rollno)\n",
    "print(s2.name, s2.rollno)\n"
   ]
  },
  {
   "cell_type": "code",
   "execution_count": null,
   "id": "a3931177",
   "metadata": {},
   "outputs": [
    {
     "name": "stdout",
     "output_type": "stream",
     "text": [
      "Ashok 10\n",
      "Ravi 11\n"
     ]
    }
   ],
   "source": [
    "# inner class ( class inside the inner  class)\n",
    "\n",
    "class student():\n",
    "    def __init__(self, name, rollno):\n",
    "        self.name = name\n",
    "        self.rollno = rollno   \n",
    "        \n",
    "    def show(self):\n",
    "        print(s1.name, s1.rollno)\n",
    "        print(s2.name, s2.rollno)\n",
    "\n",
    "        \n",
    "s1 = student(\"Ashok\", 10)\n",
    "s2 = student(\"Ravi\", 11)\n",
    "\n",
    "s1.show()\n"
   ]
  },
  {
   "cell_type": "code",
   "execution_count": null,
   "id": "e1912826",
   "metadata": {},
   "outputs": [],
   "source": [
    "\n",
    "# inner class ( class inside the inner  class)\n",
    "\n",
    "class student():\n",
    "    def __init__(self, name, rollno):\n",
    "        self.name = name\n",
    "        self.rollno = rollno   \n",
    "        \n",
    "    def show(self):\n",
    "        print(s1.name, s1.rollno)\n",
    "        print(s2.name, s2.rollno)\n",
    "\n",
    "        \n",
    "s1 = student(\"Ashok\", 10)\n",
    "s2 = student(\"Ravi\", 11)\n",
    "\n",
    "#s1.show()\n",
    "#s2.show()"
   ]
  },
  {
   "cell_type": "code",
   "execution_count": null,
   "id": "69741293",
   "metadata": {},
   "outputs": [
    {
     "name": "stdout",
     "output_type": "stream",
     "text": [
      "Ashok 10\n"
     ]
    }
   ],
   "source": [
    "# inner class ( class inside the inner  class)\n",
    "\n",
    "class student():\n",
    "    def __init__(self, name, rollno):\n",
    "        self.name = name\n",
    "        self.rollno = rollno   \n",
    "        \n",
    "    def show(self):\n",
    "        print(self.name, self.rollno)\n",
    "\n",
    "        \n",
    "s1 = student(\"Ashok\", 10)\n",
    "s2 = student(\"Ravi\", 11)\n",
    "\n",
    "s1.show()\n",
    "\n"
   ]
  },
  {
   "cell_type": "code",
   "execution_count": null,
   "id": "78afcfc8",
   "metadata": {},
   "outputs": [
    {
     "ename": "TypeError",
     "evalue": "student.__init__() takes 3 positional arguments but 5 were given",
     "output_type": "error",
     "traceback": [
      "\u001b[1;31m---------------------------------------------------------------------------\u001b[0m",
      "\u001b[1;31mTypeError\u001b[0m                                 Traceback (most recent call last)",
      "Cell \u001b[1;32mIn[56], line 12\u001b[0m\n\u001b[0;32m      8\u001b[0m     \u001b[38;5;28;01mdef\u001b[39;00m \u001b[38;5;21mshow\u001b[39m(\u001b[38;5;28mself\u001b[39m):\n\u001b[0;32m      9\u001b[0m         \u001b[38;5;28mprint\u001b[39m(\u001b[38;5;28mself\u001b[39m\u001b[38;5;241m.\u001b[39mname, \u001b[38;5;28mself\u001b[39m\u001b[38;5;241m.\u001b[39mrollno)\n\u001b[1;32m---> 12\u001b[0m s1 \u001b[38;5;241m=\u001b[39m student(\u001b[38;5;124m\"\u001b[39m\u001b[38;5;124mAshok\u001b[39m\u001b[38;5;124m\"\u001b[39m, \u001b[38;5;241m10\u001b[39m,\u001b[38;5;124m'\u001b[39m\u001b[38;5;124mhistory\u001b[39m\u001b[38;5;124m'\u001b[39m,\u001b[38;5;124m'\u001b[39m\u001b[38;5;124mgeography\u001b[39m\u001b[38;5;124m'\u001b[39m)\n\u001b[0;32m     13\u001b[0m s2 \u001b[38;5;241m=\u001b[39m student(\u001b[38;5;124m\"\u001b[39m\u001b[38;5;124mRavi\u001b[39m\u001b[38;5;124m\"\u001b[39m, \u001b[38;5;241m11\u001b[39m)\n\u001b[0;32m     15\u001b[0m s1\u001b[38;5;241m.\u001b[39mshow()\n",
      "\u001b[1;31mTypeError\u001b[0m: student.__init__() takes 3 positional arguments but 5 were given"
     ]
    }
   ],
   "source": [
    "# inner class ( class inside the inner  class)\n",
    "\n",
    "class student():\n",
    "    def __init__(self, name, rollno):\n",
    "        self.name = name\n",
    "        self.rollno = rollno   \n",
    "        \n",
    "    def show(self):\n",
    "        print(self.name, self.rollno)\n",
    "\n",
    "        \n",
    "s1 = student(\"Ashok\", 10,'history','geography')\n",
    "s2 = student(\"Ravi\", 11)\n",
    "\n",
    "s1.show()\n"
   ]
  },
  {
   "cell_type": "code",
   "execution_count": null,
   "id": "e3c66e87",
   "metadata": {},
   "outputs": [
    {
     "name": "stdout",
     "output_type": "stream",
     "text": [
      "Ashok 10 history geography\n",
      "Ravi 11 maths science\n"
     ]
    }
   ],
   "source": [
    "# inner class ( class inside the inner  class)\n",
    "\n",
    "class student():\n",
    "    def __init__(self, name, rollno,sub,sub2):\n",
    "        self.name = name\n",
    "        self.rollno = rollno   \n",
    "        self.sub = sub\n",
    "        self.sub2 = sub2\n",
    "        \n",
    "    def show(self):\n",
    "        print(self.name, self.rollno, self.sub, self.sub2)\n",
    "\n",
    "        \n",
    "s1 = student(\"Ashok\", 10,'history','geography')\n",
    "s2 = student(\"Ravi\", 11, 'maths','science')\n",
    "\n",
    "s1.show()\n",
    "s2.show()\n"
   ]
  },
  {
   "cell_type": "code",
   "execution_count": null,
   "id": "74ab9d8c",
   "metadata": {},
   "outputs": [
    {
     "name": "stdout",
     "output_type": "stream",
     "text": [
      "Ashok 10\n",
      "Ravi 11\n"
     ]
    }
   ],
   "source": [
    "class student():\n",
    "    \n",
    "    def __init__(self,name, rollno):\n",
    "        self.name = name\n",
    "        self.rollno = rollno\n",
    "    \n",
    "        #self.LAPTOP = LAPTOP\n",
    "    \n",
    "    def show(self):\n",
    "        print(self.name, self.rollno)\n",
    "    \n",
    "        \n",
    "    class LAPTOP():\n",
    "        def __init__(self):\n",
    "            self.brand = 'hp'\n",
    "            self.cpu = 'i5'\n",
    "            self.ram = 8    \n",
    "            \n",
    "s1=student(\"Ashok\", 10)\n",
    "s2=student(\"Ravi\", 11)\n",
    "\n",
    "s1.show()\n",
    "s2.show()\n",
    "\n",
    "\n",
    "#lap1 = s1.lap\n",
    "#lap2 = s2.lap\n",
    "\n",
    "#print(id(lap1))\n",
    "#print(id(lap2))\n",
    "        "
   ]
  },
  {
   "cell_type": "code",
   "execution_count": null,
   "id": "8c123674",
   "metadata": {},
   "outputs": [
    {
     "name": "stdout",
     "output_type": "stream",
     "text": [
      "Ashok 10\n",
      "Ravi 11\n"
     ]
    }
   ],
   "source": [
    "class student():\n",
    "    \n",
    "    def __init__(self,name, rollno):\n",
    "        self.name = name\n",
    "        self.rollno = rollno\n",
    "    \n",
    "        #self.LAPTOP = LAPTOP\n",
    "    \n",
    "    def show(self):\n",
    "        print(self.name, self.rollno)\n",
    "    \n",
    "        \n",
    "    class LAPTOP():\n",
    "        def __init__(self):\n",
    "            self.brand = 'hp'\n",
    "            self.cpu = 'i5'\n",
    "            self.ram = 8    \n",
    "            \n",
    "s1=student(\"Ashok\", 10)\n",
    "s2=student(\"Ravi\", 11)\n",
    "\n",
    "s1.show()\n",
    "s2.show()\n",
    "\n",
    "\n",
    "lap1 = s1.LAPTOP()\n",
    "lap2 = s2.LAPTOP()\n",
    "\n",
    "#print(id(lap1))\n",
    "#print(id(lap2))\n",
    "        "
   ]
  },
  {
   "cell_type": "code",
   "execution_count": null,
   "id": "40fe225d",
   "metadata": {},
   "outputs": [
    {
     "name": "stdout",
     "output_type": "stream",
     "text": [
      "Ashok 10\n",
      "Ravi 11\n"
     ]
    }
   ],
   "source": [
    "class student():\n",
    "    \n",
    "    def __init__(self,name, rollno):\n",
    "        self.name = name\n",
    "        self.rollno = rollno\n",
    "    \n",
    "        self.lap = self.LAPTOP()\n",
    "    \n",
    "    def show(self):\n",
    "        print(self.name, self.rollno)\n",
    "    \n",
    "    class LAPTOP():\n",
    "        def __init__(self):\n",
    "            self.brand = 'hp'\n",
    "            self.cpu = 'i5'\n",
    "            self.ram = 8    \n",
    "            \n",
    "s1=student(\"Ashok\", 10)\n",
    "s2=student(\"Ravi\", 11)\n",
    "\n",
    "s1.show()\n",
    "s2.show()\n",
    "\n",
    "\n",
    "lap1 = s1.LAPTOP()\n",
    "lap2 = s2.LAPTOP()\n",
    "\n",
    "#print(id(lap1))\n",
    "#print(id(lap2))\n",
    "        "
   ]
  },
  {
   "cell_type": "code",
   "execution_count": null,
   "id": "b3abeb90",
   "metadata": {},
   "outputs": [
    {
     "name": "stdout",
     "output_type": "stream",
     "text": [
      "Ashok 10\n",
      "Ravi 11\n",
      "1678617262416\n",
      "1678614722416\n"
     ]
    }
   ],
   "source": [
    "class student():\n",
    "    \n",
    "    def __init__(self,name, rollno):\n",
    "        self.name = name\n",
    "        self.rollno = rollno\n",
    "    \n",
    "        self.lap = self.LAPTOP()\n",
    "    \n",
    "    def show(self):\n",
    "        print(self.name, self.rollno)\n",
    "    \n",
    "    class LAPTOP():\n",
    "        def __init__(self):\n",
    "            self.brand = 'hp'\n",
    "            self.cpu = 'i5'\n",
    "            self.ram = 8    \n",
    "            \n",
    "s1=student(\"Ashok\", 10)\n",
    "s2=student(\"Ravi\", 11)\n",
    "\n",
    "s1.show()\n",
    "s2.show()\n",
    "\n",
    "\n",
    "lap1 = s1.LAPTOP()\n",
    "lap2 = s2.LAPTOP()\n",
    "\n",
    "print(id(lap1))\n",
    "print(id(lap2))\n",
    "        "
   ]
  },
  {
   "cell_type": "markdown",
   "id": "bb6e6e68",
   "metadata": {},
   "source": [
    "## INHERITENCE"
   ]
  },
  {
   "cell_type": "code",
   "execution_count": null,
   "id": "561fd3c1",
   "metadata": {},
   "outputs": [
    {
     "name": "stdout",
     "output_type": "stream",
     "text": [
      "feature 1 is working\n",
      "feature 2 is working\n"
     ]
    }
   ],
   "source": [
    "\n",
    "# here we  create only parent class 'A' has 2 feature or methods -- feature 1 & feature 2\n",
    "class A():\n",
    "    def feature1(self):\n",
    "        print(\"feature 1 is working\")\n",
    "    def feature2(self):\n",
    "        print(\"feature 2 is working\")\n",
    "        \n",
    "a1 = A()\n",
    "\n",
    "a1.feature1()\n",
    "a1.feature2()"
   ]
  },
  {
   "cell_type": "code",
   "execution_count": null,
   "id": "29800c8d",
   "metadata": {},
   "outputs": [
    {
     "ename": "SyntaxError",
     "evalue": "invalid syntax (2029563124.py, line 11)",
     "output_type": "error",
     "traceback": [
      "\u001b[1;36m  Cell \u001b[1;32mIn[84], line 11\u001b[1;36m\u001b[0m\n\u001b[1;33m    a1.\u001b[0m\n\u001b[1;37m       ^\u001b[0m\n\u001b[1;31mSyntaxError\u001b[0m\u001b[1;31m:\u001b[0m invalid syntax\n"
     ]
    }
   ],
   "source": [
    "# here we  create only parent class 'A' has 2 feature or methods -- feature 1 & feature 2\n",
    "class A():\n",
    "    def feature1(self):      \n",
    "        print(\"feature 1 is working\")\n",
    "    def feature2(self):\n",
    "        print(\"feature 2 is working\")\n",
    "\n",
    "   \n",
    "a1 = A()  \n",
    "\n",
    "a1.\n"
   ]
  },
  {
   "cell_type": "markdown",
   "id": "d2425da0",
   "metadata": {},
   "source": [
    "- 1. Inheritence"
   ]
  },
  {
   "cell_type": "code",
   "execution_count": null,
   "id": "6ea06e77",
   "metadata": {},
   "outputs": [],
   "source": [
    "# here we create two class A & B\n",
    "\n",
    "\n",
    "class A() :  # parent class | super class \n",
    "    def feature1(self):         \n",
    "        print('feature1 is hi')\n",
    "    def feature2(self):\n",
    "        print('feature2 is hi')\n",
    "\n",
    "class B(A): # child class || subclass\n",
    "    def feature3(self):         \n",
    "        print('feature3 is hallo')\n",
    "    def feature4(self):\n",
    "        print('feature4 is hallo')\n",
    "\n",
    "\n",
    "    b1 = B()\n",
    "    b1.\n",
    "\n",
    "# why error because a1 is object of class A & class A as parentclass or (no feature3 & feature4}"
   ]
  },
  {
   "cell_type": "code",
   "execution_count": null,
   "id": "1ca0a362",
   "metadata": {},
   "outputs": [
    {
     "name": "stdout",
     "output_type": "stream",
     "text": [
      "feature1 is hi\n",
      "feature2 is hi\n",
      "feature3 is hallo\n",
      "feature4 is hallo\n"
     ]
    }
   ],
   "source": [
    "\n",
    "\n",
    "class A() :  # parent class | super class \n",
    "    def feature1(self):        \n",
    "        print('feature1 is hi')\n",
    "    def feature2(self):\n",
    "        print('feature2 is hi')\n",
    "\n",
    "class B(A): # child class || subclass\n",
    "    def feature3(self):         \n",
    "        print('feature3 is hallo')\n",
    "    def feature4(self):\n",
    "        print('feature4 is hallo')\n",
    "        \n",
    "\n",
    "a1 = B() \n",
    "a1.\n",
    "\n",
    "# but here output is fine because a1 is object of class B & class B as childclass or subclass"
   ]
  },
  {
   "cell_type": "markdown",
   "id": "da992299",
   "metadata": {},
   "source": [
    "- 2. Multipleple inheritence"
   ]
  },
  {
   "cell_type": "code",
   "execution_count": null,
   "id": "44283526",
   "metadata": {},
   "outputs": [
    {
     "ename": "SyntaxError",
     "evalue": "invalid syntax (1027523957.py, line 18)",
     "output_type": "error",
     "traceback": [
      "\u001b[1;36m  Cell \u001b[1;32mIn[120], line 18\u001b[1;36m\u001b[0m\n\u001b[1;33m    a1.\u001b[0m\n\u001b[1;37m       ^\u001b[0m\n\u001b[1;31mSyntaxError\u001b[0m\u001b[1;31m:\u001b[0m invalid syntax\n"
     ]
    }
   ],
   "source": [
    "\n",
    "\n",
    "class A() :  # grandps class | super class \n",
    "    def feature1(self):        \n",
    "        print('feature1 is hi')\n",
    "    def feature2(self):\n",
    "        print('feature2 is hi')\n",
    "\n",
    "class B(A): # parent class || subclass\n",
    "    def feature3(self):         \n",
    "        print('feature3 is hallo')\n",
    "    def feature4(self):\n",
    "        print('feature4 is hallo')\n",
    "        \n",
    "class C(A,B):   # child  || independent class\n",
    "    def feature5(self):\n",
    "        print('feature5 is Bye')\n",
    "        \n",
    "a1 = C()\n",
    "a1.\n",
    "\n",
    "b1 = B()\n",
    "b1.\n",
    "\n",
    "c1 = A()\n",
    "c1."
   ]
  },
  {
   "cell_type": "markdown",
   "id": "173ec773",
   "metadata": {},
   "source": [
    "- CONESTRACTOR IN ENHERITENCCE"
   ]
  },
  {
   "cell_type": "code",
   "execution_count": null,
   "id": "026503ea",
   "metadata": {},
   "outputs": [],
   "source": [
    "\n",
    "\n",
    "class A() :   # parent class | super class\n",
    "    def feature1(self):        \n",
    "        print('feature1 is hi')\n",
    "    def feature2(self):\n",
    "        print('feature2 is hi')\n",
    "\n",
    "class B(A): # child class || subclass\n",
    "    def feature3(self):         \n",
    "        print('feature3 is hallo')\n",
    "    def feature4(self):\n",
    "        print('feature4 is hallo')\n",
    "        \n",
    "a1 = A()"
   ]
  },
  {
   "cell_type": "code",
   "execution_count": null,
   "id": "5184c4ae",
   "metadata": {},
   "outputs": [
    {
     "name": "stdout",
     "output_type": "stream",
     "text": [
      "in A init\n"
     ]
    }
   ],
   "source": [
    "\n",
    "\n",
    "class A() :  # grandps class | super class \n",
    "    def __init__(self):\n",
    "        print(\"in A init\")  \n",
    "    def feature1(self):        \n",
    "        print('feature1 is hi')\n",
    "    def feature2(self):\n",
    "        print('feature2 is hi')\n",
    "\n",
    "class B(A): # parent class || subclass\n",
    "    def feature3(self):         \n",
    "        print('feature3 is hallo')\n",
    "    def feature4(self):\n",
    "        print('feature4 is hallo')\n",
    "        \n",
    "a1 = B()\n",
    "\n",
    "#b1 = A()\n"
   ]
  },
  {
   "cell_type": "code",
   "execution_count": null,
   "id": "7badba36",
   "metadata": {},
   "outputs": [
    {
     "name": "stdout",
     "output_type": "stream",
     "text": [
      "in A init\n",
      "in A init\n"
     ]
    }
   ],
   "source": [
    "\n",
    "\n",
    "class A() :  # parent  class | super class \n",
    "    def __init__(self):\n",
    "        print(\"in A init\")  \n",
    "    def feature1(self):        \n",
    "        print('feature1 is hi')\n",
    "    def feature2(self):\n",
    "        print('feature2 is hi')\n",
    "\n",
    "class B(A): # child class || subclass\n",
    "    def feature3(self):         \n",
    "        print('feature3 is hallo')\n",
    "    def feature4(self):\n",
    "        print('feature4 is hallo')\n",
    "        \n",
    "a1 = B()\n",
    "\n",
    "b1 = A()\n"
   ]
  },
  {
   "cell_type": "code",
   "execution_count": null,
   "id": "4c109820",
   "metadata": {},
   "outputs": [
    {
     "name": "stdout",
     "output_type": "stream",
     "text": [
      "in B init\n",
      "in A init\n"
     ]
    }
   ],
   "source": [
    "\n",
    "\n",
    "class A() :  # parent  class | super class \n",
    "    def __init__(self):    # here we call a constructor\n",
    "        print(\"in A init\")  \n",
    "    def feature1(self):        \n",
    "        print('feature1 is hi')\n",
    "    def feature2(self):\n",
    "        print('feature2 is hi')\n",
    "\n",
    "class B(A): # child class || subclass\n",
    "    \n",
    "    def __init__(self):  # here we  allso call a constructor\n",
    "        print(\"in B init\")\n",
    "    def feature3(self):         \n",
    "        print('feature3 is hallo')\n",
    "    def feature4(self):\n",
    "        print('feature4 is hallo')\n",
    "        \n",
    "a1 = B()\n",
    "b1 = A()"
   ]
  },
  {
   "cell_type": "code",
   "execution_count": null,
   "id": "f23d94e9",
   "metadata": {},
   "outputs": [
    {
     "name": "stdout",
     "output_type": "stream",
     "text": [
      "in A init\n"
     ]
    }
   ],
   "source": [
    "\n",
    "\n",
    "class A() :  # parent  class | super class \n",
    "    def __init__(self):    # here we call a constructor\n",
    "        print(\"in A init\")  \n",
    "    def feature1(self):        \n",
    "        print('feature1 is hi')\n",
    "    def feature2(self):\n",
    "        print('feature2 is hi')\n",
    "\n",
    "class B(A): # child class || subclass\n",
    "    \n",
    "    def __init__(self):  # here we  allso call a constructor\n",
    "        super().__init__()  # to call parent class constructor\n",
    "        print(\"in B init\")\n",
    "    def feature3(self):         \n",
    "        print('feature3 is hallo')\n",
    "    def feature4(self):\n",
    "        print('feature4 is hallo')\n",
    "        \n",
    "#a1 = B()\n",
    "b1 = A()"
   ]
  },
  {
   "cell_type": "code",
   "execution_count": null,
   "id": "1175755d",
   "metadata": {},
   "outputs": [
    {
     "name": "stdout",
     "output_type": "stream",
     "text": [
      "in C init\n"
     ]
    }
   ],
   "source": [
    "\n",
    "\n",
    "class A() :  # parent  class | super class \n",
    "    def __init__(self):    # here we call a constructor\n",
    "        print(\"in A init\")  \n",
    "    def feature1(self):        \n",
    "        print('feature1 is hi')\n",
    "    def feature2(self):\n",
    "        print('feature2 is hi')\n",
    "\n",
    "class B(): # child class || subclass\n",
    "    \n",
    "    def __init__(self):  # here we  allso call a constructor\n",
    "        print(\"in B init\")\n",
    "    def feature3(self):         \n",
    "        print('feature3 is hallo')\n",
    "    def feature4(self):\n",
    "        print('feature4 is hallo')\n",
    "        \n",
    "class C(A,B):   # child  || independent class\n",
    "    def __init__(self):\n",
    "        print(\"in C init\")\n",
    "        \n",
    "#a1 = B()\n",
    "\n",
    "#b1 = A()\n",
    "\n",
    "c1 = C()"
   ]
  },
  {
   "cell_type": "code",
   "execution_count": null,
   "id": "592decdf",
   "metadata": {},
   "outputs": [
    {
     "name": "stdout",
     "output_type": "stream",
     "text": [
      "in A init\n",
      "in C init\n"
     ]
    }
   ],
   "source": [
    "\n",
    "\n",
    "class A() :  # parent  class | super class \n",
    "    def __init__(self):    # here we call a constructor\n",
    "        print(\"in A init\")  \n",
    "    def feature1(self):        \n",
    "        print('feature1 is hi')\n",
    "    def feature2(self):\n",
    "        print('feature2 is hi')\n",
    "\n",
    "class B(): # child class || subclass\n",
    "    \n",
    "    def __init__(self):  # here we  allso call a constructor\n",
    "        print(\"in B init\")\n",
    "    def feature3(self):         \n",
    "        print('feature3 is hallo')\n",
    "    def feature4(self):\n",
    "        print('feature4 is hallo')\n",
    "        \n",
    "class C(A,B):   # child  || independent class\n",
    "    def __init__(self):\n",
    "        super().__init__()\n",
    "        print(\"in C init\")\n",
    "        \n",
    "#a1 = B()\n",
    "\n",
    "#b1 = A()\n",
    "\n",
    "c1 = C()"
   ]
  },
  {
   "cell_type": "code",
   "execution_count": null,
   "id": "e641c650",
   "metadata": {},
   "outputs": [
    {
     "name": "stdout",
     "output_type": "stream",
     "text": [
      "in A init\n",
      "in D init\n"
     ]
    }
   ],
   "source": [
    "\n",
    "\n",
    "class A() :  # parent  class | super class \n",
    "    def __init__(self):    # here we call a constructor\n",
    "        print(\"in A init\")  \n",
    "    def feature1(self):        \n",
    "        print('feature1 is hi')\n",
    "    def feature2(self):\n",
    "        print('feature2 is hi')\n",
    "\n",
    "class B(): # child class || subclass\n",
    "    \n",
    "    def __init__(self):  # here we  allso call a constructor\n",
    "        print(\"in B init\")\n",
    "    def feature3(self):         \n",
    "        print('feature3 is hallo')\n",
    "    def feature4(self):\n",
    "        print('feature4 is hallo')\n",
    "        \n",
    "class C():   # child  || independent class\n",
    "    def __init__(self):\n",
    "        print(\"in C init\")\n",
    "        \n",
    "class D(A,B,C):\n",
    "    def __init__(self):\n",
    "        super().__init__()  # to represent super class we use the super method()\n",
    "        print(\"in D init\")\n",
    "        \n",
    "#a1 = B()\n",
    "\n",
    "#b1 = A()\n",
    "\n",
    "c1 = D()"
   ]
  },
  {
   "cell_type": "markdown",
   "id": "8ec8f3b6",
   "metadata": {},
   "source": [
    "## Polymorphism\n",
    "1. Duck Typing\n",
    "2. Operator Overloading\n",
    "3. Method Overloading\n",
    "4. Method Overriding"
   ]
  },
  {
   "cell_type": "code",
   "execution_count": null,
   "id": "1c29f694",
   "metadata": {},
   "outputs": [
    {
     "name": "stdout",
     "output_type": "stream",
     "text": [
      "i am duck & i can swim\n",
      "quack quack\n"
     ]
    }
   ],
   "source": [
    "class duck:\n",
    "    def swim(self):\n",
    "        print('i am duck & i can swim')\n",
    "    def speaks(self):\n",
    "        print('quack quack')\n",
    "\n",
    "class dog:\n",
    "    def swim(self):\n",
    "        print('i am dog & i can swim')\n",
    "    def speaks(self):\n",
    "        print('woof woof')\n",
    "\n",
    "\n",
    "def display(duck): # we define outside of the class\n",
    "    duck.swim()\n",
    "    duck.speaks()\n",
    "    #print('informatation')\n",
    "\n",
    "d = duck()\n",
    "display(d)       \n",
    "    "
   ]
  },
  {
   "cell_type": "code",
   "execution_count": null,
   "id": "520392af",
   "metadata": {},
   "outputs": [
    {
     "name": "stdout",
     "output_type": "stream",
     "text": [
      "i am dog & i can swim\n",
      "woof woof\n"
     ]
    }
   ],
   "source": [
    "class duck:\n",
    "    def swim(self):\n",
    "        print('i am duck & i can swim')\n",
    "    def speaks(self):\n",
    "        print('quack quack')\n",
    "\n",
    "class dog:\n",
    "    def swim(self):\n",
    "        print('i am dog & i can swim')\n",
    "    def speaks(self):\n",
    "        print('woof woof')\n",
    "\n",
    "\n",
    "def display(duck): # we define outside of the class\n",
    "    duck.swim()\n",
    "    duck.speaks()\n",
    "    #print('informatation')\n",
    "\n",
    "d = duck()\n",
    "dg = dog()\n",
    "display(dg)       "
   ]
  },
  {
   "cell_type": "code",
   "execution_count": null,
   "id": "20525f37",
   "metadata": {},
   "outputs": [
    {
     "name": "stdout",
     "output_type": "stream",
     "text": [
      "i am person & i can swim\n",
      "hello\n"
     ]
    }
   ],
   "source": [
    "class duck:\n",
    "    def swim(self):\n",
    "        print('i am duck & i can swim')\n",
    "    def speaks(self):\n",
    "        print('quack quack')\n",
    "\n",
    "class dog:\n",
    "    def swim(self):\n",
    "        print('i am dog & i can swim')\n",
    "    def speaks(self):\n",
    "        print('woof woof')\n",
    "        \n",
    "class person:\n",
    "   # def swim(self):\n",
    "    #    print('i am person & i can swim')\n",
    "    def speaks(self):\n",
    "        print('hello')\n",
    "\n",
    "\n",
    "def display(obj): # we define outside of the class\n",
    "    obj.swim()\n",
    "    obj.speaks()\n",
    "    \n",
    "    \n",
    "\n",
    "d = duck()\n",
    "dg = dog()\n",
    "p = person()\n",
    "#display(dg)\n",
    "#display(d)\n",
    "display(p)       "
   ]
  },
  {
   "cell_type": "code",
   "execution_count": null,
   "id": "302e650d",
   "metadata": {},
   "outputs": [],
   "source": [
    "class computer:\n",
    "    def code(self,ide):\n",
    "        ide.execute()"
   ]
  },
  {
   "cell_type": "code",
   "execution_count": null,
   "id": "65ad3613",
   "metadata": {},
   "outputs": [],
   "source": [
    "\n",
    "class jupyter():\n",
    "    def execute(self):\n",
    "        print('compiling')\n",
    "        print('running')\n",
    "        \n",
    "class laptop():\n",
    "    def code(self,ide):\n",
    "        ide.execute()\n",
    "        "
   ]
  },
  {
   "cell_type": "code",
   "execution_count": null,
   "id": "62bf1f1b",
   "metadata": {},
   "outputs": [
    {
     "name": "stdout",
     "output_type": "stream",
     "text": [
      "compiling\n",
      "running\n"
     ]
    }
   ],
   "source": [
    "\n",
    "class jupyter():\n",
    "    def execute(self):\n",
    "        print('compiling')\n",
    "        print('running')\n",
    "        \n",
    "class laptop():\n",
    "    def code(self,ide):\n",
    "        ide.execute()\n",
    "        \n",
    "ide = jupyter()\n",
    "lap1 = laptop()\n",
    "\n",
    "lap1.code(ide)"
   ]
  },
  {
   "cell_type": "code",
   "execution_count": null,
   "id": "1d816420",
   "metadata": {},
   "outputs": [
    {
     "name": "stdout",
     "output_type": "stream",
     "text": [
      "spell check\n",
      "other check\n",
      "compiling\n",
      "running\n"
     ]
    }
   ],
   "source": [
    "# can we change the ide type latter\n",
    "class jupyter():\n",
    "    def execute(self):\n",
    "        print('compiling')\n",
    "        print('running')\n",
    "        \n",
    "class spyder:\n",
    "    def execute(self):\n",
    "        print('spell check')\n",
    "        print('other check')\n",
    "        print('compiling')\n",
    "        print('running')\n",
    "    \n",
    "class laptop():\n",
    "    def code(self,ide):\n",
    "        ide.execute()        \n",
    "ide = spyder()\n",
    "lap1 = laptop()\n",
    "\n",
    "lap1.code(ide)"
   ]
  },
  {
   "cell_type": "code",
   "execution_count": null,
   "id": "dc2c1e36",
   "metadata": {},
   "outputs": [
    {
     "name": "stdout",
     "output_type": "stream",
     "text": [
      "Woof Woof\n",
      "Meow Meow\n",
      "Quack Quack\n"
     ]
    }
   ],
   "source": [
    "class dog(): \n",
    "    def speak(self):\n",
    "        return (\"Woof Woof\")\n",
    "class cat():\n",
    "    def speak(self):\n",
    "        return (\"Meow Meow\")\n",
    "        \n",
    "class duck():\n",
    "    def speak(self):\n",
    "        return (\"Quack Quack\")    \n",
    "\n",
    "def animal_sound(animal):# here we define a function\n",
    "    return animal.speak()\n",
    "\n",
    "d = dog()\n",
    "c = cat()   \n",
    "a = duck()\n",
    "print(animal_sound(d))\n",
    "print(animal_sound(c))\n",
    "print(animal_sound(a))"
   ]
  },
  {
   "cell_type": "markdown",
   "id": "a2c2624a",
   "metadata": {},
   "source": [
    "## operator overloading in python \n"
   ]
  },
  {
   "cell_type": "code",
   "execution_count": null,
   "id": "8e18aafb",
   "metadata": {},
   "outputs": [
    {
     "name": "stdout",
     "output_type": "stream",
     "text": [
      "5\n",
      "15\n",
      "30\n"
     ]
    }
   ],
   "source": [
    "class Mathoperations():\n",
    "    def add (self, a, b=0, c=0):\n",
    "        return a + b + c\n",
    "    \n",
    "obj = Mathoperations()\n",
    "\n",
    "print(obj.add(5))\n",
    "print(obj.add(5,10))\n",
    "print(obj.add(5,10,15))"
   ]
  },
  {
   "cell_type": "code",
   "execution_count": null,
   "id": "a440579a",
   "metadata": {},
   "outputs": [
    {
     "name": "stdout",
     "output_type": "stream",
     "text": [
      "5\n",
      "15\n",
      "30\n"
     ]
    }
   ],
   "source": [
    "class Mathoperations():\n",
    "    def add (self,* args):\n",
    "        return sum(args)\n",
    "    \n",
    "obj = Mathoperations()\n",
    "\n",
    "print(obj.add(5))\n",
    "print(obj.add(5,10))\n",
    "print(obj.add(5,10,15))"
   ]
  },
  {
   "cell_type": "code",
   "execution_count": null,
   "id": "28bf2d99",
   "metadata": {},
   "outputs": [
    {
     "ename": "TypeError",
     "evalue": "unsupported operand type(s) for +: 'int' and 'str'",
     "output_type": "error",
     "traceback": [
      "\u001b[1;31m---------------------------------------------------------------------------\u001b[0m",
      "\u001b[1;31mTypeError\u001b[0m                                 Traceback (most recent call last)",
      "Cell \u001b[1;32mIn[179], line 3\u001b[0m\n\u001b[0;32m      1\u001b[0m a \u001b[38;5;241m=\u001b[39m \u001b[38;5;241m5\u001b[39m\n\u001b[0;32m      2\u001b[0m b \u001b[38;5;241m=\u001b[39m \u001b[38;5;124m'\u001b[39m\u001b[38;5;124mraju\u001b[39m\u001b[38;5;124m'\u001b[39m\n\u001b[1;32m----> 3\u001b[0m \u001b[38;5;28mprint\u001b[39m(a\u001b[38;5;241m+\u001b[39mb)\n",
      "\u001b[1;31mTypeError\u001b[0m: unsupported operand type(s) for +: 'int' and 'str'"
     ]
    }
   ],
   "source": [
    "a = 5\n",
    "b = 'raju'\n",
    "print(a+b)"
   ]
  },
  {
   "cell_type": "code",
   "execution_count": null,
   "id": "8e5e49ef",
   "metadata": {},
   "outputs": [
    {
     "name": "stdout",
     "output_type": "stream",
     "text": [
      "<class 'int'>\n",
      "11\n"
     ]
    }
   ],
   "source": [
    "a, b = 5, 6\n",
    "print (type(a))\n",
    "print(a + b)"
   ]
  },
  {
   "cell_type": "code",
   "execution_count": null,
   "id": "db908645",
   "metadata": {},
   "outputs": [
    {
     "data": {
      "text/plain": [
       "11"
      ]
     },
     "execution_count": 184,
     "metadata": {},
     "output_type": "execute_result"
    }
   ],
   "source": [
    "# here we use  magic mathod  \n",
    "int.__add__(a,b)\n"
   ]
  },
  {
   "cell_type": "code",
   "execution_count": null,
   "id": "c4d8dd19",
   "metadata": {},
   "outputs": [
    {
     "data": {
      "text/plain": [
       "-1"
      ]
     },
     "execution_count": 185,
     "metadata": {},
     "output_type": "execute_result"
    }
   ],
   "source": [
    "int.__sub__(a,b)"
   ]
  },
  {
   "cell_type": "code",
   "execution_count": null,
   "id": "edb54b8e",
   "metadata": {},
   "outputs": [
    {
     "data": {
      "text/plain": [
       "30"
      ]
     },
     "execution_count": 186,
     "metadata": {},
     "output_type": "execute_result"
    }
   ],
   "source": [
    "int.__mul__(a,b)"
   ]
  },
  {
   "cell_type": "code",
   "execution_count": null,
   "id": "b19fba44",
   "metadata": {},
   "outputs": [
    {
     "name": "stdout",
     "output_type": "stream",
     "text": [
      "<class 'int'>\n",
      "11\n",
      "11\n"
     ]
    }
   ],
   "source": [
    "a, b = 5, 6\n",
    "print(type(a))\n",
    "print (a+b)\n",
    "\n",
    "# when user enter the number behind the system understand as int class \n",
    "# internally system calls the below code as \n",
    "# int class & __add__ is method. you can add a+b or you can call the add methods from int class\n",
    "print(int.__add__(a,b))"
   ]
  },
  {
   "cell_type": "code",
   "execution_count": null,
   "id": "c2993cc5",
   "metadata": {},
   "outputs": [
    {
     "name": "stdout",
     "output_type": "stream",
     "text": [
      "78\n"
     ]
    }
   ],
   "source": [
    "c, d = '7', '8'\n",
    "print(c+d)"
   ]
  },
  {
   "cell_type": "code",
   "execution_count": null,
   "id": "eb67544e",
   "metadata": {},
   "outputs": [
    {
     "ename": "TypeError",
     "evalue": "descriptor '__sub__' requires a 'int' object but received a 'str'",
     "output_type": "error",
     "traceback": [
      "\u001b[1;31m---------------------------------------------------------------------------\u001b[0m",
      "\u001b[1;31mTypeError\u001b[0m                                 Traceback (most recent call last)",
      "Cell \u001b[1;32mIn[193], line 1\u001b[0m\n\u001b[1;32m----> 1\u001b[0m \u001b[38;5;28mprint\u001b[39m(\u001b[38;5;28mint\u001b[39m\u001b[38;5;241m.\u001b[39m\u001b[38;5;21m__sub__\u001b[39m(a,b))\n",
      "\u001b[1;31mTypeError\u001b[0m: descriptor '__sub__' requires a 'int' object but received a 'str'"
     ]
    }
   ],
   "source": [
    "print(int.__sub__(a,b))"
   ]
  },
  {
   "cell_type": "code",
   "execution_count": null,
   "id": "00ed6bc9",
   "metadata": {},
   "outputs": [
    {
     "ename": "TypeError",
     "evalue": "unsupported operand type(s) for +: 'student' and 'student'",
     "output_type": "error",
     "traceback": [
      "\u001b[1;31m---------------------------------------------------------------------------\u001b[0m",
      "\u001b[1;31mTypeError\u001b[0m                                 Traceback (most recent call last)",
      "Cell \u001b[1;32mIn[204], line 9\u001b[0m\n\u001b[0;32m      6\u001b[0m s1 \u001b[38;5;241m=\u001b[39m student(\u001b[38;5;241m30\u001b[39m,\u001b[38;5;241m50\u001b[39m)\n\u001b[0;32m      7\u001b[0m s2 \u001b[38;5;241m=\u001b[39m student(\u001b[38;5;241m80\u001b[39m,\u001b[38;5;241m90\u001b[39m)\n\u001b[1;32m----> 9\u001b[0m s3 \u001b[38;5;241m=\u001b[39m s1 \u001b[38;5;241m+\u001b[39m s2\n",
      "\u001b[1;31mTypeError\u001b[0m: unsupported operand type(s) for +: 'student' and 'student'"
     ]
    }
   ],
   "source": [
    "class student():\n",
    "    def __init__(self,m1,m2):\n",
    "        self.m1 = m1\n",
    "        self.m2 = m2\n",
    "        \n",
    "s1 = student(30,50)\n",
    "s2 = student(80,90)\n",
    "\n",
    "s3 = s1 + s2"
   ]
  },
  {
   "cell_type": "code",
   "execution_count": null,
   "id": "5f29d9d7",
   "metadata": {},
   "outputs": [
    {
     "name": "stdout",
     "output_type": "stream",
     "text": [
      "110\n",
      "140\n"
     ]
    }
   ],
   "source": [
    "class student():\n",
    "    def __init__(self,m1,m2):\n",
    "        self.m1 = m1\n",
    "        self.m2 = m2\n",
    "        \n",
    "    def __add__(self,other):  # here we overload the add method\n",
    "        m1 = self.m1 + other.m1\n",
    "        m2 = self.m2 + other.m2\n",
    "        s3 = student(m1,m2)\n",
    "        return s3\n",
    "s1 = student(30,50)\n",
    "s2 = student(80,90)\n",
    "\n",
    "s3 = s1 + s2\n",
    "print(s3.m1)\n",
    "print(s3.m2)"
   ]
  },
  {
   "cell_type": "code",
   "execution_count": null,
   "id": "55d657e8",
   "metadata": {},
   "outputs": [
    {
     "ename": "TypeError",
     "evalue": "'>' not supported between instances of 'student' and 'student'",
     "output_type": "error",
     "traceback": [
      "\u001b[1;31m---------------------------------------------------------------------------\u001b[0m",
      "\u001b[1;31mTypeError\u001b[0m                                 Traceback (most recent call last)",
      "Cell \u001b[1;32mIn[3], line 18\u001b[0m\n\u001b[0;32m     16\u001b[0m s3 \u001b[38;5;241m=\u001b[39m s1 \u001b[38;5;241m+\u001b[39m s2 \n\u001b[0;32m     17\u001b[0m \u001b[38;5;66;03m#we can also compare 2 object are > or less then \u001b[39;00m\n\u001b[1;32m---> 18\u001b[0m \u001b[38;5;28;01mif\u001b[39;00m s1\u001b[38;5;241m>\u001b[39ms2:\n\u001b[0;32m     19\u001b[0m     \u001b[38;5;28mprint\u001b[39m(\u001b[38;5;124m'\u001b[39m\u001b[38;5;124ms1 pass\u001b[39m\u001b[38;5;124m'\u001b[39m)\n\u001b[0;32m     20\u001b[0m \u001b[38;5;28;01melse\u001b[39;00m:\n",
      "\u001b[1;31mTypeError\u001b[0m: '>' not supported between instances of 'student' and 'student'"
     ]
    }
   ],
   "source": [
    "class student:\n",
    "    def __init__(self,m1,m2):\n",
    "        self.m1 = m1\n",
    "        self.m2 = m2\n",
    "    def __add__(self, other): ## WE DEFINE THE ADD METHOD . THIS CONCEPT IS CALLED OPERATOR OVERLOADING\n",
    "        m1 = self.m1 + other.m1\n",
    "        m2 = self.m2 + other.m2\n",
    "        s3 = student(m1,m2)\n",
    "        \n",
    "        return s3   \n",
    "    \n",
    " \n",
    "s1 = student(60,70)\n",
    "s2 = student(80,90)\n",
    "\n",
    "s3 = s1 + s2 \n",
    "#we can also compare 2 object are > or less then \n",
    "if s1>s2:\n",
    "    print('s1 pass')\n",
    "else:\n",
    "    print('s2 pass')\n",
    "    \n",
    "# we are not define it so how to check it \n"
   ]
  },
  {
   "cell_type": "code",
   "execution_count": null,
   "id": "164522d9",
   "metadata": {},
   "outputs": [
    {
     "name": "stdout",
     "output_type": "stream",
     "text": [
      "s2 pass\n",
      "10\n",
      "<__main__.student object at 0x0000012B94E3CAD0>\n"
     ]
    }
   ],
   "source": [
    "class student:\n",
    "    def __init__(self,m1,m2):\n",
    "        self.m1 = m1\n",
    "        self.m2 = m2\n",
    "    def __add__(self, other): ## WE DEFINE THE ADD METHOD . THIS CONCEPT IS CALLED OPERATOR OVERLOADING\n",
    "        m1 = self.m1 + other.m1\n",
    "        m2 = self.m2 + other.m2\n",
    "        s3 = student(m1,m2)\n",
    "        \n",
    "        return s3   \n",
    "    def __gt__(self, other):  # greater than method\n",
    "        r1 = self.m1 + self.m2\n",
    "        r2 = other.m1 + other.m2\n",
    "        if  r1>r2:\n",
    "            return True\n",
    "        else:\n",
    "            return False\n",
    " \n",
    "s1 = student(60,70)\n",
    "s2 = student(80,90)\n",
    "\n",
    "s3 = s1 + s2 \n",
    "#we can also compare 2 object are > or less then \n",
    "if s1>s2:\n",
    "    print('s1 pass')\n",
    "else:\n",
    "    print('s2 pass')\n",
    "    \n",
    "a = 10\n",
    "print(a)\n",
    "print(s1)\n",
    "    \n",
    "# we are not define it so how to check it \n"
   ]
  },
  {
   "cell_type": "code",
   "execution_count": null,
   "id": "e6679501",
   "metadata": {},
   "outputs": [
    {
     "name": "stdout",
     "output_type": "stream",
     "text": [
      "s2 pass\n",
      "10\n",
      "<__main__.student object at 0x0000012B94E3F5F0>\n",
      "<method-wrapper '__str__' of int object at 0x00007FFB2E3D2AD8>\n",
      "10\n",
      "<__main__.student object at 0x0000012B94E3F5F0>\n"
     ]
    }
   ],
   "source": [
    "class student:\n",
    "    def __init__(self,m1,m2):\n",
    "        self.m1 = m1\n",
    "        self.m2 = m2\n",
    "    def __add__(self, other): ## WE DEFINE THE ADD METHOD . THIS CONCEPT IS CALLED OPERATOR OVERLOADING\n",
    "        m1 = self.m1 + other.m1\n",
    "        m2 = self.m2 + other.m2\n",
    "        s3 = student(m1,m2)\n",
    "        \n",
    "        return s3   \n",
    "    def __gt__(self, other):  # greater than method\n",
    "        r1 = self.m1 + self.m2\n",
    "        r2 = other.m1 + other.m2\n",
    "        if  r1>r2:\n",
    "            return True\n",
    "        else:\n",
    "            return False\n",
    " \n",
    "s1 = student(60,70)\n",
    "s2 = student(80,90)\n",
    "\n",
    "s3 = s1 + s2 \n",
    "#we can also compare 2 object are > or less then \n",
    "if s1>s2:\n",
    "    print('s1 pass')\n",
    "else:\n",
    "    print('s2 pass')\n",
    "    \n",
    "a = 10\n",
    "print(a)\n",
    "print(s1)\n",
    "    \n",
    "print(a.__str__)\n",
    "print(a.__str__())\n",
    "print(s1.__str__())  # here we are getting the address of the object\n",
    "# we are not define it so how to check it \n"
   ]
  },
  {
   "cell_type": "code",
   "execution_count": null,
   "id": "4be90bfb",
   "metadata": {},
   "outputs": [
    {
     "name": "stdout",
     "output_type": "stream",
     "text": [
      "s2 pass\n",
      "10\n",
      "(60, 70)\n"
     ]
    }
   ],
   "source": [
    "class student:\n",
    "    def __init__(self,m1,m2):\n",
    "        self.m1 = m1\n",
    "        self.m2 = m2\n",
    "    def __add__(self, other): ## WE DEFINE THE ADD METHOD . THIS CONCEPT IS CALLED OPERATOR OVERLOADING\n",
    "        m1 = self.m1 + other.m1\n",
    "        m2 = self.m2 + other.m2\n",
    "        s3 = student(m1,m2)\n",
    "        \n",
    "        return s3   \n",
    "    def __gt__(self, other):  # greater than method\n",
    "        r1 = self.m1 + self.m2\n",
    "        r2 = other.m1 + other.m2\n",
    "        if  r1>r2:\n",
    "            return True\n",
    "        else:\n",
    "            return False\n",
    "        \n",
    "    def __str__(self):   # to print the value of the object\n",
    "        return self.m1,self.m2\n",
    " \n",
    "s1 = student(60,70)\n",
    "s2 = student(80,90)\n",
    "\n",
    "s3 = s1 + s2 \n",
    "#we can also compare 2 object are > or less then \n",
    "if s1>s2:\n",
    "    print('s1 pass')\n",
    "else:\n",
    "    print('s2 pass')\n",
    "    \n",
    "a = 10\n",
    "print(a)\n",
    "\n",
    "print(s1.__str__())\n",
    "    \n",
    "# we are not define it so how to check it \n"
   ]
  },
  {
   "cell_type": "code",
   "execution_count": null,
   "id": "ec3c01b9",
   "metadata": {},
   "outputs": [
    {
     "name": "stdout",
     "output_type": "stream",
     "text": [
      "s2 pass\n",
      "10\n",
      "60 70\n",
      "80 90\n"
     ]
    }
   ],
   "source": [
    "class student:\n",
    "    def __init__(self,m1,m2):\n",
    "        self.m1 = m1\n",
    "        self.m2 = m2\n",
    "    def __add__(self, other): ## WE DEFINE THE ADD METHOD . THIS CONCEPT IS CALLED OPERATOR OVERLOADING\n",
    "        m1 = self.m1 + other.m1\n",
    "        m2 = self.m2 + other.m2\n",
    "        s3 = student(m1,m2)\n",
    "        \n",
    "        return s3   \n",
    "    def __gt__(self, other):  # greater than method\n",
    "        r1 = self.m1 + self.m2\n",
    "        r2 = other.m1 + other.m2\n",
    "        if  r1>r2:\n",
    "            return True\n",
    "        else:\n",
    "            return False\n",
    "        \n",
    "    def __str__(self):   # to print the value of the object\n",
    "        return \"{} {}\" .format(self.m1,self.m2)\n",
    " \n",
    "s1 = student(60,70)\n",
    "s2 = student(80,90)\n",
    "\n",
    "s3 = s1 + s2 \n",
    "#we can also compare 2 object are > or less then \n",
    "if s1>s2:\n",
    "    print('s1 pass')\n",
    "else:\n",
    "    print('s2 pass')\n",
    "    \n",
    "a = 10\n",
    "print(a)\n",
    "\n",
    "print(s1)\n",
    "print(s2)    \n",
    "\n"
   ]
  },
  {
   "cell_type": "markdown",
   "id": "0f733481",
   "metadata": {},
   "source": [
    " ## Method overloading"
   ]
  },
  {
   "cell_type": "code",
   "execution_count": null,
   "id": "9b4c49d6",
   "metadata": {},
   "outputs": [
    {
     "name": "stdout",
     "output_type": "stream",
     "text": [
      "15\n"
     ]
    }
   ],
   "source": [
    "class demo():\n",
    "    def add (self,a, b):\n",
    "        return a + b\n",
    "\n",
    "d = demo()\n",
    "print(d.add(5,10))"
   ]
  },
  {
   "cell_type": "code",
   "execution_count": null,
   "id": "cdd10435",
   "metadata": {},
   "outputs": [
    {
     "ename": "TypeError",
     "evalue": "demo.add() missing 1 required positional argument: 'c'",
     "output_type": "error",
     "traceback": [
      "\u001b[1;31m---------------------------------------------------------------------------\u001b[0m",
      "\u001b[1;31mTypeError\u001b[0m                                 Traceback (most recent call last)",
      "Cell \u001b[1;32mIn[17], line 13\u001b[0m\n\u001b[0;32m      9\u001b[0m         \u001b[38;5;28;01mreturn\u001b[39;00m a\u001b[38;5;241m+\u001b[39mb\u001b[38;5;241m+\u001b[39mc\n\u001b[0;32m     11\u001b[0m d \u001b[38;5;241m=\u001b[39m demo()\n\u001b[1;32m---> 13\u001b[0m \u001b[38;5;28mprint\u001b[39m(d\u001b[38;5;241m.\u001b[39madd(\u001b[38;5;241m2\u001b[39m,\u001b[38;5;241m3\u001b[39m))\n\u001b[0;32m     14\u001b[0m \u001b[38;5;28mprint\u001b[39m(d\u001b[38;5;241m.\u001b[39madd(\u001b[38;5;241m4\u001b[39m,\u001b[38;5;241m5\u001b[39m,\u001b[38;5;241m6\u001b[39m))\n",
      "\u001b[1;31mTypeError\u001b[0m: demo.add() missing 1 required positional argument: 'c'"
     ]
    }
   ],
   "source": [
    "# this concept called as method overloading (same method different argument)\n",
    "# python doesnot support python overloading you can define same but it will take latest method\n",
    "# discard the first method which contrain 2 argument\n",
    "class demo:\n",
    "    def add(self,a,b):\n",
    "        return a+b\n",
    "\n",
    "    def add(self,a,b,c):\n",
    "        return a+b+c\n",
    "\n",
    "d = demo()\n",
    "\n",
    "print(d.add(2,3))\n",
    "print(d.add(4,5,6))\n",
    "\n",
    "#it always consider latest one"
   ]
  },
  {
   "cell_type": "code",
   "execution_count": null,
   "id": "019ecb6f",
   "metadata": {},
   "outputs": [
    {
     "name": "stdout",
     "output_type": "stream",
     "text": [
      "5\n",
      "15\n",
      "15\n"
     ]
    }
   ],
   "source": [
    "# this method overloading we can acheiving with different concept using default argument\n",
    "\n",
    "class demo:\n",
    "    \n",
    "    def add(self,a,b,c=0,d=0):\n",
    "        return a+b+c\n",
    "\n",
    "d = demo()\n",
    "\n",
    "print(d.add(2,3))\n",
    "print(d.add(4,5,6))\n",
    "print(d.add(4,5,6,7))"
   ]
  },
  {
   "cell_type": "code",
   "execution_count": null,
   "id": "a78266d7",
   "metadata": {},
   "outputs": [
    {
     "name": "stdout",
     "output_type": "stream",
     "text": [
      "5\n",
      "15\n",
      "21\n"
     ]
    }
   ],
   "source": [
    "class demo:\n",
    "    \n",
    "    def add(self,*arg):\n",
    "        total = 0\n",
    "        for i in arg:\n",
    "            total = total + i\n",
    "        return total\n",
    "\n",
    "d = demo()\n",
    "\n",
    "print(d.add(2,3))\n",
    "print(d.add(4,5,6))\n",
    "print(d.add(1,2,3,4,5,6,))"
   ]
  },
  {
   "cell_type": "code",
   "execution_count": null,
   "id": "591d9db0",
   "metadata": {},
   "outputs": [
    {
     "name": "stdout",
     "output_type": "stream",
     "text": [
      "30\n"
     ]
    }
   ],
   "source": [
    "class student:\n",
    "    def __init__(self,m1,m2):\n",
    "        self.m1 = m1\n",
    "        self.m2 = m2\n",
    "        \n",
    "    def sum(self, a, b):\n",
    "        s = a + b\n",
    "        return s\n",
    "    \n",
    "s1 = student(50, 60)\n",
    "\n",
    "print(s1.sum(10,20))"
   ]
  },
  {
   "cell_type": "code",
   "execution_count": null,
   "id": "1e8a5891",
   "metadata": {},
   "outputs": [
    {
     "ename": "TypeError",
     "evalue": "student.sum() takes 3 positional arguments but 4 were given",
     "output_type": "error",
     "traceback": [
      "\u001b[1;31m---------------------------------------------------------------------------\u001b[0m",
      "\u001b[1;31mTypeError\u001b[0m                                 Traceback (most recent call last)",
      "Cell \u001b[1;32mIn[23], line 12\u001b[0m\n\u001b[0;32m      8\u001b[0m         \u001b[38;5;28;01mreturn\u001b[39;00m s\n\u001b[0;32m     10\u001b[0m s1 \u001b[38;5;241m=\u001b[39m student(\u001b[38;5;241m50\u001b[39m, \u001b[38;5;241m60\u001b[39m)\n\u001b[1;32m---> 12\u001b[0m \u001b[38;5;28mprint\u001b[39m(s1\u001b[38;5;241m.\u001b[39msum(\u001b[38;5;241m10\u001b[39m,\u001b[38;5;241m20\u001b[39m,\u001b[38;5;241m3\u001b[39m))\n",
      "\u001b[1;31mTypeError\u001b[0m: student.sum() takes 3 positional arguments but 4 were given"
     ]
    }
   ],
   "source": [
    "class student:\n",
    "    def __init__(self,m1,m2):\n",
    "        self.m1 = m1\n",
    "        self.m2 = m2\n",
    "        \n",
    "    def sum(self, a, b):\n",
    "        s = a + b \n",
    "        return s\n",
    "    \n",
    "s1 = student(50, 60)\n",
    "\n",
    "print(s1.sum(10,20,3)) \n",
    "# if you pass 3 argument defind for 2 it get error that whay we need to create another methodthats what we do in other programming language "
   ]
  },
  {
   "cell_type": "code",
   "execution_count": null,
   "id": "aee7f7fb",
   "metadata": {},
   "outputs": [
    {
     "name": "stdout",
     "output_type": "stream",
     "text": [
      "33\n"
     ]
    }
   ],
   "source": [
    "class student:\n",
    "    def __init__(self,m1,m2):\n",
    "        self.m1 = m1\n",
    "        self.m2 = m2\n",
    "        \n",
    "    def sum(self, a, b, c):\n",
    "        s = a + b + c\n",
    "        return s\n",
    "    \n",
    "s1 = student(50, 60)\n",
    "\n",
    "print(s1.sum(10,20,3)) \n"
   ]
  },
  {
   "cell_type": "code",
   "execution_count": null,
   "id": "63f2a2f7",
   "metadata": {},
   "outputs": [
    {
     "ename": "TypeError",
     "evalue": "student.sum() missing 1 required positional argument: 'c'",
     "output_type": "error",
     "traceback": [
      "\u001b[1;31m---------------------------------------------------------------------------\u001b[0m",
      "\u001b[1;31mTypeError\u001b[0m                                 Traceback (most recent call last)",
      "Cell \u001b[1;32mIn[25], line 12\u001b[0m\n\u001b[0;32m      8\u001b[0m         \u001b[38;5;28;01mreturn\u001b[39;00m s\n\u001b[0;32m     10\u001b[0m s1 \u001b[38;5;241m=\u001b[39m student(\u001b[38;5;241m50\u001b[39m, \u001b[38;5;241m60\u001b[39m)\n\u001b[1;32m---> 12\u001b[0m \u001b[38;5;28mprint\u001b[39m(s1\u001b[38;5;241m.\u001b[39msum(\u001b[38;5;241m10\u001b[39m,\u001b[38;5;241m20\u001b[39m))\n",
      "\u001b[1;31mTypeError\u001b[0m: student.sum() missing 1 required positional argument: 'c'"
     ]
    }
   ],
   "source": [
    "class student:\n",
    "    def __init__(self,m1,m2):\n",
    "        self.m1 = m1\n",
    "        self.m2 = m2\n",
    "        \n",
    "    def sum(self, a, b, c):\n",
    "        s = a + b + c\n",
    "        return s\n",
    "    \n",
    "s1 = student(50, 60)\n",
    "\n",
    "print(s1.sum(10,20)) \n"
   ]
  },
  {
   "cell_type": "code",
   "execution_count": null,
   "id": "bbc6323a",
   "metadata": {},
   "outputs": [
    {
     "name": "stdout",
     "output_type": "stream",
     "text": [
      "10\n",
      "30\n",
      "60\n",
      "40\n"
     ]
    }
   ],
   "source": [
    "class student:\n",
    "    def __init__(self,m1,m2):\n",
    "        self.m1 = m1\n",
    "        self.m2 = m2\n",
    "        \n",
    "    def sum(self, a=None, b=None,c=None):\n",
    "        if a!=None and b!=None and c!=None:\n",
    "            s = a +b +c\n",
    "        elif a!=None and b!=None:\n",
    "            s = a+b\n",
    "        elif a!= None and c!= None:\n",
    "            s = a + c\n",
    "        else:\n",
    "            s = a\n",
    "            \n",
    "        return s\n",
    "    \n",
    "s1 = student(50, 60)\n",
    "\n",
    "print(s1.sum(10)) # hear we can pass 1 parameter\n",
    "print(s1.sum(10,20)) # hear we can pass 2 parameter\n",
    "print(s1.sum(10,20,30)) # hear we can pass 3 parameter\n",
    "print(s1.sum(10,30))\n",
    "\n",
    "\n",
    "#print(s1.sum(10,20,30,40))\n",
    "\n",
    "# THIS CONCEPT CALLED AS METHOD OVERLOADING"
   ]
  },
  {
   "cell_type": "markdown",
   "id": "792f2b00",
   "metadata": {},
   "source": [
    "## Method overriding \n",
    "- in many softwere project method over riding use hevely\n",
    "- method overriding  always impliment in inheritence & it always work with two class "
   ]
  },
  {
   "cell_type": "code",
   "execution_count": null,
   "id": "6f8613f5",
   "metadata": {},
   "outputs": [
    {
     "name": "stdout",
     "output_type": "stream",
     "text": [
      "in A show\n"
     ]
    }
   ],
   "source": [
    "class A:\n",
    "    def show(self):\n",
    "        print('in A show')\n",
    "        \n",
    "s1 = A()\n",
    "s1.show()"
   ]
  },
  {
   "cell_type": "code",
   "execution_count": null,
   "id": "c3434ef2",
   "metadata": {},
   "outputs": [
    {
     "name": "stdout",
     "output_type": "stream",
     "text": [
      "in A show\n"
     ]
    }
   ],
   "source": [
    "class A():  # --------------- parent class \n",
    "    def show(self):\n",
    "        print('in A show')\n",
    "        \n",
    "class B(): #-------------------child class \n",
    "    pass\n",
    "        \n",
    "s1 = A()\n",
    "s1.show()"
   ]
  },
  {
   "cell_type": "code",
   "execution_count": null,
   "id": "f6883d55",
   "metadata": {},
   "outputs": [
    {
     "ename": "AttributeError",
     "evalue": "'B' object has no attribute 'show'",
     "output_type": "error",
     "traceback": [
      "\u001b[1;31m---------------------------------------------------------------------------\u001b[0m",
      "\u001b[1;31mAttributeError\u001b[0m                            Traceback (most recent call last)",
      "Cell \u001b[1;32mIn[29], line 9\u001b[0m\n\u001b[0;32m      6\u001b[0m     \u001b[38;5;28;01mpass\u001b[39;00m\n\u001b[0;32m      8\u001b[0m s2 \u001b[38;5;241m=\u001b[39m B()\n\u001b[1;32m----> 9\u001b[0m s2\u001b[38;5;241m.\u001b[39mshow()\n",
      "\u001b[1;31mAttributeError\u001b[0m: 'B' object has no attribute 'show'"
     ]
    }
   ],
   "source": [
    "class A():  # --------------- parent class \n",
    "    def show(self):\n",
    "        print('in A show')\n",
    "        \n",
    "class B(): #-------------------child class \n",
    "    pass\n",
    "        \n",
    "s2 = B()\n",
    "s2.show()"
   ]
  },
  {
   "cell_type": "code",
   "execution_count": null,
   "id": "b87a4334",
   "metadata": {},
   "outputs": [
    {
     "name": "stdout",
     "output_type": "stream",
     "text": [
      "in A show\n"
     ]
    }
   ],
   "source": [
    "class A:  # --------------- parent class \n",
    "    def show(self):\n",
    "        print('in A show')\n",
    "        \n",
    "class B(A): #-------------------child class & lets use inheritence concept\n",
    "    pass\n",
    "        \n",
    "s2 = B()\n",
    "s2.show()"
   ]
  },
  {
   "cell_type": "markdown",
   "id": "14251245",
   "metadata": {},
   "source": [
    "- father has nokia 1100 & child also use same phone. child use his fathers phone\n",
    "- child bought motorla phone & father has nokie \n",
    "- hear we can say motorola overrid the nokia phone\n",
    "- my phone override my fathers phone"
   ]
  },
  {
   "cell_type": "code",
   "execution_count": null,
   "id": "b3d1966c",
   "metadata": {},
   "outputs": [
    {
     "name": "stdout",
     "output_type": "stream",
     "text": [
      "in B show\n"
     ]
    }
   ],
   "source": [
    "class A:  # --------------- parent class \n",
    "    def show(self):\n",
    "        print('in A show')\n",
    "        \n",
    "class B(A): #-------------------child class & lets use inheritence concept\n",
    "    def show(self):\n",
    "        print('in B show')\n",
    "        \n",
    "        \n",
    "s2 = B()\n",
    "s2.show()"
   ]
  },
  {
   "cell_type": "markdown",
   "id": "3eba9ef1",
   "metadata": {},
   "source": [
    "## Abstract class and abstract method in python\n",
    "- lets understand abstract class and abstract method \n",
    "- bydefault python dont support abstract class directly\n",
    "- indirectly it supports using module ABC use hear to acheive abstract classes \n",
    "\n",
    "- we need to understand 2 things what is abstract class and why we need it \n",
    "- start with what & why we need it\n",
    "- python doesnot support abstract class by default"
   ]
  },
  {
   "cell_type": "code",
   "execution_count": 36,
   "id": "63ba2dd2",
   "metadata": {},
   "outputs": [],
   "source": [
    "class bike:\n",
    "    def __init__(self):\n",
    "        self.no_of_tyres = 2\n",
    "    def start(self):\n",
    "        print('start with kick')\n",
    "        \n",
    "class activa:\n",
    "    def __init__(self):\n",
    "        self.no_of_tyres = 2\n",
    "    def start(self):\n",
    "        print('self start')\n",
    "        \n",
    "class car:\n",
    "    def __init__(self):\n",
    "        self.no_of_tyres = 4\n",
    "    def start(self):\n",
    "        print('start with key')"
   ]
  },
  {
   "cell_type": "code",
   "execution_count": 37,
   "id": "aff31b18",
   "metadata": {},
   "outputs": [],
   "source": [
    "class vehicle:\n",
    "    def __init__(self):\n",
    "        self.no_of_types_vehicle = n \n",
    "    def start(self): # we just declare but not define that means nothing to do with start method hear\n",
    "        pass\n",
    "\n",
    "class bike:\n",
    "    def __init__(self):\n",
    "        self.no_of_tyres = 2\n",
    "    def start(self):\n",
    "        print('start with kick')\n",
    "        \n",
    "class activa:\n",
    "    def __init__(self):\n",
    "        self.no_of_tyres = 2\n",
    "    def start(self):\n",
    "        print('self start')\n",
    "        \n",
    "class car:\n",
    "    def __init__(self):\n",
    "        self.no_of_tyres = 4\n",
    "    def start(self):\n",
    "        print('start with key')"
   ]
  },
  {
   "cell_type": "code",
   "execution_count": 38,
   "id": "dc754984",
   "metadata": {},
   "outputs": [],
   "source": [
    "from abc import ABC, abstractmethod\n",
    "\n",
    "class vehicle:\n",
    "    def __init__(self):\n",
    "        self.no_of_types_vehicle = n \n",
    "    @abstractmethod\n",
    "    def start(self): # we just declare but not define that means nothing to do with start method hear\n",
    "        pass\n",
    "\n",
    "class bike:\n",
    "    def __init__(self):\n",
    "        self.no_of_tyres = 2\n",
    "    def start(self):\n",
    "        print('start with kick')\n",
    "        \n",
    "class activa:\n",
    "    def __init__(self):\n",
    "        self.no_of_tyres = 2\n",
    "    def start(self):\n",
    "        print('self start')\n",
    "        \n",
    "class car:\n",
    "    def __init__(self):\n",
    "        self.no_of_tyres = 4\n",
    "    def start(self):\n",
    "        print('start with key')"
   ]
  },
  {
   "cell_type": "code",
   "execution_count": 41,
   "id": "043a706d",
   "metadata": {},
   "outputs": [],
   "source": [
    "from abc import ABC, abstractmethod\n",
    "\n",
    "class vehicle:\n",
    "    def __init__(self):\n",
    "        self.no_of_types_vehicle = n \n",
    "    @abstractmethod\n",
    "    def start(self): # we just declare but not define that means nothing to do with start method hear\n",
    "        pass\n",
    "    \n"
   ]
  },
  {
   "cell_type": "code",
   "execution_count": 42,
   "id": "33167e67",
   "metadata": {},
   "outputs": [],
   "source": [
    "class computer:\n",
    "    def process(self):\n",
    "        pass\n",
    "    \n",
    "com = computer()\n",
    "com.process()\n",
    "# this is not an abstract class for that we need to import it"
   ]
  },
  {
   "cell_type": "code",
   "execution_count": 46,
   "id": "4987a4f1",
   "metadata": {},
   "outputs": [],
   "source": [
    "from abc import ABC, abstractmethod\n",
    "\n",
    "class computer(ABC):\n",
    "    @abstractmethod  # AS DECORATOR \n",
    "    def process(self):\n",
    "        pass\n",
    "    \n",
    "#com = computer()\n",
    "com.process()"
   ]
  },
  {
   "cell_type": "code",
   "execution_count": 45,
   "id": "18d5d049",
   "metadata": {},
   "outputs": [
    {
     "ename": "TypeError",
     "evalue": "Can't instantiate abstract class computer without an implementation for abstract method 'process'",
     "output_type": "error",
     "traceback": [
      "\u001b[1;31m---------------------------------------------------------------------------\u001b[0m",
      "\u001b[1;31mTypeError\u001b[0m                                 Traceback (most recent call last)",
      "Cell \u001b[1;32mIn[45], line 8\u001b[0m\n\u001b[0;32m      4\u001b[0m     \u001b[38;5;129m@abstractmethod\u001b[39m  \u001b[38;5;66;03m# AS DECORATOR \u001b[39;00m\n\u001b[0;32m      5\u001b[0m     \u001b[38;5;28;01mdef\u001b[39;00m \u001b[38;5;21mprocess\u001b[39m(\u001b[38;5;28mself\u001b[39m):\n\u001b[0;32m      6\u001b[0m         \u001b[38;5;28;01mpass\u001b[39;00m\n\u001b[1;32m----> 8\u001b[0m com \u001b[38;5;241m=\u001b[39m computer()\n\u001b[0;32m      9\u001b[0m com\u001b[38;5;241m.\u001b[39mprocess()\n",
      "\u001b[1;31mTypeError\u001b[0m: Can't instantiate abstract class computer without an implementation for abstract method 'process'"
     ]
    }
   ],
   "source": [
    "from abc import ABC, abstractmethod\n",
    "\n",
    "class computer(ABC):\n",
    "    @abstractmethod  # AS DECORATOR \n",
    "    def process(self):\n",
    "        pass\n",
    "    \n",
    "com = computer()\n",
    "com.process()"
   ]
  },
  {
   "cell_type": "code",
   "execution_count": 47,
   "id": "3d810f97",
   "metadata": {},
   "outputs": [
    {
     "ename": "TypeError",
     "evalue": "Can't instantiate abstract class Laptop without an implementation for abstract method 'process'",
     "output_type": "error",
     "traceback": [
      "\u001b[1;31m---------------------------------------------------------------------------\u001b[0m",
      "\u001b[1;31mTypeError\u001b[0m                                 Traceback (most recent call last)",
      "Cell \u001b[1;32mIn[47], line 11\u001b[0m\n\u001b[0;32m      8\u001b[0m \u001b[38;5;28;01mclass\u001b[39;00m \u001b[38;5;21;01mLaptop\u001b[39;00m(computer):    \u001b[38;5;66;03m#------ Laptop is subclass of computer \u001b[39;00m\n\u001b[0;32m      9\u001b[0m     \u001b[38;5;28;01mpass\u001b[39;00m\n\u001b[1;32m---> 11\u001b[0m com1 \u001b[38;5;241m=\u001b[39m Laptop()\n\u001b[0;32m     12\u001b[0m com \u001b[38;5;241m=\u001b[39m computer()\n",
      "\u001b[1;31mTypeError\u001b[0m: Can't instantiate abstract class Laptop without an implementation for abstract method 'process'"
     ]
    }
   ],
   "source": [
    "from abc import ABC, abstractmethod # NEED TO IMPORT ABSTRACT CLASS & ABSTRACT METHOD\n",
    "\n",
    "class computer(ABC): # --> ABSTRACT CLASS\n",
    "    @abstractmethod # --> ABSTRACT METHOD USING DECORATOR\n",
    "    def process(self):\n",
    "        pass\n",
    "\n",
    "class Laptop(computer):    #------ Laptop is subclass of computer \n",
    "    pass\n",
    "    \n",
    "com1 = Laptop()\n",
    "com = computer()\n",
    "#com.process()"
   ]
  },
  {
   "cell_type": "markdown",
   "id": "fba498d8",
   "metadata": {},
   "source": [
    "- ONCE THE CLASS IS ABSTRCT YOU CANT CALLED OBJECT OF THE CLASS"
   ]
  },
  {
   "cell_type": "code",
   "execution_count": 48,
   "id": "f6d51a43",
   "metadata": {},
   "outputs": [],
   "source": [
    "from abc import ABC, abstractmethod\n",
    "\n",
    "class computer(ABC):\n",
    "    @abstractmethod\n",
    "    def process(self):\n",
    "        pass\n",
    "\n",
    "class Laptop(computer):    #------ Laptop is subclass of computer \n",
    "    def process(self):\n",
    "        print('its working')\n",
    "        \n",
    "com1 = Laptop()\n",
    "#com = computer()\n",
    "#com.process()"
   ]
  },
  {
   "cell_type": "code",
   "execution_count": 49,
   "id": "2943ac1e",
   "metadata": {},
   "outputs": [
    {
     "name": "stdout",
     "output_type": "stream",
     "text": [
      "its working\n"
     ]
    }
   ],
   "source": [
    "from abc import ABC, abstractmethod\n",
    "\n",
    "class computer(ABC): #---computer is abstract class which inherits from ABC()\n",
    "    @abstractmethod\n",
    "    def process(self): # --- abstract method \n",
    "        pass\n",
    "\n",
    "class Laptop(computer):    #------ laptop  is subclass of computer \n",
    "    def process(self):\n",
    "        print('its working')\n",
    "\n",
    "com1 = Laptop()\n",
    "#com = computer()\n",
    "#com.process()\n",
    "\n",
    "com1.process()\n",
    "\n",
    "# this is how we create abstract class & we create abstract method"
   ]
  },
  {
   "cell_type": "code",
   "execution_count": 50,
   "id": "5331dceb",
   "metadata": {},
   "outputs": [
    {
     "name": "stdout",
     "output_type": "stream",
     "text": [
      "its working\n",
      "its not working\n"
     ]
    }
   ],
   "source": [
    "from abc import ABC, abstractmethod\n",
    "\n",
    "class computer(ABC): #---computer is abstract class which inherits from ABC()\n",
    "    @abstractmethod\n",
    "    def process(self): # --- abstract method \n",
    "        pass\n",
    "\n",
    "class Laptop():    #------ laptop  is subclass of computer \n",
    "    def process(self):\n",
    "        print('its working')\n",
    "        print('its not working')\n",
    "com1 = Laptop()\n",
    "#com = computer()\n",
    "#com.process()\n",
    "\n",
    "com1.process()\n",
    "\n",
    "# this is how we create abstract class & we create abstract method"
   ]
  },
  {
   "cell_type": "markdown",
   "id": "1ce4cf80",
   "metadata": {},
   "source": [
    "In the example above:\n",
    "\n",
    "- We define an abstract class COMPUTER that inherits from ABC (Abstract Base Class).\n",
    "- We declare an abstract method PROCESS within the COMPUTER class using the @abstractmethod decorator.\n",
    "- We create subclasses LAPTOP that inherit from the COMPUTER abstract class and provide implementations for the abstract method PROCESS."
   ]
  },
  {
   "cell_type": "code",
   "execution_count": 51,
   "id": "cdec0c89",
   "metadata": {},
   "outputs": [
    {
     "name": "stdout",
     "output_type": "stream",
     "text": [
      "we solveing bugs\n",
      "its working\n"
     ]
    }
   ],
   "source": [
    "from abc import ABC, abstractmethod\n",
    "\n",
    "class computer(ABC): #---computer is abstract class which inherits from ABC()\n",
    "    @abstractmethod\n",
    "    def process(self): # --- abstract method \n",
    "        pass\n",
    "\n",
    "class Laptop(computer):    #------ laptop  is subclass of computer \n",
    "    def process(self):\n",
    "        print('its working')\n",
    "        \n",
    "class programmer():\n",
    "    def work(self):\n",
    "        print('we solveing bugs')\n",
    "        \n",
    "com1 = Laptop()\n",
    "#com = computer()\n",
    "#com.process()\n",
    "prog1 = programmer()\n",
    "\n",
    "prog1.work()\n",
    "com1.process()\n",
    "\n",
    "# this is how we create abstract class & we create abstract method"
   ]
  },
  {
   "cell_type": "code",
   "execution_count": 52,
   "id": "be110eb9",
   "metadata": {},
   "outputs": [
    {
     "name": "stdout",
     "output_type": "stream",
     "text": [
      "Circle Area: 78.5\n",
      "Square Area: 16\n"
     ]
    }
   ],
   "source": [
    "from abc import ABC, abstractmethod\n",
    "\n",
    "class Shape(ABC):\n",
    "    @abstractmethod\n",
    "    def area(self):\n",
    "        pass\n",
    "\n",
    "class Circle(Shape):\n",
    "    def __init__(self, radius):\n",
    "        self.radius = radius\n",
    "\n",
    "    def area(self):\n",
    "        return 3.14 * self.radius * self.radius\n",
    "\n",
    "class Square(Shape):\n",
    "    def __init__(self, side_length):\n",
    "        self.side_length = side_length\n",
    "\n",
    "    def area(self):\n",
    "        return self.side_length * self.side_length\n",
    "\n",
    "# You cannot create an instance of the abstract class Shape\n",
    "# shape = Shape()  # This will raise a TypeError\n",
    "\n",
    "circle = Circle(5)\n",
    "print(\"Circle Area:\", circle.area())\n",
    "\n",
    "square = Square(4)\n",
    "print(\"Square Area:\", square.area())\n"
   ]
  },
  {
   "cell_type": "markdown",
   "id": "3fae3169",
   "metadata": {},
   "source": [
    "## Iterator \n",
    "- iterator means keep adding the value i++\n",
    "- iterator mostly used for loop \n",
    "- if we have list of 5 elements using a loop we can iterat from 1st element to the last element"
   ]
  },
  {
   "cell_type": "code",
   "execution_count": 53,
   "id": "88b87d99",
   "metadata": {},
   "outputs": [
    {
     "name": "stdout",
     "output_type": "stream",
     "text": [
      "7\n",
      "8\n",
      "9\n",
      "5\n"
     ]
    },
    {
     "ename": "IndexError",
     "evalue": "list index out of range",
     "output_type": "error",
     "traceback": [
      "\u001b[1;31m---------------------------------------------------------------------------\u001b[0m",
      "\u001b[1;31mIndexError\u001b[0m                                Traceback (most recent call last)",
      "Cell \u001b[1;32mIn[53], line 7\u001b[0m\n\u001b[0;32m      5\u001b[0m \u001b[38;5;28mprint\u001b[39m(nums[\u001b[38;5;241m2\u001b[39m])\n\u001b[0;32m      6\u001b[0m \u001b[38;5;28mprint\u001b[39m(nums[\u001b[38;5;241m3\u001b[39m])\n\u001b[1;32m----> 7\u001b[0m \u001b[38;5;28mprint\u001b[39m(nums[\u001b[38;5;241m4\u001b[39m])\n",
      "\u001b[1;31mIndexError\u001b[0m: list index out of range"
     ]
    }
   ],
   "source": [
    "nums = [7, 8, 9, 5]\n",
    "\n",
    "print(nums[0]) # if we pass the index value \n",
    "print(nums[1])\n",
    "print(nums[2])\n",
    "print(nums[3])\n",
    "print(nums[4])"
   ]
  },
  {
   "cell_type": "code",
   "execution_count": 54,
   "id": "db69ecfc",
   "metadata": {},
   "outputs": [
    {
     "name": "stdout",
     "output_type": "stream",
     "text": [
      "7\n",
      "8\n",
      "9\n",
      "5\n"
     ]
    }
   ],
   "source": [
    "for i in (nums):\n",
    "    print(i)"
   ]
  },
  {
   "cell_type": "code",
   "execution_count": 55,
   "id": "185dd5c7",
   "metadata": {},
   "outputs": [
    {
     "name": "stdout",
     "output_type": "stream",
     "text": [
      "<list_iterator object at 0x0000012B95ABF670>\n"
     ]
    }
   ],
   "source": [
    "it = iter(nums)         #---- iter is the inbuild function which covert list into iterator\n",
    "print(it)                #---- iteratre doesnot give all values it will give the value 1 by 1"
   ]
  },
  {
   "cell_type": "code",
   "execution_count": 56,
   "id": "86bc75bc",
   "metadata": {},
   "outputs": [
    {
     "name": "stdout",
     "output_type": "stream",
     "text": [
      "7\n"
     ]
    }
   ],
   "source": [
    "print(it.__next__())  #---- next is the inbuild function which give the next value from iterator"
   ]
  },
  {
   "cell_type": "code",
   "execution_count": 57,
   "id": "22910ea2",
   "metadata": {},
   "outputs": [
    {
     "name": "stdout",
     "output_type": "stream",
     "text": [
      "8\n"
     ]
    }
   ],
   "source": [
    "print(it.__next__())"
   ]
  },
  {
   "cell_type": "code",
   "execution_count": 58,
   "id": "e8afd109",
   "metadata": {},
   "outputs": [
    {
     "name": "stdout",
     "output_type": "stream",
     "text": [
      "9\n"
     ]
    }
   ],
   "source": [
    "print(it.__next__())"
   ]
  },
  {
   "cell_type": "code",
   "execution_count": 59,
   "id": "c5dd56ed",
   "metadata": {},
   "outputs": [
    {
     "name": "stdout",
     "output_type": "stream",
     "text": [
      "5\n"
     ]
    }
   ],
   "source": [
    "print(it.__next__())"
   ]
  },
  {
   "cell_type": "code",
   "execution_count": 60,
   "id": "5525135d",
   "metadata": {},
   "outputs": [
    {
     "ename": "StopIteration",
     "evalue": "",
     "output_type": "error",
     "traceback": [
      "\u001b[1;31m---------------------------------------------------------------------------\u001b[0m",
      "\u001b[1;31mStopIteration\u001b[0m                             Traceback (most recent call last)",
      "Cell \u001b[1;32mIn[60], line 1\u001b[0m\n\u001b[1;32m----> 1\u001b[0m \u001b[38;5;28mprint\u001b[39m(it\u001b[38;5;241m.\u001b[39m\u001b[38;5;21m__next__\u001b[39m())\n",
      "\u001b[1;31mStopIteration\u001b[0m: "
     ]
    }
   ],
   "source": [
    "print(it.__next__())"
   ]
  },
  {
   "cell_type": "markdown",
   "id": "1e39338e",
   "metadata": {},
   "source": [
    "\n",
    "- in above code we only got address but we dont want the address hear\n",
    "- for that we need to another inbuild function called __next__\n",
    "- everytime we need to execture so that it will give value one by one\n",
    "- behind the scene iterator has multiple values , i am calline your method which is __next__\n",
    "- in next it will pick up 1 values which means it preserve the last value of i "
   ]
  },
  {
   "cell_type": "code",
   "execution_count": 61,
   "id": "57563900",
   "metadata": {},
   "outputs": [],
   "source": [
    "num = [7, 8, 9, 5]"
   ]
  },
  {
   "cell_type": "code",
   "execution_count": 62,
   "id": "21ffddd8",
   "metadata": {},
   "outputs": [
    {
     "name": "stdout",
     "output_type": "stream",
     "text": [
      "7\n",
      "8\n",
      "9\n",
      "5\n"
     ]
    }
   ],
   "source": [
    "# other way to call the iterator is \n",
    "#print(next(it))\n",
    "for i in num:\n",
    "    print(i)"
   ]
  },
  {
   "cell_type": "markdown",
   "id": "7e6553d6",
   "metadata": {},
   "source": [
    "- so far we crete iterator using inbuild function \n",
    "- can we create own iterator . yes we can also creat our own iterator using class and method"
   ]
  },
  {
   "cell_type": "code",
   "execution_count": null,
   "id": "64893bf6",
   "metadata": {},
   "outputs": [],
   "source": [
    "# I WANT TO PRINT TOP 10 VALUE usint 2 method iter() & next()\n",
    "\n",
    "# Infinity loop dont nun\n",
    "\n",
    "class topten:\n",
    "    \n",
    "    def __init__(self):\n",
    "        self.num = 1\n",
    "        \n",
    "  #  def __iter__(self):\n",
    " #       return self\n",
    "    \n",
    "    def __next__(self):\n",
    "        val = self.num\n",
    "        self.num += 1\n",
    "        return val\n",
    "    \n",
    "values = topten()\n",
    "    \n",
    "for i in values:\n",
    "    print(i)\n",
    "#if you execute this you will get infinite loop but we want top 10 "
   ]
  },
  {
   "cell_type": "code",
   "execution_count": 2,
   "id": "af80bcbd",
   "metadata": {},
   "outputs": [
    {
     "name": "stdout",
     "output_type": "stream",
     "text": [
      "1\n",
      "2\n",
      "3\n",
      "4\n",
      "5\n",
      "6\n",
      "7\n",
      "8\n",
      "9\n",
      "10\n",
      "11\n",
      "12\n"
     ]
    }
   ],
   "source": [
    "# I WANT TO PRINT TOP 10 VALUE usint 2 method iter() & next()\n",
    "\n",
    "class topten:\n",
    "    \n",
    "    def __init__(self):\n",
    "        self.num = 1\n",
    "        \n",
    "    def __iter__(self):\n",
    "        return self\n",
    "    \n",
    "    def __next__(self):\n",
    "        val = self.num\n",
    "        self.num += 1\n",
    "        return val\n",
    "    \n",
    "values = topten()\n",
    "\n",
    "print(values.__next__())\n",
    "    \n",
    "print(values.__next__())\n",
    "\n",
    "print(values.__next__())\n",
    "\n",
    "print(values.__next__())\n",
    "\n",
    "print(values.__next__())\n",
    "\n",
    "print(values.__next__())\n",
    "\n",
    "print(values.__next__())\n",
    "print(values.__next__())\n",
    "\n",
    "print(values.__next__())\n",
    "\n",
    "print(values.__next__())\n",
    "\n",
    "print(values.__next__())\n",
    "\n",
    "print(values.__next__())\n"
   ]
  }
 ],
 "metadata": {
  "kernelspec": {
   "display_name": "Python 3.10 (venv310)",
   "language": "python",
   "name": "venv310"
  },
  "language_info": {
   "codemirror_mode": {
    "name": "ipython",
    "version": 3
   },
   "file_extension": ".py",
   "mimetype": "text/x-python",
   "name": "python",
   "nbconvert_exporter": "python",
   "pygments_lexer": "ipython3",
   "version": "3.12.7"
  }
 },
 "nbformat": 4,
 "nbformat_minor": 5
}
