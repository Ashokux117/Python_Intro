{
 "cells": [
  {
   "cell_type": "code",
   "execution_count": 1,
   "id": "9cf924d0-4f63-4f05-b7ba-c1095f74ccd2",
   "metadata": {},
   "outputs": [],
   "source": [
    "def greet():  # define the function hear\n",
    "    print('good evening')  # print the statement\n",
    "    "
   ]
  },
  {
   "cell_type": "code",
   "execution_count": 3,
   "id": "aa2c533b-125c-451b-b00f-b7096f9c8894",
   "metadata": {},
   "outputs": [
    {
     "name": "stdout",
     "output_type": "stream",
     "text": [
      "good evening\n"
     ]
    }
   ],
   "source": [
    "def greet():\n",
    "    print('good evening')\n",
    "greet()"
   ]
  },
  {
   "cell_type": "code",
   "execution_count": 5,
   "id": "aa86978d-1bb9-4286-b9e4-c7ea3e3cc482",
   "metadata": {},
   "outputs": [
    {
     "name": "stdout",
     "output_type": "stream",
     "text": [
      "good evening\n",
      "good evening\n",
      "good evening\n"
     ]
    }
   ],
   "source": [
    "def greet():\n",
    "    print('good evening')\n",
    "greet()\n",
    "def greet():\n",
    "    print('good evening')\n",
    "greet()\n",
    "def greet():\n",
    "    print('good evening')\n",
    "greet()"
   ]
  },
  {
   "cell_type": "code",
   "execution_count": 7,
   "id": "3c974c47-1419-4f63-ac25-a0c5d9a8d7c9",
   "metadata": {},
   "outputs": [
    {
     "name": "stdout",
     "output_type": "stream",
     "text": [
      "good evening\n",
      "good evening\n",
      "\n",
      "good evening\n",
      "good evening\n",
      "good evening\n"
     ]
    }
   ],
   "source": [
    "def greet():\n",
    "    print('good evening')\n",
    "greet()\n",
    "\n",
    "\n",
    "\n",
    "greet()\n",
    "print()\n",
    "greet()\n",
    "\n",
    "greet()\n",
    "\n",
    "greet()"
   ]
  },
  {
   "cell_type": "code",
   "execution_count": 9,
   "id": "f7f0f306-0a35-496f-8d95-751280fc876c",
   "metadata": {},
   "outputs": [
    {
     "name": "stdout",
     "output_type": "stream",
     "text": [
      "11\n"
     ]
    }
   ],
   "source": [
    "def add (x,y):\n",
    "    c=x+y\n",
    "    print(c)\n",
    "add(5,6)"
   ]
  },
  {
   "cell_type": "code",
   "execution_count": 6,
   "id": "be9ba1c5-4adc-4c5b-a75d-77d5f5130b19",
   "metadata": {},
   "outputs": [
    {
     "ename": "TypeError",
     "evalue": "add() missing 1 required positional argument: 'z'",
     "output_type": "error",
     "traceback": [
      "\u001b[1;31m---------------------------------------------------------------------------\u001b[0m",
      "\u001b[1;31mTypeError\u001b[0m                                 Traceback (most recent call last)",
      "Cell \u001b[1;32mIn[6], line 4\u001b[0m\n\u001b[0;32m      2\u001b[0m     c\u001b[38;5;241m=\u001b[39mx\u001b[38;5;241m+\u001b[39my\n\u001b[0;32m      3\u001b[0m     \u001b[38;5;28mprint\u001b[39m(c)\n\u001b[1;32m----> 4\u001b[0m add(\u001b[38;5;241m5\u001b[39m,\u001b[38;5;241m6\u001b[39m)\n",
      "\u001b[1;31mTypeError\u001b[0m: add() missing 1 required positional argument: 'z'"
     ]
    }
   ],
   "source": [
    "def add (x,y,z):\n",
    "    c=x+y\n",
    "    print(c)\n",
    "add(5,6)"
   ]
  },
  {
   "cell_type": "code",
   "execution_count": 11,
   "id": "7b92a7fd-f71e-4135-803d-faa3c07f03fe",
   "metadata": {},
   "outputs": [
    {
     "name": "stdout",
     "output_type": "stream",
     "text": [
      "good evening\n",
      "11\n"
     ]
    }
   ],
   "source": [
    "def greet():\n",
    "    print('good evening')\n",
    "greet()\n",
    "def add (x,y):\n",
    "    c=x+y\n",
    "    print(c)\n",
    "add(5,6)"
   ]
  },
  {
   "cell_type": "code",
   "execution_count": 15,
   "id": "e619df0b-9d1e-48b7-84f9-75d7666f991e",
   "metadata": {},
   "outputs": [
    {
     "name": "stdout",
     "output_type": "stream",
     "text": [
      "11\n",
      "good evening\n"
     ]
    }
   ],
   "source": [
    "def greet():\n",
    "    print('good evening')\n",
    "def add (x,y):\n",
    "    c=x+y\n",
    "    print(c)\n",
    "add(5,6)\n",
    "greet()"
   ]
  },
  {
   "cell_type": "code",
   "execution_count": 19,
   "id": "d6da9006-5178-4ec3-b60f-8b45059ee4f5",
   "metadata": {},
   "outputs": [
    {
     "name": "stdout",
     "output_type": "stream",
     "text": [
      "good evening\n",
      "good evening\n",
      "11\n",
      "-1\n",
      "good evening\n",
      "30\n",
      "-10\n"
     ]
    }
   ],
   "source": [
    "def greet():\n",
    "    print('good evening')\n",
    "greet()\n",
    "def add (x,y):\n",
    "    c=x+y\n",
    "    print(c)\n",
    "def sub(x,y):\n",
    "    c=x-y\n",
    "    print(c)\n",
    "greet()\n",
    "add(5,6)\n",
    "sub(5,6)\n",
    "\n",
    "greet()\n",
    "add(10,20)\n",
    "sub(10,20)\n"
   ]
  },
  {
   "cell_type": "code",
   "execution_count": 21,
   "id": "0762fad5-ccbf-4d82-adbb-794aa191f917",
   "metadata": {},
   "outputs": [
    {
     "name": "stdout",
     "output_type": "stream",
     "text": [
      "11\n"
     ]
    }
   ],
   "source": [
    "def add (x,y):\n",
    "    c=x+y\n",
    "    print(c)\n",
    "add(5,6)"
   ]
  },
  {
   "cell_type": "code",
   "execution_count": 23,
   "id": "e50e90ae-05cd-4be4-80f3-a93fec3ab384",
   "metadata": {},
   "outputs": [
    {
     "data": {
      "text/plain": [
       "11"
      ]
     },
     "execution_count": 23,
     "metadata": {},
     "output_type": "execute_result"
    }
   ],
   "source": [
    "def add (x,y):\n",
    "    c=x+y\n",
    "    return (c)\n",
    "add(5,6)"
   ]
  },
  {
   "cell_type": "code",
   "execution_count": 27,
   "id": "d2e793d4-84ac-4cd2-ac28-280d91422e74",
   "metadata": {},
   "outputs": [
    {
     "name": "stdout",
     "output_type": "stream",
     "text": [
      "good evening\n",
      "50\n",
      "-10\n"
     ]
    }
   ],
   "source": [
    "def greet():\n",
    "    print('good evening')\n",
    "greet()\n",
    "def add (x,y):\n",
    "    c=x+y\n",
    "    return c\n",
    "def sub(x,y):\n",
    "    d=x-y\n",
    "    return d\n",
    "\n",
    "print(add(20,30))\n",
    "print(sub(20,30))"
   ]
  },
  {
   "cell_type": "code",
   "execution_count": 29,
   "id": "98b3fd58-9349-40a4-8524-8557939b884c",
   "metadata": {},
   "outputs": [
    {
     "name": "stdout",
     "output_type": "stream",
     "text": [
      "50\n",
      "-10\n"
     ]
    }
   ],
   "source": [
    "def add (x,y):\n",
    "    c=x+y\n",
    "    return c\n",
    "def sub(x,y):\n",
    "    d=x-y\n",
    "    return d\n",
    "\n",
    "print(add(20,30))\n",
    "print(sub(20,30))"
   ]
  },
  {
   "cell_type": "code",
   "execution_count": 35,
   "id": "bd6c5ed3-6bfd-4d7c-a512-da5aefbb0f71",
   "metadata": {},
   "outputs": [
    {
     "name": "stdout",
     "output_type": "stream",
     "text": [
      "30\n",
      "-10\n",
      "<class 'int'>\n",
      "<class 'int'>\n"
     ]
    }
   ],
   "source": [
    "def add (x,y):\n",
    "    c=x+y\n",
    "    return c\n",
    "def sub(x,y):\n",
    "    d=x-y\n",
    "    return d\n",
    "result= add(10,20)\n",
    "result2=sub(10,20)\n",
    "\n",
    "print(result)\n",
    "print(result2)\n",
    "\n",
    "print(type(result))\n",
    "print(type(result2))"
   ]
  },
  {
   "cell_type": "code",
   "execution_count": 37,
   "id": "f1abeeae-3bed-4987-ad8d-f019bcda7ec2",
   "metadata": {},
   "outputs": [
    {
     "name": "stdout",
     "output_type": "stream",
     "text": [
      "good evening\n",
      "good evening\n",
      "good evening\n",
      "11\n"
     ]
    }
   ],
   "source": [
    "def greet():\n",
    "    print('good evening')\n",
    "greet()\n",
    "def greet():\n",
    "    print('good evening')\n",
    "greet()\n",
    "def greet():\n",
    "    print('good evening')\n",
    "greet()\n",
    "\n",
    "def add (x,y):\n",
    "    c=x+y\n",
    "    print(c)\n",
    "add(5,6)\n"
   ]
  },
  {
   "cell_type": "code",
   "execution_count": 39,
   "id": "4cc3ff2e-9975-4bf7-ac61-b1408d0ab4fe",
   "metadata": {},
   "outputs": [
    {
     "name": "stdout",
     "output_type": "stream",
     "text": [
      "11\n",
      "good evening\n",
      "good evening\n",
      "good evening\n",
      "good evening\n"
     ]
    }
   ],
   "source": [
    "def add (x,y):\n",
    "    c=x+y\n",
    "    print(c)\n",
    "add(5,6)\n",
    "def greet():\n",
    "\n",
    "    print('good evening')\n",
    "greet()\n",
    "def greet():\n",
    "    print('good evening')\n",
    "greet()\n",
    "def greet():\n",
    "    print('good evening')\n",
    "greet()\n",
    "def greet():\n",
    "    print('good evening')\n",
    "greet()\n"
   ]
  },
  {
   "cell_type": "code",
   "execution_count": 43,
   "id": "e7e808b1-22f6-4f7b-bfcf-8dceaf4bdafc",
   "metadata": {},
   "outputs": [
    {
     "name": "stdout",
     "output_type": "stream",
     "text": [
      "(30, 10)\n",
      "<class 'tuple'>\n"
     ]
    }
   ],
   "source": [
    "def add_sub (x,y):\n",
    "    c=x+y\n",
    "    d=x-y\n",
    "    return c,d\n",
    "result =  add_sub(20,10)\n",
    "print(result)\n",
    "print(type(result))"
   ]
  },
  {
   "cell_type": "code",
   "execution_count": 45,
   "id": "c27dee2f-a593-41cf-971f-74c0dfa2d051",
   "metadata": {},
   "outputs": [
    {
     "name": "stdout",
     "output_type": "stream",
     "text": [
      "30\n",
      "10\n",
      "<class 'int'>\n",
      "<class 'int'>\n"
     ]
    }
   ],
   "source": [
    "def add_sub (x,y):\n",
    "    c=x+y\n",
    "    d=x-y\n",
    "    return c,d\n",
    "result,result2 =  add_sub(20,10)\n",
    "print(result)\n",
    "print(result2)\n",
    "print(type(result))\n",
    "print(type(result2))"
   ]
  },
  {
   "cell_type": "markdown",
   "id": "fa8fa61a-ac6b-4366-9161-b8df9a515560",
   "metadata": {},
   "source": [
    "# functions arguments"
   ]
  },
  {
   "cell_type": "code",
   "execution_count": 47,
   "id": "a1f0f7e3-f642-4936-9430-a9c014c6d497",
   "metadata": {},
   "outputs": [
    {
     "name": "stdout",
     "output_type": "stream",
     "text": [
      "8\n"
     ]
    }
   ],
   "source": [
    "def update ():\n",
    "    x=8\n",
    "    print(x)\n",
    "update()"
   ]
  },
  {
   "cell_type": "code",
   "execution_count": 55,
   "id": "51d92565-97e7-4760-b471-aedea7ac7fe7",
   "metadata": {},
   "outputs": [
    {
     "ename": "TypeError",
     "evalue": "update() takes 0 positional arguments but 1 was given",
     "output_type": "error",
     "traceback": [
      "\u001b[1;31m---------------------------------------------------------------------------\u001b[0m",
      "\u001b[1;31mTypeError\u001b[0m                                 Traceback (most recent call last)",
      "Cell \u001b[1;32mIn[55], line 4\u001b[0m\n\u001b[0;32m      2\u001b[0m     x\u001b[38;5;241m=\u001b[39m\u001b[38;5;241m8\u001b[39m\n\u001b[0;32m      3\u001b[0m     \u001b[38;5;28mprint\u001b[39m(x)\n\u001b[1;32m----> 4\u001b[0m update(\u001b[38;5;241m8\u001b[39m)\n",
      "\u001b[1;31mTypeError\u001b[0m: update() takes 0 positional arguments but 1 was given"
     ]
    }
   ],
   "source": [
    "def update ():  # because position values not add #\n",
    "    x=8\n",
    "    print(x)\n",
    "update(8)"
   ]
  },
  {
   "cell_type": "code",
   "execution_count": 57,
   "id": "85f6b885-aaf6-4876-a93e-f25bce5acabc",
   "metadata": {},
   "outputs": [
    {
     "name": "stdout",
     "output_type": "stream",
     "text": [
      "8\n"
     ]
    }
   ],
   "source": [
    "def update (x):  #  position values add (x) \n",
    "    x=8\n",
    "    print(x)\n",
    "update(8)"
   ]
  },
  {
   "cell_type": "code",
   "execution_count": 59,
   "id": "13b6a08e-b58f-401f-9c2a-05bfd0cb3865",
   "metadata": {},
   "outputs": [
    {
     "name": "stdout",
     "output_type": "stream",
     "text": [
      "8\n"
     ]
    }
   ],
   "source": [
    "def update (x):  \n",
    "    x=8\n",
    "    print(x)\n",
    "update(10)"
   ]
  },
  {
   "cell_type": "code",
   "execution_count": 61,
   "id": "01388f7a-61d5-4cdf-ae07-c5a0452ee086",
   "metadata": {},
   "outputs": [
    {
     "data": {
      "text/plain": [
       "8"
      ]
     },
     "execution_count": 61,
     "metadata": {},
     "output_type": "execute_result"
    }
   ],
   "source": [
    "def update (x):  \n",
    "    x=8\n",
    "    return x\n",
    "update(10)"
   ]
  },
  {
   "cell_type": "code",
   "execution_count": 69,
   "id": "55f9f6bf-fdd0-470f-9f2f-44c60f93d2ef",
   "metadata": {},
   "outputs": [
    {
     "name": "stdout",
     "output_type": "stream",
     "text": [
      "8\n",
      "10\n",
      "<class 'int'>\n",
      "\n"
     ]
    }
   ],
   "source": [
    "def update (x):  \n",
    "    x=8\n",
    "    return x\n",
    "a=10\n",
    "print(update(a))\n",
    "print(a)\n",
    "print(type(a))\n"
   ]
  },
  {
   "cell_type": "markdown",
   "id": "c472e03a-d775-4300-a251-1754d484bbea",
   "metadata": {},
   "source": [
    "## function without argument - not required any thing\n",
    "\n",
    "## function with argument-- divide into 2 part \n",
    "i)-- Formal Argument,\n",
    "ii)-- Actual Argument"
   ]
  },
  {
   "cell_type": "code",
   "execution_count": 81,
   "id": "254d9b51-2444-4171-9299-a36f2610c73b",
   "metadata": {},
   "outputs": [
    {
     "data": {
      "text/plain": [
       "11"
      ]
     },
     "execution_count": 81,
     "metadata": {},
     "output_type": "execute_result"
    }
   ],
   "source": [
    "def add(x,y):  # x and y is call --- Formal Argument\n",
    "    c=x+y\n",
    "    return c\n",
    "add(5,6)  # 5 & 6 is call --- Actual Argument"
   ]
  },
  {
   "cell_type": "raw",
   "id": "eacf379d-e8d2-4402-ba12-d6b9142a260c",
   "metadata": {},
   "source": [
    "-- formal arguments also called a parameter\n",
    "---Actual argument are called a argument\n",
    "and actual argument divide into four part \n",
    "i)-- positional argument\n",
    "ii)--keyword argument\n",
    "iii)--Default argument\n",
    "iv)--Variable argument"
   ]
  },
  {
   "cell_type": "markdown",
   "id": "f4f28309-4821-46c9-9926-667376ba0012",
   "metadata": {},
   "source": [
    "## positional argument"
   ]
  },
  {
   "cell_type": "code",
   "execution_count": 89,
   "id": "84f0afa7-555f-40be-a270-ca61b0642fea",
   "metadata": {},
   "outputs": [
    {
     "data": {
      "text/plain": [
       "8"
      ]
     },
     "execution_count": 89,
     "metadata": {},
     "output_type": "execute_result"
    }
   ],
   "source": [
    "def add(x,y,d,f,r,t,e):  # this under () called --formal argument\n",
    "    c=x+y\n",
    "    return c\n",
    "add(5,3,7,8,5,8,6) # and under \"()values\" --called actual argument"
   ]
  },
  {
   "cell_type": "code",
   "execution_count": 91,
   "id": "19d4df68-4b7d-4c14-bd3b-e5e0b1a32d10",
   "metadata": {},
   "outputs": [
    {
     "name": "stdout",
     "output_type": "stream",
     "text": [
      "nit\n",
      "24\n"
     ]
    }
   ],
   "source": [
    "def person(name,age):\n",
    "    print(name)\n",
    "    print(age)\n",
    "\n",
    "person('nit',24)"
   ]
  },
  {
   "cell_type": "code",
   "execution_count": 105,
   "id": "007bb8e2-2d85-45a8-b678-a9fb59709d0f",
   "metadata": {},
   "outputs": [
    {
     "name": "stdout",
     "output_type": "stream",
     "text": [
      "24\n",
      "nit\n"
     ]
    }
   ],
   "source": [
    "def person(name,age):\n",
    "    print(name)\n",
    "    print(age)\n",
    "person(24,'nit')"
   ]
  },
  {
   "cell_type": "code",
   "execution_count": 101,
   "id": "1c936df9-f9d4-4cb5-8553-7a0334abe6be",
   "metadata": {},
   "outputs": [
    {
     "name": "stdout",
     "output_type": "stream",
     "text": [
      "24\n"
     ]
    },
    {
     "ename": "TypeError",
     "evalue": "can only concatenate str (not \"int\") to str",
     "output_type": "error",
     "traceback": [
      "\u001b[1;31m---------------------------------------------------------------------------\u001b[0m",
      "\u001b[1;31mTypeError\u001b[0m                                 Traceback (most recent call last)",
      "Cell \u001b[1;32mIn[101], line 5\u001b[0m\n\u001b[0;32m      2\u001b[0m     \u001b[38;5;28mprint\u001b[39m(name)\n\u001b[0;32m      3\u001b[0m     \u001b[38;5;28mprint\u001b[39m(age\u001b[38;5;241m+\u001b[39m\u001b[38;5;241m1\u001b[39m)\n\u001b[1;32m----> 5\u001b[0m person(\u001b[38;5;241m24\u001b[39m,\u001b[38;5;124m'\u001b[39m\u001b[38;5;124mnit\u001b[39m\u001b[38;5;124m'\u001b[39m)\n",
      "Cell \u001b[1;32mIn[101], line 3\u001b[0m, in \u001b[0;36mperson\u001b[1;34m(name, age)\u001b[0m\n\u001b[0;32m      1\u001b[0m \u001b[38;5;28;01mdef\u001b[39;00m \u001b[38;5;21mperson\u001b[39m(name,age):\n\u001b[0;32m      2\u001b[0m     \u001b[38;5;28mprint\u001b[39m(name)\n\u001b[1;32m----> 3\u001b[0m     \u001b[38;5;28mprint\u001b[39m(age\u001b[38;5;241m+\u001b[39m\u001b[38;5;241m1\u001b[39m)\n",
      "\u001b[1;31mTypeError\u001b[0m: can only concatenate str (not \"int\") to str"
     ]
    }
   ],
   "source": [
    "def person(name,age):\n",
    "    print(name)\n",
    "    print(age+1)\n",
    "\n",
    "person(24,'nit')"
   ]
  },
  {
   "cell_type": "markdown",
   "id": "89827443-0f3a-44ff-ad1f-6b93a4c49539",
   "metadata": {},
   "source": [
    "## keyword Argument "
   ]
  },
  {
   "cell_type": "code",
   "execution_count": 107,
   "id": "c0395a6c-afec-45c9-8d9a-ee0f3ec4652e",
   "metadata": {},
   "outputs": [
    {
     "name": "stdout",
     "output_type": "stream",
     "text": [
      "nit\n",
      "25\n"
     ]
    }
   ],
   "source": [
    "def person(name,age):\n",
    "    print(name)\n",
    "    print(age+1)\n",
    "\n",
    "person(age=24,name='nit')"
   ]
  },
  {
   "cell_type": "code",
   "execution_count": 111,
   "id": "35b84b24-15c5-41b8-8e06-71f7c2fe5923",
   "metadata": {},
   "outputs": [
    {
     "ename": "TypeError",
     "evalue": "person() missing 1 required positional argument: 'salary'",
     "output_type": "error",
     "traceback": [
      "\u001b[1;31m---------------------------------------------------------------------------\u001b[0m",
      "\u001b[1;31mTypeError\u001b[0m                                 Traceback (most recent call last)",
      "Cell \u001b[1;32mIn[111], line 6\u001b[0m\n\u001b[0;32m      3\u001b[0m     \u001b[38;5;28mprint\u001b[39m(age\u001b[38;5;241m+\u001b[39m\u001b[38;5;241m1\u001b[39m)\n\u001b[0;32m      4\u001b[0m     \u001b[38;5;28mprint\u001b[39m(\u001b[38;5;124m'\u001b[39m\u001b[38;5;124msir job chalagya\u001b[39m\u001b[38;5;124m'\u001b[39m)\n\u001b[1;32m----> 6\u001b[0m person(age\u001b[38;5;241m=\u001b[39m\u001b[38;5;241m24\u001b[39m,name\u001b[38;5;241m=\u001b[39m\u001b[38;5;124m'\u001b[39m\u001b[38;5;124mnit\u001b[39m\u001b[38;5;124m'\u001b[39m)\n",
      "\u001b[1;31mTypeError\u001b[0m: person() missing 1 required positional argument: 'salary'"
     ]
    }
   ],
   "source": [
    "def person(name,age,salary):\n",
    "    print(name)\n",
    "    print(age+1)\n",
    "    print('sir job chalagya')\n",
    "\n",
    "person(age=24,name='nit')"
   ]
  },
  {
   "cell_type": "code",
   "execution_count": 116,
   "id": "aef94200-92eb-4e74-b4e3-bd6892cfe479",
   "metadata": {},
   "outputs": [
    {
     "name": "stdout",
     "output_type": "stream",
     "text": [
      "nit\n",
      "24\n",
      "21\n"
     ]
    }
   ],
   "source": [
    "def person(name,age,age2):\n",
    "    print(name)\n",
    "    print(age)\n",
    "    print(age2)\n",
    "person(age=24,name='nit',age2=21)\n",
    "# this is called keyword arguments"
   ]
  },
  {
   "cell_type": "markdown",
   "id": "1466a31f-ef80-4081-ad70-1fc6924ab924",
   "metadata": {},
   "source": [
    "## Default Argument"
   ]
  },
  {
   "cell_type": "code",
   "execution_count": 124,
   "id": "471f3a0b-5d6c-4e3f-8d89-38b04670fe45",
   "metadata": {},
   "outputs": [
    {
     "ename": "TypeError",
     "evalue": "person() missing 1 required positional argument: 'age'",
     "output_type": "error",
     "traceback": [
      "\u001b[1;31m---------------------------------------------------------------------------\u001b[0m",
      "\u001b[1;31mTypeError\u001b[0m                                 Traceback (most recent call last)",
      "Cell \u001b[1;32mIn[124], line 4\u001b[0m\n\u001b[0;32m      2\u001b[0m     \u001b[38;5;28mprint\u001b[39m(name)\n\u001b[0;32m      3\u001b[0m     \u001b[38;5;28mprint\u001b[39m(age)\n\u001b[1;32m----> 4\u001b[0m person(\u001b[38;5;124m'\u001b[39m\u001b[38;5;124mnit\u001b[39m\u001b[38;5;124m'\u001b[39m)\n",
      "\u001b[1;31mTypeError\u001b[0m: person() missing 1 required positional argument: 'age'"
     ]
    }
   ],
   "source": [
    "def person (name,age):\n",
    "    print(name)\n",
    "    print(age)\n",
    "person('nit')"
   ]
  },
  {
   "cell_type": "code",
   "execution_count": 122,
   "id": "af9e61f8-ebaa-45c1-a624-07076d90a11f",
   "metadata": {},
   "outputs": [
    {
     "name": "stdout",
     "output_type": "stream",
     "text": [
      "nit\n",
      "20\n"
     ]
    }
   ],
   "source": [
    "def person (name,age):\n",
    "    print(name)\n",
    "    print(age)\n",
    "person('nit',age=20)"
   ]
  },
  {
   "cell_type": "code",
   "execution_count": null,
   "id": "3f107c21-9fcb-495a-a3c6-67a31c897a27",
   "metadata": {},
   "outputs": [],
   "source": []
  }
 ],
 "metadata": {
  "kernelspec": {
   "display_name": "Python [conda env:base] *",
   "language": "python",
   "name": "conda-base-py"
  },
  "language_info": {
   "codemirror_mode": {
    "name": "ipython",
    "version": 3
   },
   "file_extension": ".py",
   "mimetype": "text/x-python",
   "name": "python",
   "nbconvert_exporter": "python",
   "pygments_lexer": "ipython3",
   "version": "3.12.7"
  }
 },
 "nbformat": 4,
 "nbformat_minor": 5
}
