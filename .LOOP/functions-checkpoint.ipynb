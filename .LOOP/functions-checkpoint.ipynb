{
 "cells": [
  {
   "cell_type": "markdown",
   "id": "4ac19663-9ac3-47fb-bc4c-b8a1aecfb452",
   "metadata": {},
   "source": [
    "# functions in python"
   ]
  },
  {
   "cell_type": "markdown",
   "id": "af6b1716-e3e0-4a12-adac-a2e517deb3e0",
   "metadata": {},
   "source": [
    "# FUNCTION -->\n",
    "- Inbuild function  -- print(), type(), id(), sqrt(), max(), min(), sqrt(), ceil(),  etc\n",
    "- User defined function \n",
    "- function is collection of statement\n",
    "- 2 main property of the function is -- define the function & calling the function \n",
    "- function always define with def & function always declares as ()\n",
    "difference between variable & function || a - variable || b() - function "
   ]
  },
  {
   "cell_type": "code",
   "execution_count": null,
   "id": "e5359db4-2059-473a-9634-1256911f19f9",
   "metadata": {},
   "outputs": [],
   "source": [
    "def greet():\n",
    "    print('hello')\n",
    "    print('good morning')\n",
    "\n",
    "    # when we run the code we havent got any output "
   ]
  },
  {
   "cell_type": "code",
   "execution_count": 7,
   "id": "23659112-af8a-424a-a569-9a454fc19cec",
   "metadata": {},
   "outputs": [
    {
     "name": "stdout",
     "output_type": "stream",
     "text": [
      "hello\n",
      "good morning\n"
     ]
    }
   ],
   "source": [
    "def greet():\n",
    "    print('hello')\n",
    "    print('good morning')\n",
    "greet()\n",
    "    # if you need call multiple times"
   ]
  },
  {
   "cell_type": "code",
   "execution_count": 11,
   "id": "5358c151-1f1d-4c21-b02f-c2ba1989c404",
   "metadata": {},
   "outputs": [
    {
     "name": "stdout",
     "output_type": "stream",
     "text": [
      "hello\n",
      "good morning\n",
      "hello\n",
      "good morning\n"
     ]
    }
   ],
   "source": [
    "def greet():\n",
    "    print('hello')\n",
    "    print('good morning')\n",
    "greet()  # if you need call multiple times\n",
    "\n",
    "def greet():\n",
    "    print('hello')\n",
    "    print('good morning')\n",
    "greet()# if you need call multiple times"
   ]
  },
  {
   "cell_type": "code",
   "execution_count": 17,
   "id": "cdcdd969-7227-45dc-966c-849907f9b741",
   "metadata": {},
   "outputs": [
    {
     "name": "stdout",
     "output_type": "stream",
     "text": [
      "hello\n",
      "good noon\n",
      "hello\n",
      "good noon\n"
     ]
    }
   ],
   "source": [
    "def greet():\n",
    "    print('hello')\n",
    "    print('good noon')\n",
    "\n",
    "greet()\n",
    "\n",
    "greet()"
   ]
  },
  {
   "cell_type": "code",
   "execution_count": 21,
   "id": "dfd6bbe1-6b8f-4f89-a166-122ae7d30ddb",
   "metadata": {},
   "outputs": [
    {
     "name": "stdout",
     "output_type": "stream",
     "text": [
      "11\n"
     ]
    }
   ],
   "source": [
    "def add(x,y):\n",
    "    c=x+y\n",
    "    print(c)\n",
    "add(5,6)"
   ]
  },
  {
   "cell_type": "code",
   "execution_count": 25,
   "id": "b3220c3c-a9f4-431b-af13-bc8626824990",
   "metadata": {},
   "outputs": [
    {
     "name": "stdout",
     "output_type": "stream",
     "text": [
      "18\n"
     ]
    }
   ],
   "source": [
    "def add(x,y,z):\n",
    "    c=x+y+z\n",
    "    print(c)\n",
    "add(5,6,7)"
   ]
  },
  {
   "cell_type": "code",
   "execution_count": 27,
   "id": "e1662ef4-7a8d-48d7-8117-55de070fed27",
   "metadata": {},
   "outputs": [
    {
     "name": "stdout",
     "output_type": "stream",
     "text": [
      "hello\n",
      "good morning\n",
      "18\n"
     ]
    }
   ],
   "source": [
    "def greet():\n",
    "    print('hello')\n",
    "    print('good morning')\n",
    "greet()\n",
    "def add(x,y,z):\n",
    "    c=x+y+z\n",
    "    print(c)\n",
    "add(5,6,7)\n",
    "# you can multiple funstion and call them as many time as you want"
   ]
  },
  {
   "cell_type": "code",
   "execution_count": 29,
   "id": "d0dc9f86-f0ba-4b9e-9e6c-f7728ceaa7b0",
   "metadata": {},
   "outputs": [
    {
     "name": "stdout",
     "output_type": "stream",
     "text": [
      "hello\n",
      "good morning\n",
      "18\n",
      "-2\n"
     ]
    }
   ],
   "source": [
    "def greet():\n",
    "    print('hello')\n",
    "    print('good morning')\n",
    "def add(x,y,z):\n",
    "    c=x+y+z\n",
    "    print(c)\n",
    "def sub(x,y,z):\n",
    "    c=(x-y-z)\n",
    "    print(c)\n",
    "\n",
    "greet()\n",
    "add(5,6,7)\n",
    "sub(7,5,4)\n",
    "# you can multiple funstion and call them as many time as you want"
   ]
  },
  {
   "cell_type": "code",
   "execution_count": 31,
   "id": "5bdc6036-9b2e-4c46-9c31-e51e04272a6e",
   "metadata": {},
   "outputs": [
    {
     "name": "stdout",
     "output_type": "stream",
     "text": [
      "hello\n",
      "good morning\n"
     ]
    },
    {
     "data": {
      "text/plain": [
       "11"
      ]
     },
     "execution_count": 31,
     "metadata": {},
     "output_type": "execute_result"
    }
   ],
   "source": [
    "def greet():\n",
    "    print('hello')\n",
    "    print('good morning')\n",
    "greet()\n",
    "\n",
    "def add(x,y):\n",
    "    c=x+y\n",
    "    return c\n",
    "add(5,6)\n"
   ]
  },
  {
   "cell_type": "code",
   "execution_count": 33,
   "id": "9419e65f-cfed-421e-86f3-6b6ab78b388e",
   "metadata": {},
   "outputs": [
    {
     "name": "stdout",
     "output_type": "stream",
     "text": [
      "hello\n",
      "good morning\n",
      "11\n"
     ]
    }
   ],
   "source": [
    "def greet():\n",
    "    print('hello')\n",
    "    print('good morning')\n",
    "greet()\n",
    "\n",
    "def add(x,y):\n",
    "    c=x+y\n",
    "    return c\n",
    "result=add(5,6)\n",
    "print(result)"
   ]
  },
  {
   "cell_type": "code",
   "execution_count": 39,
   "id": "3fc52853-18af-4f09-91f8-dd1f1cd1610b",
   "metadata": {},
   "outputs": [
    {
     "data": {
      "text/plain": [
       "(9, -1)"
      ]
     },
     "execution_count": 39,
     "metadata": {},
     "output_type": "execute_result"
    }
   ],
   "source": [
    "def add_sub(x,y): # what if i want to return 2 values add_sub & i want to return 2 values & function can accept multiple value \n",
    "    c= x+y\n",
    "    d= x-y\n",
    "    return(c, d) \n",
    "    \n",
    "add_sub(4,5)"
   ]
  },
  {
   "cell_type": "code",
   "execution_count": 41,
   "id": "7a1cca1e-08fd-47d1-903d-16991c694c69",
   "metadata": {},
   "outputs": [
    {
     "name": "stdout",
     "output_type": "stream",
     "text": [
      "(9, -1)\n",
      "<class 'tuple'>\n"
     ]
    }
   ],
   "source": [
    "def add_sub(x,y): # what if i want to return 2 values add_sub & i want to return 2 values & function can accept multiple value \n",
    "    c= x+y\n",
    "    d= x-y\n",
    "    return c, d \n",
    "    \n",
    "result = add_sub(4,5)\n",
    "print(result)\n",
    "print(type(result))"
   ]
  },
  {
   "cell_type": "code",
   "execution_count": 43,
   "id": "015791fe-c173-47da-9424-6dde66e99caf",
   "metadata": {},
   "outputs": [
    {
     "name": "stdout",
     "output_type": "stream",
     "text": [
      "<class 'int'>\n",
      "<class 'int'>\n"
     ]
    }
   ],
   "source": [
    "def add_sub(x,y): \n",
    "    c= x+y\n",
    "    d= x-y\n",
    "    return c, d \n",
    "    \n",
    "result1,result2 = add_sub(4,5)\n",
    "print(type(result1))\n",
    "print(type(result2))"
   ]
  },
  {
   "cell_type": "markdown",
   "id": "6767e465-eb16-4770-8610-05e7a1a56ba9",
   "metadata": {},
   "source": [
    "# Function Arguments"
   ]
  },
  {
   "cell_type": "code",
   "execution_count": 46,
   "id": "9b53edf7-564c-4898-bdf7-62af45e4143f",
   "metadata": {},
   "outputs": [
    {
     "name": "stdout",
     "output_type": "stream",
     "text": [
      "10\n"
     ]
    }
   ],
   "source": [
    "def update():\n",
    "    x = 10\n",
    "    print(x)\n",
    "update()"
   ]
  },
  {
   "cell_type": "code",
   "execution_count": 48,
   "id": "7266fb84-85ac-4f12-90ff-a942fbd989f9",
   "metadata": {},
   "outputs": [
    {
     "ename": "TypeError",
     "evalue": "update() takes 0 positional arguments but 1 was given",
     "output_type": "error",
     "traceback": [
      "\u001b[1;31m---------------------------------------------------------------------------\u001b[0m",
      "\u001b[1;31mTypeError\u001b[0m                                 Traceback (most recent call last)",
      "Cell \u001b[1;32mIn[48], line 4\u001b[0m\n\u001b[0;32m      2\u001b[0m     x \u001b[38;5;241m=\u001b[39m \u001b[38;5;241m10\u001b[39m\n\u001b[0;32m      3\u001b[0m     \u001b[38;5;28mprint\u001b[39m(x)\n\u001b[1;32m----> 4\u001b[0m update(\u001b[38;5;241m10\u001b[39m)\n",
      "\u001b[1;31mTypeError\u001b[0m: update() takes 0 positional arguments but 1 was given"
     ]
    }
   ],
   "source": [
    "def update(): # update functions take the value from the user \n",
    "    x = 10\n",
    "    print(x)\n",
    "update(10)"
   ]
  },
  {
   "cell_type": "code",
   "execution_count": 50,
   "id": "358d25c3-5361-4fa6-b5fc-dc26659e324f",
   "metadata": {},
   "outputs": [
    {
     "name": "stdout",
     "output_type": "stream",
     "text": [
      "8\n"
     ]
    }
   ],
   "source": [
    "def update(x): # update functions take the value from the user \n",
    "    x = 8\n",
    "    print(x)\n",
    "update(10)"
   ]
  },
  {
   "cell_type": "code",
   "execution_count": 52,
   "id": "28f16d0c-7461-4c8f-b2c0-ff65641c198f",
   "metadata": {},
   "outputs": [
    {
     "name": "stdout",
     "output_type": "stream",
     "text": [
      "8\n"
     ]
    }
   ],
   "source": [
    "def update(x): # user want to update the value from 8 to 10\n",
    "    x = 8\n",
    "    print(x)\n",
    "update(10)"
   ]
  },
  {
   "cell_type": "code",
   "execution_count": 54,
   "id": "d89ca6e5-fc97-43bf-b4d8-432bf6ca5fd9",
   "metadata": {},
   "outputs": [
    {
     "name": "stdout",
     "output_type": "stream",
     "text": [
      "8\n",
      "10\n"
     ]
    }
   ],
   "source": [
    "def update(x): \n",
    "    x = 8\n",
    "    print(x)\n",
    "a = 10\n",
    "update(a)\n",
    "print(a)"
   ]
  },
  {
   "cell_type": "code",
   "execution_count": 56,
   "id": "72efb0c2-a3ef-4277-ae4f-cb28d7e17581",
   "metadata": {},
   "outputs": [
    {
     "name": "stdout",
     "output_type": "stream",
     "text": [
      "10\n"
     ]
    }
   ],
   "source": [
    "def update(x): \n",
    "    x = 8\n",
    "    \n",
    "a = 10\n",
    "update(a)\n",
    "print(a) "
   ]
  },
  {
   "cell_type": "code",
   "execution_count": 58,
   "id": "312a9cb9-d20c-4973-99ed-c54421a20a25",
   "metadata": {},
   "outputs": [
    {
     "name": "stdout",
     "output_type": "stream",
     "text": [
      "x before calling: 10\n",
      "inside the fun a = 20\n",
      "x after calling: 10\n"
     ]
    }
   ],
   "source": [
    "def change(a):\n",
    "    a = a+ 10\n",
    "    print('inside the fun a =',a)\n",
    "x = 10\n",
    "print('x before calling:',x)\n",
    "change(x)\n",
    "print('x after calling:',x)"
   ]
  },
  {
   "cell_type": "code",
   "execution_count": null,
   "id": "650ba502-268b-4d3e-b7be-7566bfcb4677",
   "metadata": {},
   "outputs": [],
   "source": []
  }
 ],
 "metadata": {
  "kernelspec": {
   "display_name": "Python [conda env:base] *",
   "language": "python",
   "name": "conda-base-py"
  },
  "language_info": {
   "codemirror_mode": {
    "name": "ipython",
    "version": 3
   },
   "file_extension": ".py",
   "mimetype": "text/x-python",
   "name": "python",
   "nbconvert_exporter": "python",
   "pygments_lexer": "ipython3",
   "version": "3.12.7"
  }
 },
 "nbformat": 4,
 "nbformat_minor": 5
}
