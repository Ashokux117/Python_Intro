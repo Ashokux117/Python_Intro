{
 "cells": [
  {
   "cell_type": "markdown",
   "id": "962b1a79-c91d-4ed7-b026-36dd9b3f95b0",
   "metadata": {},
   "source": [
    "# 1. Right Angle Tringle Pattern"
   ]
  },
  {
   "cell_type": "code",
   "execution_count": 22,
   "id": "e847872b-70fe-4a55-bbc5-76d936abb51f",
   "metadata": {},
   "outputs": [
    {
     "name": "stdout",
     "output_type": "stream",
     "text": [
      " A \n",
      " A  A \n",
      " A  A  A \n",
      " A  A  A  A \n"
     ]
    }
   ],
   "source": [
    "for i in range (1,5):\n",
    "    print(' A ' *i)"
   ]
  },
  {
   "cell_type": "code",
   "execution_count": 24,
   "id": "cf428645-1592-4384-9d2e-5cf9344f26ec",
   "metadata": {},
   "outputs": [
    {
     "name": "stdout",
     "output_type": "stream",
     "text": [
      " # \n",
      " #  # \n",
      " #  #  # \n",
      " #  #  #  # \n",
      " #  #  #  #  # \n"
     ]
    }
   ],
   "source": [
    "for i in range(1,6):\n",
    "    print(' # ' *i)"
   ]
  },
  {
   "cell_type": "markdown",
   "id": "e385fb4f-db04-4952-9bf5-42d46cff37c7",
   "metadata": {},
   "source": [
    "# 2. Inverted Right Angle Triangle "
   ]
  },
  {
   "cell_type": "code",
   "execution_count": 27,
   "id": "e9825510-70d5-4d5c-8c6b-32b96b2ffbc0",
   "metadata": {},
   "outputs": [
    {
     "name": "stdout",
     "output_type": "stream",
     "text": [
      " A  A  A  A  A \n",
      " A  A  A  A \n",
      " A  A  A \n",
      " A  A \n",
      " A \n"
     ]
    }
   ],
   "source": [
    "for i in range(5,0,-1):\n",
    "    print(' A ' *i)"
   ]
  },
  {
   "cell_type": "code",
   "execution_count": 29,
   "id": "4e6a2317-3533-484c-813f-9e5958ce8b20",
   "metadata": {},
   "outputs": [
    {
     "name": "stdout",
     "output_type": "stream",
     "text": [
      " *  *  *  *  * \n",
      " *  *  *  * \n",
      " *  *  * \n",
      " *  * \n",
      " * \n"
     ]
    }
   ],
   "source": [
    "for i in range(5,0,-1):\n",
    "    print(' * ' *i)"
   ]
  },
  {
   "cell_type": "markdown",
   "id": "062c6efd-b85b-4915-9b5a-bee5ee93eb29",
   "metadata": {},
   "source": [
    "# 3. pyramid pattern"
   ]
  },
  {
   "cell_type": "code",
   "execution_count": 32,
   "id": "64678ade-73d1-41b2-85a6-eb4fb9c100df",
   "metadata": {},
   "outputs": [
    {
     "name": "stdout",
     "output_type": "stream",
     "text": [
      " * \n",
      " *  *  * \n",
      " *  *  *  *  * \n",
      " *  *  *  *  *  *  * \n",
      " *  *  *  *  *  *  *  *  * \n"
     ]
    }
   ],
   "source": [
    "for i in  range (1,6):\n",
    "    print(''*(5-i)+' * ' *(2*i-1))"
   ]
  },
  {
   "cell_type": "code",
   "execution_count": 34,
   "id": "d0ca0a5e-2064-4f80-b0a5-558a7e4535a5",
   "metadata": {},
   "outputs": [
    {
     "name": "stdout",
     "output_type": "stream",
     "text": [
      " V \n",
      " V  V  V \n",
      " V  V  V  V  V \n",
      " V  V  V  V  V  V  V \n",
      " V  V  V  V  V  V  V  V  V \n"
     ]
    }
   ],
   "source": [
    "for i in range(1,6):\n",
    "     print(''*(5-i)+' V ' *(2*i-1))\n"
   ]
  },
  {
   "cell_type": "markdown",
   "id": "3b057104-5a45-462d-ad77-6ad25cc0e6a7",
   "metadata": {},
   "source": [
    "#   4. Inverted Pyramid pattern "
   ]
  },
  {
   "cell_type": "code",
   "execution_count": 60,
   "id": "17d183ef-f0ca-493a-be48-fb01bb3c692b",
   "metadata": {},
   "outputs": [],
   "source": [
    "for i in range (5,0-1):\n",
    "    print(''*(5-i)+ ' # ' *(2*i-1))\n",
    "    "
   ]
  },
  {
   "cell_type": "code",
   "execution_count": 62,
   "id": "4b6c073b-c7e6-4fb1-9d8a-fbf98e73440e",
   "metadata": {},
   "outputs": [],
   "source": [
    "for i in range (5,0-1):\n",
    "    print(''*(5-i)+' # '*(2*i-1))"
   ]
  },
  {
   "cell_type": "markdown",
   "id": "19e8fa79-e02c-40a0-a3f1-f1d00a62e011",
   "metadata": {},
   "source": [
    "# 5. Daimond pattern"
   ]
  },
  {
   "cell_type": "code",
   "execution_count": 65,
   "id": "0b918742-6f0f-4f6b-ae2c-6488e257b9ce",
   "metadata": {},
   "outputs": [
    {
     "name": "stdout",
     "output_type": "stream",
     "text": [
      " * \n",
      " *  *  * \n",
      " *  *  *  *  * \n",
      " *  *  *  *  *  *  * \n",
      " *  *  *  *  *  *  *  *  * \n",
      " *  *  *  *  *  *  * \n",
      " *  *  *  *  * \n",
      " *  *  * \n",
      " * \n"
     ]
    }
   ],
   "source": [
    "for i in range (1,6):\n",
    "    print(''*(5-i)+' * '*(2*i-1))\n",
    "for i in range (4,0,-1):\n",
    "    print(''*(5-i)+' * '*(2*i-1))    "
   ]
  },
  {
   "cell_type": "markdown",
   "id": "fb275062-00a7-4a6b-b79b-ef2ea25efde8",
   "metadata": {},
   "source": [
    "# 6. Hallow square pattern"
   ]
  },
  {
   "cell_type": "code",
   "execution_count": 72,
   "id": "68d781b0-b50f-407b-aa05-b1e9118e1a5a",
   "metadata": {},
   "outputs": [
    {
     "name": "stdout",
     "output_type": "stream",
     "text": [
      "AAAAA\n",
      "A   A\n",
      "A   A\n",
      "A   A\n",
      "AAAAA\n"
     ]
    }
   ],
   "source": [
    "for i in range(5):\n",
    "    for j in range (5):\n",
    "        if i == 0 or i==4 or j==0 or j==4:\n",
    "            print(\"A\",end='')\n",
    "        else:\n",
    "            print(' ',end='')\n",
    "    print()"
   ]
  },
  {
   "cell_type": "code",
   "execution_count": 74,
   "id": "d26e64bb-c55e-489f-824f-140d64fe89f9",
   "metadata": {},
   "outputs": [
    {
     "name": "stdout",
     "output_type": "stream",
     "text": [
      "#####\n",
      "#   #\n",
      "#   #\n",
      "#   #\n",
      "#####\n"
     ]
    }
   ],
   "source": [
    "for i in range(5):\n",
    "    for j in range (5):\n",
    "        if i == 0 or i==4 or j==0 or j==4:\n",
    "            print(\"#\",end='')\n",
    "        else:\n",
    "            print(' ',end='')\n",
    "    print()"
   ]
  },
  {
   "cell_type": "markdown",
   "id": "274c98a4-cb6c-470b-8488-77374b67edc3",
   "metadata": {},
   "source": [
    "# 7. full square pettern"
   ]
  },
  {
   "cell_type": "code",
   "execution_count": 77,
   "id": "a43e0dcb-33ed-46a1-be53-63d9c0de2771",
   "metadata": {},
   "outputs": [
    {
     "name": "stdout",
     "output_type": "stream",
     "text": [
      " *  *  *  *  * \n",
      " *  *  *  *  * \n",
      " *  *  *  *  * \n",
      " *  *  *  *  * \n",
      " *  *  *  *  * \n"
     ]
    }
   ],
   "source": [
    "for i in range(5):\n",
    "    print(' * '*5)"
   ]
  },
  {
   "cell_type": "code",
   "execution_count": 83,
   "id": "d4de2332-4877-4a72-aa69-e5dbc581971b",
   "metadata": {},
   "outputs": [
    {
     "name": "stdout",
     "output_type": "stream",
     "text": [
      " sanjay  sanjay  sanjay  sanjay  sanjay \n",
      " sanjay  sanjay  sanjay  sanjay  sanjay \n",
      " sanjay  sanjay  sanjay  sanjay  sanjay \n",
      " sanjay  sanjay  sanjay  sanjay  sanjay \n",
      " sanjay  sanjay  sanjay  sanjay  sanjay \n"
     ]
    }
   ],
   "source": [
    "for i in range(5):\n",
    "    print(' sanjay '*5)"
   ]
  },
  {
   "cell_type": "markdown",
   "id": "5191825c-afe9-44f4-ae61-8551ef447523",
   "metadata": {},
   "source": [
    "# 8. Right angle triangle(number pattern)"
   ]
  },
  {
   "cell_type": "code",
   "execution_count": 88,
   "id": "95414f78-b417-44ea-8be3-7751b8a17124",
   "metadata": {},
   "outputs": [
    {
     "name": "stdout",
     "output_type": "stream",
     "text": [
      "1\n",
      "1 2\n",
      "1 2 3\n",
      "1 2 3 4\n",
      "1 2 3 4 5\n"
     ]
    }
   ],
   "source": [
    "for i in range(1, 6):\n",
    "    print(' '.join(str(x) for x in range(1,i+1)))"
   ]
  },
  {
   "cell_type": "markdown",
   "id": "6cb997ef-d436-4020-a53b-35440139c085",
   "metadata": {},
   "source": [
    "# 9. Inverted Right angle tringle (number pattern)"
   ]
  },
  {
   "cell_type": "code",
   "execution_count": 90,
   "id": "9d436bfd-ab04-4a7f-91f4-fcd6ea041be7",
   "metadata": {},
   "outputs": [
    {
     "name": "stdout",
     "output_type": "stream",
     "text": [
      "1 2 3 4 5\n",
      "1 2 3 4\n",
      "1 2 3\n",
      "1 2\n",
      "1\n"
     ]
    }
   ],
   "source": [
    "for i in range(5,0,-1):\n",
    "    print(' '.join(str(x) for x in range(1,i+1)))"
   ]
  },
  {
   "cell_type": "markdown",
   "id": "b30a6472-c6bc-4531-b632-2ad00ce3380b",
   "metadata": {},
   "source": [
    "# 10. Floyd's tringle"
   ]
  },
  {
   "cell_type": "code",
   "execution_count": 98,
   "id": "7c69bc9c-bc44-46e7-a04d-56915dc8e3c6",
   "metadata": {},
   "outputs": [
    {
     "name": "stdout",
     "output_type": "stream",
     "text": [
      "1 \n",
      "2 3 \n",
      "4 5 6 \n",
      "7 8 9 10 \n",
      "11 12 13 14 15 \n"
     ]
    }
   ],
   "source": [
    "num = 1\n",
    "for i in range(1, 6):\n",
    "    for j in range(1,i+1):\n",
    "        print(num,end=' ')\n",
    "        num+=1\n",
    "    print()"
   ]
  },
  {
   "cell_type": "markdown",
   "id": "d9e0abf8-ff34-494d-a588-cf627cd0b4b0",
   "metadata": {},
   "source": [
    "# 11. Hallow Right Angle Tringle"
   ]
  },
  {
   "cell_type": "code",
   "execution_count": 109,
   "id": "1ff34e67-9176-4671-bb87-bf87ab577160",
   "metadata": {},
   "outputs": [
    {
     "name": "stdout",
     "output_type": "stream",
     "text": [
      "* \n",
      "* * \n",
      "* 1 * \n",
      "* 1 1 * \n",
      "* * * * * \n"
     ]
    }
   ],
   "source": [
    "\n",
    "for i in range(1, 6):\n",
    "    for j in range(1,i+1):\n",
    "        if j==1 or j==i or i==5:\n",
    "           print('*',end=' ')\n",
    "        else:\n",
    "           print(num,end=' ')\n",
    "    print()"
   ]
  },
  {
   "cell_type": "markdown",
   "id": "37f70f8d-bf7c-4a1b-a046-00d5df9b3b31",
   "metadata": {},
   "source": [
    "#    12. Hallow pyramid pattern"
   ]
  },
  {
   "cell_type": "code",
   "execution_count": 113,
   "id": "d1d8bf23-db56-41c3-8a92-b970015a6d9d",
   "metadata": {},
   "outputs": [
    {
     "name": "stdout",
     "output_type": "stream",
     "text": [
      "        L \n",
      "      L   L \n",
      "    L       L \n",
      "  L           L \n",
      "L L L L L L L L L \n"
     ]
    }
   ],
   "source": [
    "for i in range(1,6):\n",
    "    for j in range(5 - i):\n",
    "        print(' ',end= ' ')\n",
    "    for j in range(2 * i - 1):\n",
    "        if j == 0 or j == 2 * i -2 or i == 5:\n",
    "            print('L',end=' ')\n",
    "        else:\n",
    "            print(' ',end=' ')\n",
    "    print()"
   ]
  },
  {
   "cell_type": "code",
   "execution_count": 115,
   "id": "8fd7abd9-d962-452a-a5e7-f94066e54b85",
   "metadata": {},
   "outputs": [
    {
     "name": "stdout",
     "output_type": "stream",
     "text": [
      "        # \n",
      "      #   # \n",
      "    #       # \n",
      "  #           # \n",
      "# # # # # # # # # \n"
     ]
    }
   ],
   "source": [
    "for i in range(1,6):\n",
    "    for j in range(5 - i):\n",
    "        print(' ',end= ' ')\n",
    "    for j in range(2 * i - 1):\n",
    "        if j == 0 or j == 2 * i -2 or i == 5:\n",
    "            print('#',end=' ')\n",
    "        else:\n",
    "            print(' ',end=' ')\n",
    "    print()"
   ]
  },
  {
   "cell_type": "markdown",
   "id": "c7e96a41-9ac2-497d-a400-c767c931e847",
   "metadata": {},
   "source": [
    "#  13. Hallow Diamond pattern"
   ]
  },
  {
   "cell_type": "code",
   "execution_count": 119,
   "id": "1453c968-9016-4d6d-beff-b677ecf5d0e1",
   "metadata": {},
   "outputs": [
    {
     "name": "stdout",
     "output_type": "stream",
     "text": [
      "            # \n",
      "          #   # \n",
      "        #       # \n",
      "      #           # \n",
      "    #               # \n",
      "  #                   # \n",
      "#                       # \n",
      "  #                   # \n",
      "    #               # \n",
      "      #           # \n",
      "        #       # \n",
      "          #   # \n",
      "            # \n"
     ]
    }
   ],
   "source": [
    "n = 7\n",
    "for i in range(1, n + 1):\n",
    "    for j in range(n - i):\n",
    "        print(' ',end = ' ')\n",
    "    for j in range(2 * i - 1):\n",
    "            if j==0 or j==2 * i - 2:\n",
    "                print('#',end=' ')\n",
    "            else:\n",
    "                print(' ',end=' ')\n",
    "    print()\n",
    "\n",
    "for i in range(n - 1,0, -1):\n",
    "    for j in range(n - i):\n",
    "        print(' ' ,end=' ')\n",
    "    for j in range(2 * i - 1):\n",
    "        if j == 0 or j == 2 * i - 2:\n",
    "            print('#',end=' ')\n",
    "        else:\n",
    "            print(' ',end=' ')\n",
    "    print()"
   ]
  },
  {
   "cell_type": "code",
   "execution_count": 121,
   "id": "17b92a19-37cd-428c-a03b-efc7610cff06",
   "metadata": {},
   "outputs": [
    {
     "name": "stdout",
     "output_type": "stream",
     "text": [
      "            Love \n",
      "          Love   Love \n",
      "        Love       Love \n",
      "      Love           Love \n",
      "    Love               Love \n",
      "  Love                   Love \n",
      "Love                       Love \n",
      "  Love                   Love \n",
      "    Love               Love \n",
      "      Love           Love \n",
      "        Love       Love \n",
      "          Love   Love \n",
      "            Love \n"
     ]
    }
   ],
   "source": [
    "n = 7\n",
    "for i in range(1, n + 1):\n",
    "    for j in range(n - i):\n",
    "        print(' ',end = ' ')\n",
    "    for j in range(2 * i - 1):\n",
    "            if j==0 or j==2 * i - 2:\n",
    "                print('Love',end=' ')\n",
    "            else:\n",
    "                print(' ',end=' ')\n",
    "    print()\n",
    "\n",
    "for i in range(n - 1,0, -1):\n",
    "    for j in range(n - i):\n",
    "        print(' ' ,end=' ')\n",
    "    for j in range(2 * i - 1):\n",
    "        if j == 0 or j == 2 * i - 2:\n",
    "            print('Love',end=' ')\n",
    "        else:\n",
    "            print(' ',end=' ')\n",
    "    print()"
   ]
  },
  {
   "cell_type": "markdown",
   "id": "306ebcd1-6218-4b25-9f11-694b93254714",
   "metadata": {},
   "source": [
    "## 14. Hallow Diaond(Numbeer pattern)"
   ]
  },
  {
   "cell_type": "code",
   "execution_count": 128,
   "id": "40ac758d-f9d5-4729-9ddc-a7ab5b694e5a",
   "metadata": {},
   "outputs": [
    {
     "name": "stdout",
     "output_type": "stream",
     "text": [
      "            i \n",
      "          i   i \n",
      "        i       i \n",
      "      i           i \n",
      "    i               i \n",
      "  i                   i \n",
      "i                       i \n",
      "  i                   i \n",
      "    i               i \n",
      "      i           i \n",
      "        i       i \n",
      "          i   i \n",
      "            i \n"
     ]
    }
   ],
   "source": [
    "n = 7\n",
    "for i in range(1, n + 1):\n",
    "    for j in range(n - i):\n",
    "        print(' ',end = ' ')\n",
    "    for j in range(2 * i - 1):\n",
    "            if j==0 or j==2 * i - 2:\n",
    "                print('i',end=' ')\n",
    "            else:\n",
    "                print(' ',end=' ')\n",
    "    print()\n",
    "\n",
    "for i in range(n - 1,0, -1):\n",
    "    for j in range(n - i):\n",
    "        print(' ' ,end=' ')\n",
    "    for j in range(2 * i - 1):\n",
    "        if j == 0 or j == 2 * i - 2:\n",
    "            print('i',end=' ')\n",
    "        else:\n",
    "            print(' ',end=' ')\n",
    "    print()"
   ]
  },
  {
   "cell_type": "markdown",
   "id": "d946f0bc-f9e3-4f5f-b7df-b44f2ae44133",
   "metadata": {},
   "source": [
    "## 15. Butterfly pattern"
   ]
  },
  {
   "cell_type": "code",
   "execution_count": 3,
   "id": "f1876d4c-0f4a-4bce-b2fb-1888a7848b78",
   "metadata": {},
   "outputs": [
    {
     "name": "stdout",
     "output_type": "stream",
     "text": [
      "1                 1 \n",
      "1 2             1 2 \n",
      "1 2 3         1 2 3 \n",
      "1 2 3 4     1 2 3 4 \n",
      "1 2 3 4 5 1 2 3 4 5 \n",
      "1 2 3 4 5 1 2 3 4 5 \n",
      "1 2 3 4     1 2 3 4 \n",
      "1 2 3         1 2 3 \n",
      "1 2             1 2 \n",
      "1                 1 \n",
      "*                 * \n",
      "* *             * * \n",
      "* * *         * * * \n",
      "* * * *     * * * * \n",
      "* * * * * * * * * * \n",
      "* * * * * * * * * * \n",
      "* * * *     * * * * \n",
      "* * *         * * * \n",
      "* *             * * \n",
      "*                 * \n"
     ]
    }
   ],
   "source": [
    "n = 5\n",
    "for i in range(1, n + 1):\n",
    "    for j in range(1, i + 1):\n",
    "        print(j, end=' ')\n",
    "    for j in range(2 * (n - i)):\n",
    "        print(' ',end=' ')\n",
    "    for j in range(1, i + 1):\n",
    "        print(j, end=' ')\n",
    "    print()\n",
    "for i in range(n, 0, -1):\n",
    "    for j in range(1, i +1):\n",
    "        print(j, end=' ')\n",
    "    for j in range(2 * (n - i)):\n",
    "        print(' ', end=' ')\n",
    "    for j in range(1, i + 1):\n",
    "        print(j, end=' ')\n",
    "    print()\n",
    "\n",
    "n = 5\n",
    "for i in range(1, n + 1):\n",
    "    for j in range(i):\n",
    "        print('*', end=' ')\n",
    "    for j in range(2 * (n - i)):\n",
    "        print(' ',end=' ')\n",
    "    for j in range(i):\n",
    "        print('*', end=' ')\n",
    "    print()\n",
    "for i in range(n, 0, -1):\n",
    "    for j in range(i):\n",
    "        print('*', end=' ')\n",
    "    for j in range(2 * (n - i)):\n",
    "        print(' ',end=' ')\n",
    "    for j in range(i):\n",
    "        print('*', end=' ')\n",
    "    print()"
   ]
  },
  {
   "cell_type": "markdown",
   "id": "78db5484-83b2-47fa-8d52-2095cde0cd3c",
   "metadata": {},
   "source": [
    "## 16. Hallow Number pyramid"
   ]
  },
  {
   "cell_type": "code",
   "execution_count": 6,
   "id": "0b3c1fa4-ba7b-46f2-9314-ba90d68c81b5",
   "metadata": {},
   "outputs": [
    {
     "name": "stdout",
     "output_type": "stream",
     "text": [
      "        1 \n",
      "      2   2 \n",
      "    3       3 \n",
      "  4           4 \n",
      "5 5 5 5 5 5 5 5 5 \n"
     ]
    }
   ],
   "source": [
    "n = 5\n",
    "for i in range (1, n + 1):\n",
    "    for j in range (n - i):\n",
    "        print(' ',end=' ')\n",
    "    for j in range(1, 2 * i):\n",
    "        if j == 1 or j == 2 * i - 1 or i == n:\n",
    "            print(i, end=' ')\n",
    "        else:\n",
    "            print(' ',end=' ')\n",
    "    print()"
   ]
  },
  {
   "cell_type": "markdown",
   "id": "4f6b6492-f1e2-4005-82d4-0a63f2e90676",
   "metadata": {},
   "source": [
    "\n",
    "\n",
    "##     17. Full star pyramid"
   ]
  },
  {
   "cell_type": "code",
   "execution_count": 12,
   "id": "3cc23c9c-ff38-4fb7-b317-74310ed43dbd",
   "metadata": {},
   "outputs": [
    {
     "name": "stdout",
     "output_type": "stream",
     "text": [
      "        * \n",
      "      * * * \n",
      "    * * * * * \n",
      "  * * * * * * * \n",
      "* * * * * * * * * \n"
     ]
    }
   ],
   "source": [
    "n = 5\n",
    "for i in range(1, n +  1):\n",
    "    for j in range(n - i):\n",
    "        print(' ',end=' ')\n",
    "\n",
    "    for j in range(2 * i - 1):\n",
    "        print('*',end=' ')\n",
    "    print()"
   ]
  },
  {
   "cell_type": "markdown",
   "id": "26c02eb3-dd0f-483f-a76a-0204c9fe9a59",
   "metadata": {},
   "source": [
    "## 18  Inverted full stars pyramid"
   ]
  },
  {
   "cell_type": "code",
   "execution_count": 15,
   "id": "bccd626b-0b04-4782-bd4d-eee2c713bb0c",
   "metadata": {},
   "outputs": [
    {
     "name": "stdout",
     "output_type": "stream",
     "text": [
      "* * * * * * * * * \n",
      "  * * * * * * * \n",
      "    * * * * * \n",
      "      * * * \n",
      "        * \n"
     ]
    }
   ],
   "source": [
    "n = 5\n",
    "for i in range(n, 0,  -1):\n",
    "    for j in range(n - i):\n",
    "        print(' ',end=' ')\n",
    "\n",
    "    for j in range(2 * i - 1):\n",
    "        print('*',end=' ')\n",
    "    print()"
   ]
  },
  {
   "cell_type": "markdown",
   "id": "42555e1d-33da-4b74-adfa-c459b6fb34d5",
   "metadata": {},
   "source": [
    "##  19. left aligned pyramid pattern"
   ]
  },
  {
   "cell_type": "code",
   "execution_count": 18,
   "id": "eb1080be-9a2d-40c6-8e18-542984f6ba55",
   "metadata": {},
   "outputs": [
    {
     "name": "stdout",
     "output_type": "stream",
     "text": [
      "* \n",
      "* * \n",
      "* * * \n",
      "* * * * \n",
      "* * * * * \n",
      "1 \n",
      "1 2 \n",
      "1 2 3 \n",
      "1 2 3 4 \n",
      "1 2 3 4 5 \n"
     ]
    }
   ],
   "source": [
    "n = 5\n",
    "for i in range(1, n + 1):\n",
    "    for j in range (i):\n",
    "        print('*',end=' ')\n",
    "    print()\n",
    "\n",
    "n = 5\n",
    "for i in range(1, n + 1):\n",
    "    for j in range(1, i + 1):\n",
    "        print(j,end=' ')\n",
    "    print()\n",
    "    "
   ]
  },
  {
   "cell_type": "markdown",
   "id": "ae1d1568-3098-4db0-b234-ba095823426a",
   "metadata": {},
   "source": [
    "## 20. Right Aligned pyramid pattern"
   ]
  },
  {
   "cell_type": "code",
   "execution_count": 21,
   "id": "0fe5c422-3c46-4e3e-a00b-f4edc5c88407",
   "metadata": {},
   "outputs": [
    {
     "name": "stdout",
     "output_type": "stream",
     "text": [
      "        1 \n",
      "      1 2 \n",
      "    1 2 3 \n",
      "  1 2 3 4 \n",
      "1 2 3 4 5 \n",
      "        * \n",
      "      * * \n",
      "    * * * \n",
      "  * * * * \n",
      "* * * * * \n"
     ]
    }
   ],
   "source": [
    "n = 5\n",
    "for i in range(1, n + 1):\n",
    "    for j in range (n - i):\n",
    "        print(' ',end=' ')\n",
    "\n",
    "    for j in range(1, i +1):\n",
    "        print(j, end=' ')\n",
    "    print()\n",
    "\n",
    "n = 5\n",
    "for i in range(1, n + 1):\n",
    "    for j in range(n - i):\n",
    "        print(' ', end=' ')\n",
    "\n",
    "    for j in range (i):\n",
    "        print('*',end=' ')\n",
    "    print()\n",
    "    "
   ]
  },
  {
   "cell_type": "code",
   "execution_count": null,
   "id": "10b0d511-9853-4ad8-8769-cc7f4e51be79",
   "metadata": {},
   "outputs": [],
   "source": []
  }
 ],
 "metadata": {
  "kernelspec": {
   "display_name": "Python [conda env:base] *",
   "language": "python",
   "name": "conda-base-py"
  },
  "language_info": {
   "codemirror_mode": {
    "name": "ipython",
    "version": 3
   },
   "file_extension": ".py",
   "mimetype": "text/x-python",
   "name": "python",
   "nbconvert_exporter": "python",
   "pygments_lexer": "ipython3",
   "version": "3.12.7"
  }
 },
 "nbformat": 4,
 "nbformat_minor": 5
}
